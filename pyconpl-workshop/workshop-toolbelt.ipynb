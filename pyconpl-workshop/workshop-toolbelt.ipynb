{
 "cells": [
  {
   "cell_type": "code",
   "execution_count": 33,
   "metadata": {
    "collapsed": false
   },
   "outputs": [],
   "source": [
    "import json\n",
    "\n",
    "def eat_solutions_and_outputs(in_path, out_path, solution_marker):\n",
    "    with open(in_path, 'r') as input_file:\n",
    "        notebook = json.loads(input_file.read())\n",
    "\n",
    "    for cell in notebook['cells']:\n",
    "        source = cell['source']\n",
    "        if len(source) and source[0].startswith(solution_marker):\n",
    "            cell['source'] = [source[0].replace('\\n', '')]\n",
    "            \n",
    "        if 'outputs' in cell:\n",
    "            cell['outputs'] = []\n",
    "\n",
    "    with open(out_path, 'w') as out_file:\n",
    "        json.dump(notebook, out_file)\n",
    "        \n",
    "\n",
    "eat_solutions_and_outputs(\n",
    "    'first-steps-with-pandas-with-solutions.ipynb',\n",
    "    'first-steps-with-pandas.ipynb',\n",
    "    '# Solution here'\n",
    ")"
   ]
  },
  {
   "cell_type": "code",
   "execution_count": null,
   "metadata": {
    "collapsed": true
   },
   "outputs": [],
   "source": []
  }
 ],
 "metadata": {
  "kernelspec": {
   "display_name": "Python 2",
   "language": "python",
   "name": "python2"
  },
  "language_info": {
   "codemirror_mode": {
    "name": "ipython",
    "version": 2
   },
   "file_extension": ".py",
   "mimetype": "text/x-python",
   "name": "python",
   "nbconvert_exporter": "python",
   "pygments_lexer": "ipython2",
   "version": "2.7.10"
  }
 },
 "nbformat": 4,
 "nbformat_minor": 1
}
