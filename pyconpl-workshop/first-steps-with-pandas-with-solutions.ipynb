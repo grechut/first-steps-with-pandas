{
 "cells": [
  {
   "cell_type": "markdown",
   "metadata": {},
   "source": [
    "# Welcome to the 'First steps with pandas'!\n",
    "\n",
    "After this workshop you can (hopefully) call yourselves Data Scientists!"
   ]
  },
  {
   "cell_type": "markdown",
   "metadata": {},
   "source": [
    "### Before coding, let's check whether we have proper versions of libraries\n",
    "\n",
    "You should have:\n",
    "- Python: 2.7.10\n",
    "- numpy: 1.11.1\n",
    "- pandas: 0.18.1\n",
    "- matplotlib: 1.5.2"
   ]
  },
  {
   "cell_type": "code",
   "execution_count": 1,
   "metadata": {
    "collapsed": false
   },
   "outputs": [
    {
     "name": "stdout",
     "output_type": "stream",
     "text": [
      "Python: 2.7.10\n",
      "numpy: 1.11.1\n",
      "pandas: 0.18.1\n",
      "matplotlib: 1.5.2\n"
     ]
    }
   ],
   "source": [
    "import platform\n",
    "print \"Python:\", platform.python_version()\n",
    "\n",
    "import numpy as np\n",
    "print 'numpy:', np.__version__\n",
    "\n",
    "import pandas as pd\n",
    "print 'pandas:', pd.__version__\n",
    " \n",
    "import matplotlib as plt\n",
    "print 'matplotlib:', plt.__version__"
   ]
  },
  {
   "cell_type": "markdown",
   "metadata": {},
   "source": [
    "## What is pandas?\n",
    "\n",
    "> pandas is an open source, BSD-licensed library providing high-performance, easy-to-use data structures and data analysis tools for the Python programming language."
   ]
  },
  {
   "cell_type": "markdown",
   "metadata": {},
   "source": [
    "## Why to use it?"
   ]
  },
  {
   "cell_type": "markdown",
   "metadata": {},
   "source": [
    "### We need to be able to develop code quickly and cheaply... and it should be readable"
   ]
  },
  {
   "cell_type": "code",
   "execution_count": 2,
   "metadata": {
    "collapsed": false
   },
   "outputs": [
    {
     "data": {
      "text/html": [
       "<div>\n",
       "<table border=\"1\" class=\"dataframe\">\n",
       "  <thead>\n",
       "    <tr style=\"text-align: right;\">\n",
       "      <th></th>\n",
       "      <th>daily_views</th>\n",
       "      <th>month</th>\n",
       "      <th>rank</th>\n",
       "    </tr>\n",
       "  </thead>\n",
       "  <tbody>\n",
       "    <tr>\n",
       "      <th>2015-01-04</th>\n",
       "      <td>6.500000</td>\n",
       "      <td>201501.0</td>\n",
       "      <td>-1.0</td>\n",
       "    </tr>\n",
       "    <tr>\n",
       "      <th>2015-01-11</th>\n",
       "      <td>5.428571</td>\n",
       "      <td>201501.0</td>\n",
       "      <td>-1.0</td>\n",
       "    </tr>\n",
       "    <tr>\n",
       "      <th>2015-01-18</th>\n",
       "      <td>6.714286</td>\n",
       "      <td>201501.0</td>\n",
       "      <td>-1.0</td>\n",
       "    </tr>\n",
       "    <tr>\n",
       "      <th>2015-01-25</th>\n",
       "      <td>5.857143</td>\n",
       "      <td>201501.0</td>\n",
       "      <td>-1.0</td>\n",
       "    </tr>\n",
       "    <tr>\n",
       "      <th>2015-02-01</th>\n",
       "      <td>5.833333</td>\n",
       "      <td>201501.0</td>\n",
       "      <td>-1.0</td>\n",
       "    </tr>\n",
       "  </tbody>\n",
       "</table>\n",
       "</div>"
      ],
      "text/plain": [
       "            daily_views     month  rank\n",
       "2015-01-04     6.500000  201501.0  -1.0\n",
       "2015-01-11     5.428571  201501.0  -1.0\n",
       "2015-01-18     6.714286  201501.0  -1.0\n",
       "2015-01-25     5.857143  201501.0  -1.0\n",
       "2015-02-01     5.833333  201501.0  -1.0"
      ]
     },
     "execution_count": 2,
     "metadata": {},
     "output_type": "execute_result"
    }
   ],
   "source": [
    "# TODO Make even more impressive example\n",
    "\n",
    "# Weekly mean views of Michal Pazdan on Wikipedia in Jan '15\n",
    "\n",
    "# pd.read_json('http://stats.grok.se/json/en/201501/Micha%C5%82_Pazdan') \\\n",
    "pd.read_json('data/cached_wiki_Pazdan.json') \\\n",
    "    .resample('1W') \\\n",
    "    .mean()"
   ]
  },
  {
   "cell_type": "markdown",
   "metadata": {},
   "source": [
    "### We need to develop fast code"
   ]
  },
  {
   "cell_type": "code",
   "execution_count": 3,
   "metadata": {
    "collapsed": false
   },
   "outputs": [],
   "source": [
    "# TODO assert results\n",
    "\n",
    "some_data = [ list(range(1,100)) for x in range(1,1000) ]\n",
    "some_df = pd.DataFrame(some_data)\n",
    "\n",
    "def standard_way(data):\n",
    "    result = []\n",
    "    for row in data:\n",
    "        result.append([x*2 for x in row])\n",
    "    return result\n",
    "\n",
    "\n",
    "def pandas_way(df):\n",
    "    return df * 2"
   ]
  },
  {
   "cell_type": "code",
   "execution_count": 4,
   "metadata": {
    "collapsed": false
   },
   "outputs": [
    {
     "name": "stdout",
     "output_type": "stream",
     "text": [
      "100 loops, best of 3: 9.97 ms per loop\n"
     ]
    }
   ],
   "source": [
    "%timeit standard_way(some_data)"
   ]
  },
  {
   "cell_type": "code",
   "execution_count": 5,
   "metadata": {
    "collapsed": false
   },
   "outputs": [
    {
     "name": "stdout",
     "output_type": "stream",
     "text": [
      "The slowest run took 6.18 times longer than the fastest. This could mean that an intermediate result is being cached.\n",
      "1000 loops, best of 3: 228 µs per loop\n"
     ]
    }
   ],
   "source": [
    "%timeit pandas_way(some_df)"
   ]
  },
  {
   "cell_type": "markdown",
   "metadata": {},
   "source": [
    "### It is hard write everything from scratch.. and it's easy to make mistakes.\n",
    "\n",
    "http://pandas.pydata.org/pandas-docs/stable/api.html"
   ]
  },
  {
   "cell_type": "markdown",
   "metadata": {},
   "source": [
    "### It can handle nicely missing data (and that's a common case).."
   ]
  },
  {
   "cell_type": "code",
   "execution_count": 6,
   "metadata": {
    "collapsed": false
   },
   "outputs": [
    {
     "data": {
      "text/html": [
       "<div>\n",
       "<table border=\"1\" class=\"dataframe\">\n",
       "  <thead>\n",
       "    <tr style=\"text-align: right;\">\n",
       "      <th></th>\n",
       "      <th>height</th>\n",
       "      <th>name</th>\n",
       "      <th>weight</th>\n",
       "    </tr>\n",
       "  </thead>\n",
       "  <tbody>\n",
       "    <tr>\n",
       "      <th>0</th>\n",
       "      <td>174.0</td>\n",
       "      <td>Jacek</td>\n",
       "      <td>NaN</td>\n",
       "    </tr>\n",
       "    <tr>\n",
       "      <th>1</th>\n",
       "      <td>NaN</td>\n",
       "      <td>Mateusz</td>\n",
       "      <td>81.0</td>\n",
       "    </tr>\n",
       "    <tr>\n",
       "      <th>2</th>\n",
       "      <td>169.0</td>\n",
       "      <td>Lionel Messi</td>\n",
       "      <td>67.0</td>\n",
       "    </tr>\n",
       "  </tbody>\n",
       "</table>\n",
       "</div>"
      ],
      "text/plain": [
       "   height          name  weight\n",
       "0   174.0         Jacek     NaN\n",
       "1     NaN       Mateusz    81.0\n",
       "2   169.0  Lionel Messi    67.0"
      ]
     },
     "execution_count": 6,
     "metadata": {},
     "output_type": "execute_result"
    }
   ],
   "source": [
    "missing_data = pd.DataFrame([\n",
    "    dict(name=\"Jacek\", height=174),\n",
    "    dict(name=\"Mateusz\", weight=81),\n",
    "    dict(name=\"Lionel Messi\", height=169, weight=67)\n",
    "])\n",
    "missing_data"
   ]
  },
  {
   "cell_type": "code",
   "execution_count": 7,
   "metadata": {
    "collapsed": false
   },
   "outputs": [
    {
     "data": {
      "text/html": [
       "<div>\n",
       "<table border=\"1\" class=\"dataframe\">\n",
       "  <thead>\n",
       "    <tr style=\"text-align: right;\">\n",
       "      <th></th>\n",
       "      <th>height</th>\n",
       "      <th>name</th>\n",
       "      <th>weight</th>\n",
       "    </tr>\n",
       "  </thead>\n",
       "  <tbody>\n",
       "    <tr>\n",
       "      <th>0</th>\n",
       "      <td>174.0</td>\n",
       "      <td>Jacek</td>\n",
       "      <td>74.0</td>\n",
       "    </tr>\n",
       "    <tr>\n",
       "      <th>1</th>\n",
       "      <td>171.5</td>\n",
       "      <td>Mateusz</td>\n",
       "      <td>81.0</td>\n",
       "    </tr>\n",
       "    <tr>\n",
       "      <th>2</th>\n",
       "      <td>169.0</td>\n",
       "      <td>Lionel Messi</td>\n",
       "      <td>67.0</td>\n",
       "    </tr>\n",
       "  </tbody>\n",
       "</table>\n",
       "</div>"
      ],
      "text/plain": [
       "   height          name  weight\n",
       "0   174.0         Jacek    74.0\n",
       "1   171.5       Mateusz    81.0\n",
       "2   169.0  Lionel Messi    67.0"
      ]
     },
     "execution_count": 7,
     "metadata": {},
     "output_type": "execute_result"
    }
   ],
   "source": [
    "missing_data.fillna(missing_data.mean())"
   ]
  },
  {
   "cell_type": "markdown",
   "metadata": {},
   "source": [
    "### It has a very cool name.\n",
    "\n",
    "![caption](files/pandas.jpg)"
   ]
  },
  {
   "cell_type": "markdown",
   "metadata": {},
   "source": [
    "###  Library highlights\n",
    "\n",
    "http://pandas.pydata.org/#library-highlights"
   ]
  },
  {
   "cell_type": "markdown",
   "metadata": {},
   "source": [
    "## So let's start by learning data structures"
   ]
  },
  {
   "cell_type": "markdown",
   "metadata": {},
   "source": [
    "### Series\n",
    "\n",
    "> Series is a one-dimensional labeled array capable of holding any data type (integers, strings, floating point numbers, Python objects, etc.)."
   ]
  },
  {
   "cell_type": "code",
   "execution_count": 8,
   "metadata": {
    "collapsed": false
   },
   "outputs": [
    {
     "data": {
      "text/plain": [
       "0    400\n",
       "1    200\n",
       "2    300\n",
       "3    400\n",
       "4    500\n",
       "dtype: int64"
      ]
     },
     "execution_count": 8,
     "metadata": {},
     "output_type": "execute_result"
    }
   ],
   "source": [
    "strengths = pd.Series([400, 200, 300, 400, 500])\n",
    "strengths"
   ]
  },
  {
   "cell_type": "code",
   "execution_count": 9,
   "metadata": {
    "collapsed": false
   },
   "outputs": [
    {
     "data": {
      "text/plain": [
       "0        Batman\n",
       "1         Robin\n",
       "2     Spiderman\n",
       "3       Robocop\n",
       "4    Terminator\n",
       "dtype: object"
      ]
     },
     "execution_count": 9,
     "metadata": {},
     "output_type": "execute_result"
    }
   ],
   "source": [
    "names = pd.Series([\"Batman\", \"Robin\", \"Spiderman\", \"Robocop\", \"Terminator\"])\n",
    "names"
   ]
  },
  {
   "cell_type": "markdown",
   "metadata": {},
   "source": [
    "### DataFrame\n",
    "\n",
    "> DataFrame is a 2-dimensional labeled data structure with columns of potentially different types. You can think of it like a spreadsheet or SQL table, or a dict of Series objects."
   ]
  },
  {
   "cell_type": "code",
   "execution_count": 10,
   "metadata": {
    "collapsed": false
   },
   "outputs": [
    {
     "data": {
      "text/html": [
       "<div>\n",
       "<table border=\"1\" class=\"dataframe\">\n",
       "  <thead>\n",
       "    <tr style=\"text-align: right;\">\n",
       "      <th></th>\n",
       "      <th>hero</th>\n",
       "      <th>strength</th>\n",
       "    </tr>\n",
       "  </thead>\n",
       "  <tbody>\n",
       "    <tr>\n",
       "      <th>0</th>\n",
       "      <td>Batman</td>\n",
       "      <td>400</td>\n",
       "    </tr>\n",
       "    <tr>\n",
       "      <th>1</th>\n",
       "      <td>Robin</td>\n",
       "      <td>200</td>\n",
       "    </tr>\n",
       "    <tr>\n",
       "      <th>2</th>\n",
       "      <td>Spiderman</td>\n",
       "      <td>300</td>\n",
       "    </tr>\n",
       "    <tr>\n",
       "      <th>3</th>\n",
       "      <td>Robocop</td>\n",
       "      <td>400</td>\n",
       "    </tr>\n",
       "    <tr>\n",
       "      <th>4</th>\n",
       "      <td>Terminator</td>\n",
       "      <td>500</td>\n",
       "    </tr>\n",
       "  </tbody>\n",
       "</table>\n",
       "</div>"
      ],
      "text/plain": [
       "         hero  strength\n",
       "0      Batman       400\n",
       "1       Robin       200\n",
       "2   Spiderman       300\n",
       "3     Robocop       400\n",
       "4  Terminator       500"
      ]
     },
     "execution_count": 10,
     "metadata": {},
     "output_type": "execute_result"
    }
   ],
   "source": [
    "heroes = pd.DataFrame({\n",
    "    'hero': names,\n",
    "    'strength': strengths\n",
    "})\n",
    "heroes"
   ]
  },
  {
   "cell_type": "code",
   "execution_count": 11,
   "metadata": {
    "collapsed": false
   },
   "outputs": [
    {
     "data": {
      "text/html": [
       "<div>\n",
       "<table border=\"1\" class=\"dataframe\">\n",
       "  <thead>\n",
       "    <tr style=\"text-align: right;\">\n",
       "      <th></th>\n",
       "      <th>hero</th>\n",
       "      <th>strength</th>\n",
       "    </tr>\n",
       "  </thead>\n",
       "  <tbody>\n",
       "    <tr>\n",
       "      <th>0</th>\n",
       "      <td>Hercules</td>\n",
       "      <td>800.0</td>\n",
       "    </tr>\n",
       "    <tr>\n",
       "      <th>1</th>\n",
       "      <td>Konan</td>\n",
       "      <td>NaN</td>\n",
       "    </tr>\n",
       "  </tbody>\n",
       "</table>\n",
       "</div>"
      ],
      "text/plain": [
       "       hero  strength\n",
       "0  Hercules     800.0\n",
       "1     Konan       NaN"
      ]
     },
     "execution_count": 11,
     "metadata": {},
     "output_type": "execute_result"
    }
   ],
   "source": [
    "other_heroes = pd.DataFrame([\n",
    "    dict(hero=\"Hercules\", strength=800),\n",
    "    dict(hero=\"Konan\")\n",
    "])\n",
    "other_heroes"
   ]
  },
  {
   "cell_type": "code",
   "execution_count": 12,
   "metadata": {
    "collapsed": false
   },
   "outputs": [
    {
     "data": {
      "text/html": [
       "<div>\n",
       "<table border=\"1\" class=\"dataframe\">\n",
       "  <thead>\n",
       "    <tr style=\"text-align: right;\">\n",
       "      <th></th>\n",
       "      <th>hero</th>\n",
       "      <th>strength</th>\n",
       "      <th>cookies</th>\n",
       "    </tr>\n",
       "  </thead>\n",
       "  <tbody>\n",
       "    <tr>\n",
       "      <th>0</th>\n",
       "      <td>Bolek</td>\n",
       "      <td>10</td>\n",
       "      <td>3</td>\n",
       "    </tr>\n",
       "    <tr>\n",
       "      <th>1</th>\n",
       "      <td>Lolek</td>\n",
       "      <td>20</td>\n",
       "      <td>0</td>\n",
       "    </tr>\n",
       "  </tbody>\n",
       "</table>\n",
       "</div>"
      ],
      "text/plain": [
       "    hero  strength  cookies\n",
       "0  Bolek        10        3\n",
       "1  Lolek        20        0"
      ]
     },
     "execution_count": 12,
     "metadata": {},
     "output_type": "execute_result"
    }
   ],
   "source": [
    "another_heroes = pd.DataFrame([\n",
    "    pd.Series([\"Bolek\", 10, 3], index=[\"hero\", \"strength\", \"cookies\"]),\n",
    "    pd.Series([\"Lolek\", 20, 0], index=[\"hero\", \"strength\", \"cookies\"])\n",
    "])\n",
    "another_heroes"
   ]
  },
  {
   "cell_type": "code",
   "execution_count": 13,
   "metadata": {
    "collapsed": false
   },
   "outputs": [
    {
     "data": {
      "text/plain": [
       "0    3\n",
       "1    0\n",
       "Name: cookies, dtype: int64"
      ]
     },
     "execution_count": 13,
     "metadata": {},
     "output_type": "execute_result"
    }
   ],
   "source": [
    "another_heroes['cookies']"
   ]
  },
  {
   "cell_type": "code",
   "execution_count": 14,
   "metadata": {
    "collapsed": false
   },
   "outputs": [
    {
     "data": {
      "text/html": [
       "<div>\n",
       "<table border=\"1\" class=\"dataframe\">\n",
       "  <thead>\n",
       "    <tr style=\"text-align: right;\">\n",
       "      <th></th>\n",
       "      <th>hero</th>\n",
       "      <th>cookies</th>\n",
       "    </tr>\n",
       "  </thead>\n",
       "  <tbody>\n",
       "    <tr>\n",
       "      <th>0</th>\n",
       "      <td>Bolek</td>\n",
       "      <td>3</td>\n",
       "    </tr>\n",
       "    <tr>\n",
       "      <th>1</th>\n",
       "      <td>Lolek</td>\n",
       "      <td>0</td>\n",
       "    </tr>\n",
       "  </tbody>\n",
       "</table>\n",
       "</div>"
      ],
      "text/plain": [
       "    hero  cookies\n",
       "0  Bolek        3\n",
       "1  Lolek        0"
      ]
     },
     "execution_count": 14,
     "metadata": {},
     "output_type": "execute_result"
    }
   ],
   "source": [
    "another_heroes[ ['hero', 'cookies'] ]"
   ]
  },
  {
   "cell_type": "markdown",
   "metadata": {},
   "source": [
    "#### Selecting\n",
    "```[string] --> Series\n",
    "[ list of strings ] --> DataFrame```"
   ]
  },
  {
   "cell_type": "markdown",
   "metadata": {},
   "source": [
    "### EXERCISE\n",
    "\n",
    "Create such DataFrame in 3 different ways\n",
    "\n",
    "```\n",
    "                                         movie_title  imdb_score\n",
    "0                                            Avatar          7.9\n",
    "1          Pirates of the Caribbean: At World's End          7.1\n",
    "2                                           Spectre          6.8\n",
    "```\n",
    "\n",
    "Help: http://pandas.pydata.org/pandas-docs/stable/dsintro.html#from-dict-of-series-or-dicts"
   ]
  },
  {
   "cell_type": "code",
   "execution_count": 15,
   "metadata": {
    "collapsed": false
   },
   "outputs": [
    {
     "data": {
      "text/html": [
       "<div>\n",
       "<table border=\"1\" class=\"dataframe\">\n",
       "  <thead>\n",
       "    <tr style=\"text-align: right;\">\n",
       "      <th></th>\n",
       "      <th>imdb_score</th>\n",
       "      <th>movie_title</th>\n",
       "    </tr>\n",
       "  </thead>\n",
       "  <tbody>\n",
       "    <tr>\n",
       "      <th>0</th>\n",
       "      <td>7.9</td>\n",
       "      <td>Avatar</td>\n",
       "    </tr>\n",
       "    <tr>\n",
       "      <th>1</th>\n",
       "      <td>7.1</td>\n",
       "      <td>Pirates of the Caribbean: At World's End</td>\n",
       "    </tr>\n",
       "    <tr>\n",
       "      <th>2</th>\n",
       "      <td>6.8</td>\n",
       "      <td>Spectre</td>\n",
       "    </tr>\n",
       "  </tbody>\n",
       "</table>\n",
       "</div>"
      ],
      "text/plain": [
       "   imdb_score                               movie_title\n",
       "0         7.9                                    Avatar\n",
       "1         7.1  Pirates of the Caribbean: At World's End\n",
       "2         6.8                                   Spectre"
      ]
     },
     "execution_count": 15,
     "metadata": {},
     "output_type": "execute_result"
    }
   ],
   "source": [
    "# Solution 1 with dict of Series\n",
    "\n",
    "titles = pd.Series([\"Avatar\", \"Pirates of the Caribbean: At World's End\", \"Spectre\"])\n",
    "imdb_scores = pd.Series([7.9, 7.1, 6.8])\n",
    "\n",
    "pd.DataFrame({'movie_title': titles, 'imdb_score': imdb_scores})"
   ]
  },
  {
   "cell_type": "code",
   "execution_count": 16,
   "metadata": {
    "collapsed": false
   },
   "outputs": [
    {
     "data": {
      "text/html": [
       "<div>\n",
       "<table border=\"1\" class=\"dataframe\">\n",
       "  <thead>\n",
       "    <tr style=\"text-align: right;\">\n",
       "      <th></th>\n",
       "      <th>imdb_score</th>\n",
       "      <th>movie_title</th>\n",
       "    </tr>\n",
       "  </thead>\n",
       "  <tbody>\n",
       "    <tr>\n",
       "      <th>0</th>\n",
       "      <td>7.9</td>\n",
       "      <td>Avatar</td>\n",
       "    </tr>\n",
       "    <tr>\n",
       "      <th>1</th>\n",
       "      <td>7.1</td>\n",
       "      <td>Pirates of the Caribbean: At World's End</td>\n",
       "    </tr>\n",
       "    <tr>\n",
       "      <th>2</th>\n",
       "      <td>6.8</td>\n",
       "      <td>Spectre</td>\n",
       "    </tr>\n",
       "  </tbody>\n",
       "</table>\n",
       "</div>"
      ],
      "text/plain": [
       "   imdb_score                               movie_title\n",
       "0         7.9                                    Avatar\n",
       "1         7.1  Pirates of the Caribbean: At World's End\n",
       "2         6.8                                   Spectre"
      ]
     },
     "execution_count": 16,
     "metadata": {},
     "output_type": "execute_result"
    }
   ],
   "source": [
    "# Solution 2 with list of dicts\n",
    "\n",
    "pd.DataFrame([\n",
    "    dict(movie_title=\"Avatar\", imdb_score=7.9),\n",
    "    dict(movie_title=\"Pirates of the Caribbean: At World's End\", imdb_score=7.1),\n",
    "    dict(movie_title=\"Spectre\", imdb_score=6.8),\n",
    "])"
   ]
  },
  {
   "cell_type": "code",
   "execution_count": 17,
   "metadata": {
    "collapsed": false
   },
   "outputs": [
    {
     "data": {
      "text/html": [
       "<div>\n",
       "<table border=\"1\" class=\"dataframe\">\n",
       "  <thead>\n",
       "    <tr style=\"text-align: right;\">\n",
       "      <th></th>\n",
       "      <th>movie_title</th>\n",
       "      <th>imdb_score</th>\n",
       "    </tr>\n",
       "  </thead>\n",
       "  <tbody>\n",
       "    <tr>\n",
       "      <th>0</th>\n",
       "      <td>Avatar</td>\n",
       "      <td>7.9</td>\n",
       "    </tr>\n",
       "    <tr>\n",
       "      <th>1</th>\n",
       "      <td>Pirates of the Caribbean: At World's End</td>\n",
       "      <td>7.1</td>\n",
       "    </tr>\n",
       "    <tr>\n",
       "      <th>2</th>\n",
       "      <td>Spectre</td>\n",
       "      <td>6.8</td>\n",
       "    </tr>\n",
       "  </tbody>\n",
       "</table>\n",
       "</div>"
      ],
      "text/plain": [
       "                                movie_title  imdb_score\n",
       "0                                    Avatar         7.9\n",
       "1  Pirates of the Caribbean: At World's End         7.1\n",
       "2                                   Spectre         6.8"
      ]
     },
     "execution_count": 17,
     "metadata": {},
     "output_type": "execute_result"
    }
   ],
   "source": [
    "# Solution 3 with list of Series\n",
    "\n",
    "pd.DataFrame([\n",
    "    pd.Series([\"Avatar\", 7.9], index=['movie_title', 'imdb_score']),\n",
    "    pd.Series([\"Pirates of the Caribbean: At World's End\", 7.1], index=['movie_title', 'imdb_score']),\n",
    "    pd.Series([\"Spectre\", 6.8], index=['movie_title', 'imdb_score'])\n",
    "])"
   ]
  },
  {
   "cell_type": "markdown",
   "metadata": {},
   "source": [
    "## I/O part I"
   ]
  },
  {
   "cell_type": "code",
   "execution_count": 18,
   "metadata": {
    "collapsed": false
   },
   "outputs": [],
   "source": [
    "# Uncomment and press tab..\n",
    "# pd.read_\n",
    "# SQL, csv, hdfs"
   ]
  },
  {
   "cell_type": "code",
   "execution_count": 19,
   "metadata": {
    "collapsed": true
   },
   "outputs": [],
   "source": [
    "pd.read_csv?"
   ]
  },
  {
   "cell_type": "code",
   "execution_count": 20,
   "metadata": {
    "collapsed": false
   },
   "outputs": [
    {
     "name": "stdout",
     "output_type": "stream",
     "text": [
      "{\r\n",
      "    \"daily_views\": {\r\n",
      "        \"1420070400000\": 2,\r\n",
      "        \"1420156800000\": 10,\r\n",
      "        \"1420243200000\": 4,\r\n",
      "        \"1420329600000\": 10,\r\n",
      "        \"1420416000000\": 3,\r\n",
      "        \"1420502400000\": 10,\r\n",
      "        \"1420588800000\": 5,\r\n",
      "        \"1420675200000\": 11,\r\n",
      "        \"1420761600000\": 3,\r\n",
      "        \"1420848000000\": 5,\r\n",
      "        \"1420934400000\": 1,\r\n",
      "        \"1421020800000\": 4,\r\n",
      "        \"1421107200000\": 20,\r\n",
      "        \"1421193600000\": 3,\r\n",
      "        \"1421280000000\": 7,\r\n",
      "        \"1421366400000\": 4,\r\n",
      "        \"1421452800000\": 5,\r\n",
      "        \"1421539200000\": 4,\r\n",
      "        \"1421625600000\": 6,\r\n",
      "        \"1421712000000\": 1,\r\n",
      "        \"1421798400000\": 5,\r\n",
      "        \"1421884800000\": 3,\r\n",
      "        \"1421971200000\": 9,\r\n",
      "        \"1422057600000\": 11,\r\n",
      "        \"1422144000000\": 6,\r\n",
      "        \"1422230400000\": 8,\r\n",
      "        \"1422316800000\": 5,\r\n",
      "        \"1422403200000\": 6,\r\n",
      "        \"1422489600000\": 8,\r\n",
      "        \"1422576000000\": 2,\r\n",
      "        \"1422662400000\": 6\r\n",
      "    },\r\n",
      "    \"month\": {\r\n",
      "        \"1420070400000\": 201501,\r\n",
      "        \"1420156800000\": 201501,\r\n",
      "        \"1420243200000\": 201501,\r\n",
      "        \"1420329600000\": 201501,\r\n",
      "        \"1420416000000\": 201501,\r\n",
      "        \"1420502400000\": 201501,\r\n",
      "        \"1420588800000\": 201501,\r\n",
      "        \"1420675200000\": 201501,\r\n",
      "        \"1420761600000\": 201501,\r\n",
      "        \"1420848000000\": 201501,\r\n",
      "        \"1420934400000\": 201501,\r\n",
      "        \"1421020800000\": 201501,\r\n",
      "        \"1421107200000\": 201501,\r\n",
      "        \"1421193600000\": 201501,\r\n",
      "        \"1421280000000\": 201501,\r\n"
     ]
    }
   ],
   "source": [
    "# TODO change this dataset..\n",
    "!head -n 50 data/cached_wiki_Pazdan.json"
   ]
  },
  {
   "cell_type": "code",
   "execution_count": 21,
   "metadata": {
    "collapsed": false
   },
   "outputs": [
    {
     "data": {
      "text/html": [
       "<div>\n",
       "<table border=\"1\" class=\"dataframe\">\n",
       "  <thead>\n",
       "    <tr style=\"text-align: right;\">\n",
       "      <th></th>\n",
       "      <th>daily_views</th>\n",
       "      <th>month</th>\n",
       "      <th>project</th>\n",
       "      <th>rank</th>\n",
       "      <th>title</th>\n",
       "    </tr>\n",
       "  </thead>\n",
       "  <tbody>\n",
       "    <tr>\n",
       "      <th>2015-01-01</th>\n",
       "      <td>2</td>\n",
       "      <td>201501</td>\n",
       "      <td>en</td>\n",
       "      <td>-1</td>\n",
       "      <td>Michał_Pazdan</td>\n",
       "    </tr>\n",
       "    <tr>\n",
       "      <th>2015-01-02</th>\n",
       "      <td>10</td>\n",
       "      <td>201501</td>\n",
       "      <td>en</td>\n",
       "      <td>-1</td>\n",
       "      <td>Michał_Pazdan</td>\n",
       "    </tr>\n",
       "    <tr>\n",
       "      <th>2015-01-03</th>\n",
       "      <td>4</td>\n",
       "      <td>201501</td>\n",
       "      <td>en</td>\n",
       "      <td>-1</td>\n",
       "      <td>Michał_Pazdan</td>\n",
       "    </tr>\n",
       "    <tr>\n",
       "      <th>2015-01-04</th>\n",
       "      <td>10</td>\n",
       "      <td>201501</td>\n",
       "      <td>en</td>\n",
       "      <td>-1</td>\n",
       "      <td>Michał_Pazdan</td>\n",
       "    </tr>\n",
       "    <tr>\n",
       "      <th>2015-01-05</th>\n",
       "      <td>3</td>\n",
       "      <td>201501</td>\n",
       "      <td>en</td>\n",
       "      <td>-1</td>\n",
       "      <td>Michał_Pazdan</td>\n",
       "    </tr>\n",
       "  </tbody>\n",
       "</table>\n",
       "</div>"
      ],
      "text/plain": [
       "            daily_views   month project  rank          title\n",
       "2015-01-01            2  201501      en    -1  Michał_Pazdan\n",
       "2015-01-02           10  201501      en    -1  Michał_Pazdan\n",
       "2015-01-03            4  201501      en    -1  Michał_Pazdan\n",
       "2015-01-04           10  201501      en    -1  Michał_Pazdan\n",
       "2015-01-05            3  201501      en    -1  Michał_Pazdan"
      ]
     },
     "execution_count": 21,
     "metadata": {},
     "output_type": "execute_result"
    }
   ],
   "source": [
    "pd.read_json('data/cached_wiki_Pazdan.json').head()"
   ]
  },
  {
   "cell_type": "markdown",
   "metadata": {},
   "source": [
    "### EXERCISE\n",
    "\n",
    "Load movies from data/movie_metadata.csv and\n",
    "analyze what dimensions and columns it has.."
   ]
  },
  {
   "cell_type": "code",
   "execution_count": 22,
   "metadata": {
    "collapsed": false
   },
   "outputs": [
    {
     "data": {
      "text/html": [
       "<div>\n",
       "<table border=\"1\" class=\"dataframe\">\n",
       "  <thead>\n",
       "    <tr style=\"text-align: right;\">\n",
       "      <th></th>\n",
       "      <th>color</th>\n",
       "      <th>director_name</th>\n",
       "      <th>num_critic_for_reviews</th>\n",
       "      <th>duration</th>\n",
       "      <th>director_facebook_likes</th>\n",
       "      <th>actor_3_facebook_likes</th>\n",
       "      <th>actor_2_name</th>\n",
       "      <th>actor_1_facebook_likes</th>\n",
       "      <th>gross</th>\n",
       "      <th>genres</th>\n",
       "      <th>...</th>\n",
       "      <th>num_user_for_reviews</th>\n",
       "      <th>language</th>\n",
       "      <th>country</th>\n",
       "      <th>content_rating</th>\n",
       "      <th>budget</th>\n",
       "      <th>title_year</th>\n",
       "      <th>actor_2_facebook_likes</th>\n",
       "      <th>imdb_score</th>\n",
       "      <th>aspect_ratio</th>\n",
       "      <th>movie_facebook_likes</th>\n",
       "    </tr>\n",
       "  </thead>\n",
       "  <tbody>\n",
       "    <tr>\n",
       "      <th>0</th>\n",
       "      <td>Color</td>\n",
       "      <td>James Cameron</td>\n",
       "      <td>723.0</td>\n",
       "      <td>178.0</td>\n",
       "      <td>0.0</td>\n",
       "      <td>855.0</td>\n",
       "      <td>Joel David Moore</td>\n",
       "      <td>1000.0</td>\n",
       "      <td>760505847.0</td>\n",
       "      <td>Action|Adventure|Fantasy|Sci-Fi</td>\n",
       "      <td>...</td>\n",
       "      <td>3054.0</td>\n",
       "      <td>English</td>\n",
       "      <td>USA</td>\n",
       "      <td>PG-13</td>\n",
       "      <td>237000000.0</td>\n",
       "      <td>2009.0</td>\n",
       "      <td>936.0</td>\n",
       "      <td>7.9</td>\n",
       "      <td>1.78</td>\n",
       "      <td>33000</td>\n",
       "    </tr>\n",
       "    <tr>\n",
       "      <th>1</th>\n",
       "      <td>Color</td>\n",
       "      <td>Gore Verbinski</td>\n",
       "      <td>302.0</td>\n",
       "      <td>169.0</td>\n",
       "      <td>563.0</td>\n",
       "      <td>1000.0</td>\n",
       "      <td>Orlando Bloom</td>\n",
       "      <td>40000.0</td>\n",
       "      <td>309404152.0</td>\n",
       "      <td>Action|Adventure|Fantasy</td>\n",
       "      <td>...</td>\n",
       "      <td>1238.0</td>\n",
       "      <td>English</td>\n",
       "      <td>USA</td>\n",
       "      <td>PG-13</td>\n",
       "      <td>300000000.0</td>\n",
       "      <td>2007.0</td>\n",
       "      <td>5000.0</td>\n",
       "      <td>7.1</td>\n",
       "      <td>2.35</td>\n",
       "      <td>0</td>\n",
       "    </tr>\n",
       "    <tr>\n",
       "      <th>2</th>\n",
       "      <td>Color</td>\n",
       "      <td>Sam Mendes</td>\n",
       "      <td>602.0</td>\n",
       "      <td>148.0</td>\n",
       "      <td>0.0</td>\n",
       "      <td>161.0</td>\n",
       "      <td>Rory Kinnear</td>\n",
       "      <td>11000.0</td>\n",
       "      <td>200074175.0</td>\n",
       "      <td>Action|Adventure|Thriller</td>\n",
       "      <td>...</td>\n",
       "      <td>994.0</td>\n",
       "      <td>English</td>\n",
       "      <td>UK</td>\n",
       "      <td>PG-13</td>\n",
       "      <td>245000000.0</td>\n",
       "      <td>2015.0</td>\n",
       "      <td>393.0</td>\n",
       "      <td>6.8</td>\n",
       "      <td>2.35</td>\n",
       "      <td>85000</td>\n",
       "    </tr>\n",
       "    <tr>\n",
       "      <th>3</th>\n",
       "      <td>Color</td>\n",
       "      <td>Christopher Nolan</td>\n",
       "      <td>813.0</td>\n",
       "      <td>164.0</td>\n",
       "      <td>22000.0</td>\n",
       "      <td>23000.0</td>\n",
       "      <td>Christian Bale</td>\n",
       "      <td>27000.0</td>\n",
       "      <td>448130642.0</td>\n",
       "      <td>Action|Thriller</td>\n",
       "      <td>...</td>\n",
       "      <td>2701.0</td>\n",
       "      <td>English</td>\n",
       "      <td>USA</td>\n",
       "      <td>PG-13</td>\n",
       "      <td>250000000.0</td>\n",
       "      <td>2012.0</td>\n",
       "      <td>23000.0</td>\n",
       "      <td>8.5</td>\n",
       "      <td>2.35</td>\n",
       "      <td>164000</td>\n",
       "    </tr>\n",
       "    <tr>\n",
       "      <th>4</th>\n",
       "      <td>NaN</td>\n",
       "      <td>Doug Walker</td>\n",
       "      <td>NaN</td>\n",
       "      <td>NaN</td>\n",
       "      <td>131.0</td>\n",
       "      <td>NaN</td>\n",
       "      <td>Rob Walker</td>\n",
       "      <td>131.0</td>\n",
       "      <td>NaN</td>\n",
       "      <td>Documentary</td>\n",
       "      <td>...</td>\n",
       "      <td>NaN</td>\n",
       "      <td>NaN</td>\n",
       "      <td>NaN</td>\n",
       "      <td>NaN</td>\n",
       "      <td>NaN</td>\n",
       "      <td>NaN</td>\n",
       "      <td>12.0</td>\n",
       "      <td>7.1</td>\n",
       "      <td>NaN</td>\n",
       "      <td>0</td>\n",
       "    </tr>\n",
       "  </tbody>\n",
       "</table>\n",
       "<p>5 rows × 28 columns</p>\n",
       "</div>"
      ],
      "text/plain": [
       "   color      director_name  num_critic_for_reviews  duration  \\\n",
       "0  Color      James Cameron                   723.0     178.0   \n",
       "1  Color     Gore Verbinski                   302.0     169.0   \n",
       "2  Color         Sam Mendes                   602.0     148.0   \n",
       "3  Color  Christopher Nolan                   813.0     164.0   \n",
       "4    NaN        Doug Walker                     NaN       NaN   \n",
       "\n",
       "   director_facebook_likes  actor_3_facebook_likes      actor_2_name  \\\n",
       "0                      0.0                   855.0  Joel David Moore   \n",
       "1                    563.0                  1000.0     Orlando Bloom   \n",
       "2                      0.0                   161.0      Rory Kinnear   \n",
       "3                  22000.0                 23000.0    Christian Bale   \n",
       "4                    131.0                     NaN        Rob Walker   \n",
       "\n",
       "   actor_1_facebook_likes        gross                           genres  \\\n",
       "0                  1000.0  760505847.0  Action|Adventure|Fantasy|Sci-Fi   \n",
       "1                 40000.0  309404152.0         Action|Adventure|Fantasy   \n",
       "2                 11000.0  200074175.0        Action|Adventure|Thriller   \n",
       "3                 27000.0  448130642.0                  Action|Thriller   \n",
       "4                   131.0          NaN                      Documentary   \n",
       "\n",
       "          ...          num_user_for_reviews language  country  content_rating  \\\n",
       "0         ...                        3054.0  English      USA           PG-13   \n",
       "1         ...                        1238.0  English      USA           PG-13   \n",
       "2         ...                         994.0  English       UK           PG-13   \n",
       "3         ...                        2701.0  English      USA           PG-13   \n",
       "4         ...                           NaN      NaN      NaN             NaN   \n",
       "\n",
       "        budget  title_year actor_2_facebook_likes imdb_score  aspect_ratio  \\\n",
       "0  237000000.0      2009.0                  936.0        7.9          1.78   \n",
       "1  300000000.0      2007.0                 5000.0        7.1          2.35   \n",
       "2  245000000.0      2015.0                  393.0        6.8          2.35   \n",
       "3  250000000.0      2012.0                23000.0        8.5          2.35   \n",
       "4          NaN         NaN                   12.0        7.1           NaN   \n",
       "\n",
       "  movie_facebook_likes  \n",
       "0                33000  \n",
       "1                    0  \n",
       "2                85000  \n",
       "3               164000  \n",
       "4                    0  \n",
       "\n",
       "[5 rows x 28 columns]"
      ]
     },
     "execution_count": 22,
     "metadata": {},
     "output_type": "execute_result"
    }
   ],
   "source": [
    "# Solution\n",
    "\n",
    "#E: movies = \n",
    "\n",
    "movies = pd.read_csv('data/movie_metadata.csv')\n",
    "movies.head()"
   ]
  },
  {
   "cell_type": "code",
   "execution_count": 23,
   "metadata": {
    "collapsed": true
   },
   "outputs": [],
   "source": [
    "assert movies.shape == (5043, 28)"
   ]
  },
  {
   "cell_type": "code",
   "execution_count": 24,
   "metadata": {
    "collapsed": false
   },
   "outputs": [
    {
     "data": {
      "text/plain": [
       "Index([u'color', u'director_name', u'num_critic_for_reviews', u'duration',\n",
       "       u'director_facebook_likes', u'actor_3_facebook_likes', u'actor_2_name',\n",
       "       u'actor_1_facebook_likes', u'gross', u'genres', u'actor_1_name',\n",
       "       u'movie_title', u'num_voted_users', u'cast_total_facebook_likes',\n",
       "       u'actor_3_name', u'facenumber_in_poster', u'plot_keywords',\n",
       "       u'movie_imdb_link', u'num_user_for_reviews', u'language', u'country',\n",
       "       u'content_rating', u'budget', u'title_year', u'actor_2_facebook_likes',\n",
       "       u'imdb_score', u'aspect_ratio', u'movie_facebook_likes'],\n",
       "      dtype='object')"
      ]
     },
     "execution_count": 24,
     "metadata": {},
     "output_type": "execute_result"
    }
   ],
   "source": [
    "movies.columns"
   ]
  },
  {
   "cell_type": "markdown",
   "metadata": {},
   "source": [
    "## Filtering"
   ]
  },
  {
   "cell_type": "code",
   "execution_count": 25,
   "metadata": {
    "collapsed": false
   },
   "outputs": [
    {
     "data": {
      "text/html": [
       "<div>\n",
       "<table border=\"1\" class=\"dataframe\">\n",
       "  <thead>\n",
       "    <tr style=\"text-align: right;\">\n",
       "      <th></th>\n",
       "      <th>hero</th>\n",
       "      <th>strength</th>\n",
       "    </tr>\n",
       "  </thead>\n",
       "  <tbody>\n",
       "    <tr>\n",
       "      <th>0</th>\n",
       "      <td>Batman</td>\n",
       "      <td>400</td>\n",
       "    </tr>\n",
       "    <tr>\n",
       "      <th>1</th>\n",
       "      <td>Robin</td>\n",
       "      <td>200</td>\n",
       "    </tr>\n",
       "    <tr>\n",
       "      <th>2</th>\n",
       "      <td>Spiderman</td>\n",
       "      <td>300</td>\n",
       "    </tr>\n",
       "    <tr>\n",
       "      <th>3</th>\n",
       "      <td>Robocop</td>\n",
       "      <td>400</td>\n",
       "    </tr>\n",
       "    <tr>\n",
       "      <th>4</th>\n",
       "      <td>Terminator</td>\n",
       "      <td>500</td>\n",
       "    </tr>\n",
       "  </tbody>\n",
       "</table>\n",
       "</div>"
      ],
      "text/plain": [
       "         hero  strength\n",
       "0      Batman       400\n",
       "1       Robin       200\n",
       "2   Spiderman       300\n",
       "3     Robocop       400\n",
       "4  Terminator       500"
      ]
     },
     "execution_count": 25,
     "metadata": {},
     "output_type": "execute_result"
    }
   ],
   "source": [
    "heroes"
   ]
  },
  {
   "cell_type": "code",
   "execution_count": 26,
   "metadata": {
    "collapsed": false
   },
   "outputs": [
    {
     "data": {
      "text/plain": [
       "0     True\n",
       "1    False\n",
       "2    False\n",
       "3     True\n",
       "4    False\n",
       "Name: strength, dtype: bool"
      ]
     },
     "execution_count": 26,
     "metadata": {},
     "output_type": "execute_result"
    }
   ],
   "source": [
    "heroes['strength'] == 400"
   ]
  },
  {
   "cell_type": "code",
   "execution_count": 27,
   "metadata": {
    "collapsed": false
   },
   "outputs": [
    {
     "data": {
      "text/plain": [
       "0     True\n",
       "1    False\n",
       "2    False\n",
       "3     True\n",
       "4    False\n",
       "Name: strength, dtype: bool"
      ]
     },
     "execution_count": 27,
     "metadata": {},
     "output_type": "execute_result"
    }
   ],
   "source": [
    "heroes.strength == 400"
   ]
  },
  {
   "cell_type": "markdown",
   "metadata": {},
   "source": [
    "Boolean indexing"
   ]
  },
  {
   "cell_type": "code",
   "execution_count": 28,
   "metadata": {
    "collapsed": false
   },
   "outputs": [
    {
     "data": {
      "text/html": [
       "<div>\n",
       "<table border=\"1\" class=\"dataframe\">\n",
       "  <thead>\n",
       "    <tr style=\"text-align: right;\">\n",
       "      <th></th>\n",
       "      <th>hero</th>\n",
       "      <th>strength</th>\n",
       "    </tr>\n",
       "  </thead>\n",
       "  <tbody>\n",
       "    <tr>\n",
       "      <th>0</th>\n",
       "      <td>Batman</td>\n",
       "      <td>400</td>\n",
       "    </tr>\n",
       "    <tr>\n",
       "      <th>3</th>\n",
       "      <td>Robocop</td>\n",
       "      <td>400</td>\n",
       "    </tr>\n",
       "  </tbody>\n",
       "</table>\n",
       "</div>"
      ],
      "text/plain": [
       "      hero  strength\n",
       "0   Batman       400\n",
       "3  Robocop       400"
      ]
     },
     "execution_count": 28,
     "metadata": {},
     "output_type": "execute_result"
    }
   ],
   "source": [
    "heroes[heroes['strength'] == 400]"
   ]
  },
  {
   "cell_type": "code",
   "execution_count": 29,
   "metadata": {
    "collapsed": false
   },
   "outputs": [
    {
     "data": {
      "text/html": [
       "<div>\n",
       "<table border=\"1\" class=\"dataframe\">\n",
       "  <thead>\n",
       "    <tr style=\"text-align: right;\">\n",
       "      <th></th>\n",
       "      <th>hero</th>\n",
       "      <th>strength</th>\n",
       "    </tr>\n",
       "  </thead>\n",
       "  <tbody>\n",
       "    <tr>\n",
       "      <th>4</th>\n",
       "      <td>Terminator</td>\n",
       "      <td>500</td>\n",
       "    </tr>\n",
       "  </tbody>\n",
       "</table>\n",
       "</div>"
      ],
      "text/plain": [
       "         hero  strength\n",
       "4  Terminator       500"
      ]
     },
     "execution_count": 29,
     "metadata": {},
     "output_type": "execute_result"
    }
   ],
   "source": [
    "heroes[heroes['strength'] > 400]"
   ]
  },
  {
   "cell_type": "code",
   "execution_count": 30,
   "metadata": {
    "collapsed": false
   },
   "outputs": [
    {
     "ename": "ValueError",
     "evalue": "The truth value of a Series is ambiguous. Use a.empty, a.bool(), a.item(), a.any() or a.all().",
     "output_type": "error",
     "traceback": [
      "\u001b[0;31m---------------------------------------------------------------------------\u001b[0m",
      "\u001b[0;31mValueError\u001b[0m                                Traceback (most recent call last)",
      "\u001b[0;32m<ipython-input-30-6b6d803a7ad1>\u001b[0m in \u001b[0;36m<module>\u001b[0;34m()\u001b[0m\n\u001b[0;32m----> 1\u001b[0;31m \u001b[0mheroes\u001b[0m\u001b[0;34m[\u001b[0m\u001b[0;36m200\u001b[0m \u001b[0;34m<\u001b[0m \u001b[0mheroes\u001b[0m\u001b[0;34m[\u001b[0m\u001b[0;34m'strength'\u001b[0m\u001b[0;34m]\u001b[0m \u001b[0;34m<\u001b[0m \u001b[0;36m400\u001b[0m\u001b[0;34m]\u001b[0m\u001b[0;34m\u001b[0m\u001b[0m\n\u001b[0m",
      "\u001b[0;32m/Users/jacekrzeszutek/.virtualenvs/first-steps-with-pandas-2/lib/python2.7/site-packages/pandas/core/generic.pyc\u001b[0m in \u001b[0;36m__nonzero__\u001b[0;34m(self)\u001b[0m\n\u001b[1;32m    890\u001b[0m         raise ValueError(\"The truth value of a {0} is ambiguous. \"\n\u001b[1;32m    891\u001b[0m                          \u001b[0;34m\"Use a.empty, a.bool(), a.item(), a.any() or a.all().\"\u001b[0m\u001b[0;34m\u001b[0m\u001b[0m\n\u001b[0;32m--> 892\u001b[0;31m                          .format(self.__class__.__name__))\n\u001b[0m\u001b[1;32m    893\u001b[0m \u001b[0;34m\u001b[0m\u001b[0m\n\u001b[1;32m    894\u001b[0m     \u001b[0m__bool__\u001b[0m \u001b[0;34m=\u001b[0m \u001b[0m__nonzero__\u001b[0m\u001b[0;34m\u001b[0m\u001b[0m\n",
      "\u001b[0;31mValueError\u001b[0m: The truth value of a Series is ambiguous. Use a.empty, a.bool(), a.item(), a.any() or a.all()."
     ]
    }
   ],
   "source": [
    "heroes[200 < heroes['strength'] < 400]"
   ]
  },
  {
   "cell_type": "code",
   "execution_count": 31,
   "metadata": {
    "collapsed": false
   },
   "outputs": [
    {
     "data": {
      "text/html": [
       "<div>\n",
       "<table border=\"1\" class=\"dataframe\">\n",
       "  <thead>\n",
       "    <tr style=\"text-align: right;\">\n",
       "      <th></th>\n",
       "      <th>hero</th>\n",
       "      <th>strength</th>\n",
       "    </tr>\n",
       "  </thead>\n",
       "  <tbody>\n",
       "    <tr>\n",
       "      <th>2</th>\n",
       "      <td>Spiderman</td>\n",
       "      <td>300</td>\n",
       "    </tr>\n",
       "  </tbody>\n",
       "</table>\n",
       "</div>"
      ],
      "text/plain": [
       "        hero  strength\n",
       "2  Spiderman       300"
      ]
     },
     "execution_count": 31,
     "metadata": {},
     "output_type": "execute_result"
    }
   ],
   "source": [
    "heroes[\n",
    "    (heroes['strength'] > 200) & \n",
    "    (heroes['strength'] < 400)\n",
    "]"
   ]
  },
  {
   "cell_type": "code",
   "execution_count": 32,
   "metadata": {
    "collapsed": false
   },
   "outputs": [
    {
     "data": {
      "text/html": [
       "<div>\n",
       "<table border=\"1\" class=\"dataframe\">\n",
       "  <thead>\n",
       "    <tr style=\"text-align: right;\">\n",
       "      <th></th>\n",
       "      <th>hero</th>\n",
       "      <th>strength</th>\n",
       "    </tr>\n",
       "  </thead>\n",
       "  <tbody>\n",
       "    <tr>\n",
       "      <th>0</th>\n",
       "      <td>Batman</td>\n",
       "      <td>400</td>\n",
       "    </tr>\n",
       "    <tr>\n",
       "      <th>1</th>\n",
       "      <td>Robin</td>\n",
       "      <td>200</td>\n",
       "    </tr>\n",
       "    <tr>\n",
       "      <th>3</th>\n",
       "      <td>Robocop</td>\n",
       "      <td>400</td>\n",
       "    </tr>\n",
       "    <tr>\n",
       "      <th>4</th>\n",
       "      <td>Terminator</td>\n",
       "      <td>500</td>\n",
       "    </tr>\n",
       "  </tbody>\n",
       "</table>\n",
       "</div>"
      ],
      "text/plain": [
       "         hero  strength\n",
       "0      Batman       400\n",
       "1       Robin       200\n",
       "3     Robocop       400\n",
       "4  Terminator       500"
      ]
     },
     "execution_count": 32,
     "metadata": {},
     "output_type": "execute_result"
    }
   ],
   "source": [
    "heroes[\n",
    "    (heroes['strength'] <= 200) |\n",
    "    (heroes['strength'] >= 400)\n",
    "]"
   ]
  },
  {
   "cell_type": "markdown",
   "metadata": {},
   "source": [
    "`~` negation"
   ]
  },
  {
   "cell_type": "code",
   "execution_count": 33,
   "metadata": {
    "collapsed": false
   },
   "outputs": [
    {
     "data": {
      "text/plain": [
       "0    False\n",
       "1     True\n",
       "2     True\n",
       "3    False\n",
       "4     True\n",
       "Name: strength, dtype: bool"
      ]
     },
     "execution_count": 33,
     "metadata": {},
     "output_type": "execute_result"
    }
   ],
   "source": [
    "~(heroes['strength'] == 400)"
   ]
  },
  {
   "cell_type": "code",
   "execution_count": 34,
   "metadata": {
    "collapsed": false
   },
   "outputs": [
    {
     "data": {
      "text/html": [
       "<div>\n",
       "<table border=\"1\" class=\"dataframe\">\n",
       "  <thead>\n",
       "    <tr style=\"text-align: right;\">\n",
       "      <th></th>\n",
       "      <th>hero</th>\n",
       "      <th>strength</th>\n",
       "    </tr>\n",
       "  </thead>\n",
       "  <tbody>\n",
       "    <tr>\n",
       "      <th>2</th>\n",
       "      <td>Spiderman</td>\n",
       "      <td>300</td>\n",
       "    </tr>\n",
       "  </tbody>\n",
       "</table>\n",
       "</div>"
      ],
      "text/plain": [
       "        hero  strength\n",
       "2  Spiderman       300"
      ]
     },
     "execution_count": 34,
     "metadata": {},
     "output_type": "execute_result"
    }
   ],
   "source": [
    "heroes[~(\n",
    "    (heroes['strength'] <= 200) |\n",
    "    (heroes['strength'] >= 400)\n",
    ")]"
   ]
  },
  {
   "cell_type": "code",
   "execution_count": 35,
   "metadata": {
    "collapsed": false
   },
   "outputs": [
    {
     "data": {
      "text/html": [
       "<div>\n",
       "<table border=\"1\" class=\"dataframe\">\n",
       "  <thead>\n",
       "    <tr style=\"text-align: right;\">\n",
       "      <th></th>\n",
       "      <th>hero</th>\n",
       "      <th>strength</th>\n",
       "    </tr>\n",
       "  </thead>\n",
       "  <tbody>\n",
       "    <tr>\n",
       "      <th>0</th>\n",
       "      <td>Batman</td>\n",
       "      <td>400</td>\n",
       "    </tr>\n",
       "    <tr>\n",
       "      <th>1</th>\n",
       "      <td>Robin</td>\n",
       "      <td>200</td>\n",
       "    </tr>\n",
       "  </tbody>\n",
       "</table>\n",
       "</div>"
      ],
      "text/plain": [
       "     hero  strength\n",
       "0  Batman       400\n",
       "1   Robin       200"
      ]
     },
     "execution_count": 35,
     "metadata": {},
     "output_type": "execute_result"
    }
   ],
   "source": [
    "heroes[\n",
    "    heroes['hero'].isin(['Batman', 'Robin'])\n",
    "]"
   ]
  },
  {
   "cell_type": "markdown",
   "metadata": {},
   "source": [
    "### EXERCISE\n",
    "\n",
    "1. What movies has been directed by Clint Eastwood?\n",
    "2. What movies have earned above $500m?\n",
    "3. Are there any Polish movies?\n",
    "4. What % of movies are in color?\n",
    "5. What are really popular great movies? (> 100k FB likes, > 8.5 IMDB score)\n",
    "6. In what movies main role was played by brutals like \"Jason Statham\", \"Sylvester Stallone\" or god (\"Morgan Freeman\")?"
   ]
  },
  {
   "cell_type": "code",
   "execution_count": 36,
   "metadata": {
    "collapsed": false
   },
   "outputs": [
    {
     "data": {
      "text/html": [
       "<div>\n",
       "<table border=\"1\" class=\"dataframe\">\n",
       "  <thead>\n",
       "    <tr style=\"text-align: right;\">\n",
       "      <th></th>\n",
       "      <th>color</th>\n",
       "      <th>director_name</th>\n",
       "      <th>num_critic_for_reviews</th>\n",
       "      <th>duration</th>\n",
       "      <th>director_facebook_likes</th>\n",
       "      <th>actor_3_facebook_likes</th>\n",
       "      <th>actor_2_name</th>\n",
       "      <th>actor_1_facebook_likes</th>\n",
       "      <th>gross</th>\n",
       "      <th>genres</th>\n",
       "      <th>...</th>\n",
       "      <th>num_user_for_reviews</th>\n",
       "      <th>language</th>\n",
       "      <th>country</th>\n",
       "      <th>content_rating</th>\n",
       "      <th>budget</th>\n",
       "      <th>title_year</th>\n",
       "      <th>actor_2_facebook_likes</th>\n",
       "      <th>imdb_score</th>\n",
       "      <th>aspect_ratio</th>\n",
       "      <th>movie_facebook_likes</th>\n",
       "    </tr>\n",
       "  </thead>\n",
       "  <tbody>\n",
       "    <tr>\n",
       "      <th>664</th>\n",
       "      <td>Black and White</td>\n",
       "      <td>Clint Eastwood</td>\n",
       "      <td>169.0</td>\n",
       "      <td>130.0</td>\n",
       "      <td>16000.0</td>\n",
       "      <td>416.0</td>\n",
       "      <td>Courtney B. Vance</td>\n",
       "      <td>16000.0</td>\n",
       "      <td>90454043.0</td>\n",
       "      <td>Action|Adventure|Thriller</td>\n",
       "      <td>...</td>\n",
       "      <td>326.0</td>\n",
       "      <td>English</td>\n",
       "      <td>USA</td>\n",
       "      <td>PG-13</td>\n",
       "      <td>65000000.0</td>\n",
       "      <td>2000.0</td>\n",
       "      <td>495.0</td>\n",
       "      <td>6.4</td>\n",
       "      <td>2.35</td>\n",
       "      <td>0</td>\n",
       "    </tr>\n",
       "    <tr>\n",
       "      <th>772</th>\n",
       "      <td>Color</td>\n",
       "      <td>Clint Eastwood</td>\n",
       "      <td>306.0</td>\n",
       "      <td>134.0</td>\n",
       "      <td>16000.0</td>\n",
       "      <td>204.0</td>\n",
       "      <td>Morgan Freeman</td>\n",
       "      <td>13000.0</td>\n",
       "      <td>37479778.0</td>\n",
       "      <td>Biography|Drama|History|Sport</td>\n",
       "      <td>...</td>\n",
       "      <td>259.0</td>\n",
       "      <td>English</td>\n",
       "      <td>USA</td>\n",
       "      <td>PG-13</td>\n",
       "      <td>60000000.0</td>\n",
       "      <td>2009.0</td>\n",
       "      <td>11000.0</td>\n",
       "      <td>7.4</td>\n",
       "      <td>2.35</td>\n",
       "      <td>23000</td>\n",
       "    </tr>\n",
       "    <tr>\n",
       "      <th>814</th>\n",
       "      <td>Color</td>\n",
       "      <td>Clint Eastwood</td>\n",
       "      <td>490.0</td>\n",
       "      <td>133.0</td>\n",
       "      <td>16000.0</td>\n",
       "      <td>318.0</td>\n",
       "      <td>Leonard Roberts</td>\n",
       "      <td>14000.0</td>\n",
       "      <td>350123553.0</td>\n",
       "      <td>Action|Biography|Drama|History|Thriller|War</td>\n",
       "      <td>...</td>\n",
       "      <td>916.0</td>\n",
       "      <td>English</td>\n",
       "      <td>USA</td>\n",
       "      <td>R</td>\n",
       "      <td>58800000.0</td>\n",
       "      <td>2014.0</td>\n",
       "      <td>962.0</td>\n",
       "      <td>7.3</td>\n",
       "      <td>2.35</td>\n",
       "      <td>112000</td>\n",
       "    </tr>\n",
       "    <tr>\n",
       "      <th>877</th>\n",
       "      <td>Color</td>\n",
       "      <td>Clint Eastwood</td>\n",
       "      <td>264.0</td>\n",
       "      <td>141.0</td>\n",
       "      <td>16000.0</td>\n",
       "      <td>539.0</td>\n",
       "      <td>Michael Kelly</td>\n",
       "      <td>11000.0</td>\n",
       "      <td>35707327.0</td>\n",
       "      <td>Crime|Drama|Mystery|Thriller</td>\n",
       "      <td>...</td>\n",
       "      <td>387.0</td>\n",
       "      <td>English</td>\n",
       "      <td>USA</td>\n",
       "      <td>R</td>\n",
       "      <td>55000000.0</td>\n",
       "      <td>2008.0</td>\n",
       "      <td>963.0</td>\n",
       "      <td>7.8</td>\n",
       "      <td>2.35</td>\n",
       "      <td>14000</td>\n",
       "    </tr>\n",
       "    <tr>\n",
       "      <th>906</th>\n",
       "      <td>Color</td>\n",
       "      <td>Clint Eastwood</td>\n",
       "      <td>279.0</td>\n",
       "      <td>135.0</td>\n",
       "      <td>16000.0</td>\n",
       "      <td>310.0</td>\n",
       "      <td>Chris Bauer</td>\n",
       "      <td>23000.0</td>\n",
       "      <td>33574332.0</td>\n",
       "      <td>Drama|History|War</td>\n",
       "      <td>...</td>\n",
       "      <td>415.0</td>\n",
       "      <td>English</td>\n",
       "      <td>USA</td>\n",
       "      <td>R</td>\n",
       "      <td>90000000.0</td>\n",
       "      <td>2006.0</td>\n",
       "      <td>638.0</td>\n",
       "      <td>7.1</td>\n",
       "      <td>2.35</td>\n",
       "      <td>0</td>\n",
       "    </tr>\n",
       "    <tr>\n",
       "      <th>973</th>\n",
       "      <td>Color</td>\n",
       "      <td>Clint Eastwood</td>\n",
       "      <td>76.0</td>\n",
       "      <td>121.0</td>\n",
       "      <td>16000.0</td>\n",
       "      <td>826.0</td>\n",
       "      <td>Mark Margolis</td>\n",
       "      <td>16000.0</td>\n",
       "      <td>50007168.0</td>\n",
       "      <td>Action|Crime|Drama|Thriller</td>\n",
       "      <td>...</td>\n",
       "      <td>142.0</td>\n",
       "      <td>English</td>\n",
       "      <td>USA</td>\n",
       "      <td>R</td>\n",
       "      <td>50000000.0</td>\n",
       "      <td>1997.0</td>\n",
       "      <td>1000.0</td>\n",
       "      <td>6.7</td>\n",
       "      <td>2.35</td>\n",
       "      <td>1000</td>\n",
       "    </tr>\n",
       "    <tr>\n",
       "      <th>997</th>\n",
       "      <td>Color</td>\n",
       "      <td>Clint Eastwood</td>\n",
       "      <td>315.0</td>\n",
       "      <td>129.0</td>\n",
       "      <td>16000.0</td>\n",
       "      <td>447.0</td>\n",
       "      <td>Jay Mohr</td>\n",
       "      <td>13000.0</td>\n",
       "      <td>32741596.0</td>\n",
       "      <td>Drama|Fantasy</td>\n",
       "      <td>...</td>\n",
       "      <td>323.0</td>\n",
       "      <td>English</td>\n",
       "      <td>USA</td>\n",
       "      <td>PG-13</td>\n",
       "      <td>50000000.0</td>\n",
       "      <td>2010.0</td>\n",
       "      <td>563.0</td>\n",
       "      <td>6.5</td>\n",
       "      <td>2.35</td>\n",
       "      <td>16000</td>\n",
       "    </tr>\n",
       "    <tr>\n",
       "      <th>1004</th>\n",
       "      <td>Color</td>\n",
       "      <td>Clint Eastwood</td>\n",
       "      <td>146.0</td>\n",
       "      <td>110.0</td>\n",
       "      <td>16000.0</td>\n",
       "      <td>581.0</td>\n",
       "      <td>Anjelica Huston</td>\n",
       "      <td>16000.0</td>\n",
       "      <td>26199517.0</td>\n",
       "      <td>Action|Crime|Drama|Mystery|Thriller</td>\n",
       "      <td>...</td>\n",
       "      <td>260.0</td>\n",
       "      <td>English</td>\n",
       "      <td>USA</td>\n",
       "      <td>R</td>\n",
       "      <td>50000000.0</td>\n",
       "      <td>2002.0</td>\n",
       "      <td>1000.0</td>\n",
       "      <td>6.4</td>\n",
       "      <td>2.35</td>\n",
       "      <td>705</td>\n",
       "    </tr>\n",
       "    <tr>\n",
       "      <th>1245</th>\n",
       "      <td>Color</td>\n",
       "      <td>Clint Eastwood</td>\n",
       "      <td>249.0</td>\n",
       "      <td>134.0</td>\n",
       "      <td>16000.0</td>\n",
       "      <td>235.0</td>\n",
       "      <td>Steve Schirripa</td>\n",
       "      <td>880.0</td>\n",
       "      <td>47034272.0</td>\n",
       "      <td>Biography|Drama|Music|Musical</td>\n",
       "      <td>...</td>\n",
       "      <td>190.0</td>\n",
       "      <td>English</td>\n",
       "      <td>USA</td>\n",
       "      <td>R</td>\n",
       "      <td>40000000.0</td>\n",
       "      <td>2014.0</td>\n",
       "      <td>413.0</td>\n",
       "      <td>6.9</td>\n",
       "      <td>2.35</td>\n",
       "      <td>16000</td>\n",
       "    </tr>\n",
       "    <tr>\n",
       "      <th>1453</th>\n",
       "      <td>Color</td>\n",
       "      <td>Clint Eastwood</td>\n",
       "      <td>392.0</td>\n",
       "      <td>137.0</td>\n",
       "      <td>16000.0</td>\n",
       "      <td>363.0</td>\n",
       "      <td>Naomi Watts</td>\n",
       "      <td>29000.0</td>\n",
       "      <td>37304950.0</td>\n",
       "      <td>Biography|Crime|Drama</td>\n",
       "      <td>...</td>\n",
       "      <td>279.0</td>\n",
       "      <td>English</td>\n",
       "      <td>USA</td>\n",
       "      <td>R</td>\n",
       "      <td>35000000.0</td>\n",
       "      <td>2011.0</td>\n",
       "      <td>6000.0</td>\n",
       "      <td>6.6</td>\n",
       "      <td>2.35</td>\n",
       "      <td>16000</td>\n",
       "    </tr>\n",
       "    <tr>\n",
       "      <th>1462</th>\n",
       "      <td>Color</td>\n",
       "      <td>Clint Eastwood</td>\n",
       "      <td>91.0</td>\n",
       "      <td>155.0</td>\n",
       "      <td>16000.0</td>\n",
       "      <td>229.0</td>\n",
       "      <td>Bob Gunton</td>\n",
       "      <td>18000.0</td>\n",
       "      <td>25078937.0</td>\n",
       "      <td>Crime|Drama|Mystery|Thriller</td>\n",
       "      <td>...</td>\n",
       "      <td>216.0</td>\n",
       "      <td>English</td>\n",
       "      <td>USA</td>\n",
       "      <td>R</td>\n",
       "      <td>30000000.0</td>\n",
       "      <td>1997.0</td>\n",
       "      <td>461.0</td>\n",
       "      <td>6.6</td>\n",
       "      <td>1.85</td>\n",
       "      <td>0</td>\n",
       "    </tr>\n",
       "    <tr>\n",
       "      <th>1603</th>\n",
       "      <td>Color</td>\n",
       "      <td>Clint Eastwood</td>\n",
       "      <td>229.0</td>\n",
       "      <td>138.0</td>\n",
       "      <td>16000.0</td>\n",
       "      <td>262.0</td>\n",
       "      <td>Spencer Treat Clark</td>\n",
       "      <td>616.0</td>\n",
       "      <td>90135191.0</td>\n",
       "      <td>Crime|Drama|Mystery|Thriller</td>\n",
       "      <td>...</td>\n",
       "      <td>935.0</td>\n",
       "      <td>English</td>\n",
       "      <td>USA</td>\n",
       "      <td>R</td>\n",
       "      <td>25000000.0</td>\n",
       "      <td>2003.0</td>\n",
       "      <td>541.0</td>\n",
       "      <td>8.0</td>\n",
       "      <td>2.35</td>\n",
       "      <td>12000</td>\n",
       "    </tr>\n",
       "    <tr>\n",
       "      <th>1604</th>\n",
       "      <td>Color</td>\n",
       "      <td>Clint Eastwood</td>\n",
       "      <td>268.0</td>\n",
       "      <td>132.0</td>\n",
       "      <td>16000.0</td>\n",
       "      <td>567.0</td>\n",
       "      <td>Morgan Freeman</td>\n",
       "      <td>16000.0</td>\n",
       "      <td>100422786.0</td>\n",
       "      <td>Drama|Sport</td>\n",
       "      <td>...</td>\n",
       "      <td>1106.0</td>\n",
       "      <td>English</td>\n",
       "      <td>USA</td>\n",
       "      <td>PG-13</td>\n",
       "      <td>30000000.0</td>\n",
       "      <td>2004.0</td>\n",
       "      <td>11000.0</td>\n",
       "      <td>8.1</td>\n",
       "      <td>2.35</td>\n",
       "      <td>14000</td>\n",
       "    </tr>\n",
       "    <tr>\n",
       "      <th>1869</th>\n",
       "      <td>Color</td>\n",
       "      <td>Clint Eastwood</td>\n",
       "      <td>366.0</td>\n",
       "      <td>116.0</td>\n",
       "      <td>16000.0</td>\n",
       "      <td>198.0</td>\n",
       "      <td>Dreama Walker</td>\n",
       "      <td>16000.0</td>\n",
       "      <td>148085755.0</td>\n",
       "      <td>Drama</td>\n",
       "      <td>...</td>\n",
       "      <td>871.0</td>\n",
       "      <td>English</td>\n",
       "      <td>USA</td>\n",
       "      <td>R</td>\n",
       "      <td>33000000.0</td>\n",
       "      <td>2008.0</td>\n",
       "      <td>601.0</td>\n",
       "      <td>8.2</td>\n",
       "      <td>2.35</td>\n",
       "      <td>28000</td>\n",
       "    </tr>\n",
       "    <tr>\n",
       "      <th>2086</th>\n",
       "      <td>Color</td>\n",
       "      <td>Clint Eastwood</td>\n",
       "      <td>69.0</td>\n",
       "      <td>135.0</td>\n",
       "      <td>16000.0</td>\n",
       "      <td>86.0</td>\n",
       "      <td>Meryl Streep</td>\n",
       "      <td>16000.0</td>\n",
       "      <td>70960517.0</td>\n",
       "      <td>Drama|Romance</td>\n",
       "      <td>...</td>\n",
       "      <td>192.0</td>\n",
       "      <td>English</td>\n",
       "      <td>USA</td>\n",
       "      <td>PG-13</td>\n",
       "      <td>35000000.0</td>\n",
       "      <td>1995.0</td>\n",
       "      <td>11000.0</td>\n",
       "      <td>7.5</td>\n",
       "      <td>1.85</td>\n",
       "      <td>0</td>\n",
       "    </tr>\n",
       "    <tr>\n",
       "      <th>2132</th>\n",
       "      <td>Color</td>\n",
       "      <td>Clint Eastwood</td>\n",
       "      <td>43.0</td>\n",
       "      <td>136.0</td>\n",
       "      <td>16000.0</td>\n",
       "      <td>216.0</td>\n",
       "      <td>Warren Clarke</td>\n",
       "      <td>16000.0</td>\n",
       "      <td>46700000.0</td>\n",
       "      <td>Action|Adventure|Thriller</td>\n",
       "      <td>...</td>\n",
       "      <td>98.0</td>\n",
       "      <td>English</td>\n",
       "      <td>USA</td>\n",
       "      <td>PG</td>\n",
       "      <td>21000000.0</td>\n",
       "      <td>1982.0</td>\n",
       "      <td>281.0</td>\n",
       "      <td>5.9</td>\n",
       "      <td>2.35</td>\n",
       "      <td>0</td>\n",
       "    </tr>\n",
       "    <tr>\n",
       "      <th>2760</th>\n",
       "      <td>Color</td>\n",
       "      <td>Clint Eastwood</td>\n",
       "      <td>131.0</td>\n",
       "      <td>131.0</td>\n",
       "      <td>16000.0</td>\n",
       "      <td>638.0</td>\n",
       "      <td>Morgan Freeman</td>\n",
       "      <td>16000.0</td>\n",
       "      <td>101157447.0</td>\n",
       "      <td>Drama|Western</td>\n",
       "      <td>...</td>\n",
       "      <td>495.0</td>\n",
       "      <td>English</td>\n",
       "      <td>USA</td>\n",
       "      <td>R</td>\n",
       "      <td>14400000.0</td>\n",
       "      <td>1992.0</td>\n",
       "      <td>11000.0</td>\n",
       "      <td>8.3</td>\n",
       "      <td>2.35</td>\n",
       "      <td>10000</td>\n",
       "    </tr>\n",
       "    <tr>\n",
       "      <th>2863</th>\n",
       "      <td>Color</td>\n",
       "      <td>Clint Eastwood</td>\n",
       "      <td>251.0</td>\n",
       "      <td>141.0</td>\n",
       "      <td>16000.0</td>\n",
       "      <td>78.0</td>\n",
       "      <td>Kazunari Ninomiya</td>\n",
       "      <td>378.0</td>\n",
       "      <td>13753931.0</td>\n",
       "      <td>Drama|History|War</td>\n",
       "      <td>...</td>\n",
       "      <td>316.0</td>\n",
       "      <td>Japanese</td>\n",
       "      <td>USA</td>\n",
       "      <td>R</td>\n",
       "      <td>19000000.0</td>\n",
       "      <td>2006.0</td>\n",
       "      <td>85.0</td>\n",
       "      <td>7.9</td>\n",
       "      <td>2.35</td>\n",
       "      <td>5000</td>\n",
       "    </tr>\n",
       "    <tr>\n",
       "      <th>3540</th>\n",
       "      <td>Color</td>\n",
       "      <td>Clint Eastwood</td>\n",
       "      <td>38.0</td>\n",
       "      <td>115.0</td>\n",
       "      <td>16000.0</td>\n",
       "      <td>240.0</td>\n",
       "      <td>Chris Penn</td>\n",
       "      <td>16000.0</td>\n",
       "      <td>41400000.0</td>\n",
       "      <td>Western</td>\n",
       "      <td>...</td>\n",
       "      <td>138.0</td>\n",
       "      <td>English</td>\n",
       "      <td>USA</td>\n",
       "      <td>R</td>\n",
       "      <td>6900000.0</td>\n",
       "      <td>1985.0</td>\n",
       "      <td>455.0</td>\n",
       "      <td>7.3</td>\n",
       "      <td>2.35</td>\n",
       "      <td>0</td>\n",
       "    </tr>\n",
       "    <tr>\n",
       "      <th>3673</th>\n",
       "      <td>Color</td>\n",
       "      <td>Clint Eastwood</td>\n",
       "      <td>72.0</td>\n",
       "      <td>105.0</td>\n",
       "      <td>16000.0</td>\n",
       "      <td>258.0</td>\n",
       "      <td>Richard Bull</td>\n",
       "      <td>16000.0</td>\n",
       "      <td>NaN</td>\n",
       "      <td>Mystery|Western</td>\n",
       "      <td>...</td>\n",
       "      <td>169.0</td>\n",
       "      <td>English</td>\n",
       "      <td>USA</td>\n",
       "      <td>R</td>\n",
       "      <td>5500000.0</td>\n",
       "      <td>1973.0</td>\n",
       "      <td>742.0</td>\n",
       "      <td>7.6</td>\n",
       "      <td>2.35</td>\n",
       "      <td>0</td>\n",
       "    </tr>\n",
       "  </tbody>\n",
       "</table>\n",
       "<p>20 rows × 28 columns</p>\n",
       "</div>"
      ],
      "text/plain": [
       "                 color   director_name  num_critic_for_reviews  duration  \\\n",
       "664    Black and White  Clint Eastwood                   169.0     130.0   \n",
       "772              Color  Clint Eastwood                   306.0     134.0   \n",
       "814              Color  Clint Eastwood                   490.0     133.0   \n",
       "877              Color  Clint Eastwood                   264.0     141.0   \n",
       "906              Color  Clint Eastwood                   279.0     135.0   \n",
       "973              Color  Clint Eastwood                    76.0     121.0   \n",
       "997              Color  Clint Eastwood                   315.0     129.0   \n",
       "1004             Color  Clint Eastwood                   146.0     110.0   \n",
       "1245             Color  Clint Eastwood                   249.0     134.0   \n",
       "1453             Color  Clint Eastwood                   392.0     137.0   \n",
       "1462             Color  Clint Eastwood                    91.0     155.0   \n",
       "1603             Color  Clint Eastwood                   229.0     138.0   \n",
       "1604             Color  Clint Eastwood                   268.0     132.0   \n",
       "1869             Color  Clint Eastwood                   366.0     116.0   \n",
       "2086             Color  Clint Eastwood                    69.0     135.0   \n",
       "2132             Color  Clint Eastwood                    43.0     136.0   \n",
       "2760             Color  Clint Eastwood                   131.0     131.0   \n",
       "2863             Color  Clint Eastwood                   251.0     141.0   \n",
       "3540             Color  Clint Eastwood                    38.0     115.0   \n",
       "3673             Color  Clint Eastwood                    72.0     105.0   \n",
       "\n",
       "      director_facebook_likes  actor_3_facebook_likes         actor_2_name  \\\n",
       "664                   16000.0                   416.0    Courtney B. Vance   \n",
       "772                   16000.0                   204.0       Morgan Freeman   \n",
       "814                   16000.0                   318.0      Leonard Roberts   \n",
       "877                   16000.0                   539.0        Michael Kelly   \n",
       "906                   16000.0                   310.0          Chris Bauer   \n",
       "973                   16000.0                   826.0        Mark Margolis   \n",
       "997                   16000.0                   447.0             Jay Mohr   \n",
       "1004                  16000.0                   581.0      Anjelica Huston   \n",
       "1245                  16000.0                   235.0      Steve Schirripa   \n",
       "1453                  16000.0                   363.0          Naomi Watts   \n",
       "1462                  16000.0                   229.0           Bob Gunton   \n",
       "1603                  16000.0                   262.0  Spencer Treat Clark   \n",
       "1604                  16000.0                   567.0       Morgan Freeman   \n",
       "1869                  16000.0                   198.0        Dreama Walker   \n",
       "2086                  16000.0                    86.0         Meryl Streep   \n",
       "2132                  16000.0                   216.0        Warren Clarke   \n",
       "2760                  16000.0                   638.0       Morgan Freeman   \n",
       "2863                  16000.0                    78.0    Kazunari Ninomiya   \n",
       "3540                  16000.0                   240.0           Chris Penn   \n",
       "3673                  16000.0                   258.0         Richard Bull   \n",
       "\n",
       "      actor_1_facebook_likes        gross  \\\n",
       "664                  16000.0   90454043.0   \n",
       "772                  13000.0   37479778.0   \n",
       "814                  14000.0  350123553.0   \n",
       "877                  11000.0   35707327.0   \n",
       "906                  23000.0   33574332.0   \n",
       "973                  16000.0   50007168.0   \n",
       "997                  13000.0   32741596.0   \n",
       "1004                 16000.0   26199517.0   \n",
       "1245                   880.0   47034272.0   \n",
       "1453                 29000.0   37304950.0   \n",
       "1462                 18000.0   25078937.0   \n",
       "1603                   616.0   90135191.0   \n",
       "1604                 16000.0  100422786.0   \n",
       "1869                 16000.0  148085755.0   \n",
       "2086                 16000.0   70960517.0   \n",
       "2132                 16000.0   46700000.0   \n",
       "2760                 16000.0  101157447.0   \n",
       "2863                   378.0   13753931.0   \n",
       "3540                 16000.0   41400000.0   \n",
       "3673                 16000.0          NaN   \n",
       "\n",
       "                                           genres         ...           \\\n",
       "664                     Action|Adventure|Thriller         ...            \n",
       "772                 Biography|Drama|History|Sport         ...            \n",
       "814   Action|Biography|Drama|History|Thriller|War         ...            \n",
       "877                  Crime|Drama|Mystery|Thriller         ...            \n",
       "906                             Drama|History|War         ...            \n",
       "973                   Action|Crime|Drama|Thriller         ...            \n",
       "997                                 Drama|Fantasy         ...            \n",
       "1004          Action|Crime|Drama|Mystery|Thriller         ...            \n",
       "1245                Biography|Drama|Music|Musical         ...            \n",
       "1453                        Biography|Crime|Drama         ...            \n",
       "1462                 Crime|Drama|Mystery|Thriller         ...            \n",
       "1603                 Crime|Drama|Mystery|Thriller         ...            \n",
       "1604                                  Drama|Sport         ...            \n",
       "1869                                        Drama         ...            \n",
       "2086                                Drama|Romance         ...            \n",
       "2132                    Action|Adventure|Thriller         ...            \n",
       "2760                                Drama|Western         ...            \n",
       "2863                            Drama|History|War         ...            \n",
       "3540                                      Western         ...            \n",
       "3673                              Mystery|Western         ...            \n",
       "\n",
       "     num_user_for_reviews  language  country  content_rating      budget  \\\n",
       "664                 326.0   English      USA           PG-13  65000000.0   \n",
       "772                 259.0   English      USA           PG-13  60000000.0   \n",
       "814                 916.0   English      USA               R  58800000.0   \n",
       "877                 387.0   English      USA               R  55000000.0   \n",
       "906                 415.0   English      USA               R  90000000.0   \n",
       "973                 142.0   English      USA               R  50000000.0   \n",
       "997                 323.0   English      USA           PG-13  50000000.0   \n",
       "1004                260.0   English      USA               R  50000000.0   \n",
       "1245                190.0   English      USA               R  40000000.0   \n",
       "1453                279.0   English      USA               R  35000000.0   \n",
       "1462                216.0   English      USA               R  30000000.0   \n",
       "1603                935.0   English      USA               R  25000000.0   \n",
       "1604               1106.0   English      USA           PG-13  30000000.0   \n",
       "1869                871.0   English      USA               R  33000000.0   \n",
       "2086                192.0   English      USA           PG-13  35000000.0   \n",
       "2132                 98.0   English      USA              PG  21000000.0   \n",
       "2760                495.0   English      USA               R  14400000.0   \n",
       "2863                316.0  Japanese      USA               R  19000000.0   \n",
       "3540                138.0   English      USA               R   6900000.0   \n",
       "3673                169.0   English      USA               R   5500000.0   \n",
       "\n",
       "      title_year actor_2_facebook_likes imdb_score  aspect_ratio  \\\n",
       "664       2000.0                  495.0        6.4          2.35   \n",
       "772       2009.0                11000.0        7.4          2.35   \n",
       "814       2014.0                  962.0        7.3          2.35   \n",
       "877       2008.0                  963.0        7.8          2.35   \n",
       "906       2006.0                  638.0        7.1          2.35   \n",
       "973       1997.0                 1000.0        6.7          2.35   \n",
       "997       2010.0                  563.0        6.5          2.35   \n",
       "1004      2002.0                 1000.0        6.4          2.35   \n",
       "1245      2014.0                  413.0        6.9          2.35   \n",
       "1453      2011.0                 6000.0        6.6          2.35   \n",
       "1462      1997.0                  461.0        6.6          1.85   \n",
       "1603      2003.0                  541.0        8.0          2.35   \n",
       "1604      2004.0                11000.0        8.1          2.35   \n",
       "1869      2008.0                  601.0        8.2          2.35   \n",
       "2086      1995.0                11000.0        7.5          1.85   \n",
       "2132      1982.0                  281.0        5.9          2.35   \n",
       "2760      1992.0                11000.0        8.3          2.35   \n",
       "2863      2006.0                   85.0        7.9          2.35   \n",
       "3540      1985.0                  455.0        7.3          2.35   \n",
       "3673      1973.0                  742.0        7.6          2.35   \n",
       "\n",
       "     movie_facebook_likes  \n",
       "664                     0  \n",
       "772                 23000  \n",
       "814                112000  \n",
       "877                 14000  \n",
       "906                     0  \n",
       "973                  1000  \n",
       "997                 16000  \n",
       "1004                  705  \n",
       "1245                16000  \n",
       "1453                16000  \n",
       "1462                    0  \n",
       "1603                12000  \n",
       "1604                14000  \n",
       "1869                28000  \n",
       "2086                    0  \n",
       "2132                    0  \n",
       "2760                10000  \n",
       "2863                 5000  \n",
       "3540                    0  \n",
       "3673                    0  \n",
       "\n",
       "[20 rows x 28 columns]"
      ]
     },
     "execution_count": 36,
     "metadata": {},
     "output_type": "execute_result"
    }
   ],
   "source": [
    "# Solution 1\n",
    "\n",
    "movies[movies['director_name'] == \"Clint Eastwood\"]"
   ]
  },
  {
   "cell_type": "code",
   "execution_count": 37,
   "metadata": {
    "collapsed": false
   },
   "outputs": [
    {
     "data": {
      "text/plain": [
       "0               Avatar \n",
       "17        The Avengers \n",
       "26             Titanic \n",
       "29      Jurassic World \n",
       "66     The Dark Knight \n",
       "794       The Avengers \n",
       "Name: movie_title, dtype: object"
      ]
     },
     "execution_count": 37,
     "metadata": {},
     "output_type": "execute_result"
    }
   ],
   "source": [
    "# Solution 2\n",
    "\n",
    "movies[movies['gross'] > 500e6]['movie_title']"
   ]
  },
  {
   "cell_type": "code",
   "execution_count": 38,
   "metadata": {
    "collapsed": false
   },
   "outputs": [
    {
     "data": {
      "text/plain": [
       "2824       Dekalog             \n",
       "2828    The Border             \n",
       "3207       Dekalog             \n",
       "4170                       Ida \n",
       "Name: movie_title, dtype: object"
      ]
     },
     "execution_count": 38,
     "metadata": {},
     "output_type": "execute_result"
    }
   ],
   "source": [
    "# Solution 3\n",
    "\n",
    "movies[movies['language'] == 'Polish']['movie_title']"
   ]
  },
  {
   "cell_type": "code",
   "execution_count": 39,
   "metadata": {
    "collapsed": false
   },
   "outputs": [
    {
     "data": {
      "text/plain": [
       "0.9547888161808448"
      ]
     },
     "execution_count": 39,
     "metadata": {},
     "output_type": "execute_result"
    }
   ],
   "source": [
    "# Solution 4\n",
    "\n",
    "movies[movies['color'] == 'Color'].shape[0] / float(movies.shape[0])"
   ]
  },
  {
   "cell_type": "code",
   "execution_count": 40,
   "metadata": {
    "collapsed": false
   },
   "outputs": [
    {
     "data": {
      "text/plain": [
       "96                  Interstellar \n",
       "97                     Inception \n",
       "1937    The Shawshank Redemption \n",
       "Name: movie_title, dtype: object"
      ]
     },
     "execution_count": 40,
     "metadata": {},
     "output_type": "execute_result"
    }
   ],
   "source": [
    "# Solution 5\n",
    "\n",
    "movies[\n",
    "    (movies['movie_facebook_likes'] > 100000) &\n",
    "    (movies['imdb_score'] > 8.5)\n",
    "]['movie_title']"
   ]
  },
  {
   "cell_type": "code",
   "execution_count": 41,
   "metadata": {
    "collapsed": false
   },
   "outputs": [
    {
     "data": {
      "text/plain": [
       "45             Furious 7 \n",
       "235             Oblivion \n",
       "299    The Expendables 2 \n",
       "317    The Expendables 3 \n",
       "367              Ben-Hur \n",
       "Name: movie_title, dtype: object"
      ]
     },
     "execution_count": 41,
     "metadata": {},
     "output_type": "execute_result"
    }
   ],
   "source": [
    "# Solution 6\n",
    "\n",
    "brutals = [\"Jason Statham\", \"Sylvester Stallone\"]\n",
    "god = \"Morgan Freeman\"\n",
    "\n",
    "movies[\n",
    "    (movies['actor_1_name'].isin(brutals)) |\n",
    "    (movies['actor_1_name'] == god) \n",
    "]['movie_title'].head()"
   ]
  },
  {
   "cell_type": "markdown",
   "metadata": {
    "collapsed": true
   },
   "source": [
    "## I/O part O"
   ]
  },
  {
   "cell_type": "code",
   "execution_count": 42,
   "metadata": {
    "collapsed": false
   },
   "outputs": [
    {
     "data": {
      "text/plain": [
       "array([['Batman', 400],\n",
       "       ['Robin', 200],\n",
       "       ['Spiderman', 300],\n",
       "       ['Robocop', 400],\n",
       "       ['Terminator', 500]], dtype=object)"
      ]
     },
     "execution_count": 42,
     "metadata": {},
     "output_type": "execute_result"
    }
   ],
   "source": [
    "heroes.values"
   ]
  },
  {
   "cell_type": "code",
   "execution_count": 43,
   "metadata": {
    "collapsed": false
   },
   "outputs": [
    {
     "data": {
      "text/plain": [
       "{'hero': {0: 'Batman',\n",
       "  1: 'Robin',\n",
       "  2: 'Spiderman',\n",
       "  3: 'Robocop',\n",
       "  4: 'Terminator'},\n",
       " 'strength': {0: 400, 1: 200, 2: 300, 3: 400, 4: 500}}"
      ]
     },
     "execution_count": 43,
     "metadata": {},
     "output_type": "execute_result"
    }
   ],
   "source": [
    "heroes.to_dict()"
   ]
  },
  {
   "cell_type": "code",
   "execution_count": 44,
   "metadata": {
    "collapsed": false
   },
   "outputs": [
    {
     "data": {
      "text/plain": [
       "[{'hero': 'Batman', 'strength': 400},\n",
       " {'hero': 'Robin', 'strength': 200},\n",
       " {'hero': 'Spiderman', 'strength': 300},\n",
       " {'hero': 'Robocop', 'strength': 400},\n",
       " {'hero': 'Terminator', 'strength': 500}]"
      ]
     },
     "execution_count": 44,
     "metadata": {},
     "output_type": "execute_result"
    }
   ],
   "source": [
    "heroes.to_dict('records')"
   ]
  },
  {
   "cell_type": "code",
   "execution_count": 45,
   "metadata": {
    "collapsed": false
   },
   "outputs": [
    {
     "name": "stdout",
     "output_type": "stream",
     "text": [
      "{\"hero\":{\"0\":\"Batman\",\"1\":\"Robin\",\"2\":\"Spiderman\",\"3\":\"Robocop\",\"4\":\"Terminator\"},\"strength\":{\"0\":400,\"1\":200,\"2\":300,\"3\":400,\"4\":500}}\n"
     ]
    }
   ],
   "source": [
    "print heroes.to_json()"
   ]
  },
  {
   "cell_type": "code",
   "execution_count": 46,
   "metadata": {
    "collapsed": false
   },
   "outputs": [
    {
     "name": "stdout",
     "output_type": "stream",
     "text": [
      "[{\"hero\":\"Batman\",\"strength\":400},{\"hero\":\"Robin\",\"strength\":200},{\"hero\":\"Spiderman\",\"strength\":300},{\"hero\":\"Robocop\",\"strength\":400},{\"hero\":\"Terminator\",\"strength\":500}]\n"
     ]
    }
   ],
   "source": [
    "print heroes.to_json(orient='records')"
   ]
  },
  {
   "cell_type": "code",
   "execution_count": 47,
   "metadata": {
    "collapsed": false
   },
   "outputs": [
    {
     "name": "stdout",
     "output_type": "stream",
     "text": [
      ",hero,strength\n",
      "0,Batman,400\n",
      "1,Robin,200\n",
      "2,Spiderman,300\n",
      "3,Robocop,400\n",
      "4,Terminator,500\n",
      "\n"
     ]
    }
   ],
   "source": [
    "print heroes.to_csv()"
   ]
  },
  {
   "cell_type": "code",
   "execution_count": 48,
   "metadata": {
    "collapsed": false
   },
   "outputs": [
    {
     "name": "stdout",
     "output_type": "stream",
     "text": [
      "hero,strength\n",
      "Batman,400\n",
      "Robin,200\n",
      "Spiderman,300\n",
      "Robocop,400\n",
      "Terminator,500\n",
      "\n"
     ]
    }
   ],
   "source": [
    "print heroes.to_csv(index=False)"
   ]
  },
  {
   "cell_type": "markdown",
   "metadata": {},
   "source": [
    "### EXERCISE\n",
    "\n",
    "1. Create a csv with movie titles and cast (actors) of movies with budget above $200m\n",
    "2. Create a list of dicts with movie titles and facebook likes of all Christopher Nolan's movies"
   ]
  },
  {
   "cell_type": "code",
   "execution_count": 58,
   "metadata": {
    "collapsed": false
   },
   "outputs": [
    {
     "data": {
      "text/plain": [
       "Index([u'color', u'director_name', u'num_critic_for_reviews', u'duration',\n",
       "       u'director_facebook_likes', u'actor_3_facebook_likes', u'actor_2_name',\n",
       "       u'actor_1_facebook_likes', u'gross', u'genres', u'actor_1_name',\n",
       "       u'movie_title', u'num_voted_users', u'cast_total_facebook_likes',\n",
       "       u'actor_3_name', u'facenumber_in_poster', u'plot_keywords',\n",
       "       u'movie_imdb_link', u'num_user_for_reviews', u'language', u'country',\n",
       "       u'content_rating', u'budget', u'title_year', u'actor_2_facebook_likes',\n",
       "       u'imdb_score', u'aspect_ratio', u'movie_facebook_likes'],\n",
       "      dtype='object')"
      ]
     },
     "execution_count": 58,
     "metadata": {},
     "output_type": "execute_result"
    }
   ],
   "source": [
    "movies.columns"
   ]
  },
  {
   "cell_type": "code",
   "execution_count": 59,
   "metadata": {
    "collapsed": false
   },
   "outputs": [],
   "source": [
    "# Solution 1\n",
    "cols = [\n",
    "    'movie_title',\n",
    "    'actor_1_name',\n",
    "    'actor_2_name',\n",
    "    'actor_3_name', \n",
    "    'budget'\n",
    "]\n",
    "\n",
    "movies[movies['budget'] > 200e6][cols].to_csv(\"data/expensive-cast.csv\", index=False)"
   ]
  },
  {
   "cell_type": "code",
   "execution_count": 62,
   "metadata": {
    "collapsed": false
   },
   "outputs": [
    {
     "data": {
      "text/plain": [
       "[{'movie_facebook_likes': 164000,\n",
       "  'movie_title': 'The Dark Knight Rises\\xc2\\xa0'},\n",
       " {'movie_facebook_likes': 37000, 'movie_title': 'The Dark Knight\\xc2\\xa0'},\n",
       " {'movie_facebook_likes': 349000, 'movie_title': 'Interstellar\\xc2\\xa0'},\n",
       " {'movie_facebook_likes': 175000, 'movie_title': 'Inception\\xc2\\xa0'},\n",
       " {'movie_facebook_likes': 15000, 'movie_title': 'Batman Begins\\xc2\\xa0'},\n",
       " {'movie_facebook_likes': 0, 'movie_title': 'Insomnia\\xc2\\xa0'},\n",
       " {'movie_facebook_likes': 49000, 'movie_title': 'The Prestige\\xc2\\xa0'},\n",
       " {'movie_facebook_likes': 40000, 'movie_title': 'Memento\\xc2\\xa0'}]"
      ]
     },
     "execution_count": 62,
     "metadata": {},
     "output_type": "execute_result"
    }
   ],
   "source": [
    "# Solution 2\n",
    "\n",
    "cols = [\n",
    "    'movie_title',\n",
    "    'movie_facebook_likes'\n",
    "]\n",
    "\n",
    "movies[movies['director_name'] == 'Christopher Nolan'][cols].to_dict('r')"
   ]
  },
  {
   "cell_type": "markdown",
   "metadata": {},
   "source": [
    "## New columns"
   ]
  },
  {
   "cell_type": "code",
   "execution_count": 23,
   "metadata": {
    "collapsed": false
   },
   "outputs": [
    {
     "data": {
      "text/html": [
       "<div>\n",
       "<table border=\"1\" class=\"dataframe\">\n",
       "  <thead>\n",
       "    <tr style=\"text-align: right;\">\n",
       "      <th></th>\n",
       "      <th>hero</th>\n",
       "      <th>strength</th>\n",
       "    </tr>\n",
       "  </thead>\n",
       "  <tbody>\n",
       "    <tr>\n",
       "      <th>0</th>\n",
       "      <td>Batman</td>\n",
       "      <td>400</td>\n",
       "    </tr>\n",
       "    <tr>\n",
       "      <th>1</th>\n",
       "      <td>Robin</td>\n",
       "      <td>200</td>\n",
       "    </tr>\n",
       "    <tr>\n",
       "      <th>2</th>\n",
       "      <td>Spiderman</td>\n",
       "      <td>300</td>\n",
       "    </tr>\n",
       "    <tr>\n",
       "      <th>3</th>\n",
       "      <td>Robocop</td>\n",
       "      <td>400</td>\n",
       "    </tr>\n",
       "    <tr>\n",
       "      <th>4</th>\n",
       "      <td>Terminator</td>\n",
       "      <td>500</td>\n",
       "    </tr>\n",
       "  </tbody>\n",
       "</table>\n",
       "</div>"
      ],
      "text/plain": [
       "         hero  strength\n",
       "0      Batman       400\n",
       "1       Robin       200\n",
       "2   Spiderman       300\n",
       "3     Robocop       400\n",
       "4  Terminator       500"
      ]
     },
     "execution_count": 23,
     "metadata": {},
     "output_type": "execute_result"
    }
   ],
   "source": [
    "heroes"
   ]
  },
  {
   "cell_type": "code",
   "execution_count": 25,
   "metadata": {
    "collapsed": false
   },
   "outputs": [
    {
     "data": {
      "text/html": [
       "<div>\n",
       "<table border=\"1\" class=\"dataframe\">\n",
       "  <thead>\n",
       "    <tr style=\"text-align: right;\">\n",
       "      <th></th>\n",
       "      <th>hero</th>\n",
       "      <th>strength</th>\n",
       "      <th>health</th>\n",
       "    </tr>\n",
       "  </thead>\n",
       "  <tbody>\n",
       "    <tr>\n",
       "      <th>0</th>\n",
       "      <td>Batman</td>\n",
       "      <td>400</td>\n",
       "      <td>100</td>\n",
       "    </tr>\n",
       "    <tr>\n",
       "      <th>1</th>\n",
       "      <td>Robin</td>\n",
       "      <td>200</td>\n",
       "      <td>100</td>\n",
       "    </tr>\n",
       "    <tr>\n",
       "      <th>2</th>\n",
       "      <td>Spiderman</td>\n",
       "      <td>300</td>\n",
       "      <td>100</td>\n",
       "    </tr>\n",
       "    <tr>\n",
       "      <th>3</th>\n",
       "      <td>Robocop</td>\n",
       "      <td>400</td>\n",
       "      <td>100</td>\n",
       "    </tr>\n",
       "    <tr>\n",
       "      <th>4</th>\n",
       "      <td>Terminator</td>\n",
       "      <td>500</td>\n",
       "      <td>100</td>\n",
       "    </tr>\n",
       "  </tbody>\n",
       "</table>\n",
       "</div>"
      ],
      "text/plain": [
       "         hero  strength  health\n",
       "0      Batman       400     100\n",
       "1       Robin       200     100\n",
       "2   Spiderman       300     100\n",
       "3     Robocop       400     100\n",
       "4  Terminator       500     100"
      ]
     },
     "execution_count": 25,
     "metadata": {},
     "output_type": "execute_result"
    }
   ],
   "source": [
    "heroes['health'] = 100\n",
    "heroes.head()"
   ]
  },
  {
   "cell_type": "code",
   "execution_count": 27,
   "metadata": {
    "collapsed": false
   },
   "outputs": [
    {
     "data": {
      "text/html": [
       "<div>\n",
       "<table border=\"1\" class=\"dataframe\">\n",
       "  <thead>\n",
       "    <tr style=\"text-align: right;\">\n",
       "      <th></th>\n",
       "      <th>hero</th>\n",
       "      <th>strength</th>\n",
       "      <th>health</th>\n",
       "      <th>height</th>\n",
       "    </tr>\n",
       "  </thead>\n",
       "  <tbody>\n",
       "    <tr>\n",
       "      <th>0</th>\n",
       "      <td>Batman</td>\n",
       "      <td>400</td>\n",
       "      <td>100</td>\n",
       "      <td>180</td>\n",
       "    </tr>\n",
       "    <tr>\n",
       "      <th>1</th>\n",
       "      <td>Robin</td>\n",
       "      <td>200</td>\n",
       "      <td>100</td>\n",
       "      <td>170</td>\n",
       "    </tr>\n",
       "    <tr>\n",
       "      <th>2</th>\n",
       "      <td>Spiderman</td>\n",
       "      <td>300</td>\n",
       "      <td>100</td>\n",
       "      <td>175</td>\n",
       "    </tr>\n",
       "    <tr>\n",
       "      <th>3</th>\n",
       "      <td>Robocop</td>\n",
       "      <td>400</td>\n",
       "      <td>100</td>\n",
       "      <td>190</td>\n",
       "    </tr>\n",
       "    <tr>\n",
       "      <th>4</th>\n",
       "      <td>Terminator</td>\n",
       "      <td>500</td>\n",
       "      <td>100</td>\n",
       "      <td>185</td>\n",
       "    </tr>\n",
       "  </tbody>\n",
       "</table>\n",
       "</div>"
      ],
      "text/plain": [
       "         hero  strength  health  height\n",
       "0      Batman       400     100     180\n",
       "1       Robin       200     100     170\n",
       "2   Spiderman       300     100     175\n",
       "3     Robocop       400     100     190\n",
       "4  Terminator       500     100     185"
      ]
     },
     "execution_count": 27,
     "metadata": {},
     "output_type": "execute_result"
    }
   ],
   "source": [
    "heroes['height'] = [180, 170, 175, 190, 185]\n",
    "heroes"
   ]
  },
  {
   "cell_type": "code",
   "execution_count": 29,
   "metadata": {
    "collapsed": false
   },
   "outputs": [
    {
     "data": {
      "text/html": [
       "<div>\n",
       "<table border=\"1\" class=\"dataframe\">\n",
       "  <thead>\n",
       "    <tr style=\"text-align: right;\">\n",
       "      <th></th>\n",
       "      <th>hero</th>\n",
       "      <th>strength</th>\n",
       "      <th>health</th>\n",
       "      <th>height</th>\n",
       "      <th>is_hungry</th>\n",
       "    </tr>\n",
       "  </thead>\n",
       "  <tbody>\n",
       "    <tr>\n",
       "      <th>0</th>\n",
       "      <td>Batman</td>\n",
       "      <td>400</td>\n",
       "      <td>100</td>\n",
       "      <td>180</td>\n",
       "      <td>True</td>\n",
       "    </tr>\n",
       "    <tr>\n",
       "      <th>1</th>\n",
       "      <td>Robin</td>\n",
       "      <td>200</td>\n",
       "      <td>100</td>\n",
       "      <td>170</td>\n",
       "      <td>False</td>\n",
       "    </tr>\n",
       "    <tr>\n",
       "      <th>2</th>\n",
       "      <td>Spiderman</td>\n",
       "      <td>300</td>\n",
       "      <td>100</td>\n",
       "      <td>175</td>\n",
       "      <td>False</td>\n",
       "    </tr>\n",
       "    <tr>\n",
       "      <th>3</th>\n",
       "      <td>Robocop</td>\n",
       "      <td>400</td>\n",
       "      <td>100</td>\n",
       "      <td>190</td>\n",
       "      <td>True</td>\n",
       "    </tr>\n",
       "    <tr>\n",
       "      <th>4</th>\n",
       "      <td>Terminator</td>\n",
       "      <td>500</td>\n",
       "      <td>100</td>\n",
       "      <td>185</td>\n",
       "      <td>True</td>\n",
       "    </tr>\n",
       "  </tbody>\n",
       "</table>\n",
       "</div>"
      ],
      "text/plain": [
       "         hero  strength  health  height is_hungry\n",
       "0      Batman       400     100     180      True\n",
       "1       Robin       200     100     170     False\n",
       "2   Spiderman       300     100     175     False\n",
       "3     Robocop       400     100     190      True\n",
       "4  Terminator       500     100     185      True"
      ]
     },
     "execution_count": 29,
     "metadata": {},
     "output_type": "execute_result"
    }
   ],
   "source": [
    "heroes['is_hungry'] = pd.Series([True, False, False, True, True])\n",
    "heroes"
   ]
  },
  {
   "cell_type": "code",
   "execution_count": 32,
   "metadata": {
    "collapsed": false
   },
   "outputs": [
    {
     "data": {
      "text/plain": [
       "0    2.222222\n",
       "1    1.176471\n",
       "2    1.714286\n",
       "3    2.105263\n",
       "4    2.702703\n",
       "dtype: float64"
      ]
     },
     "execution_count": 32,
     "metadata": {},
     "output_type": "execute_result"
    }
   ],
   "source": [
    "heroes['strength'] / heroes['height']"
   ]
  },
  {
   "cell_type": "code",
   "execution_count": 35,
   "metadata": {
    "collapsed": false
   },
   "outputs": [
    {
     "data": {
      "text/html": [
       "<div>\n",
       "<table border=\"1\" class=\"dataframe\">\n",
       "  <thead>\n",
       "    <tr style=\"text-align: right;\">\n",
       "      <th></th>\n",
       "      <th>hero</th>\n",
       "      <th>strength</th>\n",
       "      <th>health</th>\n",
       "      <th>height</th>\n",
       "      <th>is_hungry</th>\n",
       "      <th>strength_per_cm</th>\n",
       "    </tr>\n",
       "  </thead>\n",
       "  <tbody>\n",
       "    <tr>\n",
       "      <th>0</th>\n",
       "      <td>Batman</td>\n",
       "      <td>400</td>\n",
       "      <td>100</td>\n",
       "      <td>180</td>\n",
       "      <td>True</td>\n",
       "      <td>2.222222</td>\n",
       "    </tr>\n",
       "    <tr>\n",
       "      <th>1</th>\n",
       "      <td>Robin</td>\n",
       "      <td>200</td>\n",
       "      <td>100</td>\n",
       "      <td>170</td>\n",
       "      <td>False</td>\n",
       "      <td>1.176471</td>\n",
       "    </tr>\n",
       "    <tr>\n",
       "      <th>2</th>\n",
       "      <td>Spiderman</td>\n",
       "      <td>300</td>\n",
       "      <td>100</td>\n",
       "      <td>175</td>\n",
       "      <td>False</td>\n",
       "      <td>1.714286</td>\n",
       "    </tr>\n",
       "    <tr>\n",
       "      <th>3</th>\n",
       "      <td>Robocop</td>\n",
       "      <td>400</td>\n",
       "      <td>100</td>\n",
       "      <td>190</td>\n",
       "      <td>True</td>\n",
       "      <td>2.105263</td>\n",
       "    </tr>\n",
       "    <tr>\n",
       "      <th>4</th>\n",
       "      <td>Terminator</td>\n",
       "      <td>500</td>\n",
       "      <td>100</td>\n",
       "      <td>185</td>\n",
       "      <td>True</td>\n",
       "      <td>2.702703</td>\n",
       "    </tr>\n",
       "  </tbody>\n",
       "</table>\n",
       "</div>"
      ],
      "text/plain": [
       "         hero  strength  health  height is_hungry  strength_per_cm\n",
       "0      Batman       400     100     180      True         2.222222\n",
       "1       Robin       200     100     170     False         1.176471\n",
       "2   Spiderman       300     100     175     False         1.714286\n",
       "3     Robocop       400     100     190      True         2.105263\n",
       "4  Terminator       500     100     185      True         2.702703"
      ]
     },
     "execution_count": 35,
     "metadata": {},
     "output_type": "execute_result"
    }
   ],
   "source": [
    "heroes['strength_per_cm'] = heroes['strength'] / heroes['height']\n",
    "heroes"
   ]
  },
  {
   "cell_type": "code",
   "execution_count": 36,
   "metadata": {
    "collapsed": false
   },
   "outputs": [
    {
     "data": {
      "text/plain": [
       "0    Batman\n",
       "1     Robin\n",
       "dtype: object"
      ]
     },
     "execution_count": 36,
     "metadata": {},
     "output_type": "execute_result"
    }
   ],
   "source": [
    "pd.Series(['Batman', 'Robin']).map(lambda x: x)"
   ]
  },
  {
   "cell_type": "code",
   "execution_count": 38,
   "metadata": {
    "collapsed": false
   },
   "outputs": [
    {
     "data": {
      "text/plain": [
       "0    Ba\n",
       "1    Ro\n",
       "dtype: object"
      ]
     },
     "execution_count": 38,
     "metadata": {},
     "output_type": "execute_result"
    }
   ],
   "source": [
    "pd.Series(['Batman', 'Robin']).map(lambda x: x[:2])"
   ]
  },
  {
   "cell_type": "code",
   "execution_count": 40,
   "metadata": {
    "collapsed": false
   },
   "outputs": [
    {
     "data": {
      "text/html": [
       "<div>\n",
       "<table border=\"1\" class=\"dataframe\">\n",
       "  <thead>\n",
       "    <tr style=\"text-align: right;\">\n",
       "      <th></th>\n",
       "      <th>hero</th>\n",
       "      <th>strength</th>\n",
       "      <th>health</th>\n",
       "      <th>height</th>\n",
       "      <th>is_hungry</th>\n",
       "      <th>strength_per_cm</th>\n",
       "      <th>code</th>\n",
       "    </tr>\n",
       "  </thead>\n",
       "  <tbody>\n",
       "    <tr>\n",
       "      <th>0</th>\n",
       "      <td>Batman</td>\n",
       "      <td>400</td>\n",
       "      <td>100</td>\n",
       "      <td>180</td>\n",
       "      <td>True</td>\n",
       "      <td>2.222222</td>\n",
       "      <td>Ba</td>\n",
       "    </tr>\n",
       "    <tr>\n",
       "      <th>1</th>\n",
       "      <td>Robin</td>\n",
       "      <td>200</td>\n",
       "      <td>100</td>\n",
       "      <td>170</td>\n",
       "      <td>False</td>\n",
       "      <td>1.176471</td>\n",
       "      <td>Ro</td>\n",
       "    </tr>\n",
       "    <tr>\n",
       "      <th>2</th>\n",
       "      <td>Spiderman</td>\n",
       "      <td>300</td>\n",
       "      <td>100</td>\n",
       "      <td>175</td>\n",
       "      <td>False</td>\n",
       "      <td>1.714286</td>\n",
       "      <td>Sp</td>\n",
       "    </tr>\n",
       "    <tr>\n",
       "      <th>3</th>\n",
       "      <td>Robocop</td>\n",
       "      <td>400</td>\n",
       "      <td>100</td>\n",
       "      <td>190</td>\n",
       "      <td>True</td>\n",
       "      <td>2.105263</td>\n",
       "      <td>Ro</td>\n",
       "    </tr>\n",
       "    <tr>\n",
       "      <th>4</th>\n",
       "      <td>Terminator</td>\n",
       "      <td>500</td>\n",
       "      <td>100</td>\n",
       "      <td>185</td>\n",
       "      <td>True</td>\n",
       "      <td>2.702703</td>\n",
       "      <td>Te</td>\n",
       "    </tr>\n",
       "  </tbody>\n",
       "</table>\n",
       "</div>"
      ],
      "text/plain": [
       "         hero  strength  health  height is_hungry  strength_per_cm code\n",
       "0      Batman       400     100     180      True         2.222222   Ba\n",
       "1       Robin       200     100     170     False         1.176471   Ro\n",
       "2   Spiderman       300     100     175     False         1.714286   Sp\n",
       "3     Robocop       400     100     190      True         2.105263   Ro\n",
       "4  Terminator       500     100     185      True         2.702703   Te"
      ]
     },
     "execution_count": 40,
     "metadata": {},
     "output_type": "execute_result"
    }
   ],
   "source": [
    "heroes['code'] = heroes['hero'].map(lambda name: name[:2])\n",
    "heroes"
   ]
  },
  {
   "cell_type": "code",
   "execution_count": 41,
   "metadata": {
    "collapsed": false
   },
   "outputs": [
    {
     "data": {
      "text/plain": [
       "0        Batman\n",
       "1         Robin\n",
       "2     Spiderman\n",
       "3       Robocop\n",
       "4    Terminator\n",
       "Name: hero, dtype: object"
      ]
     },
     "execution_count": 41,
     "metadata": {},
     "output_type": "execute_result"
    }
   ],
   "source": [
    "heroes['hero'].apply(lambda x: x)"
   ]
  },
  {
   "cell_type": "code",
   "execution_count": 48,
   "metadata": {
    "collapsed": false
   },
   "outputs": [
    {
     "data": {
      "text/html": [
       "<div>\n",
       "<table border=\"1\" class=\"dataframe\">\n",
       "  <thead>\n",
       "    <tr style=\"text-align: right;\">\n",
       "      <th></th>\n",
       "      <th>hero</th>\n",
       "      <th>strength</th>\n",
       "      <th>health</th>\n",
       "      <th>height</th>\n",
       "      <th>is_hungry</th>\n",
       "      <th>strength_per_cm</th>\n",
       "      <th>code</th>\n",
       "    </tr>\n",
       "  </thead>\n",
       "  <tbody>\n",
       "    <tr>\n",
       "      <th>0</th>\n",
       "      <td>Batman</td>\n",
       "      <td>400</td>\n",
       "      <td>100</td>\n",
       "      <td>180</td>\n",
       "      <td>True</td>\n",
       "      <td>2.222222</td>\n",
       "      <td>Ba</td>\n",
       "    </tr>\n",
       "    <tr>\n",
       "      <th>1</th>\n",
       "      <td>Robin</td>\n",
       "      <td>200</td>\n",
       "      <td>100</td>\n",
       "      <td>170</td>\n",
       "      <td>False</td>\n",
       "      <td>1.176471</td>\n",
       "      <td>Ro</td>\n",
       "    </tr>\n",
       "    <tr>\n",
       "      <th>2</th>\n",
       "      <td>Spiderman</td>\n",
       "      <td>300</td>\n",
       "      <td>100</td>\n",
       "      <td>175</td>\n",
       "      <td>False</td>\n",
       "      <td>1.714286</td>\n",
       "      <td>Sp</td>\n",
       "    </tr>\n",
       "    <tr>\n",
       "      <th>3</th>\n",
       "      <td>Robocop</td>\n",
       "      <td>400</td>\n",
       "      <td>100</td>\n",
       "      <td>190</td>\n",
       "      <td>True</td>\n",
       "      <td>2.105263</td>\n",
       "      <td>Ro</td>\n",
       "    </tr>\n",
       "    <tr>\n",
       "      <th>4</th>\n",
       "      <td>Terminator</td>\n",
       "      <td>500</td>\n",
       "      <td>100</td>\n",
       "      <td>185</td>\n",
       "      <td>True</td>\n",
       "      <td>2.702703</td>\n",
       "      <td>Te</td>\n",
       "    </tr>\n",
       "  </tbody>\n",
       "</table>\n",
       "</div>"
      ],
      "text/plain": [
       "         hero  strength  health  height is_hungry  strength_per_cm code\n",
       "0      Batman       400     100     180      True         2.222222   Ba\n",
       "1       Robin       200     100     170     False         1.176471   Ro\n",
       "2   Spiderman       300     100     175     False         1.714286   Sp\n",
       "3     Robocop       400     100     190      True         2.105263   Ro\n",
       "4  Terminator       500     100     185      True         2.702703   Te"
      ]
     },
     "execution_count": 48,
     "metadata": {},
     "output_type": "execute_result"
    }
   ],
   "source": [
    "heroes.applymap(lambda x: x)"
   ]
  },
  {
   "cell_type": "code",
   "execution_count": 50,
   "metadata": {
    "collapsed": false
   },
   "outputs": [
    {
     "data": {
      "text/plain": [
       "400    2\n",
       "300    1\n",
       "500    1\n",
       "200    1\n",
       "Name: strength, dtype: int64"
      ]
     },
     "execution_count": 50,
     "metadata": {},
     "output_type": "execute_result"
    }
   ],
   "source": [
    "# EXTRA 1\n",
    "# TODO not sure where to place it. Maybe higher\n",
    "heroes['strength'].value_counts()"
   ]
  },
  {
   "cell_type": "code",
   "execution_count": 53,
   "metadata": {
    "collapsed": false
   },
   "outputs": [
    {
     "data": {
      "text/html": [
       "<div>\n",
       "<table border=\"1\" class=\"dataframe\">\n",
       "  <thead>\n",
       "    <tr style=\"text-align: right;\">\n",
       "      <th></th>\n",
       "      <th>hero</th>\n",
       "      <th>strength</th>\n",
       "      <th>health</th>\n",
       "      <th>height</th>\n",
       "      <th>is_hungry</th>\n",
       "      <th>strength_per_cm</th>\n",
       "      <th>code</th>\n",
       "    </tr>\n",
       "  </thead>\n",
       "  <tbody>\n",
       "    <tr>\n",
       "      <th>1</th>\n",
       "      <td>Robin</td>\n",
       "      <td>200</td>\n",
       "      <td>100</td>\n",
       "      <td>170</td>\n",
       "      <td>False</td>\n",
       "      <td>1.176471</td>\n",
       "      <td>Ro</td>\n",
       "    </tr>\n",
       "    <tr>\n",
       "      <th>2</th>\n",
       "      <td>Spiderman</td>\n",
       "      <td>300</td>\n",
       "      <td>100</td>\n",
       "      <td>175</td>\n",
       "      <td>False</td>\n",
       "      <td>1.714286</td>\n",
       "      <td>Sp</td>\n",
       "    </tr>\n",
       "    <tr>\n",
       "      <th>0</th>\n",
       "      <td>Batman</td>\n",
       "      <td>400</td>\n",
       "      <td>100</td>\n",
       "      <td>180</td>\n",
       "      <td>True</td>\n",
       "      <td>2.222222</td>\n",
       "      <td>Ba</td>\n",
       "    </tr>\n",
       "    <tr>\n",
       "      <th>3</th>\n",
       "      <td>Robocop</td>\n",
       "      <td>400</td>\n",
       "      <td>100</td>\n",
       "      <td>190</td>\n",
       "      <td>True</td>\n",
       "      <td>2.105263</td>\n",
       "      <td>Ro</td>\n",
       "    </tr>\n",
       "    <tr>\n",
       "      <th>4</th>\n",
       "      <td>Terminator</td>\n",
       "      <td>500</td>\n",
       "      <td>100</td>\n",
       "      <td>185</td>\n",
       "      <td>True</td>\n",
       "      <td>2.702703</td>\n",
       "      <td>Te</td>\n",
       "    </tr>\n",
       "  </tbody>\n",
       "</table>\n",
       "</div>"
      ],
      "text/plain": [
       "         hero  strength  health  height is_hungry  strength_per_cm code\n",
       "1       Robin       200     100     170     False         1.176471   Ro\n",
       "2   Spiderman       300     100     175     False         1.714286   Sp\n",
       "0      Batman       400     100     180      True         2.222222   Ba\n",
       "3     Robocop       400     100     190      True         2.105263   Ro\n",
       "4  Terminator       500     100     185      True         2.702703   Te"
      ]
     },
     "execution_count": 53,
     "metadata": {},
     "output_type": "execute_result"
    }
   ],
   "source": [
    "# EXTRA 2\n",
    "# TODO not sure where to place it. Maybe higher\n",
    "heroes.sort_values('strength')"
   ]
  },
  {
   "cell_type": "code",
   "execution_count": 55,
   "metadata": {
    "collapsed": false
   },
   "outputs": [
    {
     "data": {
      "text/html": [
       "<div>\n",
       "<table border=\"1\" class=\"dataframe\">\n",
       "  <thead>\n",
       "    <tr style=\"text-align: right;\">\n",
       "      <th></th>\n",
       "      <th>hero</th>\n",
       "      <th>strength</th>\n",
       "      <th>health</th>\n",
       "      <th>height</th>\n",
       "      <th>is_hungry</th>\n",
       "      <th>strength_per_cm</th>\n",
       "      <th>code</th>\n",
       "    </tr>\n",
       "  </thead>\n",
       "  <tbody>\n",
       "    <tr>\n",
       "      <th>0</th>\n",
       "      <td>Batman</td>\n",
       "      <td>400</td>\n",
       "      <td>100</td>\n",
       "      <td>180</td>\n",
       "      <td>True</td>\n",
       "      <td>2.222222</td>\n",
       "      <td>Ba</td>\n",
       "    </tr>\n",
       "    <tr>\n",
       "      <th>3</th>\n",
       "      <td>Robocop</td>\n",
       "      <td>400</td>\n",
       "      <td>100</td>\n",
       "      <td>190</td>\n",
       "      <td>True</td>\n",
       "      <td>2.105263</td>\n",
       "      <td>Ro</td>\n",
       "    </tr>\n",
       "    <tr>\n",
       "      <th>4</th>\n",
       "      <td>Terminator</td>\n",
       "      <td>500</td>\n",
       "      <td>100</td>\n",
       "      <td>185</td>\n",
       "      <td>True</td>\n",
       "      <td>2.702703</td>\n",
       "      <td>Te</td>\n",
       "    </tr>\n",
       "    <tr>\n",
       "      <th>1</th>\n",
       "      <td>Robin</td>\n",
       "      <td>200</td>\n",
       "      <td>100</td>\n",
       "      <td>170</td>\n",
       "      <td>False</td>\n",
       "      <td>1.176471</td>\n",
       "      <td>Ro</td>\n",
       "    </tr>\n",
       "    <tr>\n",
       "      <th>2</th>\n",
       "      <td>Spiderman</td>\n",
       "      <td>300</td>\n",
       "      <td>100</td>\n",
       "      <td>175</td>\n",
       "      <td>False</td>\n",
       "      <td>1.714286</td>\n",
       "      <td>Sp</td>\n",
       "    </tr>\n",
       "  </tbody>\n",
       "</table>\n",
       "</div>"
      ],
      "text/plain": [
       "         hero  strength  health  height is_hungry  strength_per_cm code\n",
       "0      Batman       400     100     180      True         2.222222   Ba\n",
       "3     Robocop       400     100     190      True         2.105263   Ro\n",
       "4  Terminator       500     100     185      True         2.702703   Te\n",
       "1       Robin       200     100     170     False         1.176471   Ro\n",
       "2   Spiderman       300     100     175     False         1.714286   Sp"
      ]
     },
     "execution_count": 55,
     "metadata": {},
     "output_type": "execute_result"
    }
   ],
   "source": [
    "# EXTRA 3\n",
    "# TODO not sure where to place it. Maybe higher, maybe later\n",
    "heroes.sort_values(['is_hungry', 'code'], ascending=[False, True])"
   ]
  },
  {
   "cell_type": "markdown",
   "metadata": {},
   "source": [
    "#### EXERCISE\n",
    "\n",
    "1. What are 10 most profitable movies?\n",
    "2. Create a column 'first_genre'. What is the distribution of values in this column?"
   ]
  },
  {
   "cell_type": "code",
   "execution_count": 57,
   "metadata": {
    "collapsed": false
   },
   "outputs": [
    {
     "data": {
      "text/html": [
       "<div>\n",
       "<table border=\"1\" class=\"dataframe\">\n",
       "  <thead>\n",
       "    <tr style=\"text-align: right;\">\n",
       "      <th></th>\n",
       "      <th>color</th>\n",
       "      <th>director_name</th>\n",
       "      <th>num_critic_for_reviews</th>\n",
       "      <th>duration</th>\n",
       "      <th>director_facebook_likes</th>\n",
       "      <th>actor_3_facebook_likes</th>\n",
       "      <th>actor_2_name</th>\n",
       "      <th>actor_1_facebook_likes</th>\n",
       "      <th>gross</th>\n",
       "      <th>genres</th>\n",
       "      <th>...</th>\n",
       "      <th>language</th>\n",
       "      <th>country</th>\n",
       "      <th>content_rating</th>\n",
       "      <th>budget</th>\n",
       "      <th>title_year</th>\n",
       "      <th>actor_2_facebook_likes</th>\n",
       "      <th>imdb_score</th>\n",
       "      <th>aspect_ratio</th>\n",
       "      <th>movie_facebook_likes</th>\n",
       "      <th>profitability</th>\n",
       "    </tr>\n",
       "  </thead>\n",
       "  <tbody>\n",
       "    <tr>\n",
       "      <th>4793</th>\n",
       "      <td>Color</td>\n",
       "      <td>Oren Peli</td>\n",
       "      <td>409.0</td>\n",
       "      <td>84.0</td>\n",
       "      <td>110.0</td>\n",
       "      <td>21.0</td>\n",
       "      <td>Ashley Palmer</td>\n",
       "      <td>189.0</td>\n",
       "      <td>107917283.0</td>\n",
       "      <td>Horror</td>\n",
       "      <td>...</td>\n",
       "      <td>English</td>\n",
       "      <td>USA</td>\n",
       "      <td>R</td>\n",
       "      <td>15000.0</td>\n",
       "      <td>2007.0</td>\n",
       "      <td>109.0</td>\n",
       "      <td>6.3</td>\n",
       "      <td>1.85</td>\n",
       "      <td>12000</td>\n",
       "      <td>7194.485533</td>\n",
       "    </tr>\n",
       "    <tr>\n",
       "      <th>4799</th>\n",
       "      <td>Color</td>\n",
       "      <td>Jonathan Caouette</td>\n",
       "      <td>72.0</td>\n",
       "      <td>88.0</td>\n",
       "      <td>20.0</td>\n",
       "      <td>0.0</td>\n",
       "      <td>Jonathan Caouette</td>\n",
       "      <td>58.0</td>\n",
       "      <td>592014.0</td>\n",
       "      <td>Biography|Documentary</td>\n",
       "      <td>...</td>\n",
       "      <td>English</td>\n",
       "      <td>USA</td>\n",
       "      <td>Unrated</td>\n",
       "      <td>218.0</td>\n",
       "      <td>2003.0</td>\n",
       "      <td>20.0</td>\n",
       "      <td>7.2</td>\n",
       "      <td>1.37</td>\n",
       "      <td>754</td>\n",
       "      <td>2715.660550</td>\n",
       "    </tr>\n",
       "    <tr>\n",
       "      <th>4707</th>\n",
       "      <td>Black and White</td>\n",
       "      <td>Daniel Myrick</td>\n",
       "      <td>360.0</td>\n",
       "      <td>81.0</td>\n",
       "      <td>19.0</td>\n",
       "      <td>39.0</td>\n",
       "      <td>Joshua Leonard</td>\n",
       "      <td>170.0</td>\n",
       "      <td>140530114.0</td>\n",
       "      <td>Horror</td>\n",
       "      <td>...</td>\n",
       "      <td>English</td>\n",
       "      <td>USA</td>\n",
       "      <td>R</td>\n",
       "      <td>60000.0</td>\n",
       "      <td>1999.0</td>\n",
       "      <td>170.0</td>\n",
       "      <td>6.4</td>\n",
       "      <td>1.33</td>\n",
       "      <td>0</td>\n",
       "      <td>2342.168567</td>\n",
       "    </tr>\n",
       "    <tr>\n",
       "      <th>4984</th>\n",
       "      <td>Color</td>\n",
       "      <td>Edward Burns</td>\n",
       "      <td>36.0</td>\n",
       "      <td>98.0</td>\n",
       "      <td>0.0</td>\n",
       "      <td>73.0</td>\n",
       "      <td>Michael McGlone</td>\n",
       "      <td>138.0</td>\n",
       "      <td>10246600.0</td>\n",
       "      <td>Comedy|Drama|Romance</td>\n",
       "      <td>...</td>\n",
       "      <td>English</td>\n",
       "      <td>USA</td>\n",
       "      <td>R</td>\n",
       "      <td>25000.0</td>\n",
       "      <td>1995.0</td>\n",
       "      <td>111.0</td>\n",
       "      <td>6.6</td>\n",
       "      <td>1.85</td>\n",
       "      <td>265</td>\n",
       "      <td>409.864000</td>\n",
       "    </tr>\n",
       "    <tr>\n",
       "      <th>4936</th>\n",
       "      <td>Color</td>\n",
       "      <td>Tobe Hooper</td>\n",
       "      <td>277.0</td>\n",
       "      <td>88.0</td>\n",
       "      <td>365.0</td>\n",
       "      <td>177.0</td>\n",
       "      <td>Edwin Neal</td>\n",
       "      <td>383.0</td>\n",
       "      <td>30859000.0</td>\n",
       "      <td>Horror|Thriller</td>\n",
       "      <td>...</td>\n",
       "      <td>English</td>\n",
       "      <td>USA</td>\n",
       "      <td>R</td>\n",
       "      <td>83532.0</td>\n",
       "      <td>1974.0</td>\n",
       "      <td>371.0</td>\n",
       "      <td>7.5</td>\n",
       "      <td>1.85</td>\n",
       "      <td>0</td>\n",
       "      <td>369.427285</td>\n",
       "    </tr>\n",
       "    <tr>\n",
       "      <th>3278</th>\n",
       "      <td>Color</td>\n",
       "      <td>Tobe Hooper</td>\n",
       "      <td>277.0</td>\n",
       "      <td>88.0</td>\n",
       "      <td>365.0</td>\n",
       "      <td>177.0</td>\n",
       "      <td>Edwin Neal</td>\n",
       "      <td>383.0</td>\n",
       "      <td>30859000.0</td>\n",
       "      <td>Horror|Thriller</td>\n",
       "      <td>...</td>\n",
       "      <td>English</td>\n",
       "      <td>USA</td>\n",
       "      <td>R</td>\n",
       "      <td>83532.0</td>\n",
       "      <td>1974.0</td>\n",
       "      <td>371.0</td>\n",
       "      <td>7.5</td>\n",
       "      <td>1.85</td>\n",
       "      <td>0</td>\n",
       "      <td>369.427285</td>\n",
       "    </tr>\n",
       "    <tr>\n",
       "      <th>5035</th>\n",
       "      <td>Color</td>\n",
       "      <td>Robert Rodriguez</td>\n",
       "      <td>56.0</td>\n",
       "      <td>81.0</td>\n",
       "      <td>0.0</td>\n",
       "      <td>6.0</td>\n",
       "      <td>Peter Marquardt</td>\n",
       "      <td>121.0</td>\n",
       "      <td>2040920.0</td>\n",
       "      <td>Action|Crime|Drama|Romance|Thriller</td>\n",
       "      <td>...</td>\n",
       "      <td>Spanish</td>\n",
       "      <td>USA</td>\n",
       "      <td>R</td>\n",
       "      <td>7000.0</td>\n",
       "      <td>1992.0</td>\n",
       "      <td>20.0</td>\n",
       "      <td>6.9</td>\n",
       "      <td>1.37</td>\n",
       "      <td>0</td>\n",
       "      <td>291.560000</td>\n",
       "    </tr>\n",
       "    <tr>\n",
       "      <th>4956</th>\n",
       "      <td>Color</td>\n",
       "      <td>Travis Cluff</td>\n",
       "      <td>159.0</td>\n",
       "      <td>81.0</td>\n",
       "      <td>3.0</td>\n",
       "      <td>7.0</td>\n",
       "      <td>Cassidy Gifford</td>\n",
       "      <td>220.0</td>\n",
       "      <td>22757819.0</td>\n",
       "      <td>Horror|Thriller</td>\n",
       "      <td>...</td>\n",
       "      <td>English</td>\n",
       "      <td>USA</td>\n",
       "      <td>R</td>\n",
       "      <td>100000.0</td>\n",
       "      <td>2015.0</td>\n",
       "      <td>40.0</td>\n",
       "      <td>4.2</td>\n",
       "      <td>1.85</td>\n",
       "      <td>0</td>\n",
       "      <td>227.578190</td>\n",
       "    </tr>\n",
       "    <tr>\n",
       "      <th>4977</th>\n",
       "      <td>Color</td>\n",
       "      <td>Morgan Spurlock</td>\n",
       "      <td>193.0</td>\n",
       "      <td>100.0</td>\n",
       "      <td>293.0</td>\n",
       "      <td>0.0</td>\n",
       "      <td>Amanda Kearsan</td>\n",
       "      <td>0.0</td>\n",
       "      <td>11529368.0</td>\n",
       "      <td>Comedy|Documentary|Drama</td>\n",
       "      <td>...</td>\n",
       "      <td>English</td>\n",
       "      <td>USA</td>\n",
       "      <td>PG</td>\n",
       "      <td>65000.0</td>\n",
       "      <td>2004.0</td>\n",
       "      <td>0.0</td>\n",
       "      <td>7.3</td>\n",
       "      <td>1.78</td>\n",
       "      <td>0</td>\n",
       "      <td>177.374892</td>\n",
       "    </tr>\n",
       "    <tr>\n",
       "      <th>2619</th>\n",
       "      <td>Color</td>\n",
       "      <td>John Carpenter</td>\n",
       "      <td>318.0</td>\n",
       "      <td>101.0</td>\n",
       "      <td>0.0</td>\n",
       "      <td>598.0</td>\n",
       "      <td>Donald Pleasence</td>\n",
       "      <td>2000.0</td>\n",
       "      <td>47000000.0</td>\n",
       "      <td>Horror|Thriller</td>\n",
       "      <td>...</td>\n",
       "      <td>English</td>\n",
       "      <td>USA</td>\n",
       "      <td>R</td>\n",
       "      <td>300000.0</td>\n",
       "      <td>1978.0</td>\n",
       "      <td>742.0</td>\n",
       "      <td>7.9</td>\n",
       "      <td>2.35</td>\n",
       "      <td>12000</td>\n",
       "      <td>156.666667</td>\n",
       "    </tr>\n",
       "  </tbody>\n",
       "</table>\n",
       "<p>10 rows × 29 columns</p>\n",
       "</div>"
      ],
      "text/plain": [
       "                 color      director_name  num_critic_for_reviews  duration  \\\n",
       "4793             Color          Oren Peli                   409.0      84.0   \n",
       "4799             Color  Jonathan Caouette                    72.0      88.0   \n",
       "4707   Black and White      Daniel Myrick                   360.0      81.0   \n",
       "4984             Color       Edward Burns                    36.0      98.0   \n",
       "4936             Color        Tobe Hooper                   277.0      88.0   \n",
       "3278             Color        Tobe Hooper                   277.0      88.0   \n",
       "5035             Color   Robert Rodriguez                    56.0      81.0   \n",
       "4956             Color       Travis Cluff                   159.0      81.0   \n",
       "4977             Color    Morgan Spurlock                   193.0     100.0   \n",
       "2619             Color     John Carpenter                   318.0     101.0   \n",
       "\n",
       "      director_facebook_likes  actor_3_facebook_likes       actor_2_name  \\\n",
       "4793                    110.0                    21.0      Ashley Palmer   \n",
       "4799                     20.0                     0.0  Jonathan Caouette   \n",
       "4707                     19.0                    39.0     Joshua Leonard   \n",
       "4984                      0.0                    73.0    Michael McGlone   \n",
       "4936                    365.0                   177.0         Edwin Neal   \n",
       "3278                    365.0                   177.0         Edwin Neal   \n",
       "5035                      0.0                     6.0    Peter Marquardt   \n",
       "4956                      3.0                     7.0    Cassidy Gifford   \n",
       "4977                    293.0                     0.0     Amanda Kearsan   \n",
       "2619                      0.0                   598.0   Donald Pleasence   \n",
       "\n",
       "      actor_1_facebook_likes        gross  \\\n",
       "4793                   189.0  107917283.0   \n",
       "4799                    58.0     592014.0   \n",
       "4707                   170.0  140530114.0   \n",
       "4984                   138.0   10246600.0   \n",
       "4936                   383.0   30859000.0   \n",
       "3278                   383.0   30859000.0   \n",
       "5035                   121.0    2040920.0   \n",
       "4956                   220.0   22757819.0   \n",
       "4977                     0.0   11529368.0   \n",
       "2619                  2000.0   47000000.0   \n",
       "\n",
       "                                   genres      ...      language country  \\\n",
       "4793                               Horror      ...       English     USA   \n",
       "4799                Biography|Documentary      ...       English     USA   \n",
       "4707                               Horror      ...       English     USA   \n",
       "4984                 Comedy|Drama|Romance      ...       English     USA   \n",
       "4936                      Horror|Thriller      ...       English     USA   \n",
       "3278                      Horror|Thriller      ...       English     USA   \n",
       "5035  Action|Crime|Drama|Romance|Thriller      ...       Spanish     USA   \n",
       "4956                      Horror|Thriller      ...       English     USA   \n",
       "4977             Comedy|Documentary|Drama      ...       English     USA   \n",
       "2619                      Horror|Thriller      ...       English     USA   \n",
       "\n",
       "      content_rating    budget title_year  actor_2_facebook_likes imdb_score  \\\n",
       "4793               R   15000.0     2007.0                   109.0        6.3   \n",
       "4799         Unrated     218.0     2003.0                    20.0        7.2   \n",
       "4707               R   60000.0     1999.0                   170.0        6.4   \n",
       "4984               R   25000.0     1995.0                   111.0        6.6   \n",
       "4936               R   83532.0     1974.0                   371.0        7.5   \n",
       "3278               R   83532.0     1974.0                   371.0        7.5   \n",
       "5035               R    7000.0     1992.0                    20.0        6.9   \n",
       "4956               R  100000.0     2015.0                    40.0        4.2   \n",
       "4977              PG   65000.0     2004.0                     0.0        7.3   \n",
       "2619               R  300000.0     1978.0                   742.0        7.9   \n",
       "\n",
       "     aspect_ratio  movie_facebook_likes profitability  \n",
       "4793         1.85                 12000   7194.485533  \n",
       "4799         1.37                   754   2715.660550  \n",
       "4707         1.33                     0   2342.168567  \n",
       "4984         1.85                   265    409.864000  \n",
       "4936         1.85                     0    369.427285  \n",
       "3278         1.85                     0    369.427285  \n",
       "5035         1.37                     0    291.560000  \n",
       "4956         1.85                     0    227.578190  \n",
       "4977         1.78                     0    177.374892  \n",
       "2619         2.35                 12000    156.666667  \n",
       "\n",
       "[10 rows x 29 columns]"
      ]
     },
     "execution_count": 57,
     "metadata": {},
     "output_type": "execute_result"
    }
   ],
   "source": [
    "# Solution 1\n",
    "\n",
    "movies['profitability'] = movies['gross'] / movies['budget']\n",
    "movies.sort_values('profitability', ascending=False).head(10)"
   ]
  },
  {
   "cell_type": "code",
   "execution_count": 59,
   "metadata": {
    "collapsed": false
   },
   "outputs": [
    {
     "data": {
      "text/html": [
       "<div>\n",
       "<table border=\"1\" class=\"dataframe\">\n",
       "  <thead>\n",
       "    <tr style=\"text-align: right;\">\n",
       "      <th></th>\n",
       "      <th>color</th>\n",
       "      <th>director_name</th>\n",
       "      <th>num_critic_for_reviews</th>\n",
       "      <th>duration</th>\n",
       "      <th>director_facebook_likes</th>\n",
       "      <th>actor_3_facebook_likes</th>\n",
       "      <th>actor_2_name</th>\n",
       "      <th>actor_1_facebook_likes</th>\n",
       "      <th>gross</th>\n",
       "      <th>genres</th>\n",
       "      <th>...</th>\n",
       "      <th>country</th>\n",
       "      <th>content_rating</th>\n",
       "      <th>budget</th>\n",
       "      <th>title_year</th>\n",
       "      <th>actor_2_facebook_likes</th>\n",
       "      <th>imdb_score</th>\n",
       "      <th>aspect_ratio</th>\n",
       "      <th>movie_facebook_likes</th>\n",
       "      <th>profitability</th>\n",
       "      <th>first_genre</th>\n",
       "    </tr>\n",
       "  </thead>\n",
       "  <tbody>\n",
       "    <tr>\n",
       "      <th>0</th>\n",
       "      <td>Color</td>\n",
       "      <td>James Cameron</td>\n",
       "      <td>723.0</td>\n",
       "      <td>178.0</td>\n",
       "      <td>0.0</td>\n",
       "      <td>855.0</td>\n",
       "      <td>Joel David Moore</td>\n",
       "      <td>1000.0</td>\n",
       "      <td>760505847.0</td>\n",
       "      <td>Action|Adventure|Fantasy|Sci-Fi</td>\n",
       "      <td>...</td>\n",
       "      <td>USA</td>\n",
       "      <td>PG-13</td>\n",
       "      <td>237000000.0</td>\n",
       "      <td>2009.0</td>\n",
       "      <td>936.0</td>\n",
       "      <td>7.9</td>\n",
       "      <td>1.78</td>\n",
       "      <td>33000</td>\n",
       "      <td>3.208885</td>\n",
       "      <td>Action</td>\n",
       "    </tr>\n",
       "    <tr>\n",
       "      <th>1</th>\n",
       "      <td>Color</td>\n",
       "      <td>Gore Verbinski</td>\n",
       "      <td>302.0</td>\n",
       "      <td>169.0</td>\n",
       "      <td>563.0</td>\n",
       "      <td>1000.0</td>\n",
       "      <td>Orlando Bloom</td>\n",
       "      <td>40000.0</td>\n",
       "      <td>309404152.0</td>\n",
       "      <td>Action|Adventure|Fantasy</td>\n",
       "      <td>...</td>\n",
       "      <td>USA</td>\n",
       "      <td>PG-13</td>\n",
       "      <td>300000000.0</td>\n",
       "      <td>2007.0</td>\n",
       "      <td>5000.0</td>\n",
       "      <td>7.1</td>\n",
       "      <td>2.35</td>\n",
       "      <td>0</td>\n",
       "      <td>1.031347</td>\n",
       "      <td>Action</td>\n",
       "    </tr>\n",
       "    <tr>\n",
       "      <th>2</th>\n",
       "      <td>Color</td>\n",
       "      <td>Sam Mendes</td>\n",
       "      <td>602.0</td>\n",
       "      <td>148.0</td>\n",
       "      <td>0.0</td>\n",
       "      <td>161.0</td>\n",
       "      <td>Rory Kinnear</td>\n",
       "      <td>11000.0</td>\n",
       "      <td>200074175.0</td>\n",
       "      <td>Action|Adventure|Thriller</td>\n",
       "      <td>...</td>\n",
       "      <td>UK</td>\n",
       "      <td>PG-13</td>\n",
       "      <td>245000000.0</td>\n",
       "      <td>2015.0</td>\n",
       "      <td>393.0</td>\n",
       "      <td>6.8</td>\n",
       "      <td>2.35</td>\n",
       "      <td>85000</td>\n",
       "      <td>0.816629</td>\n",
       "      <td>Action</td>\n",
       "    </tr>\n",
       "    <tr>\n",
       "      <th>3</th>\n",
       "      <td>Color</td>\n",
       "      <td>Christopher Nolan</td>\n",
       "      <td>813.0</td>\n",
       "      <td>164.0</td>\n",
       "      <td>22000.0</td>\n",
       "      <td>23000.0</td>\n",
       "      <td>Christian Bale</td>\n",
       "      <td>27000.0</td>\n",
       "      <td>448130642.0</td>\n",
       "      <td>Action|Thriller</td>\n",
       "      <td>...</td>\n",
       "      <td>USA</td>\n",
       "      <td>PG-13</td>\n",
       "      <td>250000000.0</td>\n",
       "      <td>2012.0</td>\n",
       "      <td>23000.0</td>\n",
       "      <td>8.5</td>\n",
       "      <td>2.35</td>\n",
       "      <td>164000</td>\n",
       "      <td>1.792523</td>\n",
       "      <td>Action</td>\n",
       "    </tr>\n",
       "    <tr>\n",
       "      <th>4</th>\n",
       "      <td>NaN</td>\n",
       "      <td>Doug Walker</td>\n",
       "      <td>NaN</td>\n",
       "      <td>NaN</td>\n",
       "      <td>131.0</td>\n",
       "      <td>NaN</td>\n",
       "      <td>Rob Walker</td>\n",
       "      <td>131.0</td>\n",
       "      <td>NaN</td>\n",
       "      <td>Documentary</td>\n",
       "      <td>...</td>\n",
       "      <td>NaN</td>\n",
       "      <td>NaN</td>\n",
       "      <td>NaN</td>\n",
       "      <td>NaN</td>\n",
       "      <td>12.0</td>\n",
       "      <td>7.1</td>\n",
       "      <td>NaN</td>\n",
       "      <td>0</td>\n",
       "      <td>NaN</td>\n",
       "      <td>Documentary</td>\n",
       "    </tr>\n",
       "  </tbody>\n",
       "</table>\n",
       "<p>5 rows × 30 columns</p>\n",
       "</div>"
      ],
      "text/plain": [
       "   color      director_name  num_critic_for_reviews  duration  \\\n",
       "0  Color      James Cameron                   723.0     178.0   \n",
       "1  Color     Gore Verbinski                   302.0     169.0   \n",
       "2  Color         Sam Mendes                   602.0     148.0   \n",
       "3  Color  Christopher Nolan                   813.0     164.0   \n",
       "4    NaN        Doug Walker                     NaN       NaN   \n",
       "\n",
       "   director_facebook_likes  actor_3_facebook_likes      actor_2_name  \\\n",
       "0                      0.0                   855.0  Joel David Moore   \n",
       "1                    563.0                  1000.0     Orlando Bloom   \n",
       "2                      0.0                   161.0      Rory Kinnear   \n",
       "3                  22000.0                 23000.0    Christian Bale   \n",
       "4                    131.0                     NaN        Rob Walker   \n",
       "\n",
       "   actor_1_facebook_likes        gross                           genres  \\\n",
       "0                  1000.0  760505847.0  Action|Adventure|Fantasy|Sci-Fi   \n",
       "1                 40000.0  309404152.0         Action|Adventure|Fantasy   \n",
       "2                 11000.0  200074175.0        Action|Adventure|Thriller   \n",
       "3                 27000.0  448130642.0                  Action|Thriller   \n",
       "4                   131.0          NaN                      Documentary   \n",
       "\n",
       "      ...      country content_rating       budget  title_year  \\\n",
       "0     ...          USA          PG-13  237000000.0      2009.0   \n",
       "1     ...          USA          PG-13  300000000.0      2007.0   \n",
       "2     ...           UK          PG-13  245000000.0      2015.0   \n",
       "3     ...          USA          PG-13  250000000.0      2012.0   \n",
       "4     ...          NaN            NaN          NaN         NaN   \n",
       "\n",
       "  actor_2_facebook_likes  imdb_score aspect_ratio movie_facebook_likes  \\\n",
       "0                  936.0         7.9         1.78                33000   \n",
       "1                 5000.0         7.1         2.35                    0   \n",
       "2                  393.0         6.8         2.35                85000   \n",
       "3                23000.0         8.5         2.35               164000   \n",
       "4                   12.0         7.1          NaN                    0   \n",
       "\n",
       "   profitability  first_genre  \n",
       "0       3.208885       Action  \n",
       "1       1.031347       Action  \n",
       "2       0.816629       Action  \n",
       "3       1.792523       Action  \n",
       "4            NaN  Documentary  \n",
       "\n",
       "[5 rows x 30 columns]"
      ]
     },
     "execution_count": 59,
     "metadata": {},
     "output_type": "execute_result"
    }
   ],
   "source": [
    "# Solution 2\n",
    "\n",
    "movies['first_genre'] = movies['genres'].apply(lambda genres: genres.split('|')[0])\n",
    "movies.head()"
   ]
  },
  {
   "cell_type": "markdown",
   "metadata": {},
   "source": [
    "## Visualizing data\n",
    "\n",
    "#### SHOW\n",
    "- describe\n",
    "- plot\n",
    "- hist\n",
    "- set_index (then you can make nicer plots)\n",
    "- figsize\n",
    "\n",
    "#### EXERCISE\n",
    "1. Create a pie chart presenting grosses of movies directed by Christopher Nolan\n",
    "2. What are typical durations of the movies?\n",
    "\n",
    "then\n",
    "\n",
    "## Aggregation (groupby, join)\n",
    "\n",
    "#### SHOW\n",
    "- groupby (with multi-levels)\n",
    "- join? (Matti had idea for exercise)\n",
    "\n",
    "#### EXERCISE\n",
    "\n",
    "1. What is the size of industry every year?\n",
    "2. Which director earns the most on average?\n",
    "3. Does the color of movie matters in terms of their gross across time?\n",
    "\n",
    "then\n",
    "\n",
    "## Understanding index, datetime indexes\n",
    "\n",
    "#### SHOW\n",
    "- types of indexes\n",
    "- loc?\n",
    "- data alignment. Assignment on index\n",
    "- extra methods of datetime index\n",
    "  - date range selection ( [\"2015-1\":] )\n",
    "  - resampling\n",
    "  - bfill, ffill\n",
    "  \n",
    "#### EXERCISE\n",
    "\n",
    "1. EXPLORE DATASET TO FIND OUT NICE EXERCISE\n",
    "\n",
    "then\n",
    "\n",
    "\n",
    "## Advanced topics + Advanced exercises\n",
    "\n",
    "#### SHOW\n",
    "- fillna\n",
    "- basics of scikit-learn (nice example to copy from my presentation)\n",
    "\n",
    "#### EXERCISE\n",
    "\n",
    "1. Integration with scikit-learn\n",
    "2. Integration with Flask\n",
    "3. Poor man's recommendations engine\n",
    "4. Discovering similar movies based on plot, genre, cast\n",
    "5. Saving data to sqllite\n",
    "6. What are the most profitable actors across time?\n",
    "7. Filling missing data"
   ]
  },
  {
   "cell_type": "code",
   "execution_count": null,
   "metadata": {
    "collapsed": true
   },
   "outputs": [],
   "source": []
  }
 ],
 "metadata": {
  "kernelspec": {
   "display_name": "Python 2",
   "language": "python",
   "name": "python2"
  },
  "language_info": {
   "codemirror_mode": {
    "name": "ipython",
    "version": 2
   },
   "file_extension": ".py",
   "mimetype": "text/x-python",
   "name": "python",
   "nbconvert_exporter": "python",
   "pygments_lexer": "ipython2",
   "version": "2.7.10"
  }
 },
 "nbformat": 4,
 "nbformat_minor": 1
}
