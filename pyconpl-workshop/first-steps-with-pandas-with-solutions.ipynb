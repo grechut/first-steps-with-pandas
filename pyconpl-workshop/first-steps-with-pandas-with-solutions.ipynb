{
 "cells": [
  {
   "cell_type": "markdown",
   "metadata": {},
   "source": [
    "# Welcome to the 'First steps with pandas'!\n",
    "\n",
    "After this workshop you can (hopefully) call yourselves Data Scientists!"
   ]
  },
  {
   "cell_type": "markdown",
   "metadata": {},
   "source": [
    "### Before coding, let's check whether we have proper versions of libraries\n",
    "\n",
    "You should have:\n",
    "- Python: 2.7.10\n",
    "- numpy: 1.11.1\n",
    "- pandas: 0.18.1\n",
    "- matplotlib: 1.5.2"
   ]
  },
  {
   "cell_type": "code",
   "execution_count": 9,
   "metadata": {
    "collapsed": false
   },
   "outputs": [
    {
     "name": "stdout",
     "output_type": "stream",
     "text": [
      "Python: 2.7.10\n",
      "numpy: 1.11.1\n",
      "pandas: 0.18.1\n",
      "scipy: 0.18.1\n",
      "matplotlib: 1.5.2\n",
      "flask: 0.11.1\n",
      "jupyter: 1.0.0\n"
     ]
    }
   ],
   "source": [
    "import platform\n",
    "print \"Python:\", platform.python_version()\n",
    "assert platform.python_version()[0] == '2'\n",
    "\n",
    "import numpy as np\n",
    "print 'numpy:', np.__version__\n",
    "\n",
    "import pandas as pd\n",
    "print 'pandas:', pd.__version__\n",
    "assert pd.__version__[:4] == '0.18'\n",
    "\n",
    "import scipy\n",
    "print 'scipy:', scipy.__version__\n",
    "\n",
    "import matplotlib as plt\n",
    "print 'matplotlib:', plt.__version__\n",
    "\n",
    "import flask\n",
    "print 'flask:', flask.__version__\n",
    "\n",
    "import jupyter\n",
    "print 'jupyter:', jupyter.__version__"
   ]
  },
  {
   "cell_type": "markdown",
   "metadata": {},
   "source": [
    "## What is pandas?\n",
    "\n",
    "> pandas is an open source, BSD-licensed library providing high-performance, easy-to-use data structures and data analysis tools for the Python programming language."
   ]
  },
  {
   "cell_type": "markdown",
   "metadata": {},
   "source": [
    "## Why to use it?"
   ]
  },
  {
   "cell_type": "markdown",
   "metadata": {},
   "source": [
    "### We need to be able to develop code quickly and cheaply... and it should be readable"
   ]
  },
  {
   "cell_type": "code",
   "execution_count": 10,
   "metadata": {
    "collapsed": false
   },
   "outputs": [
    {
     "data": {
      "text/plain": [
       "2016-01-03    2767.666667\n",
       "2016-01-10    4626.571429\n",
       "2016-01-17    4871.857143\n",
       "2016-01-24    5249.333333\n",
       "Freq: W-SUN, Name: daily_views, dtype: float64"
      ]
     },
     "execution_count": 10,
     "metadata": {},
     "output_type": "execute_result"
    }
   ],
   "source": [
    "pd.read_json('http://stats.grok.se/json/en/201601/Python_(programming_language)') \\\n",
    "    .resample('1W') \\\n",
    "    .mean()['daily_views']\n",
    "    \n",
    "# if no internet\n",
    "# pd.read_json('http://stats.grok.se/json/en/201601/Python_(programming_language)') \\\n",
    "#     .resample('1W') \\\n",
    "#     .mean()['daily_views']\n",
    "\n",
    "# caching was done using\n",
    "# pd.read_json('http://stats.grok.se/json/en/201601/Python_(programming_language)') \\\n",
    "#     .to_json('data/cached_python.json', orient='records')"
   ]
  },
  {
   "cell_type": "markdown",
   "metadata": {},
   "source": [
    "### We need to develop fast code"
   ]
  },
  {
   "cell_type": "code",
   "execution_count": 11,
   "metadata": {
    "collapsed": false
   },
   "outputs": [],
   "source": [
    "some_data = [ list(range(1,100)) for x in range(1,1000) ]\n",
    "some_df = pd.DataFrame(some_data)\n",
    "\n",
    "def standard_way(data):\n",
    "    result = []\n",
    "    for row in data:\n",
    "        result.append([x*2 for x in row])\n",
    "    return result\n",
    "\n",
    "\n",
    "def pandas_way(df):\n",
    "    return df * 2"
   ]
  },
  {
   "cell_type": "code",
   "execution_count": 12,
   "metadata": {
    "collapsed": false
   },
   "outputs": [
    {
     "name": "stdout",
     "output_type": "stream",
     "text": [
      "100 loops, best of 3: 9.43 ms per loop\n"
     ]
    }
   ],
   "source": [
    "%timeit standard_way(some_data)"
   ]
  },
  {
   "cell_type": "code",
   "execution_count": 13,
   "metadata": {
    "collapsed": false
   },
   "outputs": [
    {
     "name": "stdout",
     "output_type": "stream",
     "text": [
      "The slowest run took 7.49 times longer than the fastest. This could mean that an intermediate result is being cached.\n",
      "1000 loops, best of 3: 212 µs per loop\n"
     ]
    }
   ],
   "source": [
    "%timeit pandas_way(some_df)"
   ]
  },
  {
   "cell_type": "markdown",
   "metadata": {},
   "source": [
    "### It is hard write everything from scratch.. and it's easy to make mistakes.\n",
    "\n",
    "http://pandas.pydata.org/pandas-docs/stable/api.html"
   ]
  },
  {
   "cell_type": "markdown",
   "metadata": {},
   "source": [
    "### It can handle nicely missing data (and that's a common case).."
   ]
  },
  {
   "cell_type": "code",
   "execution_count": 14,
   "metadata": {
    "collapsed": false
   },
   "outputs": [
    {
     "data": {
      "text/html": [
       "<div>\n",
       "<table border=\"1\" class=\"dataframe\">\n",
       "  <thead>\n",
       "    <tr style=\"text-align: right;\">\n",
       "      <th></th>\n",
       "      <th>height</th>\n",
       "      <th>name</th>\n",
       "      <th>weight</th>\n",
       "    </tr>\n",
       "  </thead>\n",
       "  <tbody>\n",
       "    <tr>\n",
       "      <th>0</th>\n",
       "      <td>174.0</td>\n",
       "      <td>Jacek</td>\n",
       "      <td>NaN</td>\n",
       "    </tr>\n",
       "    <tr>\n",
       "      <th>1</th>\n",
       "      <td>NaN</td>\n",
       "      <td>Mateusz</td>\n",
       "      <td>81.0</td>\n",
       "    </tr>\n",
       "    <tr>\n",
       "      <th>2</th>\n",
       "      <td>169.0</td>\n",
       "      <td>Lionel Messi</td>\n",
       "      <td>67.0</td>\n",
       "    </tr>\n",
       "  </tbody>\n",
       "</table>\n",
       "</div>"
      ],
      "text/plain": [
       "   height          name  weight\n",
       "0   174.0         Jacek     NaN\n",
       "1     NaN       Mateusz    81.0\n",
       "2   169.0  Lionel Messi    67.0"
      ]
     },
     "execution_count": 14,
     "metadata": {},
     "output_type": "execute_result"
    }
   ],
   "source": [
    "missing_data = pd.DataFrame([\n",
    "    dict(name=\"Jacek\", height=174),\n",
    "    dict(name=\"Mateusz\", weight=81),\n",
    "    dict(name=\"Lionel Messi\", height=169, weight=67)\n",
    "])\n",
    "missing_data"
   ]
  },
  {
   "cell_type": "code",
   "execution_count": 15,
   "metadata": {
    "collapsed": false
   },
   "outputs": [
    {
     "data": {
      "text/html": [
       "<div>\n",
       "<table border=\"1\" class=\"dataframe\">\n",
       "  <thead>\n",
       "    <tr style=\"text-align: right;\">\n",
       "      <th></th>\n",
       "      <th>height</th>\n",
       "      <th>name</th>\n",
       "      <th>weight</th>\n",
       "    </tr>\n",
       "  </thead>\n",
       "  <tbody>\n",
       "    <tr>\n",
       "      <th>0</th>\n",
       "      <td>174.0</td>\n",
       "      <td>Jacek</td>\n",
       "      <td>74.0</td>\n",
       "    </tr>\n",
       "    <tr>\n",
       "      <th>1</th>\n",
       "      <td>171.5</td>\n",
       "      <td>Mateusz</td>\n",
       "      <td>81.0</td>\n",
       "    </tr>\n",
       "    <tr>\n",
       "      <th>2</th>\n",
       "      <td>169.0</td>\n",
       "      <td>Lionel Messi</td>\n",
       "      <td>67.0</td>\n",
       "    </tr>\n",
       "  </tbody>\n",
       "</table>\n",
       "</div>"
      ],
      "text/plain": [
       "   height          name  weight\n",
       "0   174.0         Jacek    74.0\n",
       "1   171.5       Mateusz    81.0\n",
       "2   169.0  Lionel Messi    67.0"
      ]
     },
     "execution_count": 15,
     "metadata": {},
     "output_type": "execute_result"
    }
   ],
   "source": [
    "missing_data.fillna(missing_data.mean())"
   ]
  },
  {
   "cell_type": "markdown",
   "metadata": {},
   "source": [
    "### It has a very cool name.\n",
    "\n",
    "![caption](files/pandas.jpg)"
   ]
  },
  {
   "cell_type": "markdown",
   "metadata": {},
   "source": [
    "###  Library highlights\n",
    "\n",
    "http://pandas.pydata.org/#library-highlights"
   ]
  },
  {
   "cell_type": "markdown",
   "metadata": {},
   "source": [
    "## So let's start by learning data structures"
   ]
  },
  {
   "cell_type": "markdown",
   "metadata": {},
   "source": [
    "### Series\n",
    "\n",
    "> Series is a one-dimensional labeled array capable of holding any data type (integers, strings, floating point numbers, Python objects, etc.)."
   ]
  },
  {
   "cell_type": "code",
   "execution_count": 16,
   "metadata": {
    "collapsed": false
   },
   "outputs": [
    {
     "data": {
      "text/plain": [
       "0    400\n",
       "1    200\n",
       "2    300\n",
       "3    400\n",
       "4    500\n",
       "dtype: int64"
      ]
     },
     "execution_count": 16,
     "metadata": {},
     "output_type": "execute_result"
    }
   ],
   "source": [
    "strengths = pd.Series([400, 200, 300, 400, 500])\n",
    "strengths"
   ]
  },
  {
   "cell_type": "code",
   "execution_count": 17,
   "metadata": {
    "collapsed": false
   },
   "outputs": [
    {
     "data": {
      "text/plain": [
       "0        Batman\n",
       "1         Robin\n",
       "2     Spiderman\n",
       "3       Robocop\n",
       "4    Terminator\n",
       "dtype: object"
      ]
     },
     "execution_count": 17,
     "metadata": {},
     "output_type": "execute_result"
    }
   ],
   "source": [
    "names = pd.Series([\"Batman\", \"Robin\", \"Spiderman\", \"Robocop\", \"Terminator\"])\n",
    "names"
   ]
  },
  {
   "cell_type": "markdown",
   "metadata": {},
   "source": [
    "### DataFrame\n",
    "\n",
    "> DataFrame is a 2-dimensional labeled data structure with columns of potentially different types. You can think of it like a spreadsheet or SQL table, or a dict of Series objects."
   ]
  },
  {
   "cell_type": "code",
   "execution_count": 18,
   "metadata": {
    "collapsed": false
   },
   "outputs": [
    {
     "data": {
      "text/html": [
       "<div>\n",
       "<table border=\"1\" class=\"dataframe\">\n",
       "  <thead>\n",
       "    <tr style=\"text-align: right;\">\n",
       "      <th></th>\n",
       "      <th>hero</th>\n",
       "      <th>strength</th>\n",
       "    </tr>\n",
       "  </thead>\n",
       "  <tbody>\n",
       "    <tr>\n",
       "      <th>0</th>\n",
       "      <td>Batman</td>\n",
       "      <td>400</td>\n",
       "    </tr>\n",
       "    <tr>\n",
       "      <th>1</th>\n",
       "      <td>Robin</td>\n",
       "      <td>200</td>\n",
       "    </tr>\n",
       "    <tr>\n",
       "      <th>2</th>\n",
       "      <td>Spiderman</td>\n",
       "      <td>300</td>\n",
       "    </tr>\n",
       "    <tr>\n",
       "      <th>3</th>\n",
       "      <td>Robocop</td>\n",
       "      <td>400</td>\n",
       "    </tr>\n",
       "    <tr>\n",
       "      <th>4</th>\n",
       "      <td>Terminator</td>\n",
       "      <td>500</td>\n",
       "    </tr>\n",
       "  </tbody>\n",
       "</table>\n",
       "</div>"
      ],
      "text/plain": [
       "         hero  strength\n",
       "0      Batman       400\n",
       "1       Robin       200\n",
       "2   Spiderman       300\n",
       "3     Robocop       400\n",
       "4  Terminator       500"
      ]
     },
     "execution_count": 18,
     "metadata": {},
     "output_type": "execute_result"
    }
   ],
   "source": [
    "heroes = pd.DataFrame({\n",
    "    'hero': names,\n",
    "    'strength': strengths\n",
    "})\n",
    "heroes"
   ]
  },
  {
   "cell_type": "code",
   "execution_count": 19,
   "metadata": {
    "collapsed": false
   },
   "outputs": [
    {
     "data": {
      "text/html": [
       "<div>\n",
       "<table border=\"1\" class=\"dataframe\">\n",
       "  <thead>\n",
       "    <tr style=\"text-align: right;\">\n",
       "      <th></th>\n",
       "      <th>hero</th>\n",
       "      <th>strength</th>\n",
       "    </tr>\n",
       "  </thead>\n",
       "  <tbody>\n",
       "    <tr>\n",
       "      <th>0</th>\n",
       "      <td>Hercules</td>\n",
       "      <td>800.0</td>\n",
       "    </tr>\n",
       "    <tr>\n",
       "      <th>1</th>\n",
       "      <td>Konan</td>\n",
       "      <td>NaN</td>\n",
       "    </tr>\n",
       "  </tbody>\n",
       "</table>\n",
       "</div>"
      ],
      "text/plain": [
       "       hero  strength\n",
       "0  Hercules     800.0\n",
       "1     Konan       NaN"
      ]
     },
     "execution_count": 19,
     "metadata": {},
     "output_type": "execute_result"
    }
   ],
   "source": [
    "other_heroes = pd.DataFrame([\n",
    "    dict(hero=\"Hercules\", strength=800),\n",
    "    dict(hero=\"Konan\")\n",
    "])\n",
    "other_heroes"
   ]
  },
  {
   "cell_type": "code",
   "execution_count": 20,
   "metadata": {
    "collapsed": false
   },
   "outputs": [
    {
     "data": {
      "text/html": [
       "<div>\n",
       "<table border=\"1\" class=\"dataframe\">\n",
       "  <thead>\n",
       "    <tr style=\"text-align: right;\">\n",
       "      <th></th>\n",
       "      <th>hero</th>\n",
       "      <th>strength</th>\n",
       "      <th>cookies</th>\n",
       "    </tr>\n",
       "  </thead>\n",
       "  <tbody>\n",
       "    <tr>\n",
       "      <th>0</th>\n",
       "      <td>Bolek</td>\n",
       "      <td>10</td>\n",
       "      <td>3</td>\n",
       "    </tr>\n",
       "    <tr>\n",
       "      <th>1</th>\n",
       "      <td>Lolek</td>\n",
       "      <td>20</td>\n",
       "      <td>0</td>\n",
       "    </tr>\n",
       "  </tbody>\n",
       "</table>\n",
       "</div>"
      ],
      "text/plain": [
       "    hero  strength  cookies\n",
       "0  Bolek        10        3\n",
       "1  Lolek        20        0"
      ]
     },
     "execution_count": 20,
     "metadata": {},
     "output_type": "execute_result"
    }
   ],
   "source": [
    "another_heroes = pd.DataFrame([\n",
    "    pd.Series([\"Bolek\", 10, 3], index=[\"hero\", \"strength\", \"cookies\"]),\n",
    "    pd.Series([\"Lolek\", 20, 0], index=[\"hero\", \"strength\", \"cookies\"])\n",
    "])\n",
    "another_heroes"
   ]
  },
  {
   "cell_type": "code",
   "execution_count": 21,
   "metadata": {
    "collapsed": false
   },
   "outputs": [
    {
     "data": {
      "text/plain": [
       "0    3\n",
       "1    0\n",
       "Name: cookies, dtype: int64"
      ]
     },
     "execution_count": 21,
     "metadata": {},
     "output_type": "execute_result"
    }
   ],
   "source": [
    "another_heroes['cookies']"
   ]
  },
  {
   "cell_type": "code",
   "execution_count": 22,
   "metadata": {
    "collapsed": false
   },
   "outputs": [
    {
     "data": {
      "text/html": [
       "<div>\n",
       "<table border=\"1\" class=\"dataframe\">\n",
       "  <thead>\n",
       "    <tr style=\"text-align: right;\">\n",
       "      <th></th>\n",
       "      <th>hero</th>\n",
       "      <th>cookies</th>\n",
       "    </tr>\n",
       "  </thead>\n",
       "  <tbody>\n",
       "    <tr>\n",
       "      <th>0</th>\n",
       "      <td>Bolek</td>\n",
       "      <td>3</td>\n",
       "    </tr>\n",
       "    <tr>\n",
       "      <th>1</th>\n",
       "      <td>Lolek</td>\n",
       "      <td>0</td>\n",
       "    </tr>\n",
       "  </tbody>\n",
       "</table>\n",
       "</div>"
      ],
      "text/plain": [
       "    hero  cookies\n",
       "0  Bolek        3\n",
       "1  Lolek        0"
      ]
     },
     "execution_count": 22,
     "metadata": {},
     "output_type": "execute_result"
    }
   ],
   "source": [
    "another_heroes[ ['hero', 'cookies'] ]"
   ]
  },
  {
   "cell_type": "markdown",
   "metadata": {},
   "source": [
    "#### Selecting\n",
    "```[string] --> Series\n",
    "[ list of strings ] --> DataFrame```"
   ]
  },
  {
   "cell_type": "markdown",
   "metadata": {},
   "source": [
    "### EXERCISE\n",
    "\n",
    "Create such DataFrame in 3 different ways\n",
    "\n",
    "```\n",
    "                                         movie_title  imdb_score\n",
    "0                                            Avatar          7.9\n",
    "1          Pirates of the Caribbean: At World's End          7.1\n",
    "2                                           Spectre          6.8\n",
    "```\n",
    "\n",
    "Help: http://pandas.pydata.org/pandas-docs/stable/dsintro.html#from-dict-of-series-or-dicts"
   ]
  },
  {
   "cell_type": "code",
   "execution_count": 23,
   "metadata": {
    "collapsed": false
   },
   "outputs": [
    {
     "data": {
      "text/html": [
       "<div>\n",
       "<table border=\"1\" class=\"dataframe\">\n",
       "  <thead>\n",
       "    <tr style=\"text-align: right;\">\n",
       "      <th></th>\n",
       "      <th>imdb_score</th>\n",
       "      <th>movie_title</th>\n",
       "    </tr>\n",
       "  </thead>\n",
       "  <tbody>\n",
       "    <tr>\n",
       "      <th>0</th>\n",
       "      <td>7.9</td>\n",
       "      <td>Avatar</td>\n",
       "    </tr>\n",
       "    <tr>\n",
       "      <th>1</th>\n",
       "      <td>7.1</td>\n",
       "      <td>Pirates of the Caribbean: At World's End</td>\n",
       "    </tr>\n",
       "    <tr>\n",
       "      <th>2</th>\n",
       "      <td>6.8</td>\n",
       "      <td>Spectre</td>\n",
       "    </tr>\n",
       "  </tbody>\n",
       "</table>\n",
       "</div>"
      ],
      "text/plain": [
       "   imdb_score                               movie_title\n",
       "0         7.9                                    Avatar\n",
       "1         7.1  Pirates of the Caribbean: At World's End\n",
       "2         6.8                                   Spectre"
      ]
     },
     "execution_count": 23,
     "metadata": {},
     "output_type": "execute_result"
    }
   ],
   "source": [
    "# Solution 1 with dict of Series\n",
    "\n",
    "titles = pd.Series([\"Avatar\", \"Pirates of the Caribbean: At World's End\", \"Spectre\"])\n",
    "imdb_scores = pd.Series([7.9, 7.1, 6.8])\n",
    "\n",
    "pd.DataFrame({'movie_title': titles, 'imdb_score': imdb_scores})"
   ]
  },
  {
   "cell_type": "code",
   "execution_count": 24,
   "metadata": {
    "collapsed": false
   },
   "outputs": [
    {
     "data": {
      "text/html": [
       "<div>\n",
       "<table border=\"1\" class=\"dataframe\">\n",
       "  <thead>\n",
       "    <tr style=\"text-align: right;\">\n",
       "      <th></th>\n",
       "      <th>imdb_score</th>\n",
       "      <th>movie_title</th>\n",
       "    </tr>\n",
       "  </thead>\n",
       "  <tbody>\n",
       "    <tr>\n",
       "      <th>0</th>\n",
       "      <td>7.9</td>\n",
       "      <td>Avatar</td>\n",
       "    </tr>\n",
       "    <tr>\n",
       "      <th>1</th>\n",
       "      <td>7.1</td>\n",
       "      <td>Pirates of the Caribbean: At World's End</td>\n",
       "    </tr>\n",
       "    <tr>\n",
       "      <th>2</th>\n",
       "      <td>6.8</td>\n",
       "      <td>Spectre</td>\n",
       "    </tr>\n",
       "  </tbody>\n",
       "</table>\n",
       "</div>"
      ],
      "text/plain": [
       "   imdb_score                               movie_title\n",
       "0         7.9                                    Avatar\n",
       "1         7.1  Pirates of the Caribbean: At World's End\n",
       "2         6.8                                   Spectre"
      ]
     },
     "execution_count": 24,
     "metadata": {},
     "output_type": "execute_result"
    }
   ],
   "source": [
    "# Solution 2 with list of dicts\n",
    "\n",
    "pd.DataFrame([\n",
    "    dict(movie_title=\"Avatar\", imdb_score=7.9),\n",
    "    dict(movie_title=\"Pirates of the Caribbean: At World's End\", imdb_score=7.1),\n",
    "    dict(movie_title=\"Spectre\", imdb_score=6.8),\n",
    "])"
   ]
  },
  {
   "cell_type": "code",
   "execution_count": 25,
   "metadata": {
    "collapsed": false
   },
   "outputs": [
    {
     "data": {
      "text/html": [
       "<div>\n",
       "<table border=\"1\" class=\"dataframe\">\n",
       "  <thead>\n",
       "    <tr style=\"text-align: right;\">\n",
       "      <th></th>\n",
       "      <th>movie_title</th>\n",
       "      <th>imdb_score</th>\n",
       "    </tr>\n",
       "  </thead>\n",
       "  <tbody>\n",
       "    <tr>\n",
       "      <th>0</th>\n",
       "      <td>Avatar</td>\n",
       "      <td>7.9</td>\n",
       "    </tr>\n",
       "    <tr>\n",
       "      <th>1</th>\n",
       "      <td>Pirates of the Caribbean: At World's End</td>\n",
       "      <td>7.1</td>\n",
       "    </tr>\n",
       "    <tr>\n",
       "      <th>2</th>\n",
       "      <td>Spectre</td>\n",
       "      <td>6.8</td>\n",
       "    </tr>\n",
       "  </tbody>\n",
       "</table>\n",
       "</div>"
      ],
      "text/plain": [
       "                                movie_title  imdb_score\n",
       "0                                    Avatar         7.9\n",
       "1  Pirates of the Caribbean: At World's End         7.1\n",
       "2                                   Spectre         6.8"
      ]
     },
     "execution_count": 25,
     "metadata": {},
     "output_type": "execute_result"
    }
   ],
   "source": [
    "# Solution 3 with list of Series\n",
    "\n",
    "pd.DataFrame([\n",
    "    pd.Series([\"Avatar\", 7.9], index=['movie_title', 'imdb_score']),\n",
    "    pd.Series([\"Pirates of the Caribbean: At World's End\", 7.1], index=['movie_title', 'imdb_score']),\n",
    "    pd.Series([\"Spectre\", 6.8], index=['movie_title', 'imdb_score'])\n",
    "])"
   ]
  },
  {
   "cell_type": "markdown",
   "metadata": {},
   "source": [
    "## I/O part I"
   ]
  },
  {
   "cell_type": "code",
   "execution_count": 26,
   "metadata": {
    "collapsed": false
   },
   "outputs": [],
   "source": [
    "# Uncomment and press tab..\n",
    "# pd.read_\n",
    "# SQL, csv, hdfs"
   ]
  },
  {
   "cell_type": "code",
   "execution_count": 27,
   "metadata": {
    "collapsed": true
   },
   "outputs": [],
   "source": [
    "# pd.read_csv?"
   ]
  },
  {
   "cell_type": "code",
   "execution_count": 28,
   "metadata": {
    "collapsed": false
   },
   "outputs": [
    {
     "name": "stdout",
     "output_type": "stream",
     "text": [
      "[{\"daily_views\":2701,\"month\":201601,\"project\":\"en\",\"rank\":2251,\"title\":\"Python_(programming_language)\"},{\"daily_views\":2829,\"month\":201601,\"project\":\"en\",\"rank\":2251,\"title\":\"Python_(programming_language)\"},{\"daily_views\":2773,\"month\":201601,\"project\":\"en\",\"rank\":2251,\"title\":\"Python_(programming_language)\"},{\"daily_views\":5072,\"month\":201601,\"project\":\"en\",\"rank\":2251,\"title\":\"Python_(programming_language)\"},{\"daily_views\":5513,\"month\":201601,\"project\":\"en\",\"rank\":2251,\"title\":\"Python_(programming_language)\"},{\"daily_views\":5233,\"month\":201601,\"project\":\"en\",\"rank\":2251,\"title\":\"Python_(programming_language)\"},{\"daily_views\":5518,\"month\":201601,\"project\":\"en\",\"rank\":2251,\"title\":\"Python_(programming_language)\"},{\"daily_views\":5312,\"month\":201601,\"project\":\"en\",\"rank\":2251,\"title\":\"Python_(programming_language)\"},{\"daily_views\":2749,\"month\":201601,\"project\":\"en\",\"rank\":2251,\"title\":\"Python_(programming_language)\"},{\"daily_views\":2989,\"month\":201601,\"project\":\"en\",\"rank\":2251,\"title\":\"Python_(programming_language)\"},{\"daily_views\":5539,\"month\":201601,\"project\":\"en\",\"rank\":2251,\"title\":\"Python_(programming_language)\"},{\"daily_views\":6161,\"month\":201601,\"project\":\"en\",\"rank\":2251,\"title\":\"Python_(programming_language)\"},{\"daily_views\":6175,\"month\":201601,\"project\":\"en\",\"rank\":2251,\"title\":\"Python_(programming_language)\"},{\"daily_views\":5545,\"month\":201601,\"project\":\"en\",\"rank\":2251,\"title\":\"Python_(programming_language)\"},{\"daily_views\":4833,\"month\":201601,\"project\":\"en\",\"rank\":2251,\"title\":\"Python_(programming_language)\"},{\"daily_views\":2858,\"month\":201601,\"project\":\"en\",\"rank\":2251,\"title\":\"Python_(programming_language)\"},{\"daily_views\":2992,\"month\":201601,\"project\":\"en\",\"rank\":2251,\"title\":\"Python_(programming_language)\"},{\"daily_views\":4673,\"month\":201601,\"project\":\"en\",\"rank\":2251,\"title\":\"Python_(programming_language)\"},{\"daily_views\":5625,\"month\":201601,\"project\":\"en\",\"rank\":2251,\"title\":\"Python_(programming_language)\"},{\"daily_views\":5450,\"month\":201601,\"project\":\"en\",\"rank\":2251,\"title\":\"Python_(programming_language)\"}]"
     ]
    }
   ],
   "source": [
    "!head data/cached_Python.json"
   ]
  },
  {
   "cell_type": "code",
   "execution_count": 29,
   "metadata": {
    "collapsed": false
   },
   "outputs": [
    {
     "data": {
      "text/html": [
       "<div>\n",
       "<table border=\"1\" class=\"dataframe\">\n",
       "  <thead>\n",
       "    <tr style=\"text-align: right;\">\n",
       "      <th></th>\n",
       "      <th>daily_views</th>\n",
       "      <th>month</th>\n",
       "      <th>project</th>\n",
       "      <th>rank</th>\n",
       "      <th>title</th>\n",
       "    </tr>\n",
       "  </thead>\n",
       "  <tbody>\n",
       "    <tr>\n",
       "      <th>0</th>\n",
       "      <td>2701</td>\n",
       "      <td>201601</td>\n",
       "      <td>en</td>\n",
       "      <td>2251</td>\n",
       "      <td>Python_(programming_language)</td>\n",
       "    </tr>\n",
       "    <tr>\n",
       "      <th>1</th>\n",
       "      <td>2829</td>\n",
       "      <td>201601</td>\n",
       "      <td>en</td>\n",
       "      <td>2251</td>\n",
       "      <td>Python_(programming_language)</td>\n",
       "    </tr>\n",
       "    <tr>\n",
       "      <th>2</th>\n",
       "      <td>2773</td>\n",
       "      <td>201601</td>\n",
       "      <td>en</td>\n",
       "      <td>2251</td>\n",
       "      <td>Python_(programming_language)</td>\n",
       "    </tr>\n",
       "    <tr>\n",
       "      <th>3</th>\n",
       "      <td>5072</td>\n",
       "      <td>201601</td>\n",
       "      <td>en</td>\n",
       "      <td>2251</td>\n",
       "      <td>Python_(programming_language)</td>\n",
       "    </tr>\n",
       "    <tr>\n",
       "      <th>4</th>\n",
       "      <td>5513</td>\n",
       "      <td>201601</td>\n",
       "      <td>en</td>\n",
       "      <td>2251</td>\n",
       "      <td>Python_(programming_language)</td>\n",
       "    </tr>\n",
       "  </tbody>\n",
       "</table>\n",
       "</div>"
      ],
      "text/plain": [
       "   daily_views   month project  rank                          title\n",
       "0         2701  201601      en  2251  Python_(programming_language)\n",
       "1         2829  201601      en  2251  Python_(programming_language)\n",
       "2         2773  201601      en  2251  Python_(programming_language)\n",
       "3         5072  201601      en  2251  Python_(programming_language)\n",
       "4         5513  201601      en  2251  Python_(programming_language)"
      ]
     },
     "execution_count": 29,
     "metadata": {},
     "output_type": "execute_result"
    }
   ],
   "source": [
    "pd.read_json('data/cached_Python.json').head()"
   ]
  },
  {
   "cell_type": "markdown",
   "metadata": {},
   "source": [
    "### EXERCISE\n",
    "\n",
    "1. Load movies from data/movie_metadata.csv and...\n",
    "2. Analyze what dimensions and columns it has.."
   ]
  },
  {
   "cell_type": "code",
   "execution_count": 30,
   "metadata": {
    "collapsed": false
   },
   "outputs": [
    {
     "data": {
      "text/html": [
       "<div>\n",
       "<table border=\"1\" class=\"dataframe\">\n",
       "  <thead>\n",
       "    <tr style=\"text-align: right;\">\n",
       "      <th></th>\n",
       "      <th>color</th>\n",
       "      <th>director_name</th>\n",
       "      <th>num_critic_for_reviews</th>\n",
       "      <th>duration</th>\n",
       "      <th>director_facebook_likes</th>\n",
       "      <th>actor_3_facebook_likes</th>\n",
       "      <th>actor_2_name</th>\n",
       "      <th>actor_1_facebook_likes</th>\n",
       "      <th>gross</th>\n",
       "      <th>genres</th>\n",
       "      <th>...</th>\n",
       "      <th>num_user_for_reviews</th>\n",
       "      <th>language</th>\n",
       "      <th>country</th>\n",
       "      <th>content_rating</th>\n",
       "      <th>budget</th>\n",
       "      <th>title_year</th>\n",
       "      <th>actor_2_facebook_likes</th>\n",
       "      <th>imdb_score</th>\n",
       "      <th>aspect_ratio</th>\n",
       "      <th>movie_facebook_likes</th>\n",
       "    </tr>\n",
       "  </thead>\n",
       "  <tbody>\n",
       "    <tr>\n",
       "      <th>0</th>\n",
       "      <td>Color</td>\n",
       "      <td>James Cameron</td>\n",
       "      <td>723.0</td>\n",
       "      <td>178.0</td>\n",
       "      <td>0.0</td>\n",
       "      <td>855.0</td>\n",
       "      <td>Joel David Moore</td>\n",
       "      <td>1000.0</td>\n",
       "      <td>760505847.0</td>\n",
       "      <td>Action|Adventure|Fantasy|Sci-Fi</td>\n",
       "      <td>...</td>\n",
       "      <td>3054.0</td>\n",
       "      <td>English</td>\n",
       "      <td>USA</td>\n",
       "      <td>PG-13</td>\n",
       "      <td>237000000.0</td>\n",
       "      <td>2009.0</td>\n",
       "      <td>936.0</td>\n",
       "      <td>7.9</td>\n",
       "      <td>1.78</td>\n",
       "      <td>33000</td>\n",
       "    </tr>\n",
       "    <tr>\n",
       "      <th>1</th>\n",
       "      <td>Color</td>\n",
       "      <td>Gore Verbinski</td>\n",
       "      <td>302.0</td>\n",
       "      <td>169.0</td>\n",
       "      <td>563.0</td>\n",
       "      <td>1000.0</td>\n",
       "      <td>Orlando Bloom</td>\n",
       "      <td>40000.0</td>\n",
       "      <td>309404152.0</td>\n",
       "      <td>Action|Adventure|Fantasy</td>\n",
       "      <td>...</td>\n",
       "      <td>1238.0</td>\n",
       "      <td>English</td>\n",
       "      <td>USA</td>\n",
       "      <td>PG-13</td>\n",
       "      <td>300000000.0</td>\n",
       "      <td>2007.0</td>\n",
       "      <td>5000.0</td>\n",
       "      <td>7.1</td>\n",
       "      <td>2.35</td>\n",
       "      <td>0</td>\n",
       "    </tr>\n",
       "    <tr>\n",
       "      <th>2</th>\n",
       "      <td>Color</td>\n",
       "      <td>Sam Mendes</td>\n",
       "      <td>602.0</td>\n",
       "      <td>148.0</td>\n",
       "      <td>0.0</td>\n",
       "      <td>161.0</td>\n",
       "      <td>Rory Kinnear</td>\n",
       "      <td>11000.0</td>\n",
       "      <td>200074175.0</td>\n",
       "      <td>Action|Adventure|Thriller</td>\n",
       "      <td>...</td>\n",
       "      <td>994.0</td>\n",
       "      <td>English</td>\n",
       "      <td>UK</td>\n",
       "      <td>PG-13</td>\n",
       "      <td>245000000.0</td>\n",
       "      <td>2015.0</td>\n",
       "      <td>393.0</td>\n",
       "      <td>6.8</td>\n",
       "      <td>2.35</td>\n",
       "      <td>85000</td>\n",
       "    </tr>\n",
       "    <tr>\n",
       "      <th>3</th>\n",
       "      <td>Color</td>\n",
       "      <td>Christopher Nolan</td>\n",
       "      <td>813.0</td>\n",
       "      <td>164.0</td>\n",
       "      <td>22000.0</td>\n",
       "      <td>23000.0</td>\n",
       "      <td>Christian Bale</td>\n",
       "      <td>27000.0</td>\n",
       "      <td>448130642.0</td>\n",
       "      <td>Action|Thriller</td>\n",
       "      <td>...</td>\n",
       "      <td>2701.0</td>\n",
       "      <td>English</td>\n",
       "      <td>USA</td>\n",
       "      <td>PG-13</td>\n",
       "      <td>250000000.0</td>\n",
       "      <td>2012.0</td>\n",
       "      <td>23000.0</td>\n",
       "      <td>8.5</td>\n",
       "      <td>2.35</td>\n",
       "      <td>164000</td>\n",
       "    </tr>\n",
       "    <tr>\n",
       "      <th>4</th>\n",
       "      <td>NaN</td>\n",
       "      <td>Doug Walker</td>\n",
       "      <td>NaN</td>\n",
       "      <td>NaN</td>\n",
       "      <td>131.0</td>\n",
       "      <td>NaN</td>\n",
       "      <td>Rob Walker</td>\n",
       "      <td>131.0</td>\n",
       "      <td>NaN</td>\n",
       "      <td>Documentary</td>\n",
       "      <td>...</td>\n",
       "      <td>NaN</td>\n",
       "      <td>NaN</td>\n",
       "      <td>NaN</td>\n",
       "      <td>NaN</td>\n",
       "      <td>NaN</td>\n",
       "      <td>NaN</td>\n",
       "      <td>12.0</td>\n",
       "      <td>7.1</td>\n",
       "      <td>NaN</td>\n",
       "      <td>0</td>\n",
       "    </tr>\n",
       "  </tbody>\n",
       "</table>\n",
       "<p>5 rows × 28 columns</p>\n",
       "</div>"
      ],
      "text/plain": [
       "   color      director_name  num_critic_for_reviews  duration  \\\n",
       "0  Color      James Cameron                   723.0     178.0   \n",
       "1  Color     Gore Verbinski                   302.0     169.0   \n",
       "2  Color         Sam Mendes                   602.0     148.0   \n",
       "3  Color  Christopher Nolan                   813.0     164.0   \n",
       "4    NaN        Doug Walker                     NaN       NaN   \n",
       "\n",
       "   director_facebook_likes  actor_3_facebook_likes      actor_2_name  \\\n",
       "0                      0.0                   855.0  Joel David Moore   \n",
       "1                    563.0                  1000.0     Orlando Bloom   \n",
       "2                      0.0                   161.0      Rory Kinnear   \n",
       "3                  22000.0                 23000.0    Christian Bale   \n",
       "4                    131.0                     NaN        Rob Walker   \n",
       "\n",
       "   actor_1_facebook_likes        gross                           genres  \\\n",
       "0                  1000.0  760505847.0  Action|Adventure|Fantasy|Sci-Fi   \n",
       "1                 40000.0  309404152.0         Action|Adventure|Fantasy   \n",
       "2                 11000.0  200074175.0        Action|Adventure|Thriller   \n",
       "3                 27000.0  448130642.0                  Action|Thriller   \n",
       "4                   131.0          NaN                      Documentary   \n",
       "\n",
       "          ...          num_user_for_reviews language  country  content_rating  \\\n",
       "0         ...                        3054.0  English      USA           PG-13   \n",
       "1         ...                        1238.0  English      USA           PG-13   \n",
       "2         ...                         994.0  English       UK           PG-13   \n",
       "3         ...                        2701.0  English      USA           PG-13   \n",
       "4         ...                           NaN      NaN      NaN             NaN   \n",
       "\n",
       "        budget  title_year actor_2_facebook_likes imdb_score  aspect_ratio  \\\n",
       "0  237000000.0      2009.0                  936.0        7.9          1.78   \n",
       "1  300000000.0      2007.0                 5000.0        7.1          2.35   \n",
       "2  245000000.0      2015.0                  393.0        6.8          2.35   \n",
       "3  250000000.0      2012.0                23000.0        8.5          2.35   \n",
       "4          NaN         NaN                   12.0        7.1           NaN   \n",
       "\n",
       "  movie_facebook_likes  \n",
       "0                33000  \n",
       "1                    0  \n",
       "2                85000  \n",
       "3               164000  \n",
       "4                    0  \n",
       "\n",
       "[5 rows x 28 columns]"
      ]
     },
     "execution_count": 30,
     "metadata": {},
     "output_type": "execute_result"
    }
   ],
   "source": [
    "# Solution 1\n",
    "\n",
    "#E: movies = \n",
    "\n",
    "movies = pd.read_csv('data/movie_metadata.csv')\n",
    "movies.head()"
   ]
  },
  {
   "cell_type": "code",
   "execution_count": 31,
   "metadata": {
    "collapsed": false
   },
   "outputs": [
    {
     "name": "stdout",
     "output_type": "stream",
     "text": [
      "(5043, 28)\n",
      "Index([u'color', u'director_name', u'num_critic_for_reviews', u'duration',\n",
      "       u'director_facebook_likes', u'actor_3_facebook_likes', u'actor_2_name',\n",
      "       u'actor_1_facebook_likes', u'gross', u'genres', u'actor_1_name',\n",
      "       u'movie_title', u'num_voted_users', u'cast_total_facebook_likes',\n",
      "       u'actor_3_name', u'facenumber_in_poster', u'plot_keywords',\n",
      "       u'movie_imdb_link', u'num_user_for_reviews', u'language', u'country',\n",
      "       u'content_rating', u'budget', u'title_year', u'actor_2_facebook_likes',\n",
      "       u'imdb_score', u'aspect_ratio', u'movie_facebook_likes'],\n",
      "      dtype='object')\n"
     ]
    }
   ],
   "source": [
    "# Solution 2\n",
    "\n",
    "print movies.shape\n",
    "print movies.columns"
   ]
  },
  {
   "cell_type": "markdown",
   "metadata": {},
   "source": [
    "## Filtering"
   ]
  },
  {
   "cell_type": "code",
   "execution_count": 32,
   "metadata": {
    "collapsed": false
   },
   "outputs": [
    {
     "data": {
      "text/html": [
       "<div>\n",
       "<table border=\"1\" class=\"dataframe\">\n",
       "  <thead>\n",
       "    <tr style=\"text-align: right;\">\n",
       "      <th></th>\n",
       "      <th>hero</th>\n",
       "      <th>strength</th>\n",
       "    </tr>\n",
       "  </thead>\n",
       "  <tbody>\n",
       "    <tr>\n",
       "      <th>0</th>\n",
       "      <td>Batman</td>\n",
       "      <td>400</td>\n",
       "    </tr>\n",
       "    <tr>\n",
       "      <th>1</th>\n",
       "      <td>Robin</td>\n",
       "      <td>200</td>\n",
       "    </tr>\n",
       "    <tr>\n",
       "      <th>2</th>\n",
       "      <td>Spiderman</td>\n",
       "      <td>300</td>\n",
       "    </tr>\n",
       "    <tr>\n",
       "      <th>3</th>\n",
       "      <td>Robocop</td>\n",
       "      <td>400</td>\n",
       "    </tr>\n",
       "    <tr>\n",
       "      <th>4</th>\n",
       "      <td>Terminator</td>\n",
       "      <td>500</td>\n",
       "    </tr>\n",
       "  </tbody>\n",
       "</table>\n",
       "</div>"
      ],
      "text/plain": [
       "         hero  strength\n",
       "0      Batman       400\n",
       "1       Robin       200\n",
       "2   Spiderman       300\n",
       "3     Robocop       400\n",
       "4  Terminator       500"
      ]
     },
     "execution_count": 32,
     "metadata": {},
     "output_type": "execute_result"
    }
   ],
   "source": [
    "heroes"
   ]
  },
  {
   "cell_type": "code",
   "execution_count": 33,
   "metadata": {
    "collapsed": false
   },
   "outputs": [
    {
     "data": {
      "text/plain": [
       "0     True\n",
       "1    False\n",
       "2    False\n",
       "3     True\n",
       "4    False\n",
       "Name: strength, dtype: bool"
      ]
     },
     "execution_count": 33,
     "metadata": {},
     "output_type": "execute_result"
    }
   ],
   "source": [
    "heroes['strength'] == 400"
   ]
  },
  {
   "cell_type": "code",
   "execution_count": 34,
   "metadata": {
    "collapsed": false
   },
   "outputs": [
    {
     "data": {
      "text/plain": [
       "0     True\n",
       "1    False\n",
       "2    False\n",
       "3     True\n",
       "4    False\n",
       "Name: strength, dtype: bool"
      ]
     },
     "execution_count": 34,
     "metadata": {},
     "output_type": "execute_result"
    }
   ],
   "source": [
    "heroes.strength == 400"
   ]
  },
  {
   "cell_type": "markdown",
   "metadata": {},
   "source": [
    "Boolean indexing"
   ]
  },
  {
   "cell_type": "code",
   "execution_count": 35,
   "metadata": {
    "collapsed": false
   },
   "outputs": [
    {
     "data": {
      "text/html": [
       "<div>\n",
       "<table border=\"1\" class=\"dataframe\">\n",
       "  <thead>\n",
       "    <tr style=\"text-align: right;\">\n",
       "      <th></th>\n",
       "      <th>hero</th>\n",
       "      <th>strength</th>\n",
       "    </tr>\n",
       "  </thead>\n",
       "  <tbody>\n",
       "    <tr>\n",
       "      <th>0</th>\n",
       "      <td>Batman</td>\n",
       "      <td>400</td>\n",
       "    </tr>\n",
       "    <tr>\n",
       "      <th>3</th>\n",
       "      <td>Robocop</td>\n",
       "      <td>400</td>\n",
       "    </tr>\n",
       "  </tbody>\n",
       "</table>\n",
       "</div>"
      ],
      "text/plain": [
       "      hero  strength\n",
       "0   Batman       400\n",
       "3  Robocop       400"
      ]
     },
     "execution_count": 35,
     "metadata": {},
     "output_type": "execute_result"
    }
   ],
   "source": [
    "heroes[heroes['strength'] == 400]"
   ]
  },
  {
   "cell_type": "code",
   "execution_count": 36,
   "metadata": {
    "collapsed": false
   },
   "outputs": [
    {
     "data": {
      "text/html": [
       "<div>\n",
       "<table border=\"1\" class=\"dataframe\">\n",
       "  <thead>\n",
       "    <tr style=\"text-align: right;\">\n",
       "      <th></th>\n",
       "      <th>hero</th>\n",
       "      <th>strength</th>\n",
       "    </tr>\n",
       "  </thead>\n",
       "  <tbody>\n",
       "    <tr>\n",
       "      <th>4</th>\n",
       "      <td>Terminator</td>\n",
       "      <td>500</td>\n",
       "    </tr>\n",
       "  </tbody>\n",
       "</table>\n",
       "</div>"
      ],
      "text/plain": [
       "         hero  strength\n",
       "4  Terminator       500"
      ]
     },
     "execution_count": 36,
     "metadata": {},
     "output_type": "execute_result"
    }
   ],
   "source": [
    "heroes[heroes['strength'] > 400]"
   ]
  },
  {
   "cell_type": "code",
   "execution_count": 37,
   "metadata": {
    "collapsed": false
   },
   "outputs": [],
   "source": [
    "# heroes[200 < heroes['strength'] < 400]"
   ]
  },
  {
   "cell_type": "code",
   "execution_count": 38,
   "metadata": {
    "collapsed": false
   },
   "outputs": [
    {
     "data": {
      "text/html": [
       "<div>\n",
       "<table border=\"1\" class=\"dataframe\">\n",
       "  <thead>\n",
       "    <tr style=\"text-align: right;\">\n",
       "      <th></th>\n",
       "      <th>hero</th>\n",
       "      <th>strength</th>\n",
       "    </tr>\n",
       "  </thead>\n",
       "  <tbody>\n",
       "    <tr>\n",
       "      <th>2</th>\n",
       "      <td>Spiderman</td>\n",
       "      <td>300</td>\n",
       "    </tr>\n",
       "  </tbody>\n",
       "</table>\n",
       "</div>"
      ],
      "text/plain": [
       "        hero  strength\n",
       "2  Spiderman       300"
      ]
     },
     "execution_count": 38,
     "metadata": {},
     "output_type": "execute_result"
    }
   ],
   "source": [
    "heroes[\n",
    "    (heroes['strength'] > 200) & \n",
    "    (heroes['strength'] < 400)\n",
    "]"
   ]
  },
  {
   "cell_type": "code",
   "execution_count": 39,
   "metadata": {
    "collapsed": false
   },
   "outputs": [
    {
     "data": {
      "text/html": [
       "<div>\n",
       "<table border=\"1\" class=\"dataframe\">\n",
       "  <thead>\n",
       "    <tr style=\"text-align: right;\">\n",
       "      <th></th>\n",
       "      <th>hero</th>\n",
       "      <th>strength</th>\n",
       "    </tr>\n",
       "  </thead>\n",
       "  <tbody>\n",
       "    <tr>\n",
       "      <th>0</th>\n",
       "      <td>Batman</td>\n",
       "      <td>400</td>\n",
       "    </tr>\n",
       "    <tr>\n",
       "      <th>1</th>\n",
       "      <td>Robin</td>\n",
       "      <td>200</td>\n",
       "    </tr>\n",
       "    <tr>\n",
       "      <th>3</th>\n",
       "      <td>Robocop</td>\n",
       "      <td>400</td>\n",
       "    </tr>\n",
       "    <tr>\n",
       "      <th>4</th>\n",
       "      <td>Terminator</td>\n",
       "      <td>500</td>\n",
       "    </tr>\n",
       "  </tbody>\n",
       "</table>\n",
       "</div>"
      ],
      "text/plain": [
       "         hero  strength\n",
       "0      Batman       400\n",
       "1       Robin       200\n",
       "3     Robocop       400\n",
       "4  Terminator       500"
      ]
     },
     "execution_count": 39,
     "metadata": {},
     "output_type": "execute_result"
    }
   ],
   "source": [
    "heroes[\n",
    "    (heroes['strength'] <= 200) |\n",
    "    (heroes['strength'] >= 400)\n",
    "]"
   ]
  },
  {
   "cell_type": "markdown",
   "metadata": {},
   "source": [
    "`~` is a negation operator"
   ]
  },
  {
   "cell_type": "code",
   "execution_count": 40,
   "metadata": {
    "collapsed": false
   },
   "outputs": [
    {
     "data": {
      "text/plain": [
       "0    False\n",
       "1     True\n",
       "2     True\n",
       "3    False\n",
       "4     True\n",
       "Name: strength, dtype: bool"
      ]
     },
     "execution_count": 40,
     "metadata": {},
     "output_type": "execute_result"
    }
   ],
   "source": [
    "~(heroes['strength'] == 400)"
   ]
  },
  {
   "cell_type": "code",
   "execution_count": 41,
   "metadata": {
    "collapsed": false
   },
   "outputs": [
    {
     "data": {
      "text/html": [
       "<div>\n",
       "<table border=\"1\" class=\"dataframe\">\n",
       "  <thead>\n",
       "    <tr style=\"text-align: right;\">\n",
       "      <th></th>\n",
       "      <th>hero</th>\n",
       "      <th>strength</th>\n",
       "    </tr>\n",
       "  </thead>\n",
       "  <tbody>\n",
       "    <tr>\n",
       "      <th>2</th>\n",
       "      <td>Spiderman</td>\n",
       "      <td>300</td>\n",
       "    </tr>\n",
       "  </tbody>\n",
       "</table>\n",
       "</div>"
      ],
      "text/plain": [
       "        hero  strength\n",
       "2  Spiderman       300"
      ]
     },
     "execution_count": 41,
     "metadata": {},
     "output_type": "execute_result"
    }
   ],
   "source": [
    "heroes[~(\n",
    "    (heroes['strength'] <= 200) |\n",
    "    (heroes['strength'] >= 400)\n",
    ")]"
   ]
  },
  {
   "cell_type": "code",
   "execution_count": 42,
   "metadata": {
    "collapsed": false
   },
   "outputs": [
    {
     "data": {
      "text/html": [
       "<div>\n",
       "<table border=\"1\" class=\"dataframe\">\n",
       "  <thead>\n",
       "    <tr style=\"text-align: right;\">\n",
       "      <th></th>\n",
       "      <th>hero</th>\n",
       "      <th>strength</th>\n",
       "    </tr>\n",
       "  </thead>\n",
       "  <tbody>\n",
       "    <tr>\n",
       "      <th>0</th>\n",
       "      <td>Batman</td>\n",
       "      <td>400</td>\n",
       "    </tr>\n",
       "    <tr>\n",
       "      <th>1</th>\n",
       "      <td>Robin</td>\n",
       "      <td>200</td>\n",
       "    </tr>\n",
       "  </tbody>\n",
       "</table>\n",
       "</div>"
      ],
      "text/plain": [
       "     hero  strength\n",
       "0  Batman       400\n",
       "1   Robin       200"
      ]
     },
     "execution_count": 42,
     "metadata": {},
     "output_type": "execute_result"
    }
   ],
   "source": [
    "heroes[\n",
    "    heroes['hero'].isin(['Batman', 'Robin'])\n",
    "]"
   ]
  },
  {
   "cell_type": "markdown",
   "metadata": {},
   "source": [
    "### EXERCISE\n",
    "\n",
    "1. What movies has been directed by Clint Eastwood?\n",
    "2. What movies have earned above $500m?\n",
    "3. Are there any Polish movies?\n",
    "4. What % of movies are in color?\n",
    "5. What are really popular great movies? (> 100k FB likes, > 8.5 IMDB score)\n",
    "6. In what movies main role was played by brutals like \"Jason Statham\", \"Sylvester Stallone\" or god (\"Morgan Freeman\")?"
   ]
  },
  {
   "cell_type": "code",
   "execution_count": 43,
   "metadata": {
    "collapsed": false
   },
   "outputs": [
    {
     "data": {
      "text/html": [
       "<div>\n",
       "<table border=\"1\" class=\"dataframe\">\n",
       "  <thead>\n",
       "    <tr style=\"text-align: right;\">\n",
       "      <th></th>\n",
       "      <th>color</th>\n",
       "      <th>director_name</th>\n",
       "      <th>num_critic_for_reviews</th>\n",
       "      <th>duration</th>\n",
       "      <th>director_facebook_likes</th>\n",
       "      <th>actor_3_facebook_likes</th>\n",
       "      <th>actor_2_name</th>\n",
       "      <th>actor_1_facebook_likes</th>\n",
       "      <th>gross</th>\n",
       "      <th>genres</th>\n",
       "      <th>...</th>\n",
       "      <th>num_user_for_reviews</th>\n",
       "      <th>language</th>\n",
       "      <th>country</th>\n",
       "      <th>content_rating</th>\n",
       "      <th>budget</th>\n",
       "      <th>title_year</th>\n",
       "      <th>actor_2_facebook_likes</th>\n",
       "      <th>imdb_score</th>\n",
       "      <th>aspect_ratio</th>\n",
       "      <th>movie_facebook_likes</th>\n",
       "    </tr>\n",
       "  </thead>\n",
       "  <tbody>\n",
       "    <tr>\n",
       "      <th>664</th>\n",
       "      <td>Black and White</td>\n",
       "      <td>Clint Eastwood</td>\n",
       "      <td>169.0</td>\n",
       "      <td>130.0</td>\n",
       "      <td>16000.0</td>\n",
       "      <td>416.0</td>\n",
       "      <td>Courtney B. Vance</td>\n",
       "      <td>16000.0</td>\n",
       "      <td>90454043.0</td>\n",
       "      <td>Action|Adventure|Thriller</td>\n",
       "      <td>...</td>\n",
       "      <td>326.0</td>\n",
       "      <td>English</td>\n",
       "      <td>USA</td>\n",
       "      <td>PG-13</td>\n",
       "      <td>65000000.0</td>\n",
       "      <td>2000.0</td>\n",
       "      <td>495.0</td>\n",
       "      <td>6.4</td>\n",
       "      <td>2.35</td>\n",
       "      <td>0</td>\n",
       "    </tr>\n",
       "    <tr>\n",
       "      <th>772</th>\n",
       "      <td>Color</td>\n",
       "      <td>Clint Eastwood</td>\n",
       "      <td>306.0</td>\n",
       "      <td>134.0</td>\n",
       "      <td>16000.0</td>\n",
       "      <td>204.0</td>\n",
       "      <td>Morgan Freeman</td>\n",
       "      <td>13000.0</td>\n",
       "      <td>37479778.0</td>\n",
       "      <td>Biography|Drama|History|Sport</td>\n",
       "      <td>...</td>\n",
       "      <td>259.0</td>\n",
       "      <td>English</td>\n",
       "      <td>USA</td>\n",
       "      <td>PG-13</td>\n",
       "      <td>60000000.0</td>\n",
       "      <td>2009.0</td>\n",
       "      <td>11000.0</td>\n",
       "      <td>7.4</td>\n",
       "      <td>2.35</td>\n",
       "      <td>23000</td>\n",
       "    </tr>\n",
       "    <tr>\n",
       "      <th>814</th>\n",
       "      <td>Color</td>\n",
       "      <td>Clint Eastwood</td>\n",
       "      <td>490.0</td>\n",
       "      <td>133.0</td>\n",
       "      <td>16000.0</td>\n",
       "      <td>318.0</td>\n",
       "      <td>Leonard Roberts</td>\n",
       "      <td>14000.0</td>\n",
       "      <td>350123553.0</td>\n",
       "      <td>Action|Biography|Drama|History|Thriller|War</td>\n",
       "      <td>...</td>\n",
       "      <td>916.0</td>\n",
       "      <td>English</td>\n",
       "      <td>USA</td>\n",
       "      <td>R</td>\n",
       "      <td>58800000.0</td>\n",
       "      <td>2014.0</td>\n",
       "      <td>962.0</td>\n",
       "      <td>7.3</td>\n",
       "      <td>2.35</td>\n",
       "      <td>112000</td>\n",
       "    </tr>\n",
       "    <tr>\n",
       "      <th>877</th>\n",
       "      <td>Color</td>\n",
       "      <td>Clint Eastwood</td>\n",
       "      <td>264.0</td>\n",
       "      <td>141.0</td>\n",
       "      <td>16000.0</td>\n",
       "      <td>539.0</td>\n",
       "      <td>Michael Kelly</td>\n",
       "      <td>11000.0</td>\n",
       "      <td>35707327.0</td>\n",
       "      <td>Crime|Drama|Mystery|Thriller</td>\n",
       "      <td>...</td>\n",
       "      <td>387.0</td>\n",
       "      <td>English</td>\n",
       "      <td>USA</td>\n",
       "      <td>R</td>\n",
       "      <td>55000000.0</td>\n",
       "      <td>2008.0</td>\n",
       "      <td>963.0</td>\n",
       "      <td>7.8</td>\n",
       "      <td>2.35</td>\n",
       "      <td>14000</td>\n",
       "    </tr>\n",
       "    <tr>\n",
       "      <th>906</th>\n",
       "      <td>Color</td>\n",
       "      <td>Clint Eastwood</td>\n",
       "      <td>279.0</td>\n",
       "      <td>135.0</td>\n",
       "      <td>16000.0</td>\n",
       "      <td>310.0</td>\n",
       "      <td>Chris Bauer</td>\n",
       "      <td>23000.0</td>\n",
       "      <td>33574332.0</td>\n",
       "      <td>Drama|History|War</td>\n",
       "      <td>...</td>\n",
       "      <td>415.0</td>\n",
       "      <td>English</td>\n",
       "      <td>USA</td>\n",
       "      <td>R</td>\n",
       "      <td>90000000.0</td>\n",
       "      <td>2006.0</td>\n",
       "      <td>638.0</td>\n",
       "      <td>7.1</td>\n",
       "      <td>2.35</td>\n",
       "      <td>0</td>\n",
       "    </tr>\n",
       "    <tr>\n",
       "      <th>973</th>\n",
       "      <td>Color</td>\n",
       "      <td>Clint Eastwood</td>\n",
       "      <td>76.0</td>\n",
       "      <td>121.0</td>\n",
       "      <td>16000.0</td>\n",
       "      <td>826.0</td>\n",
       "      <td>Mark Margolis</td>\n",
       "      <td>16000.0</td>\n",
       "      <td>50007168.0</td>\n",
       "      <td>Action|Crime|Drama|Thriller</td>\n",
       "      <td>...</td>\n",
       "      <td>142.0</td>\n",
       "      <td>English</td>\n",
       "      <td>USA</td>\n",
       "      <td>R</td>\n",
       "      <td>50000000.0</td>\n",
       "      <td>1997.0</td>\n",
       "      <td>1000.0</td>\n",
       "      <td>6.7</td>\n",
       "      <td>2.35</td>\n",
       "      <td>1000</td>\n",
       "    </tr>\n",
       "    <tr>\n",
       "      <th>997</th>\n",
       "      <td>Color</td>\n",
       "      <td>Clint Eastwood</td>\n",
       "      <td>315.0</td>\n",
       "      <td>129.0</td>\n",
       "      <td>16000.0</td>\n",
       "      <td>447.0</td>\n",
       "      <td>Jay Mohr</td>\n",
       "      <td>13000.0</td>\n",
       "      <td>32741596.0</td>\n",
       "      <td>Drama|Fantasy</td>\n",
       "      <td>...</td>\n",
       "      <td>323.0</td>\n",
       "      <td>English</td>\n",
       "      <td>USA</td>\n",
       "      <td>PG-13</td>\n",
       "      <td>50000000.0</td>\n",
       "      <td>2010.0</td>\n",
       "      <td>563.0</td>\n",
       "      <td>6.5</td>\n",
       "      <td>2.35</td>\n",
       "      <td>16000</td>\n",
       "    </tr>\n",
       "    <tr>\n",
       "      <th>1004</th>\n",
       "      <td>Color</td>\n",
       "      <td>Clint Eastwood</td>\n",
       "      <td>146.0</td>\n",
       "      <td>110.0</td>\n",
       "      <td>16000.0</td>\n",
       "      <td>581.0</td>\n",
       "      <td>Anjelica Huston</td>\n",
       "      <td>16000.0</td>\n",
       "      <td>26199517.0</td>\n",
       "      <td>Action|Crime|Drama|Mystery|Thriller</td>\n",
       "      <td>...</td>\n",
       "      <td>260.0</td>\n",
       "      <td>English</td>\n",
       "      <td>USA</td>\n",
       "      <td>R</td>\n",
       "      <td>50000000.0</td>\n",
       "      <td>2002.0</td>\n",
       "      <td>1000.0</td>\n",
       "      <td>6.4</td>\n",
       "      <td>2.35</td>\n",
       "      <td>705</td>\n",
       "    </tr>\n",
       "    <tr>\n",
       "      <th>1245</th>\n",
       "      <td>Color</td>\n",
       "      <td>Clint Eastwood</td>\n",
       "      <td>249.0</td>\n",
       "      <td>134.0</td>\n",
       "      <td>16000.0</td>\n",
       "      <td>235.0</td>\n",
       "      <td>Steve Schirripa</td>\n",
       "      <td>880.0</td>\n",
       "      <td>47034272.0</td>\n",
       "      <td>Biography|Drama|Music|Musical</td>\n",
       "      <td>...</td>\n",
       "      <td>190.0</td>\n",
       "      <td>English</td>\n",
       "      <td>USA</td>\n",
       "      <td>R</td>\n",
       "      <td>40000000.0</td>\n",
       "      <td>2014.0</td>\n",
       "      <td>413.0</td>\n",
       "      <td>6.9</td>\n",
       "      <td>2.35</td>\n",
       "      <td>16000</td>\n",
       "    </tr>\n",
       "    <tr>\n",
       "      <th>1453</th>\n",
       "      <td>Color</td>\n",
       "      <td>Clint Eastwood</td>\n",
       "      <td>392.0</td>\n",
       "      <td>137.0</td>\n",
       "      <td>16000.0</td>\n",
       "      <td>363.0</td>\n",
       "      <td>Naomi Watts</td>\n",
       "      <td>29000.0</td>\n",
       "      <td>37304950.0</td>\n",
       "      <td>Biography|Crime|Drama</td>\n",
       "      <td>...</td>\n",
       "      <td>279.0</td>\n",
       "      <td>English</td>\n",
       "      <td>USA</td>\n",
       "      <td>R</td>\n",
       "      <td>35000000.0</td>\n",
       "      <td>2011.0</td>\n",
       "      <td>6000.0</td>\n",
       "      <td>6.6</td>\n",
       "      <td>2.35</td>\n",
       "      <td>16000</td>\n",
       "    </tr>\n",
       "    <tr>\n",
       "      <th>1462</th>\n",
       "      <td>Color</td>\n",
       "      <td>Clint Eastwood</td>\n",
       "      <td>91.0</td>\n",
       "      <td>155.0</td>\n",
       "      <td>16000.0</td>\n",
       "      <td>229.0</td>\n",
       "      <td>Bob Gunton</td>\n",
       "      <td>18000.0</td>\n",
       "      <td>25078937.0</td>\n",
       "      <td>Crime|Drama|Mystery|Thriller</td>\n",
       "      <td>...</td>\n",
       "      <td>216.0</td>\n",
       "      <td>English</td>\n",
       "      <td>USA</td>\n",
       "      <td>R</td>\n",
       "      <td>30000000.0</td>\n",
       "      <td>1997.0</td>\n",
       "      <td>461.0</td>\n",
       "      <td>6.6</td>\n",
       "      <td>1.85</td>\n",
       "      <td>0</td>\n",
       "    </tr>\n",
       "    <tr>\n",
       "      <th>1603</th>\n",
       "      <td>Color</td>\n",
       "      <td>Clint Eastwood</td>\n",
       "      <td>229.0</td>\n",
       "      <td>138.0</td>\n",
       "      <td>16000.0</td>\n",
       "      <td>262.0</td>\n",
       "      <td>Spencer Treat Clark</td>\n",
       "      <td>616.0</td>\n",
       "      <td>90135191.0</td>\n",
       "      <td>Crime|Drama|Mystery|Thriller</td>\n",
       "      <td>...</td>\n",
       "      <td>935.0</td>\n",
       "      <td>English</td>\n",
       "      <td>USA</td>\n",
       "      <td>R</td>\n",
       "      <td>25000000.0</td>\n",
       "      <td>2003.0</td>\n",
       "      <td>541.0</td>\n",
       "      <td>8.0</td>\n",
       "      <td>2.35</td>\n",
       "      <td>12000</td>\n",
       "    </tr>\n",
       "    <tr>\n",
       "      <th>1604</th>\n",
       "      <td>Color</td>\n",
       "      <td>Clint Eastwood</td>\n",
       "      <td>268.0</td>\n",
       "      <td>132.0</td>\n",
       "      <td>16000.0</td>\n",
       "      <td>567.0</td>\n",
       "      <td>Morgan Freeman</td>\n",
       "      <td>16000.0</td>\n",
       "      <td>100422786.0</td>\n",
       "      <td>Drama|Sport</td>\n",
       "      <td>...</td>\n",
       "      <td>1106.0</td>\n",
       "      <td>English</td>\n",
       "      <td>USA</td>\n",
       "      <td>PG-13</td>\n",
       "      <td>30000000.0</td>\n",
       "      <td>2004.0</td>\n",
       "      <td>11000.0</td>\n",
       "      <td>8.1</td>\n",
       "      <td>2.35</td>\n",
       "      <td>14000</td>\n",
       "    </tr>\n",
       "    <tr>\n",
       "      <th>1869</th>\n",
       "      <td>Color</td>\n",
       "      <td>Clint Eastwood</td>\n",
       "      <td>366.0</td>\n",
       "      <td>116.0</td>\n",
       "      <td>16000.0</td>\n",
       "      <td>198.0</td>\n",
       "      <td>Dreama Walker</td>\n",
       "      <td>16000.0</td>\n",
       "      <td>148085755.0</td>\n",
       "      <td>Drama</td>\n",
       "      <td>...</td>\n",
       "      <td>871.0</td>\n",
       "      <td>English</td>\n",
       "      <td>USA</td>\n",
       "      <td>R</td>\n",
       "      <td>33000000.0</td>\n",
       "      <td>2008.0</td>\n",
       "      <td>601.0</td>\n",
       "      <td>8.2</td>\n",
       "      <td>2.35</td>\n",
       "      <td>28000</td>\n",
       "    </tr>\n",
       "    <tr>\n",
       "      <th>2086</th>\n",
       "      <td>Color</td>\n",
       "      <td>Clint Eastwood</td>\n",
       "      <td>69.0</td>\n",
       "      <td>135.0</td>\n",
       "      <td>16000.0</td>\n",
       "      <td>86.0</td>\n",
       "      <td>Meryl Streep</td>\n",
       "      <td>16000.0</td>\n",
       "      <td>70960517.0</td>\n",
       "      <td>Drama|Romance</td>\n",
       "      <td>...</td>\n",
       "      <td>192.0</td>\n",
       "      <td>English</td>\n",
       "      <td>USA</td>\n",
       "      <td>PG-13</td>\n",
       "      <td>35000000.0</td>\n",
       "      <td>1995.0</td>\n",
       "      <td>11000.0</td>\n",
       "      <td>7.5</td>\n",
       "      <td>1.85</td>\n",
       "      <td>0</td>\n",
       "    </tr>\n",
       "    <tr>\n",
       "      <th>2132</th>\n",
       "      <td>Color</td>\n",
       "      <td>Clint Eastwood</td>\n",
       "      <td>43.0</td>\n",
       "      <td>136.0</td>\n",
       "      <td>16000.0</td>\n",
       "      <td>216.0</td>\n",
       "      <td>Warren Clarke</td>\n",
       "      <td>16000.0</td>\n",
       "      <td>46700000.0</td>\n",
       "      <td>Action|Adventure|Thriller</td>\n",
       "      <td>...</td>\n",
       "      <td>98.0</td>\n",
       "      <td>English</td>\n",
       "      <td>USA</td>\n",
       "      <td>PG</td>\n",
       "      <td>21000000.0</td>\n",
       "      <td>1982.0</td>\n",
       "      <td>281.0</td>\n",
       "      <td>5.9</td>\n",
       "      <td>2.35</td>\n",
       "      <td>0</td>\n",
       "    </tr>\n",
       "    <tr>\n",
       "      <th>2760</th>\n",
       "      <td>Color</td>\n",
       "      <td>Clint Eastwood</td>\n",
       "      <td>131.0</td>\n",
       "      <td>131.0</td>\n",
       "      <td>16000.0</td>\n",
       "      <td>638.0</td>\n",
       "      <td>Morgan Freeman</td>\n",
       "      <td>16000.0</td>\n",
       "      <td>101157447.0</td>\n",
       "      <td>Drama|Western</td>\n",
       "      <td>...</td>\n",
       "      <td>495.0</td>\n",
       "      <td>English</td>\n",
       "      <td>USA</td>\n",
       "      <td>R</td>\n",
       "      <td>14400000.0</td>\n",
       "      <td>1992.0</td>\n",
       "      <td>11000.0</td>\n",
       "      <td>8.3</td>\n",
       "      <td>2.35</td>\n",
       "      <td>10000</td>\n",
       "    </tr>\n",
       "    <tr>\n",
       "      <th>2863</th>\n",
       "      <td>Color</td>\n",
       "      <td>Clint Eastwood</td>\n",
       "      <td>251.0</td>\n",
       "      <td>141.0</td>\n",
       "      <td>16000.0</td>\n",
       "      <td>78.0</td>\n",
       "      <td>Kazunari Ninomiya</td>\n",
       "      <td>378.0</td>\n",
       "      <td>13753931.0</td>\n",
       "      <td>Drama|History|War</td>\n",
       "      <td>...</td>\n",
       "      <td>316.0</td>\n",
       "      <td>Japanese</td>\n",
       "      <td>USA</td>\n",
       "      <td>R</td>\n",
       "      <td>19000000.0</td>\n",
       "      <td>2006.0</td>\n",
       "      <td>85.0</td>\n",
       "      <td>7.9</td>\n",
       "      <td>2.35</td>\n",
       "      <td>5000</td>\n",
       "    </tr>\n",
       "    <tr>\n",
       "      <th>3540</th>\n",
       "      <td>Color</td>\n",
       "      <td>Clint Eastwood</td>\n",
       "      <td>38.0</td>\n",
       "      <td>115.0</td>\n",
       "      <td>16000.0</td>\n",
       "      <td>240.0</td>\n",
       "      <td>Chris Penn</td>\n",
       "      <td>16000.0</td>\n",
       "      <td>41400000.0</td>\n",
       "      <td>Western</td>\n",
       "      <td>...</td>\n",
       "      <td>138.0</td>\n",
       "      <td>English</td>\n",
       "      <td>USA</td>\n",
       "      <td>R</td>\n",
       "      <td>6900000.0</td>\n",
       "      <td>1985.0</td>\n",
       "      <td>455.0</td>\n",
       "      <td>7.3</td>\n",
       "      <td>2.35</td>\n",
       "      <td>0</td>\n",
       "    </tr>\n",
       "    <tr>\n",
       "      <th>3673</th>\n",
       "      <td>Color</td>\n",
       "      <td>Clint Eastwood</td>\n",
       "      <td>72.0</td>\n",
       "      <td>105.0</td>\n",
       "      <td>16000.0</td>\n",
       "      <td>258.0</td>\n",
       "      <td>Richard Bull</td>\n",
       "      <td>16000.0</td>\n",
       "      <td>NaN</td>\n",
       "      <td>Mystery|Western</td>\n",
       "      <td>...</td>\n",
       "      <td>169.0</td>\n",
       "      <td>English</td>\n",
       "      <td>USA</td>\n",
       "      <td>R</td>\n",
       "      <td>5500000.0</td>\n",
       "      <td>1973.0</td>\n",
       "      <td>742.0</td>\n",
       "      <td>7.6</td>\n",
       "      <td>2.35</td>\n",
       "      <td>0</td>\n",
       "    </tr>\n",
       "  </tbody>\n",
       "</table>\n",
       "<p>20 rows × 28 columns</p>\n",
       "</div>"
      ],
      "text/plain": [
       "                 color   director_name  num_critic_for_reviews  duration  \\\n",
       "664    Black and White  Clint Eastwood                   169.0     130.0   \n",
       "772              Color  Clint Eastwood                   306.0     134.0   \n",
       "814              Color  Clint Eastwood                   490.0     133.0   \n",
       "877              Color  Clint Eastwood                   264.0     141.0   \n",
       "906              Color  Clint Eastwood                   279.0     135.0   \n",
       "973              Color  Clint Eastwood                    76.0     121.0   \n",
       "997              Color  Clint Eastwood                   315.0     129.0   \n",
       "1004             Color  Clint Eastwood                   146.0     110.0   \n",
       "1245             Color  Clint Eastwood                   249.0     134.0   \n",
       "1453             Color  Clint Eastwood                   392.0     137.0   \n",
       "1462             Color  Clint Eastwood                    91.0     155.0   \n",
       "1603             Color  Clint Eastwood                   229.0     138.0   \n",
       "1604             Color  Clint Eastwood                   268.0     132.0   \n",
       "1869             Color  Clint Eastwood                   366.0     116.0   \n",
       "2086             Color  Clint Eastwood                    69.0     135.0   \n",
       "2132             Color  Clint Eastwood                    43.0     136.0   \n",
       "2760             Color  Clint Eastwood                   131.0     131.0   \n",
       "2863             Color  Clint Eastwood                   251.0     141.0   \n",
       "3540             Color  Clint Eastwood                    38.0     115.0   \n",
       "3673             Color  Clint Eastwood                    72.0     105.0   \n",
       "\n",
       "      director_facebook_likes  actor_3_facebook_likes         actor_2_name  \\\n",
       "664                   16000.0                   416.0    Courtney B. Vance   \n",
       "772                   16000.0                   204.0       Morgan Freeman   \n",
       "814                   16000.0                   318.0      Leonard Roberts   \n",
       "877                   16000.0                   539.0        Michael Kelly   \n",
       "906                   16000.0                   310.0          Chris Bauer   \n",
       "973                   16000.0                   826.0        Mark Margolis   \n",
       "997                   16000.0                   447.0             Jay Mohr   \n",
       "1004                  16000.0                   581.0      Anjelica Huston   \n",
       "1245                  16000.0                   235.0      Steve Schirripa   \n",
       "1453                  16000.0                   363.0          Naomi Watts   \n",
       "1462                  16000.0                   229.0           Bob Gunton   \n",
       "1603                  16000.0                   262.0  Spencer Treat Clark   \n",
       "1604                  16000.0                   567.0       Morgan Freeman   \n",
       "1869                  16000.0                   198.0        Dreama Walker   \n",
       "2086                  16000.0                    86.0         Meryl Streep   \n",
       "2132                  16000.0                   216.0        Warren Clarke   \n",
       "2760                  16000.0                   638.0       Morgan Freeman   \n",
       "2863                  16000.0                    78.0    Kazunari Ninomiya   \n",
       "3540                  16000.0                   240.0           Chris Penn   \n",
       "3673                  16000.0                   258.0         Richard Bull   \n",
       "\n",
       "      actor_1_facebook_likes        gross  \\\n",
       "664                  16000.0   90454043.0   \n",
       "772                  13000.0   37479778.0   \n",
       "814                  14000.0  350123553.0   \n",
       "877                  11000.0   35707327.0   \n",
       "906                  23000.0   33574332.0   \n",
       "973                  16000.0   50007168.0   \n",
       "997                  13000.0   32741596.0   \n",
       "1004                 16000.0   26199517.0   \n",
       "1245                   880.0   47034272.0   \n",
       "1453                 29000.0   37304950.0   \n",
       "1462                 18000.0   25078937.0   \n",
       "1603                   616.0   90135191.0   \n",
       "1604                 16000.0  100422786.0   \n",
       "1869                 16000.0  148085755.0   \n",
       "2086                 16000.0   70960517.0   \n",
       "2132                 16000.0   46700000.0   \n",
       "2760                 16000.0  101157447.0   \n",
       "2863                   378.0   13753931.0   \n",
       "3540                 16000.0   41400000.0   \n",
       "3673                 16000.0          NaN   \n",
       "\n",
       "                                           genres         ...           \\\n",
       "664                     Action|Adventure|Thriller         ...            \n",
       "772                 Biography|Drama|History|Sport         ...            \n",
       "814   Action|Biography|Drama|History|Thriller|War         ...            \n",
       "877                  Crime|Drama|Mystery|Thriller         ...            \n",
       "906                             Drama|History|War         ...            \n",
       "973                   Action|Crime|Drama|Thriller         ...            \n",
       "997                                 Drama|Fantasy         ...            \n",
       "1004          Action|Crime|Drama|Mystery|Thriller         ...            \n",
       "1245                Biography|Drama|Music|Musical         ...            \n",
       "1453                        Biography|Crime|Drama         ...            \n",
       "1462                 Crime|Drama|Mystery|Thriller         ...            \n",
       "1603                 Crime|Drama|Mystery|Thriller         ...            \n",
       "1604                                  Drama|Sport         ...            \n",
       "1869                                        Drama         ...            \n",
       "2086                                Drama|Romance         ...            \n",
       "2132                    Action|Adventure|Thriller         ...            \n",
       "2760                                Drama|Western         ...            \n",
       "2863                            Drama|History|War         ...            \n",
       "3540                                      Western         ...            \n",
       "3673                              Mystery|Western         ...            \n",
       "\n",
       "     num_user_for_reviews  language  country  content_rating      budget  \\\n",
       "664                 326.0   English      USA           PG-13  65000000.0   \n",
       "772                 259.0   English      USA           PG-13  60000000.0   \n",
       "814                 916.0   English      USA               R  58800000.0   \n",
       "877                 387.0   English      USA               R  55000000.0   \n",
       "906                 415.0   English      USA               R  90000000.0   \n",
       "973                 142.0   English      USA               R  50000000.0   \n",
       "997                 323.0   English      USA           PG-13  50000000.0   \n",
       "1004                260.0   English      USA               R  50000000.0   \n",
       "1245                190.0   English      USA               R  40000000.0   \n",
       "1453                279.0   English      USA               R  35000000.0   \n",
       "1462                216.0   English      USA               R  30000000.0   \n",
       "1603                935.0   English      USA               R  25000000.0   \n",
       "1604               1106.0   English      USA           PG-13  30000000.0   \n",
       "1869                871.0   English      USA               R  33000000.0   \n",
       "2086                192.0   English      USA           PG-13  35000000.0   \n",
       "2132                 98.0   English      USA              PG  21000000.0   \n",
       "2760                495.0   English      USA               R  14400000.0   \n",
       "2863                316.0  Japanese      USA               R  19000000.0   \n",
       "3540                138.0   English      USA               R   6900000.0   \n",
       "3673                169.0   English      USA               R   5500000.0   \n",
       "\n",
       "      title_year actor_2_facebook_likes imdb_score  aspect_ratio  \\\n",
       "664       2000.0                  495.0        6.4          2.35   \n",
       "772       2009.0                11000.0        7.4          2.35   \n",
       "814       2014.0                  962.0        7.3          2.35   \n",
       "877       2008.0                  963.0        7.8          2.35   \n",
       "906       2006.0                  638.0        7.1          2.35   \n",
       "973       1997.0                 1000.0        6.7          2.35   \n",
       "997       2010.0                  563.0        6.5          2.35   \n",
       "1004      2002.0                 1000.0        6.4          2.35   \n",
       "1245      2014.0                  413.0        6.9          2.35   \n",
       "1453      2011.0                 6000.0        6.6          2.35   \n",
       "1462      1997.0                  461.0        6.6          1.85   \n",
       "1603      2003.0                  541.0        8.0          2.35   \n",
       "1604      2004.0                11000.0        8.1          2.35   \n",
       "1869      2008.0                  601.0        8.2          2.35   \n",
       "2086      1995.0                11000.0        7.5          1.85   \n",
       "2132      1982.0                  281.0        5.9          2.35   \n",
       "2760      1992.0                11000.0        8.3          2.35   \n",
       "2863      2006.0                   85.0        7.9          2.35   \n",
       "3540      1985.0                  455.0        7.3          2.35   \n",
       "3673      1973.0                  742.0        7.6          2.35   \n",
       "\n",
       "     movie_facebook_likes  \n",
       "664                     0  \n",
       "772                 23000  \n",
       "814                112000  \n",
       "877                 14000  \n",
       "906                     0  \n",
       "973                  1000  \n",
       "997                 16000  \n",
       "1004                  705  \n",
       "1245                16000  \n",
       "1453                16000  \n",
       "1462                    0  \n",
       "1603                12000  \n",
       "1604                14000  \n",
       "1869                28000  \n",
       "2086                    0  \n",
       "2132                    0  \n",
       "2760                10000  \n",
       "2863                 5000  \n",
       "3540                    0  \n",
       "3673                    0  \n",
       "\n",
       "[20 rows x 28 columns]"
      ]
     },
     "execution_count": 43,
     "metadata": {},
     "output_type": "execute_result"
    }
   ],
   "source": [
    "# Solution 1\n",
    "\n",
    "movies[movies['director_name'] == \"Clint Eastwood\"]"
   ]
  },
  {
   "cell_type": "code",
   "execution_count": 44,
   "metadata": {
    "collapsed": false
   },
   "outputs": [
    {
     "data": {
      "text/plain": [
       "0               Avatar \n",
       "17        The Avengers \n",
       "26             Titanic \n",
       "29      Jurassic World \n",
       "66     The Dark Knight \n",
       "794       The Avengers \n",
       "Name: movie_title, dtype: object"
      ]
     },
     "execution_count": 44,
     "metadata": {},
     "output_type": "execute_result"
    }
   ],
   "source": [
    "# Solution 2\n",
    "\n",
    "movies[movies['gross'] > 500e6]['movie_title']"
   ]
  },
  {
   "cell_type": "code",
   "execution_count": 45,
   "metadata": {
    "collapsed": false
   },
   "outputs": [
    {
     "data": {
      "text/plain": [
       "2824       Dekalog             \n",
       "2828    The Border             \n",
       "3207       Dekalog             \n",
       "4170                       Ida \n",
       "Name: movie_title, dtype: object"
      ]
     },
     "execution_count": 45,
     "metadata": {},
     "output_type": "execute_result"
    }
   ],
   "source": [
    "# Solution 3\n",
    "\n",
    "movies[movies['language'] == 'Polish']['movie_title']"
   ]
  },
  {
   "cell_type": "code",
   "execution_count": 46,
   "metadata": {
    "collapsed": false
   },
   "outputs": [
    {
     "data": {
      "text/plain": [
       "0.9547888161808448"
      ]
     },
     "execution_count": 46,
     "metadata": {},
     "output_type": "execute_result"
    }
   ],
   "source": [
    "# Solution 4\n",
    "\n",
    "movies[movies['color'] == 'Color'].shape[0] / float(movies.shape[0])"
   ]
  },
  {
   "cell_type": "code",
   "execution_count": 47,
   "metadata": {
    "collapsed": false
   },
   "outputs": [
    {
     "data": {
      "text/plain": [
       "96                  Interstellar \n",
       "97                     Inception \n",
       "1937    The Shawshank Redemption \n",
       "Name: movie_title, dtype: object"
      ]
     },
     "execution_count": 47,
     "metadata": {},
     "output_type": "execute_result"
    }
   ],
   "source": [
    "# Solution 5\n",
    "\n",
    "movies[\n",
    "    (movies['movie_facebook_likes'] > 100000) &\n",
    "    (movies['imdb_score'] > 8.5)\n",
    "]['movie_title']"
   ]
  },
  {
   "cell_type": "code",
   "execution_count": 48,
   "metadata": {
    "collapsed": false
   },
   "outputs": [
    {
     "data": {
      "text/plain": [
       "45             Furious 7 \n",
       "235             Oblivion \n",
       "299    The Expendables 2 \n",
       "317    The Expendables 3 \n",
       "367              Ben-Hur \n",
       "Name: movie_title, dtype: object"
      ]
     },
     "execution_count": 48,
     "metadata": {},
     "output_type": "execute_result"
    }
   ],
   "source": [
    "# Solution 6\n",
    "\n",
    "brutals = [\"Jason Statham\", \"Sylvester Stallone\"]\n",
    "god = \"Morgan Freeman\"\n",
    "\n",
    "movies[\n",
    "    (movies['actor_1_name'].isin(brutals)) |\n",
    "    (movies['actor_1_name'] == god) \n",
    "]['movie_title'].head()"
   ]
  },
  {
   "cell_type": "markdown",
   "metadata": {
    "collapsed": true
   },
   "source": [
    "## I/O part O"
   ]
  },
  {
   "cell_type": "code",
   "execution_count": 49,
   "metadata": {
    "collapsed": false
   },
   "outputs": [
    {
     "data": {
      "text/plain": [
       "array([['Batman', 400],\n",
       "       ['Robin', 200],\n",
       "       ['Spiderman', 300],\n",
       "       ['Robocop', 400],\n",
       "       ['Terminator', 500]], dtype=object)"
      ]
     },
     "execution_count": 49,
     "metadata": {},
     "output_type": "execute_result"
    }
   ],
   "source": [
    "heroes.values"
   ]
  },
  {
   "cell_type": "code",
   "execution_count": 50,
   "metadata": {
    "collapsed": false
   },
   "outputs": [
    {
     "data": {
      "text/plain": [
       "{'hero': {0: 'Batman',\n",
       "  1: 'Robin',\n",
       "  2: 'Spiderman',\n",
       "  3: 'Robocop',\n",
       "  4: 'Terminator'},\n",
       " 'strength': {0: 400, 1: 200, 2: 300, 3: 400, 4: 500}}"
      ]
     },
     "execution_count": 50,
     "metadata": {},
     "output_type": "execute_result"
    }
   ],
   "source": [
    "heroes.to_dict()"
   ]
  },
  {
   "cell_type": "code",
   "execution_count": 51,
   "metadata": {
    "collapsed": false
   },
   "outputs": [
    {
     "data": {
      "text/plain": [
       "[{'hero': 'Batman', 'strength': 400},\n",
       " {'hero': 'Robin', 'strength': 200},\n",
       " {'hero': 'Spiderman', 'strength': 300},\n",
       " {'hero': 'Robocop', 'strength': 400},\n",
       " {'hero': 'Terminator', 'strength': 500}]"
      ]
     },
     "execution_count": 51,
     "metadata": {},
     "output_type": "execute_result"
    }
   ],
   "source": [
    "heroes.to_dict('records')"
   ]
  },
  {
   "cell_type": "code",
   "execution_count": 52,
   "metadata": {
    "collapsed": false
   },
   "outputs": [
    {
     "name": "stdout",
     "output_type": "stream",
     "text": [
      "{\"hero\":{\"0\":\"Batman\",\"1\":\"Robin\",\"2\":\"Spiderman\",\"3\":\"Robocop\",\"4\":\"Terminator\"},\"strength\":{\"0\":400,\"1\":200,\"2\":300,\"3\":400,\"4\":500}}\n"
     ]
    }
   ],
   "source": [
    "print heroes.to_json()"
   ]
  },
  {
   "cell_type": "code",
   "execution_count": 53,
   "metadata": {
    "collapsed": false
   },
   "outputs": [
    {
     "name": "stdout",
     "output_type": "stream",
     "text": [
      "[{\"hero\":\"Batman\",\"strength\":400},{\"hero\":\"Robin\",\"strength\":200},{\"hero\":\"Spiderman\",\"strength\":300},{\"hero\":\"Robocop\",\"strength\":400},{\"hero\":\"Terminator\",\"strength\":500}]\n"
     ]
    }
   ],
   "source": [
    "print heroes.to_json(orient='records')"
   ]
  },
  {
   "cell_type": "code",
   "execution_count": 54,
   "metadata": {
    "collapsed": false
   },
   "outputs": [
    {
     "name": "stdout",
     "output_type": "stream",
     "text": [
      ",hero,strength\n",
      "0,Batman,400\n",
      "1,Robin,200\n",
      "2,Spiderman,300\n",
      "3,Robocop,400\n",
      "4,Terminator,500\n",
      "\n"
     ]
    }
   ],
   "source": [
    "print heroes.to_csv()"
   ]
  },
  {
   "cell_type": "code",
   "execution_count": 55,
   "metadata": {
    "collapsed": false
   },
   "outputs": [
    {
     "name": "stdout",
     "output_type": "stream",
     "text": [
      "hero,strength\n",
      "Batman,400\n",
      "Robin,200\n",
      "Spiderman,300\n",
      "Robocop,400\n",
      "Terminator,500\n",
      "\n"
     ]
    }
   ],
   "source": [
    "print heroes.to_csv(index=False)"
   ]
  },
  {
   "cell_type": "markdown",
   "metadata": {},
   "source": [
    "### EXERCISE\n",
    "\n",
    "1. Create a csv with movie titles and cast (actors) of movies with budget above $200m\n",
    "2. Create a list of dicts with movie titles and facebook likes of all Christopher Nolan's movies"
   ]
  },
  {
   "cell_type": "code",
   "execution_count": 56,
   "metadata": {
    "collapsed": false
   },
   "outputs": [],
   "source": [
    "# Solution 1\n",
    "cols = [\n",
    "    'movie_title',\n",
    "    'actor_1_name',\n",
    "    'actor_2_name',\n",
    "    'actor_3_name', \n",
    "    'budget'\n",
    "]\n",
    "\n",
    "movies[movies['budget'] > 200e6][cols].to_csv(\"data/expensive-cast.csv\", index=False)"
   ]
  },
  {
   "cell_type": "code",
   "execution_count": 57,
   "metadata": {
    "collapsed": false
   },
   "outputs": [
    {
     "data": {
      "text/plain": [
       "[{'movie_facebook_likes': 164000,\n",
       "  'movie_title': 'The Dark Knight Rises\\xc2\\xa0'},\n",
       " {'movie_facebook_likes': 37000, 'movie_title': 'The Dark Knight\\xc2\\xa0'},\n",
       " {'movie_facebook_likes': 349000, 'movie_title': 'Interstellar\\xc2\\xa0'},\n",
       " {'movie_facebook_likes': 175000, 'movie_title': 'Inception\\xc2\\xa0'},\n",
       " {'movie_facebook_likes': 15000, 'movie_title': 'Batman Begins\\xc2\\xa0'},\n",
       " {'movie_facebook_likes': 0, 'movie_title': 'Insomnia\\xc2\\xa0'},\n",
       " {'movie_facebook_likes': 49000, 'movie_title': 'The Prestige\\xc2\\xa0'},\n",
       " {'movie_facebook_likes': 40000, 'movie_title': 'Memento\\xc2\\xa0'}]"
      ]
     },
     "execution_count": 57,
     "metadata": {},
     "output_type": "execute_result"
    }
   ],
   "source": [
    "# Solution 2\n",
    "\n",
    "cols = [\n",
    "    'movie_title',\n",
    "    'movie_facebook_likes'\n",
    "]\n",
    "\n",
    "movies[movies['director_name'] == 'Christopher Nolan'][cols].to_dict('r')"
   ]
  },
  {
   "cell_type": "markdown",
   "metadata": {},
   "source": [
    "## New columns"
   ]
  },
  {
   "cell_type": "code",
   "execution_count": 58,
   "metadata": {
    "collapsed": false
   },
   "outputs": [
    {
     "data": {
      "text/html": [
       "<div>\n",
       "<table border=\"1\" class=\"dataframe\">\n",
       "  <thead>\n",
       "    <tr style=\"text-align: right;\">\n",
       "      <th></th>\n",
       "      <th>hero</th>\n",
       "      <th>strength</th>\n",
       "    </tr>\n",
       "  </thead>\n",
       "  <tbody>\n",
       "    <tr>\n",
       "      <th>0</th>\n",
       "      <td>Batman</td>\n",
       "      <td>400</td>\n",
       "    </tr>\n",
       "    <tr>\n",
       "      <th>1</th>\n",
       "      <td>Robin</td>\n",
       "      <td>200</td>\n",
       "    </tr>\n",
       "    <tr>\n",
       "      <th>2</th>\n",
       "      <td>Spiderman</td>\n",
       "      <td>300</td>\n",
       "    </tr>\n",
       "    <tr>\n",
       "      <th>3</th>\n",
       "      <td>Robocop</td>\n",
       "      <td>400</td>\n",
       "    </tr>\n",
       "    <tr>\n",
       "      <th>4</th>\n",
       "      <td>Terminator</td>\n",
       "      <td>500</td>\n",
       "    </tr>\n",
       "  </tbody>\n",
       "</table>\n",
       "</div>"
      ],
      "text/plain": [
       "         hero  strength\n",
       "0      Batman       400\n",
       "1       Robin       200\n",
       "2   Spiderman       300\n",
       "3     Robocop       400\n",
       "4  Terminator       500"
      ]
     },
     "execution_count": 58,
     "metadata": {},
     "output_type": "execute_result"
    }
   ],
   "source": [
    "heroes"
   ]
  },
  {
   "cell_type": "code",
   "execution_count": 59,
   "metadata": {
    "collapsed": false
   },
   "outputs": [
    {
     "data": {
      "text/html": [
       "<div>\n",
       "<table border=\"1\" class=\"dataframe\">\n",
       "  <thead>\n",
       "    <tr style=\"text-align: right;\">\n",
       "      <th></th>\n",
       "      <th>hero</th>\n",
       "      <th>strength</th>\n",
       "      <th>health</th>\n",
       "    </tr>\n",
       "  </thead>\n",
       "  <tbody>\n",
       "    <tr>\n",
       "      <th>0</th>\n",
       "      <td>Batman</td>\n",
       "      <td>400</td>\n",
       "      <td>NaN</td>\n",
       "    </tr>\n",
       "    <tr>\n",
       "      <th>1</th>\n",
       "      <td>Robin</td>\n",
       "      <td>200</td>\n",
       "      <td>NaN</td>\n",
       "    </tr>\n",
       "    <tr>\n",
       "      <th>2</th>\n",
       "      <td>Spiderman</td>\n",
       "      <td>300</td>\n",
       "      <td>NaN</td>\n",
       "    </tr>\n",
       "    <tr>\n",
       "      <th>3</th>\n",
       "      <td>Robocop</td>\n",
       "      <td>400</td>\n",
       "      <td>NaN</td>\n",
       "    </tr>\n",
       "    <tr>\n",
       "      <th>4</th>\n",
       "      <td>Terminator</td>\n",
       "      <td>500</td>\n",
       "      <td>NaN</td>\n",
       "    </tr>\n",
       "  </tbody>\n",
       "</table>\n",
       "</div>"
      ],
      "text/plain": [
       "         hero  strength  health\n",
       "0      Batman       400     NaN\n",
       "1       Robin       200     NaN\n",
       "2   Spiderman       300     NaN\n",
       "3     Robocop       400     NaN\n",
       "4  Terminator       500     NaN"
      ]
     },
     "execution_count": 59,
     "metadata": {},
     "output_type": "execute_result"
    }
   ],
   "source": [
    "heroes['health'] = np.NaN\n",
    "heroes.head()"
   ]
  },
  {
   "cell_type": "code",
   "execution_count": 60,
   "metadata": {
    "collapsed": false
   },
   "outputs": [
    {
     "data": {
      "text/html": [
       "<div>\n",
       "<table border=\"1\" class=\"dataframe\">\n",
       "  <thead>\n",
       "    <tr style=\"text-align: right;\">\n",
       "      <th></th>\n",
       "      <th>hero</th>\n",
       "      <th>strength</th>\n",
       "      <th>health</th>\n",
       "    </tr>\n",
       "  </thead>\n",
       "  <tbody>\n",
       "    <tr>\n",
       "      <th>0</th>\n",
       "      <td>Batman</td>\n",
       "      <td>400</td>\n",
       "      <td>100</td>\n",
       "    </tr>\n",
       "    <tr>\n",
       "      <th>1</th>\n",
       "      <td>Robin</td>\n",
       "      <td>200</td>\n",
       "      <td>100</td>\n",
       "    </tr>\n",
       "    <tr>\n",
       "      <th>2</th>\n",
       "      <td>Spiderman</td>\n",
       "      <td>300</td>\n",
       "      <td>100</td>\n",
       "    </tr>\n",
       "    <tr>\n",
       "      <th>3</th>\n",
       "      <td>Robocop</td>\n",
       "      <td>400</td>\n",
       "      <td>100</td>\n",
       "    </tr>\n",
       "    <tr>\n",
       "      <th>4</th>\n",
       "      <td>Terminator</td>\n",
       "      <td>500</td>\n",
       "      <td>100</td>\n",
       "    </tr>\n",
       "  </tbody>\n",
       "</table>\n",
       "</div>"
      ],
      "text/plain": [
       "         hero  strength  health\n",
       "0      Batman       400     100\n",
       "1       Robin       200     100\n",
       "2   Spiderman       300     100\n",
       "3     Robocop       400     100\n",
       "4  Terminator       500     100"
      ]
     },
     "execution_count": 60,
     "metadata": {},
     "output_type": "execute_result"
    }
   ],
   "source": [
    "heroes['health'] = 100\n",
    "heroes.head()"
   ]
  },
  {
   "cell_type": "code",
   "execution_count": 61,
   "metadata": {
    "collapsed": false
   },
   "outputs": [
    {
     "data": {
      "text/html": [
       "<div>\n",
       "<table border=\"1\" class=\"dataframe\">\n",
       "  <thead>\n",
       "    <tr style=\"text-align: right;\">\n",
       "      <th></th>\n",
       "      <th>hero</th>\n",
       "      <th>strength</th>\n",
       "      <th>health</th>\n",
       "      <th>height</th>\n",
       "    </tr>\n",
       "  </thead>\n",
       "  <tbody>\n",
       "    <tr>\n",
       "      <th>0</th>\n",
       "      <td>Batman</td>\n",
       "      <td>400</td>\n",
       "      <td>100</td>\n",
       "      <td>180</td>\n",
       "    </tr>\n",
       "    <tr>\n",
       "      <th>1</th>\n",
       "      <td>Robin</td>\n",
       "      <td>200</td>\n",
       "      <td>100</td>\n",
       "      <td>170</td>\n",
       "    </tr>\n",
       "    <tr>\n",
       "      <th>2</th>\n",
       "      <td>Spiderman</td>\n",
       "      <td>300</td>\n",
       "      <td>100</td>\n",
       "      <td>175</td>\n",
       "    </tr>\n",
       "    <tr>\n",
       "      <th>3</th>\n",
       "      <td>Robocop</td>\n",
       "      <td>400</td>\n",
       "      <td>100</td>\n",
       "      <td>190</td>\n",
       "    </tr>\n",
       "    <tr>\n",
       "      <th>4</th>\n",
       "      <td>Terminator</td>\n",
       "      <td>500</td>\n",
       "      <td>100</td>\n",
       "      <td>185</td>\n",
       "    </tr>\n",
       "  </tbody>\n",
       "</table>\n",
       "</div>"
      ],
      "text/plain": [
       "         hero  strength  health  height\n",
       "0      Batman       400     100     180\n",
       "1       Robin       200     100     170\n",
       "2   Spiderman       300     100     175\n",
       "3     Robocop       400     100     190\n",
       "4  Terminator       500     100     185"
      ]
     },
     "execution_count": 61,
     "metadata": {},
     "output_type": "execute_result"
    }
   ],
   "source": [
    "heroes['height'] = [180, 170, 175, 190, 185]\n",
    "heroes"
   ]
  },
  {
   "cell_type": "code",
   "execution_count": 62,
   "metadata": {
    "collapsed": false
   },
   "outputs": [
    {
     "data": {
      "text/html": [
       "<div>\n",
       "<table border=\"1\" class=\"dataframe\">\n",
       "  <thead>\n",
       "    <tr style=\"text-align: right;\">\n",
       "      <th></th>\n",
       "      <th>hero</th>\n",
       "      <th>strength</th>\n",
       "      <th>health</th>\n",
       "      <th>height</th>\n",
       "      <th>is_hungry</th>\n",
       "    </tr>\n",
       "  </thead>\n",
       "  <tbody>\n",
       "    <tr>\n",
       "      <th>0</th>\n",
       "      <td>Batman</td>\n",
       "      <td>400</td>\n",
       "      <td>100</td>\n",
       "      <td>180</td>\n",
       "      <td>True</td>\n",
       "    </tr>\n",
       "    <tr>\n",
       "      <th>1</th>\n",
       "      <td>Robin</td>\n",
       "      <td>200</td>\n",
       "      <td>100</td>\n",
       "      <td>170</td>\n",
       "      <td>False</td>\n",
       "    </tr>\n",
       "    <tr>\n",
       "      <th>2</th>\n",
       "      <td>Spiderman</td>\n",
       "      <td>300</td>\n",
       "      <td>100</td>\n",
       "      <td>175</td>\n",
       "      <td>False</td>\n",
       "    </tr>\n",
       "    <tr>\n",
       "      <th>3</th>\n",
       "      <td>Robocop</td>\n",
       "      <td>400</td>\n",
       "      <td>100</td>\n",
       "      <td>190</td>\n",
       "      <td>True</td>\n",
       "    </tr>\n",
       "    <tr>\n",
       "      <th>4</th>\n",
       "      <td>Terminator</td>\n",
       "      <td>500</td>\n",
       "      <td>100</td>\n",
       "      <td>185</td>\n",
       "      <td>True</td>\n",
       "    </tr>\n",
       "  </tbody>\n",
       "</table>\n",
       "</div>"
      ],
      "text/plain": [
       "         hero  strength  health  height is_hungry\n",
       "0      Batman       400     100     180      True\n",
       "1       Robin       200     100     170     False\n",
       "2   Spiderman       300     100     175     False\n",
       "3     Robocop       400     100     190      True\n",
       "4  Terminator       500     100     185      True"
      ]
     },
     "execution_count": 62,
     "metadata": {},
     "output_type": "execute_result"
    }
   ],
   "source": [
    "heroes['is_hungry'] = pd.Series([True, False, False, True, True])\n",
    "heroes"
   ]
  },
  {
   "cell_type": "code",
   "execution_count": 63,
   "metadata": {
    "collapsed": false
   },
   "outputs": [
    {
     "data": {
      "text/plain": [
       "0     800\n",
       "1     400\n",
       "2     600\n",
       "3     800\n",
       "4    1000\n",
       "Name: strength, dtype: int64"
      ]
     },
     "execution_count": 63,
     "metadata": {},
     "output_type": "execute_result"
    }
   ],
   "source": [
    "heroes['strength'] * 2"
   ]
  },
  {
   "cell_type": "code",
   "execution_count": 64,
   "metadata": {
    "collapsed": false
   },
   "outputs": [
    {
     "data": {
      "text/plain": [
       "0    2.222222\n",
       "1    1.176471\n",
       "2    1.714286\n",
       "3    2.105263\n",
       "4    2.702703\n",
       "dtype: float64"
      ]
     },
     "execution_count": 64,
     "metadata": {},
     "output_type": "execute_result"
    }
   ],
   "source": [
    "heroes['strength'] / heroes['height']"
   ]
  },
  {
   "cell_type": "code",
   "execution_count": 65,
   "metadata": {
    "collapsed": false
   },
   "outputs": [
    {
     "data": {
      "text/html": [
       "<div>\n",
       "<table border=\"1\" class=\"dataframe\">\n",
       "  <thead>\n",
       "    <tr style=\"text-align: right;\">\n",
       "      <th></th>\n",
       "      <th>hero</th>\n",
       "      <th>strength</th>\n",
       "      <th>health</th>\n",
       "      <th>height</th>\n",
       "      <th>is_hungry</th>\n",
       "      <th>strength_per_cm</th>\n",
       "    </tr>\n",
       "  </thead>\n",
       "  <tbody>\n",
       "    <tr>\n",
       "      <th>0</th>\n",
       "      <td>Batman</td>\n",
       "      <td>400</td>\n",
       "      <td>100</td>\n",
       "      <td>180</td>\n",
       "      <td>True</td>\n",
       "      <td>2.222222</td>\n",
       "    </tr>\n",
       "    <tr>\n",
       "      <th>1</th>\n",
       "      <td>Robin</td>\n",
       "      <td>200</td>\n",
       "      <td>100</td>\n",
       "      <td>170</td>\n",
       "      <td>False</td>\n",
       "      <td>1.176471</td>\n",
       "    </tr>\n",
       "    <tr>\n",
       "      <th>2</th>\n",
       "      <td>Spiderman</td>\n",
       "      <td>300</td>\n",
       "      <td>100</td>\n",
       "      <td>175</td>\n",
       "      <td>False</td>\n",
       "      <td>1.714286</td>\n",
       "    </tr>\n",
       "    <tr>\n",
       "      <th>3</th>\n",
       "      <td>Robocop</td>\n",
       "      <td>400</td>\n",
       "      <td>100</td>\n",
       "      <td>190</td>\n",
       "      <td>True</td>\n",
       "      <td>2.105263</td>\n",
       "    </tr>\n",
       "    <tr>\n",
       "      <th>4</th>\n",
       "      <td>Terminator</td>\n",
       "      <td>500</td>\n",
       "      <td>100</td>\n",
       "      <td>185</td>\n",
       "      <td>True</td>\n",
       "      <td>2.702703</td>\n",
       "    </tr>\n",
       "  </tbody>\n",
       "</table>\n",
       "</div>"
      ],
      "text/plain": [
       "         hero  strength  health  height is_hungry  strength_per_cm\n",
       "0      Batman       400     100     180      True         2.222222\n",
       "1       Robin       200     100     170     False         1.176471\n",
       "2   Spiderman       300     100     175     False         1.714286\n",
       "3     Robocop       400     100     190      True         2.105263\n",
       "4  Terminator       500     100     185      True         2.702703"
      ]
     },
     "execution_count": 65,
     "metadata": {},
     "output_type": "execute_result"
    }
   ],
   "source": [
    "heroes['strength_per_cm'] = heroes['strength'] / heroes['height']\n",
    "heroes"
   ]
  },
  {
   "cell_type": "code",
   "execution_count": 66,
   "metadata": {
    "collapsed": false
   },
   "outputs": [
    {
     "data": {
      "text/plain": [
       "0     1\n",
       "1     8\n",
       "2    27\n",
       "dtype: int64"
      ]
     },
     "execution_count": 66,
     "metadata": {},
     "output_type": "execute_result"
    }
   ],
   "source": [
    "pd.Series([1, 2, 3]).map(lambda x: x**3)"
   ]
  },
  {
   "cell_type": "code",
   "execution_count": 67,
   "metadata": {
    "collapsed": false
   },
   "outputs": [
    {
     "data": {
      "text/plain": [
       "0    Ba\n",
       "1    Ro\n",
       "dtype: object"
      ]
     },
     "execution_count": 67,
     "metadata": {},
     "output_type": "execute_result"
    }
   ],
   "source": [
    "pd.Series(['Batman', 'Robin']).map(lambda x: x[:2])\n",
    "# However there is also a covenient .str operator"
   ]
  },
  {
   "cell_type": "code",
   "execution_count": 68,
   "metadata": {
    "collapsed": false
   },
   "outputs": [
    {
     "data": {
      "text/plain": [
       "0    batman\n",
       "1     robin\n",
       "dtype: object"
      ]
     },
     "execution_count": 68,
     "metadata": {},
     "output_type": "execute_result"
    }
   ],
   "source": [
    "pd.Series(['Batman', 'Robin']).str.lower()"
   ]
  },
  {
   "cell_type": "code",
   "execution_count": 69,
   "metadata": {
    "collapsed": false
   },
   "outputs": [
    {
     "data": {
      "text/plain": [
       "0    2\n",
       "1    1\n",
       "dtype: int64"
      ]
     },
     "execution_count": 69,
     "metadata": {},
     "output_type": "execute_result"
    }
   ],
   "source": [
    "pd.Series([\n",
    "    ['Batman', 'Robin'],\n",
    "    ['Robocop']\n",
    "]).map(len)"
   ]
  },
  {
   "cell_type": "code",
   "execution_count": 70,
   "metadata": {
    "collapsed": false
   },
   "outputs": [
    {
     "data": {
      "text/html": [
       "<div>\n",
       "<table border=\"1\" class=\"dataframe\">\n",
       "  <thead>\n",
       "    <tr style=\"text-align: right;\">\n",
       "      <th></th>\n",
       "      <th>hero</th>\n",
       "      <th>strength</th>\n",
       "      <th>health</th>\n",
       "      <th>height</th>\n",
       "      <th>is_hungry</th>\n",
       "      <th>strength_per_cm</th>\n",
       "      <th>code</th>\n",
       "    </tr>\n",
       "  </thead>\n",
       "  <tbody>\n",
       "    <tr>\n",
       "      <th>0</th>\n",
       "      <td>Batman</td>\n",
       "      <td>400</td>\n",
       "      <td>100</td>\n",
       "      <td>180</td>\n",
       "      <td>True</td>\n",
       "      <td>2.222222</td>\n",
       "      <td>Ba</td>\n",
       "    </tr>\n",
       "    <tr>\n",
       "      <th>1</th>\n",
       "      <td>Robin</td>\n",
       "      <td>200</td>\n",
       "      <td>100</td>\n",
       "      <td>170</td>\n",
       "      <td>False</td>\n",
       "      <td>1.176471</td>\n",
       "      <td>Ro</td>\n",
       "    </tr>\n",
       "    <tr>\n",
       "      <th>2</th>\n",
       "      <td>Spiderman</td>\n",
       "      <td>300</td>\n",
       "      <td>100</td>\n",
       "      <td>175</td>\n",
       "      <td>False</td>\n",
       "      <td>1.714286</td>\n",
       "      <td>Sp</td>\n",
       "    </tr>\n",
       "    <tr>\n",
       "      <th>3</th>\n",
       "      <td>Robocop</td>\n",
       "      <td>400</td>\n",
       "      <td>100</td>\n",
       "      <td>190</td>\n",
       "      <td>True</td>\n",
       "      <td>2.105263</td>\n",
       "      <td>Ro</td>\n",
       "    </tr>\n",
       "    <tr>\n",
       "      <th>4</th>\n",
       "      <td>Terminator</td>\n",
       "      <td>500</td>\n",
       "      <td>100</td>\n",
       "      <td>185</td>\n",
       "      <td>True</td>\n",
       "      <td>2.702703</td>\n",
       "      <td>Te</td>\n",
       "    </tr>\n",
       "  </tbody>\n",
       "</table>\n",
       "</div>"
      ],
      "text/plain": [
       "         hero  strength  health  height is_hungry  strength_per_cm code\n",
       "0      Batman       400     100     180      True         2.222222   Ba\n",
       "1       Robin       200     100     170     False         1.176471   Ro\n",
       "2   Spiderman       300     100     175     False         1.714286   Sp\n",
       "3     Robocop       400     100     190      True         2.105263   Ro\n",
       "4  Terminator       500     100     185      True         2.702703   Te"
      ]
     },
     "execution_count": 70,
     "metadata": {},
     "output_type": "execute_result"
    }
   ],
   "source": [
    "heroes['code'] = heroes['hero'].map(lambda name: name[:2])\n",
    "heroes"
   ]
  },
  {
   "cell_type": "code",
   "execution_count": 71,
   "metadata": {
    "collapsed": false
   },
   "outputs": [
    {
     "data": {
      "text/html": [
       "<div>\n",
       "<table border=\"1\" class=\"dataframe\">\n",
       "  <thead>\n",
       "    <tr style=\"text-align: right;\">\n",
       "      <th></th>\n",
       "      <th>hero</th>\n",
       "      <th>strength</th>\n",
       "      <th>health</th>\n",
       "      <th>height</th>\n",
       "      <th>is_hungry</th>\n",
       "      <th>strength_per_cm</th>\n",
       "      <th>code</th>\n",
       "      <th>effective_strength</th>\n",
       "    </tr>\n",
       "  </thead>\n",
       "  <tbody>\n",
       "    <tr>\n",
       "      <th>0</th>\n",
       "      <td>Batman</td>\n",
       "      <td>400</td>\n",
       "      <td>100</td>\n",
       "      <td>180</td>\n",
       "      <td>True</td>\n",
       "      <td>2.222222</td>\n",
       "      <td>Ba</td>\n",
       "      <td>0</td>\n",
       "    </tr>\n",
       "    <tr>\n",
       "      <th>1</th>\n",
       "      <td>Robin</td>\n",
       "      <td>200</td>\n",
       "      <td>100</td>\n",
       "      <td>170</td>\n",
       "      <td>False</td>\n",
       "      <td>1.176471</td>\n",
       "      <td>Ro</td>\n",
       "      <td>200</td>\n",
       "    </tr>\n",
       "    <tr>\n",
       "      <th>2</th>\n",
       "      <td>Spiderman</td>\n",
       "      <td>300</td>\n",
       "      <td>100</td>\n",
       "      <td>175</td>\n",
       "      <td>False</td>\n",
       "      <td>1.714286</td>\n",
       "      <td>Sp</td>\n",
       "      <td>300</td>\n",
       "    </tr>\n",
       "    <tr>\n",
       "      <th>3</th>\n",
       "      <td>Robocop</td>\n",
       "      <td>400</td>\n",
       "      <td>100</td>\n",
       "      <td>190</td>\n",
       "      <td>True</td>\n",
       "      <td>2.105263</td>\n",
       "      <td>Ro</td>\n",
       "      <td>0</td>\n",
       "    </tr>\n",
       "    <tr>\n",
       "      <th>4</th>\n",
       "      <td>Terminator</td>\n",
       "      <td>500</td>\n",
       "      <td>100</td>\n",
       "      <td>185</td>\n",
       "      <td>True</td>\n",
       "      <td>2.702703</td>\n",
       "      <td>Te</td>\n",
       "      <td>0</td>\n",
       "    </tr>\n",
       "  </tbody>\n",
       "</table>\n",
       "</div>"
      ],
      "text/plain": [
       "         hero  strength  health  height is_hungry  strength_per_cm code  \\\n",
       "0      Batman       400     100     180      True         2.222222   Ba   \n",
       "1       Robin       200     100     170     False         1.176471   Ro   \n",
       "2   Spiderman       300     100     175     False         1.714286   Sp   \n",
       "3     Robocop       400     100     190      True         2.105263   Ro   \n",
       "4  Terminator       500     100     185      True         2.702703   Te   \n",
       "\n",
       "   effective_strength  \n",
       "0                   0  \n",
       "1                 200  \n",
       "2                 300  \n",
       "3                   0  \n",
       "4                   0  "
      ]
     },
     "execution_count": 71,
     "metadata": {},
     "output_type": "execute_result"
    }
   ],
   "source": [
    "heroes['effective_strength'] = heroes.apply(\n",
    "    lambda row: (not row['is_hungry']) * row['strength'],\n",
    "    axis=1\n",
    ")\n",
    "heroes.head()"
   ]
  },
  {
   "cell_type": "code",
   "execution_count": 72,
   "metadata": {
    "collapsed": false
   },
   "outputs": [
    {
     "data": {
      "text/html": [
       "<div>\n",
       "<table border=\"1\" class=\"dataframe\">\n",
       "  <thead>\n",
       "    <tr style=\"text-align: right;\">\n",
       "      <th></th>\n",
       "      <th>hero</th>\n",
       "      <th>strength</th>\n",
       "      <th>health</th>\n",
       "      <th>height</th>\n",
       "      <th>is_hungry</th>\n",
       "      <th>strength_per_cm</th>\n",
       "      <th>code</th>\n",
       "      <th>effective_strength</th>\n",
       "    </tr>\n",
       "  </thead>\n",
       "  <tbody>\n",
       "    <tr>\n",
       "      <th>0</th>\n",
       "      <td>Batman</td>\n",
       "      <td>500</td>\n",
       "      <td>200</td>\n",
       "      <td>180</td>\n",
       "      <td>True</td>\n",
       "      <td>2.222222</td>\n",
       "      <td>Ba</td>\n",
       "      <td>0</td>\n",
       "    </tr>\n",
       "    <tr>\n",
       "      <th>1</th>\n",
       "      <td>Robin</td>\n",
       "      <td>300</td>\n",
       "      <td>200</td>\n",
       "      <td>170</td>\n",
       "      <td>False</td>\n",
       "      <td>1.176471</td>\n",
       "      <td>Ro</td>\n",
       "      <td>200</td>\n",
       "    </tr>\n",
       "    <tr>\n",
       "      <th>2</th>\n",
       "      <td>Spiderman</td>\n",
       "      <td>400</td>\n",
       "      <td>200</td>\n",
       "      <td>175</td>\n",
       "      <td>False</td>\n",
       "      <td>1.714286</td>\n",
       "      <td>Sp</td>\n",
       "      <td>300</td>\n",
       "    </tr>\n",
       "    <tr>\n",
       "      <th>3</th>\n",
       "      <td>Robocop</td>\n",
       "      <td>500</td>\n",
       "      <td>200</td>\n",
       "      <td>190</td>\n",
       "      <td>True</td>\n",
       "      <td>2.105263</td>\n",
       "      <td>Ro</td>\n",
       "      <td>0</td>\n",
       "    </tr>\n",
       "    <tr>\n",
       "      <th>4</th>\n",
       "      <td>Terminator</td>\n",
       "      <td>600</td>\n",
       "      <td>200</td>\n",
       "      <td>185</td>\n",
       "      <td>True</td>\n",
       "      <td>2.702703</td>\n",
       "      <td>Te</td>\n",
       "      <td>0</td>\n",
       "    </tr>\n",
       "  </tbody>\n",
       "</table>\n",
       "</div>"
      ],
      "text/plain": [
       "         hero  strength  health  height is_hungry  strength_per_cm code  \\\n",
       "0      Batman       500     200     180      True         2.222222   Ba   \n",
       "1       Robin       300     200     170     False         1.176471   Ro   \n",
       "2   Spiderman       400     200     175     False         1.714286   Sp   \n",
       "3     Robocop       500     200     190      True         2.105263   Ro   \n",
       "4  Terminator       600     200     185      True         2.702703   Te   \n",
       "\n",
       "   effective_strength  \n",
       "0                   0  \n",
       "1                 200  \n",
       "2                 300  \n",
       "3                   0  \n",
       "4                   0  "
      ]
     },
     "execution_count": 72,
     "metadata": {},
     "output_type": "execute_result"
    }
   ],
   "source": [
    "heroes[['health', 'strength']] = heroes[['health', 'strength']].applymap(\n",
    "    lambda x: x + 100\n",
    ")\n",
    "heroes"
   ]
  },
  {
   "cell_type": "markdown",
   "metadata": {},
   "source": [
    "Cheatsheet\n",
    "\n",
    "```\n",
    "map: 1 => 1\n",
    "apply: n => 1\n",
    "applymap: n => n\n",
    "```"
   ]
  },
  {
   "cell_type": "code",
   "execution_count": 73,
   "metadata": {
    "collapsed": false
   },
   "outputs": [
    {
     "data": {
      "text/plain": [
       "500    2\n",
       "600    1\n",
       "300    1\n",
       "400    1\n",
       "Name: strength, dtype: int64"
      ]
     },
     "execution_count": 73,
     "metadata": {},
     "output_type": "execute_result"
    }
   ],
   "source": [
    "# EXTRA 1\n",
    "heroes['strength'].value_counts()"
   ]
  },
  {
   "cell_type": "code",
   "execution_count": 74,
   "metadata": {
    "collapsed": false
   },
   "outputs": [
    {
     "data": {
      "text/html": [
       "<div>\n",
       "<table border=\"1\" class=\"dataframe\">\n",
       "  <thead>\n",
       "    <tr style=\"text-align: right;\">\n",
       "      <th></th>\n",
       "      <th>hero</th>\n",
       "      <th>strength</th>\n",
       "      <th>health</th>\n",
       "      <th>height</th>\n",
       "      <th>is_hungry</th>\n",
       "      <th>strength_per_cm</th>\n",
       "      <th>code</th>\n",
       "      <th>effective_strength</th>\n",
       "    </tr>\n",
       "  </thead>\n",
       "  <tbody>\n",
       "    <tr>\n",
       "      <th>1</th>\n",
       "      <td>Robin</td>\n",
       "      <td>300</td>\n",
       "      <td>200</td>\n",
       "      <td>170</td>\n",
       "      <td>False</td>\n",
       "      <td>1.176471</td>\n",
       "      <td>Ro</td>\n",
       "      <td>200</td>\n",
       "    </tr>\n",
       "    <tr>\n",
       "      <th>2</th>\n",
       "      <td>Spiderman</td>\n",
       "      <td>400</td>\n",
       "      <td>200</td>\n",
       "      <td>175</td>\n",
       "      <td>False</td>\n",
       "      <td>1.714286</td>\n",
       "      <td>Sp</td>\n",
       "      <td>300</td>\n",
       "    </tr>\n",
       "    <tr>\n",
       "      <th>0</th>\n",
       "      <td>Batman</td>\n",
       "      <td>500</td>\n",
       "      <td>200</td>\n",
       "      <td>180</td>\n",
       "      <td>True</td>\n",
       "      <td>2.222222</td>\n",
       "      <td>Ba</td>\n",
       "      <td>0</td>\n",
       "    </tr>\n",
       "    <tr>\n",
       "      <th>3</th>\n",
       "      <td>Robocop</td>\n",
       "      <td>500</td>\n",
       "      <td>200</td>\n",
       "      <td>190</td>\n",
       "      <td>True</td>\n",
       "      <td>2.105263</td>\n",
       "      <td>Ro</td>\n",
       "      <td>0</td>\n",
       "    </tr>\n",
       "    <tr>\n",
       "      <th>4</th>\n",
       "      <td>Terminator</td>\n",
       "      <td>600</td>\n",
       "      <td>200</td>\n",
       "      <td>185</td>\n",
       "      <td>True</td>\n",
       "      <td>2.702703</td>\n",
       "      <td>Te</td>\n",
       "      <td>0</td>\n",
       "    </tr>\n",
       "  </tbody>\n",
       "</table>\n",
       "</div>"
      ],
      "text/plain": [
       "         hero  strength  health  height is_hungry  strength_per_cm code  \\\n",
       "1       Robin       300     200     170     False         1.176471   Ro   \n",
       "2   Spiderman       400     200     175     False         1.714286   Sp   \n",
       "0      Batman       500     200     180      True         2.222222   Ba   \n",
       "3     Robocop       500     200     190      True         2.105263   Ro   \n",
       "4  Terminator       600     200     185      True         2.702703   Te   \n",
       "\n",
       "   effective_strength  \n",
       "1                 200  \n",
       "2                 300  \n",
       "0                   0  \n",
       "3                   0  \n",
       "4                   0  "
      ]
     },
     "execution_count": 74,
     "metadata": {},
     "output_type": "execute_result"
    }
   ],
   "source": [
    "# EXTRA 2\n",
    "heroes.sort_values('strength')"
   ]
  },
  {
   "cell_type": "code",
   "execution_count": 75,
   "metadata": {
    "collapsed": false
   },
   "outputs": [
    {
     "data": {
      "text/html": [
       "<div>\n",
       "<table border=\"1\" class=\"dataframe\">\n",
       "  <thead>\n",
       "    <tr style=\"text-align: right;\">\n",
       "      <th></th>\n",
       "      <th>hero</th>\n",
       "      <th>strength</th>\n",
       "      <th>health</th>\n",
       "      <th>height</th>\n",
       "      <th>is_hungry</th>\n",
       "      <th>strength_per_cm</th>\n",
       "      <th>code</th>\n",
       "      <th>effective_strength</th>\n",
       "    </tr>\n",
       "  </thead>\n",
       "  <tbody>\n",
       "    <tr>\n",
       "      <th>0</th>\n",
       "      <td>Batman</td>\n",
       "      <td>500</td>\n",
       "      <td>200</td>\n",
       "      <td>180</td>\n",
       "      <td>True</td>\n",
       "      <td>2.222222</td>\n",
       "      <td>Ba</td>\n",
       "      <td>0</td>\n",
       "    </tr>\n",
       "    <tr>\n",
       "      <th>3</th>\n",
       "      <td>Robocop</td>\n",
       "      <td>500</td>\n",
       "      <td>200</td>\n",
       "      <td>190</td>\n",
       "      <td>True</td>\n",
       "      <td>2.105263</td>\n",
       "      <td>Ro</td>\n",
       "      <td>0</td>\n",
       "    </tr>\n",
       "    <tr>\n",
       "      <th>4</th>\n",
       "      <td>Terminator</td>\n",
       "      <td>600</td>\n",
       "      <td>200</td>\n",
       "      <td>185</td>\n",
       "      <td>True</td>\n",
       "      <td>2.702703</td>\n",
       "      <td>Te</td>\n",
       "      <td>0</td>\n",
       "    </tr>\n",
       "    <tr>\n",
       "      <th>1</th>\n",
       "      <td>Robin</td>\n",
       "      <td>300</td>\n",
       "      <td>200</td>\n",
       "      <td>170</td>\n",
       "      <td>False</td>\n",
       "      <td>1.176471</td>\n",
       "      <td>Ro</td>\n",
       "      <td>200</td>\n",
       "    </tr>\n",
       "    <tr>\n",
       "      <th>2</th>\n",
       "      <td>Spiderman</td>\n",
       "      <td>400</td>\n",
       "      <td>200</td>\n",
       "      <td>175</td>\n",
       "      <td>False</td>\n",
       "      <td>1.714286</td>\n",
       "      <td>Sp</td>\n",
       "      <td>300</td>\n",
       "    </tr>\n",
       "  </tbody>\n",
       "</table>\n",
       "</div>"
      ],
      "text/plain": [
       "         hero  strength  health  height is_hungry  strength_per_cm code  \\\n",
       "0      Batman       500     200     180      True         2.222222   Ba   \n",
       "3     Robocop       500     200     190      True         2.105263   Ro   \n",
       "4  Terminator       600     200     185      True         2.702703   Te   \n",
       "1       Robin       300     200     170     False         1.176471   Ro   \n",
       "2   Spiderman       400     200     175     False         1.714286   Sp   \n",
       "\n",
       "   effective_strength  \n",
       "0                   0  \n",
       "3                   0  \n",
       "4                   0  \n",
       "1                 200  \n",
       "2                 300  "
      ]
     },
     "execution_count": 75,
     "metadata": {},
     "output_type": "execute_result"
    }
   ],
   "source": [
    "# EXTRA 3\n",
    "heroes.sort_values(\n",
    "    ['is_hungry', 'code'],\n",
    "    ascending=[False, True]\n",
    ")"
   ]
  },
  {
   "cell_type": "markdown",
   "metadata": {},
   "source": [
    "#### EXERCISE\n",
    "\n",
    "1. What are 10 most profitable movies? (ratio between gross and budget)\n",
    "2. Create a column 'first_genre'. What is the distribution of values in this column?"
   ]
  },
  {
   "cell_type": "code",
   "execution_count": 76,
   "metadata": {
    "collapsed": false
   },
   "outputs": [
    {
     "data": {
      "text/html": [
       "<div>\n",
       "<table border=\"1\" class=\"dataframe\">\n",
       "  <thead>\n",
       "    <tr style=\"text-align: right;\">\n",
       "      <th></th>\n",
       "      <th>color</th>\n",
       "      <th>director_name</th>\n",
       "      <th>num_critic_for_reviews</th>\n",
       "      <th>duration</th>\n",
       "      <th>director_facebook_likes</th>\n",
       "      <th>actor_3_facebook_likes</th>\n",
       "      <th>actor_2_name</th>\n",
       "      <th>actor_1_facebook_likes</th>\n",
       "      <th>gross</th>\n",
       "      <th>genres</th>\n",
       "      <th>...</th>\n",
       "      <th>language</th>\n",
       "      <th>country</th>\n",
       "      <th>content_rating</th>\n",
       "      <th>budget</th>\n",
       "      <th>title_year</th>\n",
       "      <th>actor_2_facebook_likes</th>\n",
       "      <th>imdb_score</th>\n",
       "      <th>aspect_ratio</th>\n",
       "      <th>movie_facebook_likes</th>\n",
       "      <th>profitability</th>\n",
       "    </tr>\n",
       "  </thead>\n",
       "  <tbody>\n",
       "    <tr>\n",
       "      <th>4793</th>\n",
       "      <td>Color</td>\n",
       "      <td>Oren Peli</td>\n",
       "      <td>409.0</td>\n",
       "      <td>84.0</td>\n",
       "      <td>110.0</td>\n",
       "      <td>21.0</td>\n",
       "      <td>Ashley Palmer</td>\n",
       "      <td>189.0</td>\n",
       "      <td>107917283.0</td>\n",
       "      <td>Horror</td>\n",
       "      <td>...</td>\n",
       "      <td>English</td>\n",
       "      <td>USA</td>\n",
       "      <td>R</td>\n",
       "      <td>15000.0</td>\n",
       "      <td>2007.0</td>\n",
       "      <td>109.0</td>\n",
       "      <td>6.3</td>\n",
       "      <td>1.85</td>\n",
       "      <td>12000</td>\n",
       "      <td>7194.485533</td>\n",
       "    </tr>\n",
       "    <tr>\n",
       "      <th>4799</th>\n",
       "      <td>Color</td>\n",
       "      <td>Jonathan Caouette</td>\n",
       "      <td>72.0</td>\n",
       "      <td>88.0</td>\n",
       "      <td>20.0</td>\n",
       "      <td>0.0</td>\n",
       "      <td>Jonathan Caouette</td>\n",
       "      <td>58.0</td>\n",
       "      <td>592014.0</td>\n",
       "      <td>Biography|Documentary</td>\n",
       "      <td>...</td>\n",
       "      <td>English</td>\n",
       "      <td>USA</td>\n",
       "      <td>Unrated</td>\n",
       "      <td>218.0</td>\n",
       "      <td>2003.0</td>\n",
       "      <td>20.0</td>\n",
       "      <td>7.2</td>\n",
       "      <td>1.37</td>\n",
       "      <td>754</td>\n",
       "      <td>2715.660550</td>\n",
       "    </tr>\n",
       "    <tr>\n",
       "      <th>4707</th>\n",
       "      <td>Black and White</td>\n",
       "      <td>Daniel Myrick</td>\n",
       "      <td>360.0</td>\n",
       "      <td>81.0</td>\n",
       "      <td>19.0</td>\n",
       "      <td>39.0</td>\n",
       "      <td>Joshua Leonard</td>\n",
       "      <td>170.0</td>\n",
       "      <td>140530114.0</td>\n",
       "      <td>Horror</td>\n",
       "      <td>...</td>\n",
       "      <td>English</td>\n",
       "      <td>USA</td>\n",
       "      <td>R</td>\n",
       "      <td>60000.0</td>\n",
       "      <td>1999.0</td>\n",
       "      <td>170.0</td>\n",
       "      <td>6.4</td>\n",
       "      <td>1.33</td>\n",
       "      <td>0</td>\n",
       "      <td>2342.168567</td>\n",
       "    </tr>\n",
       "    <tr>\n",
       "      <th>4984</th>\n",
       "      <td>Color</td>\n",
       "      <td>Edward Burns</td>\n",
       "      <td>36.0</td>\n",
       "      <td>98.0</td>\n",
       "      <td>0.0</td>\n",
       "      <td>73.0</td>\n",
       "      <td>Michael McGlone</td>\n",
       "      <td>138.0</td>\n",
       "      <td>10246600.0</td>\n",
       "      <td>Comedy|Drama|Romance</td>\n",
       "      <td>...</td>\n",
       "      <td>English</td>\n",
       "      <td>USA</td>\n",
       "      <td>R</td>\n",
       "      <td>25000.0</td>\n",
       "      <td>1995.0</td>\n",
       "      <td>111.0</td>\n",
       "      <td>6.6</td>\n",
       "      <td>1.85</td>\n",
       "      <td>265</td>\n",
       "      <td>409.864000</td>\n",
       "    </tr>\n",
       "    <tr>\n",
       "      <th>4936</th>\n",
       "      <td>Color</td>\n",
       "      <td>Tobe Hooper</td>\n",
       "      <td>277.0</td>\n",
       "      <td>88.0</td>\n",
       "      <td>365.0</td>\n",
       "      <td>177.0</td>\n",
       "      <td>Edwin Neal</td>\n",
       "      <td>383.0</td>\n",
       "      <td>30859000.0</td>\n",
       "      <td>Horror|Thriller</td>\n",
       "      <td>...</td>\n",
       "      <td>English</td>\n",
       "      <td>USA</td>\n",
       "      <td>R</td>\n",
       "      <td>83532.0</td>\n",
       "      <td>1974.0</td>\n",
       "      <td>371.0</td>\n",
       "      <td>7.5</td>\n",
       "      <td>1.85</td>\n",
       "      <td>0</td>\n",
       "      <td>369.427285</td>\n",
       "    </tr>\n",
       "    <tr>\n",
       "      <th>3278</th>\n",
       "      <td>Color</td>\n",
       "      <td>Tobe Hooper</td>\n",
       "      <td>277.0</td>\n",
       "      <td>88.0</td>\n",
       "      <td>365.0</td>\n",
       "      <td>177.0</td>\n",
       "      <td>Edwin Neal</td>\n",
       "      <td>383.0</td>\n",
       "      <td>30859000.0</td>\n",
       "      <td>Horror|Thriller</td>\n",
       "      <td>...</td>\n",
       "      <td>English</td>\n",
       "      <td>USA</td>\n",
       "      <td>R</td>\n",
       "      <td>83532.0</td>\n",
       "      <td>1974.0</td>\n",
       "      <td>371.0</td>\n",
       "      <td>7.5</td>\n",
       "      <td>1.85</td>\n",
       "      <td>0</td>\n",
       "      <td>369.427285</td>\n",
       "    </tr>\n",
       "    <tr>\n",
       "      <th>5035</th>\n",
       "      <td>Color</td>\n",
       "      <td>Robert Rodriguez</td>\n",
       "      <td>56.0</td>\n",
       "      <td>81.0</td>\n",
       "      <td>0.0</td>\n",
       "      <td>6.0</td>\n",
       "      <td>Peter Marquardt</td>\n",
       "      <td>121.0</td>\n",
       "      <td>2040920.0</td>\n",
       "      <td>Action|Crime|Drama|Romance|Thriller</td>\n",
       "      <td>...</td>\n",
       "      <td>Spanish</td>\n",
       "      <td>USA</td>\n",
       "      <td>R</td>\n",
       "      <td>7000.0</td>\n",
       "      <td>1992.0</td>\n",
       "      <td>20.0</td>\n",
       "      <td>6.9</td>\n",
       "      <td>1.37</td>\n",
       "      <td>0</td>\n",
       "      <td>291.560000</td>\n",
       "    </tr>\n",
       "    <tr>\n",
       "      <th>4956</th>\n",
       "      <td>Color</td>\n",
       "      <td>Travis Cluff</td>\n",
       "      <td>159.0</td>\n",
       "      <td>81.0</td>\n",
       "      <td>3.0</td>\n",
       "      <td>7.0</td>\n",
       "      <td>Cassidy Gifford</td>\n",
       "      <td>220.0</td>\n",
       "      <td>22757819.0</td>\n",
       "      <td>Horror|Thriller</td>\n",
       "      <td>...</td>\n",
       "      <td>English</td>\n",
       "      <td>USA</td>\n",
       "      <td>R</td>\n",
       "      <td>100000.0</td>\n",
       "      <td>2015.0</td>\n",
       "      <td>40.0</td>\n",
       "      <td>4.2</td>\n",
       "      <td>1.85</td>\n",
       "      <td>0</td>\n",
       "      <td>227.578190</td>\n",
       "    </tr>\n",
       "    <tr>\n",
       "      <th>4977</th>\n",
       "      <td>Color</td>\n",
       "      <td>Morgan Spurlock</td>\n",
       "      <td>193.0</td>\n",
       "      <td>100.0</td>\n",
       "      <td>293.0</td>\n",
       "      <td>0.0</td>\n",
       "      <td>Amanda Kearsan</td>\n",
       "      <td>0.0</td>\n",
       "      <td>11529368.0</td>\n",
       "      <td>Comedy|Documentary|Drama</td>\n",
       "      <td>...</td>\n",
       "      <td>English</td>\n",
       "      <td>USA</td>\n",
       "      <td>PG</td>\n",
       "      <td>65000.0</td>\n",
       "      <td>2004.0</td>\n",
       "      <td>0.0</td>\n",
       "      <td>7.3</td>\n",
       "      <td>1.78</td>\n",
       "      <td>0</td>\n",
       "      <td>177.374892</td>\n",
       "    </tr>\n",
       "    <tr>\n",
       "      <th>2619</th>\n",
       "      <td>Color</td>\n",
       "      <td>John Carpenter</td>\n",
       "      <td>318.0</td>\n",
       "      <td>101.0</td>\n",
       "      <td>0.0</td>\n",
       "      <td>598.0</td>\n",
       "      <td>Donald Pleasence</td>\n",
       "      <td>2000.0</td>\n",
       "      <td>47000000.0</td>\n",
       "      <td>Horror|Thriller</td>\n",
       "      <td>...</td>\n",
       "      <td>English</td>\n",
       "      <td>USA</td>\n",
       "      <td>R</td>\n",
       "      <td>300000.0</td>\n",
       "      <td>1978.0</td>\n",
       "      <td>742.0</td>\n",
       "      <td>7.9</td>\n",
       "      <td>2.35</td>\n",
       "      <td>12000</td>\n",
       "      <td>156.666667</td>\n",
       "    </tr>\n",
       "  </tbody>\n",
       "</table>\n",
       "<p>10 rows × 29 columns</p>\n",
       "</div>"
      ],
      "text/plain": [
       "                 color      director_name  num_critic_for_reviews  duration  \\\n",
       "4793             Color          Oren Peli                   409.0      84.0   \n",
       "4799             Color  Jonathan Caouette                    72.0      88.0   \n",
       "4707   Black and White      Daniel Myrick                   360.0      81.0   \n",
       "4984             Color       Edward Burns                    36.0      98.0   \n",
       "4936             Color        Tobe Hooper                   277.0      88.0   \n",
       "3278             Color        Tobe Hooper                   277.0      88.0   \n",
       "5035             Color   Robert Rodriguez                    56.0      81.0   \n",
       "4956             Color       Travis Cluff                   159.0      81.0   \n",
       "4977             Color    Morgan Spurlock                   193.0     100.0   \n",
       "2619             Color     John Carpenter                   318.0     101.0   \n",
       "\n",
       "      director_facebook_likes  actor_3_facebook_likes       actor_2_name  \\\n",
       "4793                    110.0                    21.0      Ashley Palmer   \n",
       "4799                     20.0                     0.0  Jonathan Caouette   \n",
       "4707                     19.0                    39.0     Joshua Leonard   \n",
       "4984                      0.0                    73.0    Michael McGlone   \n",
       "4936                    365.0                   177.0         Edwin Neal   \n",
       "3278                    365.0                   177.0         Edwin Neal   \n",
       "5035                      0.0                     6.0    Peter Marquardt   \n",
       "4956                      3.0                     7.0    Cassidy Gifford   \n",
       "4977                    293.0                     0.0     Amanda Kearsan   \n",
       "2619                      0.0                   598.0   Donald Pleasence   \n",
       "\n",
       "      actor_1_facebook_likes        gross  \\\n",
       "4793                   189.0  107917283.0   \n",
       "4799                    58.0     592014.0   \n",
       "4707                   170.0  140530114.0   \n",
       "4984                   138.0   10246600.0   \n",
       "4936                   383.0   30859000.0   \n",
       "3278                   383.0   30859000.0   \n",
       "5035                   121.0    2040920.0   \n",
       "4956                   220.0   22757819.0   \n",
       "4977                     0.0   11529368.0   \n",
       "2619                  2000.0   47000000.0   \n",
       "\n",
       "                                   genres      ...      language country  \\\n",
       "4793                               Horror      ...       English     USA   \n",
       "4799                Biography|Documentary      ...       English     USA   \n",
       "4707                               Horror      ...       English     USA   \n",
       "4984                 Comedy|Drama|Romance      ...       English     USA   \n",
       "4936                      Horror|Thriller      ...       English     USA   \n",
       "3278                      Horror|Thriller      ...       English     USA   \n",
       "5035  Action|Crime|Drama|Romance|Thriller      ...       Spanish     USA   \n",
       "4956                      Horror|Thriller      ...       English     USA   \n",
       "4977             Comedy|Documentary|Drama      ...       English     USA   \n",
       "2619                      Horror|Thriller      ...       English     USA   \n",
       "\n",
       "      content_rating    budget title_year  actor_2_facebook_likes imdb_score  \\\n",
       "4793               R   15000.0     2007.0                   109.0        6.3   \n",
       "4799         Unrated     218.0     2003.0                    20.0        7.2   \n",
       "4707               R   60000.0     1999.0                   170.0        6.4   \n",
       "4984               R   25000.0     1995.0                   111.0        6.6   \n",
       "4936               R   83532.0     1974.0                   371.0        7.5   \n",
       "3278               R   83532.0     1974.0                   371.0        7.5   \n",
       "5035               R    7000.0     1992.0                    20.0        6.9   \n",
       "4956               R  100000.0     2015.0                    40.0        4.2   \n",
       "4977              PG   65000.0     2004.0                     0.0        7.3   \n",
       "2619               R  300000.0     1978.0                   742.0        7.9   \n",
       "\n",
       "     aspect_ratio  movie_facebook_likes profitability  \n",
       "4793         1.85                 12000   7194.485533  \n",
       "4799         1.37                   754   2715.660550  \n",
       "4707         1.33                     0   2342.168567  \n",
       "4984         1.85                   265    409.864000  \n",
       "4936         1.85                     0    369.427285  \n",
       "3278         1.85                     0    369.427285  \n",
       "5035         1.37                     0    291.560000  \n",
       "4956         1.85                     0    227.578190  \n",
       "4977         1.78                     0    177.374892  \n",
       "2619         2.35                 12000    156.666667  \n",
       "\n",
       "[10 rows x 29 columns]"
      ]
     },
     "execution_count": 76,
     "metadata": {},
     "output_type": "execute_result"
    }
   ],
   "source": [
    "# Solution 1\n",
    "\n",
    "movies['profitability'] = movies['gross'] / movies['budget']\n",
    "movies.sort_values('profitability', ascending=False).head(10)"
   ]
  },
  {
   "cell_type": "code",
   "execution_count": 77,
   "metadata": {
    "collapsed": false
   },
   "outputs": [
    {
     "data": {
      "text/html": [
       "<div>\n",
       "<table border=\"1\" class=\"dataframe\">\n",
       "  <thead>\n",
       "    <tr style=\"text-align: right;\">\n",
       "      <th></th>\n",
       "      <th>color</th>\n",
       "      <th>director_name</th>\n",
       "      <th>num_critic_for_reviews</th>\n",
       "      <th>duration</th>\n",
       "      <th>director_facebook_likes</th>\n",
       "      <th>actor_3_facebook_likes</th>\n",
       "      <th>actor_2_name</th>\n",
       "      <th>actor_1_facebook_likes</th>\n",
       "      <th>gross</th>\n",
       "      <th>genres</th>\n",
       "      <th>...</th>\n",
       "      <th>country</th>\n",
       "      <th>content_rating</th>\n",
       "      <th>budget</th>\n",
       "      <th>title_year</th>\n",
       "      <th>actor_2_facebook_likes</th>\n",
       "      <th>imdb_score</th>\n",
       "      <th>aspect_ratio</th>\n",
       "      <th>movie_facebook_likes</th>\n",
       "      <th>profitability</th>\n",
       "      <th>first_genre</th>\n",
       "    </tr>\n",
       "  </thead>\n",
       "  <tbody>\n",
       "    <tr>\n",
       "      <th>0</th>\n",
       "      <td>Color</td>\n",
       "      <td>James Cameron</td>\n",
       "      <td>723.0</td>\n",
       "      <td>178.0</td>\n",
       "      <td>0.0</td>\n",
       "      <td>855.0</td>\n",
       "      <td>Joel David Moore</td>\n",
       "      <td>1000.0</td>\n",
       "      <td>760505847.0</td>\n",
       "      <td>Action|Adventure|Fantasy|Sci-Fi</td>\n",
       "      <td>...</td>\n",
       "      <td>USA</td>\n",
       "      <td>PG-13</td>\n",
       "      <td>237000000.0</td>\n",
       "      <td>2009.0</td>\n",
       "      <td>936.0</td>\n",
       "      <td>7.9</td>\n",
       "      <td>1.78</td>\n",
       "      <td>33000</td>\n",
       "      <td>3.208885</td>\n",
       "      <td>Action</td>\n",
       "    </tr>\n",
       "    <tr>\n",
       "      <th>1</th>\n",
       "      <td>Color</td>\n",
       "      <td>Gore Verbinski</td>\n",
       "      <td>302.0</td>\n",
       "      <td>169.0</td>\n",
       "      <td>563.0</td>\n",
       "      <td>1000.0</td>\n",
       "      <td>Orlando Bloom</td>\n",
       "      <td>40000.0</td>\n",
       "      <td>309404152.0</td>\n",
       "      <td>Action|Adventure|Fantasy</td>\n",
       "      <td>...</td>\n",
       "      <td>USA</td>\n",
       "      <td>PG-13</td>\n",
       "      <td>300000000.0</td>\n",
       "      <td>2007.0</td>\n",
       "      <td>5000.0</td>\n",
       "      <td>7.1</td>\n",
       "      <td>2.35</td>\n",
       "      <td>0</td>\n",
       "      <td>1.031347</td>\n",
       "      <td>Action</td>\n",
       "    </tr>\n",
       "    <tr>\n",
       "      <th>2</th>\n",
       "      <td>Color</td>\n",
       "      <td>Sam Mendes</td>\n",
       "      <td>602.0</td>\n",
       "      <td>148.0</td>\n",
       "      <td>0.0</td>\n",
       "      <td>161.0</td>\n",
       "      <td>Rory Kinnear</td>\n",
       "      <td>11000.0</td>\n",
       "      <td>200074175.0</td>\n",
       "      <td>Action|Adventure|Thriller</td>\n",
       "      <td>...</td>\n",
       "      <td>UK</td>\n",
       "      <td>PG-13</td>\n",
       "      <td>245000000.0</td>\n",
       "      <td>2015.0</td>\n",
       "      <td>393.0</td>\n",
       "      <td>6.8</td>\n",
       "      <td>2.35</td>\n",
       "      <td>85000</td>\n",
       "      <td>0.816629</td>\n",
       "      <td>Action</td>\n",
       "    </tr>\n",
       "    <tr>\n",
       "      <th>3</th>\n",
       "      <td>Color</td>\n",
       "      <td>Christopher Nolan</td>\n",
       "      <td>813.0</td>\n",
       "      <td>164.0</td>\n",
       "      <td>22000.0</td>\n",
       "      <td>23000.0</td>\n",
       "      <td>Christian Bale</td>\n",
       "      <td>27000.0</td>\n",
       "      <td>448130642.0</td>\n",
       "      <td>Action|Thriller</td>\n",
       "      <td>...</td>\n",
       "      <td>USA</td>\n",
       "      <td>PG-13</td>\n",
       "      <td>250000000.0</td>\n",
       "      <td>2012.0</td>\n",
       "      <td>23000.0</td>\n",
       "      <td>8.5</td>\n",
       "      <td>2.35</td>\n",
       "      <td>164000</td>\n",
       "      <td>1.792523</td>\n",
       "      <td>Action</td>\n",
       "    </tr>\n",
       "    <tr>\n",
       "      <th>4</th>\n",
       "      <td>NaN</td>\n",
       "      <td>Doug Walker</td>\n",
       "      <td>NaN</td>\n",
       "      <td>NaN</td>\n",
       "      <td>131.0</td>\n",
       "      <td>NaN</td>\n",
       "      <td>Rob Walker</td>\n",
       "      <td>131.0</td>\n",
       "      <td>NaN</td>\n",
       "      <td>Documentary</td>\n",
       "      <td>...</td>\n",
       "      <td>NaN</td>\n",
       "      <td>NaN</td>\n",
       "      <td>NaN</td>\n",
       "      <td>NaN</td>\n",
       "      <td>12.0</td>\n",
       "      <td>7.1</td>\n",
       "      <td>NaN</td>\n",
       "      <td>0</td>\n",
       "      <td>NaN</td>\n",
       "      <td>Documentary</td>\n",
       "    </tr>\n",
       "  </tbody>\n",
       "</table>\n",
       "<p>5 rows × 30 columns</p>\n",
       "</div>"
      ],
      "text/plain": [
       "   color      director_name  num_critic_for_reviews  duration  \\\n",
       "0  Color      James Cameron                   723.0     178.0   \n",
       "1  Color     Gore Verbinski                   302.0     169.0   \n",
       "2  Color         Sam Mendes                   602.0     148.0   \n",
       "3  Color  Christopher Nolan                   813.0     164.0   \n",
       "4    NaN        Doug Walker                     NaN       NaN   \n",
       "\n",
       "   director_facebook_likes  actor_3_facebook_likes      actor_2_name  \\\n",
       "0                      0.0                   855.0  Joel David Moore   \n",
       "1                    563.0                  1000.0     Orlando Bloom   \n",
       "2                      0.0                   161.0      Rory Kinnear   \n",
       "3                  22000.0                 23000.0    Christian Bale   \n",
       "4                    131.0                     NaN        Rob Walker   \n",
       "\n",
       "   actor_1_facebook_likes        gross                           genres  \\\n",
       "0                  1000.0  760505847.0  Action|Adventure|Fantasy|Sci-Fi   \n",
       "1                 40000.0  309404152.0         Action|Adventure|Fantasy   \n",
       "2                 11000.0  200074175.0        Action|Adventure|Thriller   \n",
       "3                 27000.0  448130642.0                  Action|Thriller   \n",
       "4                   131.0          NaN                      Documentary   \n",
       "\n",
       "      ...      country content_rating       budget  title_year  \\\n",
       "0     ...          USA          PG-13  237000000.0      2009.0   \n",
       "1     ...          USA          PG-13  300000000.0      2007.0   \n",
       "2     ...           UK          PG-13  245000000.0      2015.0   \n",
       "3     ...          USA          PG-13  250000000.0      2012.0   \n",
       "4     ...          NaN            NaN          NaN         NaN   \n",
       "\n",
       "  actor_2_facebook_likes  imdb_score aspect_ratio movie_facebook_likes  \\\n",
       "0                  936.0         7.9         1.78                33000   \n",
       "1                 5000.0         7.1         2.35                    0   \n",
       "2                  393.0         6.8         2.35                85000   \n",
       "3                23000.0         8.5         2.35               164000   \n",
       "4                   12.0         7.1          NaN                    0   \n",
       "\n",
       "   profitability  first_genre  \n",
       "0       3.208885       Action  \n",
       "1       1.031347       Action  \n",
       "2       0.816629       Action  \n",
       "3       1.792523       Action  \n",
       "4            NaN  Documentary  \n",
       "\n",
       "[5 rows x 30 columns]"
      ]
     },
     "execution_count": 77,
     "metadata": {},
     "output_type": "execute_result"
    }
   ],
   "source": [
    "# Solution 2\n",
    "\n",
    "movies['first_genre'] = movies['genres'].str.split('|').str[0]\n",
    "movies.head()"
   ]
  },
  {
   "cell_type": "markdown",
   "metadata": {},
   "source": [
    "## Visualizing data"
   ]
  },
  {
   "cell_type": "code",
   "execution_count": 78,
   "metadata": {
    "collapsed": false
   },
   "outputs": [
    {
     "data": {
      "text/html": [
       "<div>\n",
       "<table border=\"1\" class=\"dataframe\">\n",
       "  <thead>\n",
       "    <tr style=\"text-align: right;\">\n",
       "      <th></th>\n",
       "      <th>hero</th>\n",
       "      <th>strength</th>\n",
       "      <th>health</th>\n",
       "      <th>height</th>\n",
       "      <th>is_hungry</th>\n",
       "      <th>strength_per_cm</th>\n",
       "      <th>code</th>\n",
       "      <th>effective_strength</th>\n",
       "    </tr>\n",
       "  </thead>\n",
       "  <tbody>\n",
       "    <tr>\n",
       "      <th>0</th>\n",
       "      <td>Batman</td>\n",
       "      <td>500</td>\n",
       "      <td>200</td>\n",
       "      <td>180</td>\n",
       "      <td>True</td>\n",
       "      <td>2.222222</td>\n",
       "      <td>Ba</td>\n",
       "      <td>0</td>\n",
       "    </tr>\n",
       "    <tr>\n",
       "      <th>1</th>\n",
       "      <td>Robin</td>\n",
       "      <td>300</td>\n",
       "      <td>200</td>\n",
       "      <td>170</td>\n",
       "      <td>False</td>\n",
       "      <td>1.176471</td>\n",
       "      <td>Ro</td>\n",
       "      <td>200</td>\n",
       "    </tr>\n",
       "    <tr>\n",
       "      <th>2</th>\n",
       "      <td>Spiderman</td>\n",
       "      <td>400</td>\n",
       "      <td>200</td>\n",
       "      <td>175</td>\n",
       "      <td>False</td>\n",
       "      <td>1.714286</td>\n",
       "      <td>Sp</td>\n",
       "      <td>300</td>\n",
       "    </tr>\n",
       "    <tr>\n",
       "      <th>3</th>\n",
       "      <td>Robocop</td>\n",
       "      <td>500</td>\n",
       "      <td>200</td>\n",
       "      <td>190</td>\n",
       "      <td>True</td>\n",
       "      <td>2.105263</td>\n",
       "      <td>Ro</td>\n",
       "      <td>0</td>\n",
       "    </tr>\n",
       "    <tr>\n",
       "      <th>4</th>\n",
       "      <td>Terminator</td>\n",
       "      <td>600</td>\n",
       "      <td>200</td>\n",
       "      <td>185</td>\n",
       "      <td>True</td>\n",
       "      <td>2.702703</td>\n",
       "      <td>Te</td>\n",
       "      <td>0</td>\n",
       "    </tr>\n",
       "  </tbody>\n",
       "</table>\n",
       "</div>"
      ],
      "text/plain": [
       "         hero  strength  health  height is_hungry  strength_per_cm code  \\\n",
       "0      Batman       500     200     180      True         2.222222   Ba   \n",
       "1       Robin       300     200     170     False         1.176471   Ro   \n",
       "2   Spiderman       400     200     175     False         1.714286   Sp   \n",
       "3     Robocop       500     200     190      True         2.105263   Ro   \n",
       "4  Terminator       600     200     185      True         2.702703   Te   \n",
       "\n",
       "   effective_strength  \n",
       "0                   0  \n",
       "1                 200  \n",
       "2                 300  \n",
       "3                   0  \n",
       "4                   0  "
      ]
     },
     "execution_count": 78,
     "metadata": {},
     "output_type": "execute_result"
    }
   ],
   "source": [
    "heroes"
   ]
  },
  {
   "cell_type": "code",
   "execution_count": 79,
   "metadata": {
    "collapsed": false
   },
   "outputs": [
    {
     "data": {
      "text/html": [
       "<div>\n",
       "<table border=\"1\" class=\"dataframe\">\n",
       "  <thead>\n",
       "    <tr style=\"text-align: right;\">\n",
       "      <th></th>\n",
       "      <th>strength</th>\n",
       "      <th>health</th>\n",
       "      <th>height</th>\n",
       "      <th>strength_per_cm</th>\n",
       "      <th>effective_strength</th>\n",
       "    </tr>\n",
       "  </thead>\n",
       "  <tbody>\n",
       "    <tr>\n",
       "      <th>count</th>\n",
       "      <td>5.000000</td>\n",
       "      <td>5.0</td>\n",
       "      <td>5.000000</td>\n",
       "      <td>5.000000</td>\n",
       "      <td>5.000000</td>\n",
       "    </tr>\n",
       "    <tr>\n",
       "      <th>mean</th>\n",
       "      <td>460.000000</td>\n",
       "      <td>200.0</td>\n",
       "      <td>180.000000</td>\n",
       "      <td>1.984189</td>\n",
       "      <td>100.000000</td>\n",
       "    </tr>\n",
       "    <tr>\n",
       "      <th>std</th>\n",
       "      <td>114.017543</td>\n",
       "      <td>0.0</td>\n",
       "      <td>7.905694</td>\n",
       "      <td>0.572896</td>\n",
       "      <td>141.421356</td>\n",
       "    </tr>\n",
       "    <tr>\n",
       "      <th>min</th>\n",
       "      <td>300.000000</td>\n",
       "      <td>200.0</td>\n",
       "      <td>170.000000</td>\n",
       "      <td>1.176471</td>\n",
       "      <td>0.000000</td>\n",
       "    </tr>\n",
       "    <tr>\n",
       "      <th>25%</th>\n",
       "      <td>400.000000</td>\n",
       "      <td>200.0</td>\n",
       "      <td>175.000000</td>\n",
       "      <td>1.714286</td>\n",
       "      <td>0.000000</td>\n",
       "    </tr>\n",
       "    <tr>\n",
       "      <th>50%</th>\n",
       "      <td>500.000000</td>\n",
       "      <td>200.0</td>\n",
       "      <td>180.000000</td>\n",
       "      <td>2.105263</td>\n",
       "      <td>0.000000</td>\n",
       "    </tr>\n",
       "    <tr>\n",
       "      <th>75%</th>\n",
       "      <td>500.000000</td>\n",
       "      <td>200.0</td>\n",
       "      <td>185.000000</td>\n",
       "      <td>2.222222</td>\n",
       "      <td>200.000000</td>\n",
       "    </tr>\n",
       "    <tr>\n",
       "      <th>max</th>\n",
       "      <td>600.000000</td>\n",
       "      <td>200.0</td>\n",
       "      <td>190.000000</td>\n",
       "      <td>2.702703</td>\n",
       "      <td>300.000000</td>\n",
       "    </tr>\n",
       "  </tbody>\n",
       "</table>\n",
       "</div>"
      ],
      "text/plain": [
       "         strength  health      height  strength_per_cm  effective_strength\n",
       "count    5.000000     5.0    5.000000         5.000000            5.000000\n",
       "mean   460.000000   200.0  180.000000         1.984189          100.000000\n",
       "std    114.017543     0.0    7.905694         0.572896          141.421356\n",
       "min    300.000000   200.0  170.000000         1.176471            0.000000\n",
       "25%    400.000000   200.0  175.000000         1.714286            0.000000\n",
       "50%    500.000000   200.0  180.000000         2.105263            0.000000\n",
       "75%    500.000000   200.0  185.000000         2.222222          200.000000\n",
       "max    600.000000   200.0  190.000000         2.702703          300.000000"
      ]
     },
     "execution_count": 79,
     "metadata": {},
     "output_type": "execute_result"
    }
   ],
   "source": [
    "heroes.describe()"
   ]
  },
  {
   "cell_type": "code",
   "execution_count": 80,
   "metadata": {
    "collapsed": false
   },
   "outputs": [
    {
     "name": "stderr",
     "output_type": "stream",
     "text": [
      "/Users/jacekrzeszutek/.virtualenvs/first-steps-with-pandas/lib/python2.7/site-packages/matplotlib/font_manager.py:273: UserWarning: Matplotlib is building the font cache using fc-list. This may take a moment.\n",
      "  warnings.warn('Matplotlib is building the font cache using fc-list. This may take a moment.')\n"
     ]
    }
   ],
   "source": [
    "%matplotlib inline"
   ]
  },
  {
   "cell_type": "code",
   "execution_count": 81,
   "metadata": {
    "collapsed": false
   },
   "outputs": [
    {
     "data": {
      "text/plain": [
       "<matplotlib.axes._subplots.AxesSubplot at 0x10a15d310>"
      ]
     },
     "execution_count": 81,
     "metadata": {},
     "output_type": "execute_result"
    },
    {
     "data": {
      "image/png": "[encoded data removed]",
      "text/plain": [
       "<matplotlib.figure.Figure at 0x10a14eb10>"
      ]
     },
     "metadata": {},
     "output_type": "display_data"
    }
   ],
   "source": [
    "pd.Series([1, 2, 3]).plot()"
   ]
  },
  {
   "cell_type": "code",
   "execution_count": 82,
   "metadata": {
    "collapsed": false
   },
   "outputs": [
    {
     "data": {
      "text/plain": [
       "<matplotlib.axes._subplots.AxesSubplot at 0x10a1ee290>"
      ]
     },
     "execution_count": 82,
     "metadata": {},
     "output_type": "execute_result"
    },
    {
     "data": {
      "image/png": "[encoded data removed]",
      "text/plain": [
       "<matplotlib.figure.Figure at 0x10a1f7d50>"
      ]
     },
     "metadata": {},
     "output_type": "display_data"
    }
   ],
   "source": [
    "pd.Series([1, 2, 3], index=['Batman', 'Robin', 'Rambo']).plot()"
   ]
  },
  {
   "cell_type": "code",
   "execution_count": 83,
   "metadata": {
    "collapsed": false
   },
   "outputs": [
    {
     "data": {
      "text/plain": [
       "<matplotlib.axes._subplots.AxesSubplot at 0x10a46fd50>"
      ]
     },
     "execution_count": 83,
     "metadata": {},
     "output_type": "execute_result"
    },
    {
     "data": {
      "image/png": "[encoded data removed]",
      "text/plain": [
       "<matplotlib.figure.Figure at 0x10a27e8d0>"
      ]
     },
     "metadata": {},
     "output_type": "display_data"
    }
   ],
   "source": [
    "pd.Series([1, 2, 3], index=['Batman', 'Robin', 'Rambo']).plot(kind='bar')"
   ]
  },
  {
   "cell_type": "code",
   "execution_count": 84,
   "metadata": {
    "collapsed": false
   },
   "outputs": [
    {
     "data": {
      "text/plain": [
       "<matplotlib.axes._subplots.AxesSubplot at 0x10a519190>"
      ]
     },
     "execution_count": 84,
     "metadata": {},
     "output_type": "execute_result"
    },
    {
     "data": {
      "image/png": "[encoded data removed]",
      "text/plain": [
       "<matplotlib.figure.Figure at 0x10a64fad0>"
      ]
     },
     "metadata": {},
     "output_type": "display_data"
    }
   ],
   "source": [
    "pd.Series([1, 2, 3], index=['Batman', 'Robin', 'Rambo']).plot(kind='pie')"
   ]
  },
  {
   "cell_type": "code",
   "execution_count": 85,
   "metadata": {
    "collapsed": false
   },
   "outputs": [
    {
     "data": {
      "text/plain": [
       "<matplotlib.axes._subplots.AxesSubplot at 0x10a64fed0>"
      ]
     },
     "execution_count": 85,
     "metadata": {},
     "output_type": "execute_result"
    },
    {
     "data": {
      "image/png": "[encoded data removed]",
      "text/plain": [
       "<matplotlib.figure.Figure at 0x10a3794d0>"
      ]
     },
     "metadata": {},
     "output_type": "display_data"
    }
   ],
   "source": [
    "pd.Series([1, 2, 3], index=['Batman', 'Robin', 'Rambo']).plot(\n",
    "    kind='bar',\n",
    "    figsize=(15, 6)\n",
    ")"
   ]
  },
  {
   "cell_type": "code",
   "execution_count": 86,
   "metadata": {
    "collapsed": false
   },
   "outputs": [
    {
     "data": {
      "text/plain": [
       "<matplotlib.axes._subplots.AxesSubplot at 0x10a7e5dd0>"
      ]
     },
     "execution_count": 86,
     "metadata": {},
     "output_type": "execute_result"
    },
    {
     "data": {
      "image/png": "[encoded data removed]",
      "text/plain": [
       "<matplotlib.figure.Figure at 0x10a4d3090>"
      ]
     },
     "metadata": {},
     "output_type": "display_data"
    }
   ],
   "source": [
    "heroes.plot()"
   ]
  },
  {
   "cell_type": "code",
   "execution_count": 87,
   "metadata": {
    "collapsed": false
   },
   "outputs": [
    {
     "data": {
      "text/html": [
       "<div>\n",
       "<table border=\"1\" class=\"dataframe\">\n",
       "  <thead>\n",
       "    <tr style=\"text-align: right;\">\n",
       "      <th></th>\n",
       "      <th>strength</th>\n",
       "      <th>health</th>\n",
       "      <th>height</th>\n",
       "      <th>is_hungry</th>\n",
       "      <th>strength_per_cm</th>\n",
       "      <th>code</th>\n",
       "      <th>effective_strength</th>\n",
       "    </tr>\n",
       "    <tr>\n",
       "      <th>hero</th>\n",
       "      <th></th>\n",
       "      <th></th>\n",
       "      <th></th>\n",
       "      <th></th>\n",
       "      <th></th>\n",
       "      <th></th>\n",
       "      <th></th>\n",
       "    </tr>\n",
       "  </thead>\n",
       "  <tbody>\n",
       "    <tr>\n",
       "      <th>Batman</th>\n",
       "      <td>500</td>\n",
       "      <td>200</td>\n",
       "      <td>180</td>\n",
       "      <td>True</td>\n",
       "      <td>2.222222</td>\n",
       "      <td>Ba</td>\n",
       "      <td>0</td>\n",
       "    </tr>\n",
       "    <tr>\n",
       "      <th>Robin</th>\n",
       "      <td>300</td>\n",
       "      <td>200</td>\n",
       "      <td>170</td>\n",
       "      <td>False</td>\n",
       "      <td>1.176471</td>\n",
       "      <td>Ro</td>\n",
       "      <td>200</td>\n",
       "    </tr>\n",
       "    <tr>\n",
       "      <th>Spiderman</th>\n",
       "      <td>400</td>\n",
       "      <td>200</td>\n",
       "      <td>175</td>\n",
       "      <td>False</td>\n",
       "      <td>1.714286</td>\n",
       "      <td>Sp</td>\n",
       "      <td>300</td>\n",
       "    </tr>\n",
       "    <tr>\n",
       "      <th>Robocop</th>\n",
       "      <td>500</td>\n",
       "      <td>200</td>\n",
       "      <td>190</td>\n",
       "      <td>True</td>\n",
       "      <td>2.105263</td>\n",
       "      <td>Ro</td>\n",
       "      <td>0</td>\n",
       "    </tr>\n",
       "    <tr>\n",
       "      <th>Terminator</th>\n",
       "      <td>600</td>\n",
       "      <td>200</td>\n",
       "      <td>185</td>\n",
       "      <td>True</td>\n",
       "      <td>2.702703</td>\n",
       "      <td>Te</td>\n",
       "      <td>0</td>\n",
       "    </tr>\n",
       "  </tbody>\n",
       "</table>\n",
       "</div>"
      ],
      "text/plain": [
       "            strength  health  height is_hungry  strength_per_cm code  \\\n",
       "hero                                                                   \n",
       "Batman           500     200     180      True         2.222222   Ba   \n",
       "Robin            300     200     170     False         1.176471   Ro   \n",
       "Spiderman        400     200     175     False         1.714286   Sp   \n",
       "Robocop          500     200     190      True         2.105263   Ro   \n",
       "Terminator       600     200     185      True         2.702703   Te   \n",
       "\n",
       "            effective_strength  \n",
       "hero                            \n",
       "Batman                       0  \n",
       "Robin                      200  \n",
       "Spiderman                  300  \n",
       "Robocop                      0  \n",
       "Terminator                   0  "
      ]
     },
     "execution_count": 87,
     "metadata": {},
     "output_type": "execute_result"
    }
   ],
   "source": [
    "indexed_heroes = heroes.set_index('hero')\n",
    "indexed_heroes"
   ]
  },
  {
   "cell_type": "code",
   "execution_count": 88,
   "metadata": {
    "collapsed": false
   },
   "outputs": [
    {
     "data": {
      "text/plain": [
       "<matplotlib.axes._subplots.AxesSubplot at 0x10a66ae90>"
      ]
     },
     "execution_count": 88,
     "metadata": {},
     "output_type": "execute_result"
    },
    {
     "data": {
      "image/png": "[encoded data removed]",
      "text/plain": [
       "<matplotlib.figure.Figure at 0x10af56cd0>"
      ]
     },
     "metadata": {},
     "output_type": "display_data"
    }
   ],
   "source": [
    "indexed_heroes.plot()"
   ]
  },
  {
   "cell_type": "code",
   "execution_count": 89,
   "metadata": {
    "collapsed": false
   },
   "outputs": [
    {
     "data": {
      "text/plain": [
       "<matplotlib.axes._subplots.AxesSubplot at 0x10a8a7450>"
      ]
     },
     "execution_count": 89,
     "metadata": {},
     "output_type": "execute_result"
    },
    {
     "data": {
      "image/png": "[encoded data removed]",
      "text/plain": [
       "<matplotlib.figure.Figure at 0x10b11b090>"
      ]
     },
     "metadata": {},
     "output_type": "display_data"
    }
   ],
   "source": [
    "indexed_heroes.plot(kind='bar')"
   ]
  },
  {
   "cell_type": "code",
   "execution_count": 90,
   "metadata": {
    "collapsed": false
   },
   "outputs": [
    {
     "data": {
      "text/plain": [
       "array([<matplotlib.axes._subplots.AxesSubplot object at 0x10b11b0d0>,\n",
       "       <matplotlib.axes._subplots.AxesSubplot object at 0x10b4d5c50>,\n",
       "       <matplotlib.axes._subplots.AxesSubplot object at 0x10b558790>,\n",
       "       <matplotlib.axes._subplots.AxesSubplot object at 0x10b5c9050>,\n",
       "       <matplotlib.axes._subplots.AxesSubplot object at 0x10b63fd50>,\n",
       "       <matplotlib.axes._subplots.AxesSubplot object at 0x10b6a6910>], dtype=object)"
      ]
     },
     "execution_count": 90,
     "metadata": {},
     "output_type": "execute_result"
    },
    {
     "data": {
      "image/png": "[encoded data removed]",
      "text/plain": [
       "<matplotlib.figure.Figure at 0x10b2f0590>"
      ]
     },
     "metadata": {},
     "output_type": "display_data"
    }
   ],
   "source": [
    "indexed_heroes.plot(kind='bar', subplots=True, figsize=(15, 15))"
   ]
  },
  {
   "cell_type": "code",
   "execution_count": 91,
   "metadata": {
    "collapsed": false
   },
   "outputs": [
    {
     "data": {
      "text/plain": [
       "<matplotlib.axes._subplots.AxesSubplot at 0x10b86d650>"
      ]
     },
     "execution_count": 91,
     "metadata": {},
     "output_type": "execute_result"
    },
    {
     "data": {
      "image/png": "[encoded data removed]",
      "text/plain": [
       "<matplotlib.figure.Figure at 0x10a4dc250>"
      ]
     },
     "metadata": {},
     "output_type": "display_data"
    }
   ],
   "source": [
    "indexed_heroes[['height', 'strength']].plot(kind='bar')"
   ]
  },
  {
   "cell_type": "code",
   "execution_count": 92,
   "metadata": {
    "collapsed": false
   },
   "outputs": [
    {
     "data": {
      "text/plain": [
       "array([[<matplotlib.axes._subplots.AxesSubplot object at 0x10c24f890>,\n",
       "        <matplotlib.axes._subplots.AxesSubplot object at 0x10cf8cc10>],\n",
       "       [<matplotlib.axes._subplots.AxesSubplot object at 0x10d010a90>,\n",
       "        <matplotlib.axes._subplots.AxesSubplot object at 0x10d073f90>],\n",
       "       [<matplotlib.axes._subplots.AxesSubplot object at 0x10d0f7e10>,\n",
       "        <matplotlib.axes._subplots.AxesSubplot object at 0x10d160b10>]], dtype=object)"
      ]
     },
     "execution_count": 92,
     "metadata": {},
     "output_type": "execute_result"
    },
    {
     "data": {
      "image/png": "[encoded data removed]",
      "text/plain": [
       "<matplotlib.figure.Figure at 0x10c25a810>"
      ]
     },
     "metadata": {},
     "output_type": "display_data"
    }
   ],
   "source": [
    "heroes.hist(figsize=(10, 10))"
   ]
  },
  {
   "cell_type": "code",
   "execution_count": 93,
   "metadata": {
    "collapsed": false
   },
   "outputs": [
    {
     "data": {
      "text/plain": [
       "<matplotlib.axes._subplots.AxesSubplot at 0x10d296f90>"
      ]
     },
     "execution_count": 93,
     "metadata": {},
     "output_type": "execute_result"
    },
    {
     "data": {
      "image/png": "[encoded data removed]",
      "text/plain": [
       "<matplotlib.figure.Figure at 0x10d252910>"
      ]
     },
     "metadata": {},
     "output_type": "display_data"
    }
   ],
   "source": [
    "heroes.describe()['strength'].plot(kind='bar')"
   ]
  },
  {
   "cell_type": "markdown",
   "metadata": {},
   "source": [
    "#### EXERCISE\n",
    "1. Create a chart presenting grosses of movies directed by Christopher Nolan\n",
    "2. What are typical durations of the movies?\n",
    "3. What is percentage distribution of first genre? (cake)"
   ]
  },
  {
   "cell_type": "code",
   "execution_count": 94,
   "metadata": {
    "collapsed": false
   },
   "outputs": [
    {
     "data": {
      "text/plain": [
       "<matplotlib.axes._subplots.AxesSubplot at 0x10d836bd0>"
      ]
     },
     "execution_count": 94,
     "metadata": {},
     "output_type": "execute_result"
    },
    {
     "data": {
      "image/png": "[encoded data removed]",
      "text/plain": [
       "<matplotlib.figure.Figure at 0x10d904410>"
      ]
     },
     "metadata": {},
     "output_type": "display_data"
    }
   ],
   "source": [
    "# Solution 1\n",
    "\n",
    "nolan_movies = movies[movies['director_name'] == 'Christopher Nolan']\n",
    "nolan_movies = nolan_movies.set_index('movie_title')\n",
    "\n",
    "nolan_movies['gross'].plot(kind='bar')"
   ]
  },
  {
   "cell_type": "code",
   "execution_count": 95,
   "metadata": {
    "collapsed": false
   },
   "outputs": [
    {
     "data": {
      "text/plain": [
       "<matplotlib.axes._subplots.AxesSubplot at 0x10db2b910>"
      ]
     },
     "execution_count": 95,
     "metadata": {},
     "output_type": "execute_result"
    },
    {
     "data": {
      "image/png": "[encoded data removed]",
      "text/plain": [
       "<matplotlib.figure.Figure at 0x10db49810>"
      ]
     },
     "metadata": {},
     "output_type": "display_data"
    }
   ],
   "source": [
    "# Solution 2\n",
    "\n",
    "movies['duration'].hist(bins=25)"
   ]
  },
  {
   "cell_type": "code",
   "execution_count": 96,
   "metadata": {
    "collapsed": false
   },
   "outputs": [
    {
     "data": {
      "text/plain": [
       "<matplotlib.axes._subplots.AxesSubplot at 0x10d8ece50>"
      ]
     },
     "execution_count": 96,
     "metadata": {},
     "output_type": "execute_result"
    },
    {
     "data": {
      "image/png": "[encoded data removed]",
      "text/plain": [
       "<matplotlib.figure.Figure at 0x10d7e5f50>"
      ]
     },
     "metadata": {},
     "output_type": "display_data"
    }
   ],
   "source": [
    "# Solution 3\n",
    "\n",
    "movies['first_genre'].value_counts().plot(\n",
    "    kind='pie',\n",
    "    figsize=(15,15)\n",
    ")"
   ]
  },
  {
   "cell_type": "markdown",
   "metadata": {},
   "source": [
    "## Aggregation"
   ]
  },
  {
   "cell_type": "code",
   "execution_count": 97,
   "metadata": {
    "collapsed": false
   },
   "outputs": [
    {
     "data": {
      "text/html": [
       "<div>\n",
       "<table border=\"1\" class=\"dataframe\">\n",
       "  <thead>\n",
       "    <tr style=\"text-align: right;\">\n",
       "      <th></th>\n",
       "      <th>hero</th>\n",
       "      <th>movie</th>\n",
       "      <th>speed</th>\n",
       "      <th>strength</th>\n",
       "    </tr>\n",
       "  </thead>\n",
       "  <tbody>\n",
       "    <tr>\n",
       "      <th>0</th>\n",
       "      <td>Batman</td>\n",
       "      <td>Batman</td>\n",
       "      <td>100</td>\n",
       "      <td>400</td>\n",
       "    </tr>\n",
       "    <tr>\n",
       "      <th>1</th>\n",
       "      <td>Robin</td>\n",
       "      <td>Batman</td>\n",
       "      <td>10</td>\n",
       "      <td>100</td>\n",
       "    </tr>\n",
       "    <tr>\n",
       "      <th>2</th>\n",
       "      <td>Spiderman</td>\n",
       "      <td>Spiderman</td>\n",
       "      <td>200</td>\n",
       "      <td>400</td>\n",
       "    </tr>\n",
       "    <tr>\n",
       "      <th>3</th>\n",
       "      <td>Robocop</td>\n",
       "      <td>Robocop</td>\n",
       "      <td>1</td>\n",
       "      <td>560</td>\n",
       "    </tr>\n",
       "    <tr>\n",
       "      <th>4</th>\n",
       "      <td>Lex Luthor</td>\n",
       "      <td>Spiderman</td>\n",
       "      <td>30</td>\n",
       "      <td>89</td>\n",
       "    </tr>\n",
       "  </tbody>\n",
       "</table>\n",
       "</div>"
      ],
      "text/plain": [
       "         hero      movie  speed  strength\n",
       "0      Batman     Batman    100       400\n",
       "1       Robin     Batman     10       100\n",
       "2   Spiderman  Spiderman    200       400\n",
       "3     Robocop    Robocop      1       560\n",
       "4  Lex Luthor  Spiderman     30        89"
      ]
     },
     "execution_count": 97,
     "metadata": {},
     "output_type": "execute_result"
    }
   ],
   "source": [
    "movie_heroes = pd.DataFrame({\n",
    "    'hero': ['Batman', 'Robin', 'Spiderman', 'Robocop', 'Lex Luthor'],\n",
    "    'movie': ['Batman', 'Batman', 'Spiderman', 'Robocop', 'Spiderman'],\n",
    "    'strength': [400, 100, 400, 560, 89],\n",
    "    'speed': [100, 10, 200, 1, 30],\n",
    "})\n",
    "movie_heroes"
   ]
  },
  {
   "cell_type": "code",
   "execution_count": 98,
   "metadata": {
    "collapsed": false
   },
   "outputs": [
    {
     "data": {
      "text/plain": [
       "<pandas.core.groupby.DataFrameGroupBy object at 0x10de87850>"
      ]
     },
     "execution_count": 98,
     "metadata": {},
     "output_type": "execute_result"
    }
   ],
   "source": [
    "movie_heroes.groupby('movie')"
   ]
  },
  {
   "cell_type": "code",
   "execution_count": 99,
   "metadata": {
    "collapsed": false
   },
   "outputs": [
    {
     "data": {
      "text/plain": [
       "[('Batman',      hero   movie  speed  strength\n",
       "  0  Batman  Batman    100       400\n",
       "  1   Robin  Batman     10       100),\n",
       " ('Robocop',       hero    movie  speed  strength\n",
       "  3  Robocop  Robocop      1       560),\n",
       " ('Spiderman',          hero      movie  speed  strength\n",
       "  2   Spiderman  Spiderman    200       400\n",
       "  4  Lex Luthor  Spiderman     30        89)]"
      ]
     },
     "execution_count": 99,
     "metadata": {},
     "output_type": "execute_result"
    }
   ],
   "source": [
    "list(movie_heroes.groupby('movie'))"
   ]
  },
  {
   "cell_type": "code",
   "execution_count": 100,
   "metadata": {
    "collapsed": false
   },
   "outputs": [
    {
     "data": {
      "text/plain": [
       "movie\n",
       "Batman       2\n",
       "Robocop      1\n",
       "Spiderman    2\n",
       "dtype: int64"
      ]
     },
     "execution_count": 100,
     "metadata": {},
     "output_type": "execute_result"
    }
   ],
   "source": [
    "movie_heroes.groupby('movie').size()"
   ]
  },
  {
   "cell_type": "code",
   "execution_count": 101,
   "metadata": {
    "collapsed": false
   },
   "outputs": [
    {
     "data": {
      "text/html": [
       "<div>\n",
       "<table border=\"1\" class=\"dataframe\">\n",
       "  <thead>\n",
       "    <tr style=\"text-align: right;\">\n",
       "      <th></th>\n",
       "      <th>hero</th>\n",
       "      <th>speed</th>\n",
       "      <th>strength</th>\n",
       "    </tr>\n",
       "    <tr>\n",
       "      <th>movie</th>\n",
       "      <th></th>\n",
       "      <th></th>\n",
       "      <th></th>\n",
       "    </tr>\n",
       "  </thead>\n",
       "  <tbody>\n",
       "    <tr>\n",
       "      <th>Batman</th>\n",
       "      <td>2</td>\n",
       "      <td>2</td>\n",
       "      <td>2</td>\n",
       "    </tr>\n",
       "    <tr>\n",
       "      <th>Robocop</th>\n",
       "      <td>1</td>\n",
       "      <td>1</td>\n",
       "      <td>1</td>\n",
       "    </tr>\n",
       "    <tr>\n",
       "      <th>Spiderman</th>\n",
       "      <td>2</td>\n",
       "      <td>2</td>\n",
       "      <td>2</td>\n",
       "    </tr>\n",
       "  </tbody>\n",
       "</table>\n",
       "</div>"
      ],
      "text/plain": [
       "           hero  speed  strength\n",
       "movie                           \n",
       "Batman        2      2         2\n",
       "Robocop       1      1         1\n",
       "Spiderman     2      2         2"
      ]
     },
     "execution_count": 101,
     "metadata": {},
     "output_type": "execute_result"
    }
   ],
   "source": [
    "movie_heroes.groupby('movie').count()"
   ]
  },
  {
   "cell_type": "code",
   "execution_count": 102,
   "metadata": {
    "collapsed": false
   },
   "outputs": [
    {
     "data": {
      "text/plain": [
       "movie\n",
       "Batman       110\n",
       "Robocop        1\n",
       "Spiderman    230\n",
       "Name: speed, dtype: int64"
      ]
     },
     "execution_count": 102,
     "metadata": {},
     "output_type": "execute_result"
    }
   ],
   "source": [
    "movie_heroes.groupby('movie')['speed'].sum()"
   ]
  },
  {
   "cell_type": "code",
   "execution_count": 103,
   "metadata": {
    "collapsed": false
   },
   "outputs": [
    {
     "data": {
      "text/html": [
       "<div>\n",
       "<table border=\"1\" class=\"dataframe\">\n",
       "  <thead>\n",
       "    <tr style=\"text-align: right;\">\n",
       "      <th></th>\n",
       "      <th>speed</th>\n",
       "      <th>strength</th>\n",
       "    </tr>\n",
       "    <tr>\n",
       "      <th>movie</th>\n",
       "      <th></th>\n",
       "      <th></th>\n",
       "    </tr>\n",
       "  </thead>\n",
       "  <tbody>\n",
       "    <tr>\n",
       "      <th>Batman</th>\n",
       "      <td>55.0</td>\n",
       "      <td>250.0</td>\n",
       "    </tr>\n",
       "    <tr>\n",
       "      <th>Robocop</th>\n",
       "      <td>1.0</td>\n",
       "      <td>560.0</td>\n",
       "    </tr>\n",
       "    <tr>\n",
       "      <th>Spiderman</th>\n",
       "      <td>115.0</td>\n",
       "      <td>244.5</td>\n",
       "    </tr>\n",
       "  </tbody>\n",
       "</table>\n",
       "</div>"
      ],
      "text/plain": [
       "           speed  strength\n",
       "movie                     \n",
       "Batman      55.0     250.0\n",
       "Robocop      1.0     560.0\n",
       "Spiderman  115.0     244.5"
      ]
     },
     "execution_count": 103,
     "metadata": {},
     "output_type": "execute_result"
    }
   ],
   "source": [
    "movie_heroes.groupby('movie').mean()"
   ]
  },
  {
   "cell_type": "code",
   "execution_count": 104,
   "metadata": {
    "collapsed": false
   },
   "outputs": [
    {
     "data": {
      "text/plain": [
       "movie       \n",
       "Batman     0    40000\n",
       "           1     1000\n",
       "Robocop    3      560\n",
       "Spiderman  2    80000\n",
       "           4     2670\n",
       "dtype: int64"
      ]
     },
     "execution_count": 104,
     "metadata": {},
     "output_type": "execute_result"
    }
   ],
   "source": [
    "movie_heroes.groupby('movie').apply(\n",
    "    lambda row: row['speed'] * row['strength']\n",
    ")"
   ]
  },
  {
   "cell_type": "code",
   "execution_count": 105,
   "metadata": {
    "collapsed": false
   },
   "outputs": [
    {
     "data": {
      "text/html": [
       "<div>\n",
       "<table border=\"1\" class=\"dataframe\">\n",
       "  <thead>\n",
       "    <tr style=\"text-align: right;\">\n",
       "      <th></th>\n",
       "      <th>strength</th>\n",
       "      <th>speed</th>\n",
       "    </tr>\n",
       "    <tr>\n",
       "      <th>movie</th>\n",
       "      <th></th>\n",
       "      <th></th>\n",
       "    </tr>\n",
       "  </thead>\n",
       "  <tbody>\n",
       "    <tr>\n",
       "      <th>Batman</th>\n",
       "      <td>400</td>\n",
       "      <td>55</td>\n",
       "    </tr>\n",
       "    <tr>\n",
       "      <th>Robocop</th>\n",
       "      <td>560</td>\n",
       "      <td>1</td>\n",
       "    </tr>\n",
       "    <tr>\n",
       "      <th>Spiderman</th>\n",
       "      <td>400</td>\n",
       "      <td>115</td>\n",
       "    </tr>\n",
       "  </tbody>\n",
       "</table>\n",
       "</div>"
      ],
      "text/plain": [
       "           strength  speed\n",
       "movie                     \n",
       "Batman          400     55\n",
       "Robocop         560      1\n",
       "Spiderman       400    115"
      ]
     },
     "execution_count": 105,
     "metadata": {},
     "output_type": "execute_result"
    }
   ],
   "source": [
    "movie_heroes.groupby('movie').agg({\n",
    "    'speed': 'mean',\n",
    "    'strength': 'max',\n",
    "})"
   ]
  },
  {
   "cell_type": "code",
   "execution_count": 106,
   "metadata": {
    "collapsed": false
   },
   "outputs": [
    {
     "data": {
      "text/plain": [
       "movie      hero      \n",
       "Batman     Batman        1\n",
       "           Robin         1\n",
       "Robocop    Robocop       1\n",
       "Spiderman  Lex Luthor    1\n",
       "           Spiderman     1\n",
       "dtype: int64"
      ]
     },
     "execution_count": 106,
     "metadata": {},
     "output_type": "execute_result"
    }
   ],
   "source": [
    "movie_heroes.groupby(['movie', 'hero']).size()"
   ]
  },
  {
   "cell_type": "markdown",
   "metadata": {},
   "source": [
    "### EXERCISE\n",
    "1. How many movies were produced every year?\n",
    "2. Which director earns the most on average?"
   ]
  },
  {
   "cell_type": "code",
   "execution_count": 107,
   "metadata": {
    "collapsed": false
   },
   "outputs": [
    {
     "data": {
      "text/plain": [
       "<matplotlib.axes._subplots.AxesSubplot at 0x10df83dd0>"
      ]
     },
     "execution_count": 107,
     "metadata": {},
     "output_type": "execute_result"
    },
    {
     "data": {
      "image/png": "[encoded data removed]",
      "text/plain": [
       "<matplotlib.figure.Figure at 0x10df83890>"
      ]
     },
     "metadata": {},
     "output_type": "display_data"
    }
   ],
   "source": [
    "# Solution 1 \n",
    "\n",
    "movies.groupby('title_year').size().tail(10).plot('bar')"
   ]
  },
  {
   "cell_type": "code",
   "execution_count": 108,
   "metadata": {
    "collapsed": false
   },
   "outputs": [
    {
     "data": {
      "text/plain": [
       "director_name\n",
       "Joss Whedon    432721657.0\n",
       "Lee Unkrich    414984497.0\n",
       "Chris Buck     400736600.0\n",
       "Name: gross, dtype: float64"
      ]
     },
     "execution_count": 108,
     "metadata": {},
     "output_type": "execute_result"
    }
   ],
   "source": [
    "# Solution 2\n",
    "\n",
    "movies.groupby(\n",
    "    'director_name'\n",
    ")['gross'].mean()\\\n",
    "          .sort_values(ascending=False)\\\n",
    "          .head(3)"
   ]
  },
  {
   "cell_type": "markdown",
   "metadata": {},
   "source": [
    "# Index related operations"
   ]
  },
  {
   "cell_type": "code",
   "execution_count": 109,
   "metadata": {
    "collapsed": false
   },
   "outputs": [
    {
     "data": {
      "text/html": [
       "<div>\n",
       "<table border=\"1\" class=\"dataframe\">\n",
       "  <thead>\n",
       "    <tr style=\"text-align: right;\">\n",
       "      <th></th>\n",
       "      <th>hero</th>\n",
       "      <th>movie</th>\n",
       "      <th>speed</th>\n",
       "      <th>strength</th>\n",
       "    </tr>\n",
       "  </thead>\n",
       "  <tbody>\n",
       "    <tr>\n",
       "      <th>0</th>\n",
       "      <td>Batman</td>\n",
       "      <td>Batman</td>\n",
       "      <td>100</td>\n",
       "      <td>400</td>\n",
       "    </tr>\n",
       "    <tr>\n",
       "      <th>1</th>\n",
       "      <td>Robin</td>\n",
       "      <td>Batman</td>\n",
       "      <td>10</td>\n",
       "      <td>100</td>\n",
       "    </tr>\n",
       "    <tr>\n",
       "      <th>2</th>\n",
       "      <td>Spiderman</td>\n",
       "      <td>Spiderman</td>\n",
       "      <td>200</td>\n",
       "      <td>400</td>\n",
       "    </tr>\n",
       "    <tr>\n",
       "      <th>3</th>\n",
       "      <td>Robocop</td>\n",
       "      <td>Robocop</td>\n",
       "      <td>1</td>\n",
       "      <td>560</td>\n",
       "    </tr>\n",
       "    <tr>\n",
       "      <th>4</th>\n",
       "      <td>Lex Luthor</td>\n",
       "      <td>Spiderman</td>\n",
       "      <td>30</td>\n",
       "      <td>89</td>\n",
       "    </tr>\n",
       "  </tbody>\n",
       "</table>\n",
       "</div>"
      ],
      "text/plain": [
       "         hero      movie  speed  strength\n",
       "0      Batman     Batman    100       400\n",
       "1       Robin     Batman     10       100\n",
       "2   Spiderman  Spiderman    200       400\n",
       "3     Robocop    Robocop      1       560\n",
       "4  Lex Luthor  Spiderman     30        89"
      ]
     },
     "execution_count": 109,
     "metadata": {},
     "output_type": "execute_result"
    }
   ],
   "source": [
    "movie_heroes"
   ]
  },
  {
   "cell_type": "code",
   "execution_count": 110,
   "metadata": {
    "collapsed": false
   },
   "outputs": [
    {
     "data": {
      "text/html": [
       "<div>\n",
       "<table border=\"1\" class=\"dataframe\">\n",
       "  <thead>\n",
       "    <tr style=\"text-align: right;\">\n",
       "      <th></th>\n",
       "      <th>hero</th>\n",
       "      <th>is_hungry</th>\n",
       "    </tr>\n",
       "  </thead>\n",
       "  <tbody>\n",
       "    <tr>\n",
       "      <th>0</th>\n",
       "      <td>Spiderman</td>\n",
       "      <td>True</td>\n",
       "    </tr>\n",
       "    <tr>\n",
       "      <th>1</th>\n",
       "      <td>Robocop</td>\n",
       "      <td>False</td>\n",
       "    </tr>\n",
       "  </tbody>\n",
       "</table>\n",
       "</div>"
      ],
      "text/plain": [
       "        hero is_hungry\n",
       "0  Spiderman      True\n",
       "1    Robocop     False"
      ]
     },
     "execution_count": 110,
     "metadata": {},
     "output_type": "execute_result"
    }
   ],
   "source": [
    "apetite = pd.DataFrame([\n",
    "    dict(hero='Spiderman', is_hungry=True),\n",
    "    dict(hero='Robocop', is_hungry=False)\n",
    "])\n",
    "apetite"
   ]
  },
  {
   "cell_type": "code",
   "execution_count": 111,
   "metadata": {
    "collapsed": false
   },
   "outputs": [
    {
     "data": {
      "text/html": [
       "<div>\n",
       "<table border=\"1\" class=\"dataframe\">\n",
       "  <thead>\n",
       "    <tr style=\"text-align: right;\">\n",
       "      <th></th>\n",
       "      <th>hero</th>\n",
       "      <th>movie</th>\n",
       "      <th>speed</th>\n",
       "      <th>strength</th>\n",
       "      <th>is_hungry</th>\n",
       "    </tr>\n",
       "  </thead>\n",
       "  <tbody>\n",
       "    <tr>\n",
       "      <th>0</th>\n",
       "      <td>Batman</td>\n",
       "      <td>Batman</td>\n",
       "      <td>100</td>\n",
       "      <td>400</td>\n",
       "      <td>True</td>\n",
       "    </tr>\n",
       "    <tr>\n",
       "      <th>1</th>\n",
       "      <td>Robin</td>\n",
       "      <td>Batman</td>\n",
       "      <td>10</td>\n",
       "      <td>100</td>\n",
       "      <td>False</td>\n",
       "    </tr>\n",
       "    <tr>\n",
       "      <th>2</th>\n",
       "      <td>Spiderman</td>\n",
       "      <td>Spiderman</td>\n",
       "      <td>200</td>\n",
       "      <td>400</td>\n",
       "      <td>NaN</td>\n",
       "    </tr>\n",
       "    <tr>\n",
       "      <th>3</th>\n",
       "      <td>Robocop</td>\n",
       "      <td>Robocop</td>\n",
       "      <td>1</td>\n",
       "      <td>560</td>\n",
       "      <td>NaN</td>\n",
       "    </tr>\n",
       "    <tr>\n",
       "      <th>4</th>\n",
       "      <td>Lex Luthor</td>\n",
       "      <td>Spiderman</td>\n",
       "      <td>30</td>\n",
       "      <td>89</td>\n",
       "      <td>NaN</td>\n",
       "    </tr>\n",
       "  </tbody>\n",
       "</table>\n",
       "</div>"
      ],
      "text/plain": [
       "         hero      movie  speed  strength is_hungry\n",
       "0      Batman     Batman    100       400      True\n",
       "1       Robin     Batman     10       100     False\n",
       "2   Spiderman  Spiderman    200       400       NaN\n",
       "3     Robocop    Robocop      1       560       NaN\n",
       "4  Lex Luthor  Spiderman     30        89       NaN"
      ]
     },
     "execution_count": 111,
     "metadata": {},
     "output_type": "execute_result"
    }
   ],
   "source": [
    "movie_heroes['is_hungry'] = apetite['is_hungry']\n",
    "movie_heroes"
   ]
  },
  {
   "cell_type": "code",
   "execution_count": 112,
   "metadata": {
    "collapsed": true
   },
   "outputs": [],
   "source": [
    "apetite.index = [2, 3]"
   ]
  },
  {
   "cell_type": "code",
   "execution_count": 113,
   "metadata": {
    "collapsed": false
   },
   "outputs": [
    {
     "data": {
      "text/html": [
       "<div>\n",
       "<table border=\"1\" class=\"dataframe\">\n",
       "  <thead>\n",
       "    <tr style=\"text-align: right;\">\n",
       "      <th></th>\n",
       "      <th>hero</th>\n",
       "      <th>movie</th>\n",
       "      <th>speed</th>\n",
       "      <th>strength</th>\n",
       "      <th>is_hungry</th>\n",
       "    </tr>\n",
       "  </thead>\n",
       "  <tbody>\n",
       "    <tr>\n",
       "      <th>0</th>\n",
       "      <td>Batman</td>\n",
       "      <td>Batman</td>\n",
       "      <td>100</td>\n",
       "      <td>400</td>\n",
       "      <td>NaN</td>\n",
       "    </tr>\n",
       "    <tr>\n",
       "      <th>1</th>\n",
       "      <td>Robin</td>\n",
       "      <td>Batman</td>\n",
       "      <td>10</td>\n",
       "      <td>100</td>\n",
       "      <td>NaN</td>\n",
       "    </tr>\n",
       "    <tr>\n",
       "      <th>2</th>\n",
       "      <td>Spiderman</td>\n",
       "      <td>Spiderman</td>\n",
       "      <td>200</td>\n",
       "      <td>400</td>\n",
       "      <td>True</td>\n",
       "    </tr>\n",
       "    <tr>\n",
       "      <th>3</th>\n",
       "      <td>Robocop</td>\n",
       "      <td>Robocop</td>\n",
       "      <td>1</td>\n",
       "      <td>560</td>\n",
       "      <td>False</td>\n",
       "    </tr>\n",
       "    <tr>\n",
       "      <th>4</th>\n",
       "      <td>Lex Luthor</td>\n",
       "      <td>Spiderman</td>\n",
       "      <td>30</td>\n",
       "      <td>89</td>\n",
       "      <td>NaN</td>\n",
       "    </tr>\n",
       "  </tbody>\n",
       "</table>\n",
       "</div>"
      ],
      "text/plain": [
       "         hero      movie  speed  strength is_hungry\n",
       "0      Batman     Batman    100       400       NaN\n",
       "1       Robin     Batman     10       100       NaN\n",
       "2   Spiderman  Spiderman    200       400      True\n",
       "3     Robocop    Robocop      1       560     False\n",
       "4  Lex Luthor  Spiderman     30        89       NaN"
      ]
     },
     "execution_count": 113,
     "metadata": {},
     "output_type": "execute_result"
    }
   ],
   "source": [
    "movie_heroes['is_hungry'] = apetite['is_hungry']\n",
    "movie_heroes"
   ]
  },
  {
   "cell_type": "code",
   "execution_count": 114,
   "metadata": {
    "collapsed": false
   },
   "outputs": [
    {
     "data": {
      "text/html": [
       "<div>\n",
       "<table border=\"1\" class=\"dataframe\">\n",
       "  <thead>\n",
       "    <tr style=\"text-align: right;\">\n",
       "      <th></th>\n",
       "      <th>movie</th>\n",
       "      <th>speed</th>\n",
       "      <th>strength</th>\n",
       "      <th>is_hungry</th>\n",
       "    </tr>\n",
       "    <tr>\n",
       "      <th>hero</th>\n",
       "      <th></th>\n",
       "      <th></th>\n",
       "      <th></th>\n",
       "      <th></th>\n",
       "    </tr>\n",
       "  </thead>\n",
       "  <tbody>\n",
       "    <tr>\n",
       "      <th>Batman</th>\n",
       "      <td>Batman</td>\n",
       "      <td>100</td>\n",
       "      <td>400</td>\n",
       "      <td>NaN</td>\n",
       "    </tr>\n",
       "    <tr>\n",
       "      <th>Robin</th>\n",
       "      <td>Batman</td>\n",
       "      <td>10</td>\n",
       "      <td>100</td>\n",
       "      <td>NaN</td>\n",
       "    </tr>\n",
       "    <tr>\n",
       "      <th>Spiderman</th>\n",
       "      <td>Spiderman</td>\n",
       "      <td>200</td>\n",
       "      <td>400</td>\n",
       "      <td>True</td>\n",
       "    </tr>\n",
       "    <tr>\n",
       "      <th>Robocop</th>\n",
       "      <td>Robocop</td>\n",
       "      <td>1</td>\n",
       "      <td>560</td>\n",
       "      <td>False</td>\n",
       "    </tr>\n",
       "    <tr>\n",
       "      <th>Lex Luthor</th>\n",
       "      <td>Spiderman</td>\n",
       "      <td>30</td>\n",
       "      <td>89</td>\n",
       "      <td>NaN</td>\n",
       "    </tr>\n",
       "  </tbody>\n",
       "</table>\n",
       "</div>"
      ],
      "text/plain": [
       "                movie  speed  strength is_hungry\n",
       "hero                                            \n",
       "Batman         Batman    100       400       NaN\n",
       "Robin          Batman     10       100       NaN\n",
       "Spiderman   Spiderman    200       400      True\n",
       "Robocop       Robocop      1       560     False\n",
       "Lex Luthor  Spiderman     30        89       NaN"
      ]
     },
     "execution_count": 114,
     "metadata": {},
     "output_type": "execute_result"
    }
   ],
   "source": [
    "indexed_movie_heroes = movie_heroes.set_index('hero')\n",
    "indexed_movie_heroes"
   ]
  },
  {
   "cell_type": "code",
   "execution_count": 115,
   "metadata": {
    "collapsed": false
   },
   "outputs": [
    {
     "data": {
      "text/html": [
       "<div>\n",
       "<table border=\"1\" class=\"dataframe\">\n",
       "  <thead>\n",
       "    <tr style=\"text-align: right;\">\n",
       "      <th></th>\n",
       "      <th>is_hungry</th>\n",
       "    </tr>\n",
       "    <tr>\n",
       "      <th>hero</th>\n",
       "      <th></th>\n",
       "    </tr>\n",
       "  </thead>\n",
       "  <tbody>\n",
       "    <tr>\n",
       "      <th>Spiderman</th>\n",
       "      <td>True</td>\n",
       "    </tr>\n",
       "    <tr>\n",
       "      <th>Robocop</th>\n",
       "      <td>False</td>\n",
       "    </tr>\n",
       "  </tbody>\n",
       "</table>\n",
       "</div>"
      ],
      "text/plain": [
       "          is_hungry\n",
       "hero               \n",
       "Spiderman      True\n",
       "Robocop       False"
      ]
     },
     "execution_count": 115,
     "metadata": {},
     "output_type": "execute_result"
    }
   ],
   "source": [
    "indexed_apetite = apetite.set_index('hero')\n",
    "indexed_apetite"
   ]
  },
  {
   "cell_type": "code",
   "execution_count": 116,
   "metadata": {
    "collapsed": true
   },
   "outputs": [],
   "source": [
    "indexed_movie_heroes['is_hungry'] = indexed_apetite['is_hungry']"
   ]
  },
  {
   "cell_type": "code",
   "execution_count": 117,
   "metadata": {
    "collapsed": false
   },
   "outputs": [
    {
     "data": {
      "text/html": [
       "<div>\n",
       "<table border=\"1\" class=\"dataframe\">\n",
       "  <thead>\n",
       "    <tr style=\"text-align: right;\">\n",
       "      <th></th>\n",
       "      <th>movie</th>\n",
       "      <th>speed</th>\n",
       "      <th>strength</th>\n",
       "      <th>is_hungry</th>\n",
       "    </tr>\n",
       "    <tr>\n",
       "      <th>hero</th>\n",
       "      <th></th>\n",
       "      <th></th>\n",
       "      <th></th>\n",
       "      <th></th>\n",
       "    </tr>\n",
       "  </thead>\n",
       "  <tbody>\n",
       "    <tr>\n",
       "      <th>Batman</th>\n",
       "      <td>Batman</td>\n",
       "      <td>100</td>\n",
       "      <td>400</td>\n",
       "      <td>NaN</td>\n",
       "    </tr>\n",
       "    <tr>\n",
       "      <th>Robin</th>\n",
       "      <td>Batman</td>\n",
       "      <td>10</td>\n",
       "      <td>100</td>\n",
       "      <td>NaN</td>\n",
       "    </tr>\n",
       "    <tr>\n",
       "      <th>Spiderman</th>\n",
       "      <td>Spiderman</td>\n",
       "      <td>200</td>\n",
       "      <td>400</td>\n",
       "      <td>True</td>\n",
       "    </tr>\n",
       "    <tr>\n",
       "      <th>Robocop</th>\n",
       "      <td>Robocop</td>\n",
       "      <td>1</td>\n",
       "      <td>560</td>\n",
       "      <td>False</td>\n",
       "    </tr>\n",
       "    <tr>\n",
       "      <th>Lex Luthor</th>\n",
       "      <td>Spiderman</td>\n",
       "      <td>30</td>\n",
       "      <td>89</td>\n",
       "      <td>NaN</td>\n",
       "    </tr>\n",
       "  </tbody>\n",
       "</table>\n",
       "</div>"
      ],
      "text/plain": [
       "                movie  speed  strength is_hungry\n",
       "hero                                            \n",
       "Batman         Batman    100       400       NaN\n",
       "Robin          Batman     10       100       NaN\n",
       "Spiderman   Spiderman    200       400      True\n",
       "Robocop       Robocop      1       560     False\n",
       "Lex Luthor  Spiderman     30        89       NaN"
      ]
     },
     "execution_count": 117,
     "metadata": {},
     "output_type": "execute_result"
    }
   ],
   "source": [
    "indexed_movie_heroes"
   ]
  },
  {
   "cell_type": "code",
   "execution_count": 118,
   "metadata": {
    "collapsed": false
   },
   "outputs": [
    {
     "data": {
      "text/html": [
       "<div>\n",
       "<table border=\"1\" class=\"dataframe\">\n",
       "  <thead>\n",
       "    <tr style=\"text-align: right;\">\n",
       "      <th></th>\n",
       "      <th>calories</th>\n",
       "      <th>time</th>\n",
       "    </tr>\n",
       "  </thead>\n",
       "  <tbody>\n",
       "    <tr>\n",
       "      <th>0</th>\n",
       "      <td>300</td>\n",
       "      <td>2016-10-15 10:00</td>\n",
       "    </tr>\n",
       "    <tr>\n",
       "      <th>1</th>\n",
       "      <td>900</td>\n",
       "      <td>2016-10-15 13:00</td>\n",
       "    </tr>\n",
       "    <tr>\n",
       "      <th>2</th>\n",
       "      <td>1200</td>\n",
       "      <td>2016-10-15 15:00</td>\n",
       "    </tr>\n",
       "    <tr>\n",
       "      <th>3</th>\n",
       "      <td>700</td>\n",
       "      <td>2016-10-15 21:00</td>\n",
       "    </tr>\n",
       "    <tr>\n",
       "      <th>4</th>\n",
       "      <td>1600</td>\n",
       "      <td>2016-10-16 07:00</td>\n",
       "    </tr>\n",
       "    <tr>\n",
       "      <th>5</th>\n",
       "      <td>600</td>\n",
       "      <td>2016-10-16 13:00</td>\n",
       "    </tr>\n",
       "    <tr>\n",
       "      <th>6</th>\n",
       "      <td>900</td>\n",
       "      <td>2016-10-16 16:00</td>\n",
       "    </tr>\n",
       "    <tr>\n",
       "      <th>7</th>\n",
       "      <td>500</td>\n",
       "      <td>2016-10-16 20:00</td>\n",
       "    </tr>\n",
       "    <tr>\n",
       "      <th>8</th>\n",
       "      <td>300</td>\n",
       "      <td>2016-10-16 21:00</td>\n",
       "    </tr>\n",
       "    <tr>\n",
       "      <th>9</th>\n",
       "      <td>900</td>\n",
       "      <td>2016-10-17 08:00</td>\n",
       "    </tr>\n",
       "  </tbody>\n",
       "</table>\n",
       "</div>"
      ],
      "text/plain": [
       "   calories              time\n",
       "0       300  2016-10-15 10:00\n",
       "1       900  2016-10-15 13:00\n",
       "2      1200  2016-10-15 15:00\n",
       "3       700  2016-10-15 21:00\n",
       "4      1600  2016-10-16 07:00\n",
       "5       600  2016-10-16 13:00\n",
       "6       900  2016-10-16 16:00\n",
       "7       500  2016-10-16 20:00\n",
       "8       300  2016-10-16 21:00\n",
       "9       900  2016-10-17 08:00"
      ]
     },
     "execution_count": 118,
     "metadata": {},
     "output_type": "execute_result"
    }
   ],
   "source": [
    "spiderman_meals = pd.DataFrame([\n",
    "        dict(time='2016-10-15 10:00', calories=300),\n",
    "        dict(time='2016-10-15 13:00', calories=900),\n",
    "        dict(time='2016-10-15 15:00', calories=1200),\n",
    "        dict(time='2016-10-15 21:00', calories=700),\n",
    "        dict(time='2016-10-16 07:00', calories=1600),\n",
    "        dict(time='2016-10-16 13:00', calories=600),\n",
    "        dict(time='2016-10-16 16:00', calories=900),\n",
    "        dict(time='2016-10-16 20:00', calories=500),\n",
    "        dict(time='2016-10-16 21:00', calories=300),\n",
    "        dict(time='2016-10-17 08:00', calories=900),\n",
    "    ])\n",
    "spiderman_meals"
   ]
  },
  {
   "cell_type": "code",
   "execution_count": 119,
   "metadata": {
    "collapsed": false
   },
   "outputs": [
    {
     "data": {
      "text/plain": [
       "calories     int64\n",
       "time        object\n",
       "dtype: object"
      ]
     },
     "execution_count": 119,
     "metadata": {},
     "output_type": "execute_result"
    }
   ],
   "source": [
    "spiderman_meals.dtypes"
   ]
  },
  {
   "cell_type": "code",
   "execution_count": 120,
   "metadata": {
    "collapsed": false
   },
   "outputs": [
    {
     "data": {
      "text/plain": [
       "calories             int64\n",
       "time        datetime64[ns]\n",
       "dtype: object"
      ]
     },
     "execution_count": 120,
     "metadata": {},
     "output_type": "execute_result"
    }
   ],
   "source": [
    "spiderman_meals['time'] = pd.to_datetime(spiderman_meals['time'])\n",
    "spiderman_meals.dtypes"
   ]
  },
  {
   "cell_type": "code",
   "execution_count": 121,
   "metadata": {
    "collapsed": false
   },
   "outputs": [
    {
     "data": {
      "text/html": [
       "<div>\n",
       "<table border=\"1\" class=\"dataframe\">\n",
       "  <thead>\n",
       "    <tr style=\"text-align: right;\">\n",
       "      <th></th>\n",
       "      <th>calories</th>\n",
       "      <th>time</th>\n",
       "    </tr>\n",
       "  </thead>\n",
       "  <tbody>\n",
       "    <tr>\n",
       "      <th>0</th>\n",
       "      <td>300</td>\n",
       "      <td>2016-10-15 10:00:00</td>\n",
       "    </tr>\n",
       "    <tr>\n",
       "      <th>1</th>\n",
       "      <td>900</td>\n",
       "      <td>2016-10-15 13:00:00</td>\n",
       "    </tr>\n",
       "    <tr>\n",
       "      <th>2</th>\n",
       "      <td>1200</td>\n",
       "      <td>2016-10-15 15:00:00</td>\n",
       "    </tr>\n",
       "    <tr>\n",
       "      <th>3</th>\n",
       "      <td>700</td>\n",
       "      <td>2016-10-15 21:00:00</td>\n",
       "    </tr>\n",
       "    <tr>\n",
       "      <th>4</th>\n",
       "      <td>1600</td>\n",
       "      <td>2016-10-16 07:00:00</td>\n",
       "    </tr>\n",
       "    <tr>\n",
       "      <th>5</th>\n",
       "      <td>600</td>\n",
       "      <td>2016-10-16 13:00:00</td>\n",
       "    </tr>\n",
       "    <tr>\n",
       "      <th>6</th>\n",
       "      <td>900</td>\n",
       "      <td>2016-10-16 16:00:00</td>\n",
       "    </tr>\n",
       "    <tr>\n",
       "      <th>7</th>\n",
       "      <td>500</td>\n",
       "      <td>2016-10-16 20:00:00</td>\n",
       "    </tr>\n",
       "    <tr>\n",
       "      <th>8</th>\n",
       "      <td>300</td>\n",
       "      <td>2016-10-16 21:00:00</td>\n",
       "    </tr>\n",
       "    <tr>\n",
       "      <th>9</th>\n",
       "      <td>900</td>\n",
       "      <td>2016-10-17 08:00:00</td>\n",
       "    </tr>\n",
       "  </tbody>\n",
       "</table>\n",
       "</div>"
      ],
      "text/plain": [
       "   calories                time\n",
       "0       300 2016-10-15 10:00:00\n",
       "1       900 2016-10-15 13:00:00\n",
       "2      1200 2016-10-15 15:00:00\n",
       "3       700 2016-10-15 21:00:00\n",
       "4      1600 2016-10-16 07:00:00\n",
       "5       600 2016-10-16 13:00:00\n",
       "6       900 2016-10-16 16:00:00\n",
       "7       500 2016-10-16 20:00:00\n",
       "8       300 2016-10-16 21:00:00\n",
       "9       900 2016-10-17 08:00:00"
      ]
     },
     "execution_count": 121,
     "metadata": {},
     "output_type": "execute_result"
    }
   ],
   "source": [
    "spiderman_meals"
   ]
  },
  {
   "cell_type": "code",
   "execution_count": 122,
   "metadata": {
    "collapsed": false
   },
   "outputs": [
    {
     "data": {
      "text/html": [
       "<div>\n",
       "<table border=\"1\" class=\"dataframe\">\n",
       "  <thead>\n",
       "    <tr style=\"text-align: right;\">\n",
       "      <th></th>\n",
       "      <th>calories</th>\n",
       "    </tr>\n",
       "    <tr>\n",
       "      <th>time</th>\n",
       "      <th></th>\n",
       "    </tr>\n",
       "  </thead>\n",
       "  <tbody>\n",
       "    <tr>\n",
       "      <th>2016-10-15 10:00:00</th>\n",
       "      <td>300</td>\n",
       "    </tr>\n",
       "    <tr>\n",
       "      <th>2016-10-15 13:00:00</th>\n",
       "      <td>900</td>\n",
       "    </tr>\n",
       "    <tr>\n",
       "      <th>2016-10-15 15:00:00</th>\n",
       "      <td>1200</td>\n",
       "    </tr>\n",
       "    <tr>\n",
       "      <th>2016-10-15 21:00:00</th>\n",
       "      <td>700</td>\n",
       "    </tr>\n",
       "    <tr>\n",
       "      <th>2016-10-16 07:00:00</th>\n",
       "      <td>1600</td>\n",
       "    </tr>\n",
       "    <tr>\n",
       "      <th>2016-10-16 13:00:00</th>\n",
       "      <td>600</td>\n",
       "    </tr>\n",
       "    <tr>\n",
       "      <th>2016-10-16 16:00:00</th>\n",
       "      <td>900</td>\n",
       "    </tr>\n",
       "    <tr>\n",
       "      <th>2016-10-16 20:00:00</th>\n",
       "      <td>500</td>\n",
       "    </tr>\n",
       "    <tr>\n",
       "      <th>2016-10-16 21:00:00</th>\n",
       "      <td>300</td>\n",
       "    </tr>\n",
       "    <tr>\n",
       "      <th>2016-10-17 08:00:00</th>\n",
       "      <td>900</td>\n",
       "    </tr>\n",
       "  </tbody>\n",
       "</table>\n",
       "</div>"
      ],
      "text/plain": [
       "                     calories\n",
       "time                         \n",
       "2016-10-15 10:00:00       300\n",
       "2016-10-15 13:00:00       900\n",
       "2016-10-15 15:00:00      1200\n",
       "2016-10-15 21:00:00       700\n",
       "2016-10-16 07:00:00      1600\n",
       "2016-10-16 13:00:00       600\n",
       "2016-10-16 16:00:00       900\n",
       "2016-10-16 20:00:00       500\n",
       "2016-10-16 21:00:00       300\n",
       "2016-10-17 08:00:00       900"
      ]
     },
     "execution_count": 122,
     "metadata": {},
     "output_type": "execute_result"
    }
   ],
   "source": [
    "spiderman_meals = spiderman_meals.set_index('time')\n",
    "spiderman_meals"
   ]
  },
  {
   "cell_type": "code",
   "execution_count": 123,
   "metadata": {
    "collapsed": false
   },
   "outputs": [
    {
     "data": {
      "text/plain": [
       "DatetimeIndex(['2016-10-15 10:00:00', '2016-10-15 13:00:00',\n",
       "               '2016-10-15 15:00:00', '2016-10-15 21:00:00',\n",
       "               '2016-10-16 07:00:00', '2016-10-16 13:00:00',\n",
       "               '2016-10-16 16:00:00', '2016-10-16 20:00:00',\n",
       "               '2016-10-16 21:00:00', '2016-10-17 08:00:00'],\n",
       "              dtype='datetime64[ns]', name=u'time', freq=None)"
      ]
     },
     "execution_count": 123,
     "metadata": {},
     "output_type": "execute_result"
    }
   ],
   "source": [
    "spiderman_meals.index"
   ]
  },
  {
   "cell_type": "code",
   "execution_count": 124,
   "metadata": {
    "collapsed": false
   },
   "outputs": [
    {
     "data": {
      "text/html": [
       "<div>\n",
       "<table border=\"1\" class=\"dataframe\">\n",
       "  <thead>\n",
       "    <tr style=\"text-align: right;\">\n",
       "      <th></th>\n",
       "      <th>calories</th>\n",
       "    </tr>\n",
       "    <tr>\n",
       "      <th>time</th>\n",
       "      <th></th>\n",
       "    </tr>\n",
       "  </thead>\n",
       "  <tbody>\n",
       "    <tr>\n",
       "      <th>2016-10-15 10:00:00</th>\n",
       "      <td>300</td>\n",
       "    </tr>\n",
       "    <tr>\n",
       "      <th>2016-10-15 13:00:00</th>\n",
       "      <td>900</td>\n",
       "    </tr>\n",
       "    <tr>\n",
       "      <th>2016-10-15 15:00:00</th>\n",
       "      <td>1200</td>\n",
       "    </tr>\n",
       "    <tr>\n",
       "      <th>2016-10-15 21:00:00</th>\n",
       "      <td>700</td>\n",
       "    </tr>\n",
       "  </tbody>\n",
       "</table>\n",
       "</div>"
      ],
      "text/plain": [
       "                     calories\n",
       "time                         \n",
       "2016-10-15 10:00:00       300\n",
       "2016-10-15 13:00:00       900\n",
       "2016-10-15 15:00:00      1200\n",
       "2016-10-15 21:00:00       700"
      ]
     },
     "execution_count": 124,
     "metadata": {},
     "output_type": "execute_result"
    }
   ],
   "source": [
    "spiderman_meals[\"2016-10-15\"]"
   ]
  },
  {
   "cell_type": "code",
   "execution_count": 125,
   "metadata": {
    "collapsed": false
   },
   "outputs": [
    {
     "data": {
      "text/html": [
       "<div>\n",
       "<table border=\"1\" class=\"dataframe\">\n",
       "  <thead>\n",
       "    <tr style=\"text-align: right;\">\n",
       "      <th></th>\n",
       "      <th>calories</th>\n",
       "    </tr>\n",
       "    <tr>\n",
       "      <th>time</th>\n",
       "      <th></th>\n",
       "    </tr>\n",
       "  </thead>\n",
       "  <tbody>\n",
       "    <tr>\n",
       "      <th>2016-10-16 13:00:00</th>\n",
       "      <td>600</td>\n",
       "    </tr>\n",
       "    <tr>\n",
       "      <th>2016-10-16 16:00:00</th>\n",
       "      <td>900</td>\n",
       "    </tr>\n",
       "    <tr>\n",
       "      <th>2016-10-16 20:00:00</th>\n",
       "      <td>500</td>\n",
       "    </tr>\n",
       "    <tr>\n",
       "      <th>2016-10-16 21:00:00</th>\n",
       "      <td>300</td>\n",
       "    </tr>\n",
       "    <tr>\n",
       "      <th>2016-10-17 08:00:00</th>\n",
       "      <td>900</td>\n",
       "    </tr>\n",
       "  </tbody>\n",
       "</table>\n",
       "</div>"
      ],
      "text/plain": [
       "                     calories\n",
       "time                         \n",
       "2016-10-16 13:00:00       600\n",
       "2016-10-16 16:00:00       900\n",
       "2016-10-16 20:00:00       500\n",
       "2016-10-16 21:00:00       300\n",
       "2016-10-17 08:00:00       900"
      ]
     },
     "execution_count": 125,
     "metadata": {},
     "output_type": "execute_result"
    }
   ],
   "source": [
    "spiderman_meals[\"2016-10-16 10:00\":]"
   ]
  },
  {
   "cell_type": "code",
   "execution_count": 126,
   "metadata": {
    "collapsed": false
   },
   "outputs": [
    {
     "data": {
      "text/html": [
       "<div>\n",
       "<table border=\"1\" class=\"dataframe\">\n",
       "  <thead>\n",
       "    <tr style=\"text-align: right;\">\n",
       "      <th></th>\n",
       "      <th>calories</th>\n",
       "    </tr>\n",
       "    <tr>\n",
       "      <th>time</th>\n",
       "      <th></th>\n",
       "    </tr>\n",
       "  </thead>\n",
       "  <tbody>\n",
       "    <tr>\n",
       "      <th>2016-10-16 13:00:00</th>\n",
       "      <td>600</td>\n",
       "    </tr>\n",
       "    <tr>\n",
       "      <th>2016-10-16 16:00:00</th>\n",
       "      <td>900</td>\n",
       "    </tr>\n",
       "    <tr>\n",
       "      <th>2016-10-16 20:00:00</th>\n",
       "      <td>500</td>\n",
       "    </tr>\n",
       "  </tbody>\n",
       "</table>\n",
       "</div>"
      ],
      "text/plain": [
       "                     calories\n",
       "time                         \n",
       "2016-10-16 13:00:00       600\n",
       "2016-10-16 16:00:00       900\n",
       "2016-10-16 20:00:00       500"
      ]
     },
     "execution_count": 126,
     "metadata": {},
     "output_type": "execute_result"
    }
   ],
   "source": [
    "spiderman_meals[\"2016-10-16 10:00\":\"2016-10-16 20:00\"]"
   ]
  },
  {
   "cell_type": "code",
   "execution_count": 127,
   "metadata": {
    "collapsed": false
   },
   "outputs": [
    {
     "data": {
      "text/html": [
       "<div>\n",
       "<table border=\"1\" class=\"dataframe\">\n",
       "  <thead>\n",
       "    <tr style=\"text-align: right;\">\n",
       "      <th></th>\n",
       "      <th>calories</th>\n",
       "    </tr>\n",
       "    <tr>\n",
       "      <th>time</th>\n",
       "      <th></th>\n",
       "    </tr>\n",
       "  </thead>\n",
       "  <tbody>\n",
       "    <tr>\n",
       "      <th>2016-10-15 10:00:00</th>\n",
       "      <td>300</td>\n",
       "    </tr>\n",
       "    <tr>\n",
       "      <th>2016-10-15 13:00:00</th>\n",
       "      <td>900</td>\n",
       "    </tr>\n",
       "    <tr>\n",
       "      <th>2016-10-15 15:00:00</th>\n",
       "      <td>1200</td>\n",
       "    </tr>\n",
       "    <tr>\n",
       "      <th>2016-10-15 21:00:00</th>\n",
       "      <td>700</td>\n",
       "    </tr>\n",
       "    <tr>\n",
       "      <th>2016-10-16 07:00:00</th>\n",
       "      <td>1600</td>\n",
       "    </tr>\n",
       "    <tr>\n",
       "      <th>2016-10-16 13:00:00</th>\n",
       "      <td>600</td>\n",
       "    </tr>\n",
       "    <tr>\n",
       "      <th>2016-10-16 16:00:00</th>\n",
       "      <td>900</td>\n",
       "    </tr>\n",
       "    <tr>\n",
       "      <th>2016-10-16 20:00:00</th>\n",
       "      <td>500</td>\n",
       "    </tr>\n",
       "    <tr>\n",
       "      <th>2016-10-16 21:00:00</th>\n",
       "      <td>300</td>\n",
       "    </tr>\n",
       "    <tr>\n",
       "      <th>2016-10-17 08:00:00</th>\n",
       "      <td>900</td>\n",
       "    </tr>\n",
       "  </tbody>\n",
       "</table>\n",
       "</div>"
      ],
      "text/plain": [
       "                     calories\n",
       "time                         \n",
       "2016-10-15 10:00:00       300\n",
       "2016-10-15 13:00:00       900\n",
       "2016-10-15 15:00:00      1200\n",
       "2016-10-15 21:00:00       700\n",
       "2016-10-16 07:00:00      1600\n",
       "2016-10-16 13:00:00       600\n",
       "2016-10-16 16:00:00       900\n",
       "2016-10-16 20:00:00       500\n",
       "2016-10-16 21:00:00       300\n",
       "2016-10-17 08:00:00       900"
      ]
     },
     "execution_count": 127,
     "metadata": {},
     "output_type": "execute_result"
    }
   ],
   "source": [
    "spiderman_meals[\"2016-10\"]"
   ]
  },
  {
   "cell_type": "code",
   "execution_count": 128,
   "metadata": {
    "collapsed": false
   },
   "outputs": [
    {
     "data": {
      "text/html": [
       "<div>\n",
       "<table border=\"1\" class=\"dataframe\">\n",
       "  <thead>\n",
       "    <tr style=\"text-align: right;\">\n",
       "      <th></th>\n",
       "      <th>calories</th>\n",
       "    </tr>\n",
       "    <tr>\n",
       "      <th>time</th>\n",
       "      <th></th>\n",
       "    </tr>\n",
       "  </thead>\n",
       "  <tbody>\n",
       "    <tr>\n",
       "      <th>2016-10-15</th>\n",
       "      <td>3100</td>\n",
       "    </tr>\n",
       "    <tr>\n",
       "      <th>2016-10-16</th>\n",
       "      <td>3900</td>\n",
       "    </tr>\n",
       "    <tr>\n",
       "      <th>2016-10-17</th>\n",
       "      <td>900</td>\n",
       "    </tr>\n",
       "  </tbody>\n",
       "</table>\n",
       "</div>"
      ],
      "text/plain": [
       "            calories\n",
       "time                \n",
       "2016-10-15      3100\n",
       "2016-10-16      3900\n",
       "2016-10-17       900"
      ]
     },
     "execution_count": 128,
     "metadata": {},
     "output_type": "execute_result"
    }
   ],
   "source": [
    "spiderman_meals.resample('1D').sum()"
   ]
  },
  {
   "cell_type": "code",
   "execution_count": 129,
   "metadata": {
    "collapsed": false
   },
   "outputs": [
    {
     "data": {
      "text/html": [
       "<div>\n",
       "<table border=\"1\" class=\"dataframe\">\n",
       "  <thead>\n",
       "    <tr style=\"text-align: right;\">\n",
       "      <th></th>\n",
       "      <th>calories</th>\n",
       "    </tr>\n",
       "    <tr>\n",
       "      <th>time</th>\n",
       "      <th></th>\n",
       "    </tr>\n",
       "  </thead>\n",
       "  <tbody>\n",
       "    <tr>\n",
       "      <th>2016-10-15 10:00:00</th>\n",
       "      <td>300.0</td>\n",
       "    </tr>\n",
       "    <tr>\n",
       "      <th>2016-10-15 11:00:00</th>\n",
       "      <td>NaN</td>\n",
       "    </tr>\n",
       "    <tr>\n",
       "      <th>2016-10-15 12:00:00</th>\n",
       "      <td>NaN</td>\n",
       "    </tr>\n",
       "    <tr>\n",
       "      <th>2016-10-15 13:00:00</th>\n",
       "      <td>900.0</td>\n",
       "    </tr>\n",
       "    <tr>\n",
       "      <th>2016-10-15 14:00:00</th>\n",
       "      <td>NaN</td>\n",
       "    </tr>\n",
       "    <tr>\n",
       "      <th>2016-10-15 15:00:00</th>\n",
       "      <td>1200.0</td>\n",
       "    </tr>\n",
       "    <tr>\n",
       "      <th>2016-10-15 16:00:00</th>\n",
       "      <td>NaN</td>\n",
       "    </tr>\n",
       "    <tr>\n",
       "      <th>2016-10-15 17:00:00</th>\n",
       "      <td>NaN</td>\n",
       "    </tr>\n",
       "    <tr>\n",
       "      <th>2016-10-15 18:00:00</th>\n",
       "      <td>NaN</td>\n",
       "    </tr>\n",
       "    <tr>\n",
       "      <th>2016-10-15 19:00:00</th>\n",
       "      <td>NaN</td>\n",
       "    </tr>\n",
       "    <tr>\n",
       "      <th>2016-10-15 20:00:00</th>\n",
       "      <td>NaN</td>\n",
       "    </tr>\n",
       "    <tr>\n",
       "      <th>2016-10-15 21:00:00</th>\n",
       "      <td>700.0</td>\n",
       "    </tr>\n",
       "    <tr>\n",
       "      <th>2016-10-15 22:00:00</th>\n",
       "      <td>NaN</td>\n",
       "    </tr>\n",
       "    <tr>\n",
       "      <th>2016-10-15 23:00:00</th>\n",
       "      <td>NaN</td>\n",
       "    </tr>\n",
       "    <tr>\n",
       "      <th>2016-10-16 00:00:00</th>\n",
       "      <td>NaN</td>\n",
       "    </tr>\n",
       "    <tr>\n",
       "      <th>2016-10-16 01:00:00</th>\n",
       "      <td>NaN</td>\n",
       "    </tr>\n",
       "    <tr>\n",
       "      <th>2016-10-16 02:00:00</th>\n",
       "      <td>NaN</td>\n",
       "    </tr>\n",
       "    <tr>\n",
       "      <th>2016-10-16 03:00:00</th>\n",
       "      <td>NaN</td>\n",
       "    </tr>\n",
       "    <tr>\n",
       "      <th>2016-10-16 04:00:00</th>\n",
       "      <td>NaN</td>\n",
       "    </tr>\n",
       "    <tr>\n",
       "      <th>2016-10-16 05:00:00</th>\n",
       "      <td>NaN</td>\n",
       "    </tr>\n",
       "    <tr>\n",
       "      <th>2016-10-16 06:00:00</th>\n",
       "      <td>NaN</td>\n",
       "    </tr>\n",
       "    <tr>\n",
       "      <th>2016-10-16 07:00:00</th>\n",
       "      <td>1600.0</td>\n",
       "    </tr>\n",
       "    <tr>\n",
       "      <th>2016-10-16 08:00:00</th>\n",
       "      <td>NaN</td>\n",
       "    </tr>\n",
       "    <tr>\n",
       "      <th>2016-10-16 09:00:00</th>\n",
       "      <td>NaN</td>\n",
       "    </tr>\n",
       "    <tr>\n",
       "      <th>2016-10-16 10:00:00</th>\n",
       "      <td>NaN</td>\n",
       "    </tr>\n",
       "    <tr>\n",
       "      <th>2016-10-16 11:00:00</th>\n",
       "      <td>NaN</td>\n",
       "    </tr>\n",
       "    <tr>\n",
       "      <th>2016-10-16 12:00:00</th>\n",
       "      <td>NaN</td>\n",
       "    </tr>\n",
       "    <tr>\n",
       "      <th>2016-10-16 13:00:00</th>\n",
       "      <td>600.0</td>\n",
       "    </tr>\n",
       "    <tr>\n",
       "      <th>2016-10-16 14:00:00</th>\n",
       "      <td>NaN</td>\n",
       "    </tr>\n",
       "    <tr>\n",
       "      <th>2016-10-16 15:00:00</th>\n",
       "      <td>NaN</td>\n",
       "    </tr>\n",
       "    <tr>\n",
       "      <th>2016-10-16 16:00:00</th>\n",
       "      <td>900.0</td>\n",
       "    </tr>\n",
       "    <tr>\n",
       "      <th>2016-10-16 17:00:00</th>\n",
       "      <td>NaN</td>\n",
       "    </tr>\n",
       "    <tr>\n",
       "      <th>2016-10-16 18:00:00</th>\n",
       "      <td>NaN</td>\n",
       "    </tr>\n",
       "    <tr>\n",
       "      <th>2016-10-16 19:00:00</th>\n",
       "      <td>NaN</td>\n",
       "    </tr>\n",
       "    <tr>\n",
       "      <th>2016-10-16 20:00:00</th>\n",
       "      <td>500.0</td>\n",
       "    </tr>\n",
       "    <tr>\n",
       "      <th>2016-10-16 21:00:00</th>\n",
       "      <td>300.0</td>\n",
       "    </tr>\n",
       "    <tr>\n",
       "      <th>2016-10-16 22:00:00</th>\n",
       "      <td>NaN</td>\n",
       "    </tr>\n",
       "    <tr>\n",
       "      <th>2016-10-16 23:00:00</th>\n",
       "      <td>NaN</td>\n",
       "    </tr>\n",
       "    <tr>\n",
       "      <th>2016-10-17 00:00:00</th>\n",
       "      <td>NaN</td>\n",
       "    </tr>\n",
       "    <tr>\n",
       "      <th>2016-10-17 01:00:00</th>\n",
       "      <td>NaN</td>\n",
       "    </tr>\n",
       "    <tr>\n",
       "      <th>2016-10-17 02:00:00</th>\n",
       "      <td>NaN</td>\n",
       "    </tr>\n",
       "    <tr>\n",
       "      <th>2016-10-17 03:00:00</th>\n",
       "      <td>NaN</td>\n",
       "    </tr>\n",
       "    <tr>\n",
       "      <th>2016-10-17 04:00:00</th>\n",
       "      <td>NaN</td>\n",
       "    </tr>\n",
       "    <tr>\n",
       "      <th>2016-10-17 05:00:00</th>\n",
       "      <td>NaN</td>\n",
       "    </tr>\n",
       "    <tr>\n",
       "      <th>2016-10-17 06:00:00</th>\n",
       "      <td>NaN</td>\n",
       "    </tr>\n",
       "    <tr>\n",
       "      <th>2016-10-17 07:00:00</th>\n",
       "      <td>NaN</td>\n",
       "    </tr>\n",
       "    <tr>\n",
       "      <th>2016-10-17 08:00:00</th>\n",
       "      <td>900.0</td>\n",
       "    </tr>\n",
       "  </tbody>\n",
       "</table>\n",
       "</div>"
      ],
      "text/plain": [
       "                     calories\n",
       "time                         \n",
       "2016-10-15 10:00:00     300.0\n",
       "2016-10-15 11:00:00       NaN\n",
       "2016-10-15 12:00:00       NaN\n",
       "2016-10-15 13:00:00     900.0\n",
       "2016-10-15 14:00:00       NaN\n",
       "2016-10-15 15:00:00    1200.0\n",
       "2016-10-15 16:00:00       NaN\n",
       "2016-10-15 17:00:00       NaN\n",
       "2016-10-15 18:00:00       NaN\n",
       "2016-10-15 19:00:00       NaN\n",
       "2016-10-15 20:00:00       NaN\n",
       "2016-10-15 21:00:00     700.0\n",
       "2016-10-15 22:00:00       NaN\n",
       "2016-10-15 23:00:00       NaN\n",
       "2016-10-16 00:00:00       NaN\n",
       "2016-10-16 01:00:00       NaN\n",
       "2016-10-16 02:00:00       NaN\n",
       "2016-10-16 03:00:00       NaN\n",
       "2016-10-16 04:00:00       NaN\n",
       "2016-10-16 05:00:00       NaN\n",
       "2016-10-16 06:00:00       NaN\n",
       "2016-10-16 07:00:00    1600.0\n",
       "2016-10-16 08:00:00       NaN\n",
       "2016-10-16 09:00:00       NaN\n",
       "2016-10-16 10:00:00       NaN\n",
       "2016-10-16 11:00:00       NaN\n",
       "2016-10-16 12:00:00       NaN\n",
       "2016-10-16 13:00:00     600.0\n",
       "2016-10-16 14:00:00       NaN\n",
       "2016-10-16 15:00:00       NaN\n",
       "2016-10-16 16:00:00     900.0\n",
       "2016-10-16 17:00:00       NaN\n",
       "2016-10-16 18:00:00       NaN\n",
       "2016-10-16 19:00:00       NaN\n",
       "2016-10-16 20:00:00     500.0\n",
       "2016-10-16 21:00:00     300.0\n",
       "2016-10-16 22:00:00       NaN\n",
       "2016-10-16 23:00:00       NaN\n",
       "2016-10-17 00:00:00       NaN\n",
       "2016-10-17 01:00:00       NaN\n",
       "2016-10-17 02:00:00       NaN\n",
       "2016-10-17 03:00:00       NaN\n",
       "2016-10-17 04:00:00       NaN\n",
       "2016-10-17 05:00:00       NaN\n",
       "2016-10-17 06:00:00       NaN\n",
       "2016-10-17 07:00:00       NaN\n",
       "2016-10-17 08:00:00     900.0"
      ]
     },
     "execution_count": 129,
     "metadata": {},
     "output_type": "execute_result"
    }
   ],
   "source": [
    "spiderman_meals.resample('1H').mean()"
   ]
  },
  {
   "cell_type": "code",
   "execution_count": 130,
   "metadata": {
    "collapsed": false
   },
   "outputs": [
    {
     "data": {
      "text/html": [
       "<div>\n",
       "<table border=\"1\" class=\"dataframe\">\n",
       "  <thead>\n",
       "    <tr style=\"text-align: right;\">\n",
       "      <th></th>\n",
       "      <th>calories</th>\n",
       "    </tr>\n",
       "    <tr>\n",
       "      <th>time</th>\n",
       "      <th></th>\n",
       "    </tr>\n",
       "  </thead>\n",
       "  <tbody>\n",
       "    <tr>\n",
       "      <th>2016-10-15 10:00:00</th>\n",
       "      <td>300</td>\n",
       "    </tr>\n",
       "    <tr>\n",
       "      <th>2016-10-15 11:00:00</th>\n",
       "      <td>300</td>\n",
       "    </tr>\n",
       "    <tr>\n",
       "      <th>2016-10-15 12:00:00</th>\n",
       "      <td>300</td>\n",
       "    </tr>\n",
       "    <tr>\n",
       "      <th>2016-10-15 13:00:00</th>\n",
       "      <td>900</td>\n",
       "    </tr>\n",
       "    <tr>\n",
       "      <th>2016-10-15 14:00:00</th>\n",
       "      <td>900</td>\n",
       "    </tr>\n",
       "    <tr>\n",
       "      <th>2016-10-15 15:00:00</th>\n",
       "      <td>1200</td>\n",
       "    </tr>\n",
       "    <tr>\n",
       "      <th>2016-10-15 16:00:00</th>\n",
       "      <td>1200</td>\n",
       "    </tr>\n",
       "    <tr>\n",
       "      <th>2016-10-15 17:00:00</th>\n",
       "      <td>1200</td>\n",
       "    </tr>\n",
       "    <tr>\n",
       "      <th>2016-10-15 18:00:00</th>\n",
       "      <td>1200</td>\n",
       "    </tr>\n",
       "    <tr>\n",
       "      <th>2016-10-15 19:00:00</th>\n",
       "      <td>1200</td>\n",
       "    </tr>\n",
       "    <tr>\n",
       "      <th>2016-10-15 20:00:00</th>\n",
       "      <td>1200</td>\n",
       "    </tr>\n",
       "    <tr>\n",
       "      <th>2016-10-15 21:00:00</th>\n",
       "      <td>700</td>\n",
       "    </tr>\n",
       "    <tr>\n",
       "      <th>2016-10-15 22:00:00</th>\n",
       "      <td>700</td>\n",
       "    </tr>\n",
       "    <tr>\n",
       "      <th>2016-10-15 23:00:00</th>\n",
       "      <td>700</td>\n",
       "    </tr>\n",
       "    <tr>\n",
       "      <th>2016-10-16 00:00:00</th>\n",
       "      <td>700</td>\n",
       "    </tr>\n",
       "    <tr>\n",
       "      <th>2016-10-16 01:00:00</th>\n",
       "      <td>700</td>\n",
       "    </tr>\n",
       "    <tr>\n",
       "      <th>2016-10-16 02:00:00</th>\n",
       "      <td>700</td>\n",
       "    </tr>\n",
       "    <tr>\n",
       "      <th>2016-10-16 03:00:00</th>\n",
       "      <td>700</td>\n",
       "    </tr>\n",
       "    <tr>\n",
       "      <th>2016-10-16 04:00:00</th>\n",
       "      <td>700</td>\n",
       "    </tr>\n",
       "    <tr>\n",
       "      <th>2016-10-16 05:00:00</th>\n",
       "      <td>700</td>\n",
       "    </tr>\n",
       "    <tr>\n",
       "      <th>2016-10-16 06:00:00</th>\n",
       "      <td>700</td>\n",
       "    </tr>\n",
       "    <tr>\n",
       "      <th>2016-10-16 07:00:00</th>\n",
       "      <td>1600</td>\n",
       "    </tr>\n",
       "    <tr>\n",
       "      <th>2016-10-16 08:00:00</th>\n",
       "      <td>1600</td>\n",
       "    </tr>\n",
       "    <tr>\n",
       "      <th>2016-10-16 09:00:00</th>\n",
       "      <td>1600</td>\n",
       "    </tr>\n",
       "    <tr>\n",
       "      <th>2016-10-16 10:00:00</th>\n",
       "      <td>1600</td>\n",
       "    </tr>\n",
       "    <tr>\n",
       "      <th>2016-10-16 11:00:00</th>\n",
       "      <td>1600</td>\n",
       "    </tr>\n",
       "    <tr>\n",
       "      <th>2016-10-16 12:00:00</th>\n",
       "      <td>1600</td>\n",
       "    </tr>\n",
       "    <tr>\n",
       "      <th>2016-10-16 13:00:00</th>\n",
       "      <td>600</td>\n",
       "    </tr>\n",
       "    <tr>\n",
       "      <th>2016-10-16 14:00:00</th>\n",
       "      <td>600</td>\n",
       "    </tr>\n",
       "    <tr>\n",
       "      <th>2016-10-16 15:00:00</th>\n",
       "      <td>600</td>\n",
       "    </tr>\n",
       "    <tr>\n",
       "      <th>2016-10-16 16:00:00</th>\n",
       "      <td>900</td>\n",
       "    </tr>\n",
       "    <tr>\n",
       "      <th>2016-10-16 17:00:00</th>\n",
       "      <td>900</td>\n",
       "    </tr>\n",
       "    <tr>\n",
       "      <th>2016-10-16 18:00:00</th>\n",
       "      <td>900</td>\n",
       "    </tr>\n",
       "    <tr>\n",
       "      <th>2016-10-16 19:00:00</th>\n",
       "      <td>900</td>\n",
       "    </tr>\n",
       "    <tr>\n",
       "      <th>2016-10-16 20:00:00</th>\n",
       "      <td>500</td>\n",
       "    </tr>\n",
       "    <tr>\n",
       "      <th>2016-10-16 21:00:00</th>\n",
       "      <td>300</td>\n",
       "    </tr>\n",
       "    <tr>\n",
       "      <th>2016-10-16 22:00:00</th>\n",
       "      <td>300</td>\n",
       "    </tr>\n",
       "    <tr>\n",
       "      <th>2016-10-16 23:00:00</th>\n",
       "      <td>300</td>\n",
       "    </tr>\n",
       "    <tr>\n",
       "      <th>2016-10-17 00:00:00</th>\n",
       "      <td>300</td>\n",
       "    </tr>\n",
       "    <tr>\n",
       "      <th>2016-10-17 01:00:00</th>\n",
       "      <td>300</td>\n",
       "    </tr>\n",
       "    <tr>\n",
       "      <th>2016-10-17 02:00:00</th>\n",
       "      <td>300</td>\n",
       "    </tr>\n",
       "    <tr>\n",
       "      <th>2016-10-17 03:00:00</th>\n",
       "      <td>300</td>\n",
       "    </tr>\n",
       "    <tr>\n",
       "      <th>2016-10-17 04:00:00</th>\n",
       "      <td>300</td>\n",
       "    </tr>\n",
       "    <tr>\n",
       "      <th>2016-10-17 05:00:00</th>\n",
       "      <td>300</td>\n",
       "    </tr>\n",
       "    <tr>\n",
       "      <th>2016-10-17 06:00:00</th>\n",
       "      <td>300</td>\n",
       "    </tr>\n",
       "    <tr>\n",
       "      <th>2016-10-17 07:00:00</th>\n",
       "      <td>300</td>\n",
       "    </tr>\n",
       "    <tr>\n",
       "      <th>2016-10-17 08:00:00</th>\n",
       "      <td>900</td>\n",
       "    </tr>\n",
       "  </tbody>\n",
       "</table>\n",
       "</div>"
      ],
      "text/plain": [
       "                     calories\n",
       "time                         \n",
       "2016-10-15 10:00:00       300\n",
       "2016-10-15 11:00:00       300\n",
       "2016-10-15 12:00:00       300\n",
       "2016-10-15 13:00:00       900\n",
       "2016-10-15 14:00:00       900\n",
       "2016-10-15 15:00:00      1200\n",
       "2016-10-15 16:00:00      1200\n",
       "2016-10-15 17:00:00      1200\n",
       "2016-10-15 18:00:00      1200\n",
       "2016-10-15 19:00:00      1200\n",
       "2016-10-15 20:00:00      1200\n",
       "2016-10-15 21:00:00       700\n",
       "2016-10-15 22:00:00       700\n",
       "2016-10-15 23:00:00       700\n",
       "2016-10-16 00:00:00       700\n",
       "2016-10-16 01:00:00       700\n",
       "2016-10-16 02:00:00       700\n",
       "2016-10-16 03:00:00       700\n",
       "2016-10-16 04:00:00       700\n",
       "2016-10-16 05:00:00       700\n",
       "2016-10-16 06:00:00       700\n",
       "2016-10-16 07:00:00      1600\n",
       "2016-10-16 08:00:00      1600\n",
       "2016-10-16 09:00:00      1600\n",
       "2016-10-16 10:00:00      1600\n",
       "2016-10-16 11:00:00      1600\n",
       "2016-10-16 12:00:00      1600\n",
       "2016-10-16 13:00:00       600\n",
       "2016-10-16 14:00:00       600\n",
       "2016-10-16 15:00:00       600\n",
       "2016-10-16 16:00:00       900\n",
       "2016-10-16 17:00:00       900\n",
       "2016-10-16 18:00:00       900\n",
       "2016-10-16 19:00:00       900\n",
       "2016-10-16 20:00:00       500\n",
       "2016-10-16 21:00:00       300\n",
       "2016-10-16 22:00:00       300\n",
       "2016-10-16 23:00:00       300\n",
       "2016-10-17 00:00:00       300\n",
       "2016-10-17 01:00:00       300\n",
       "2016-10-17 02:00:00       300\n",
       "2016-10-17 03:00:00       300\n",
       "2016-10-17 04:00:00       300\n",
       "2016-10-17 05:00:00       300\n",
       "2016-10-17 06:00:00       300\n",
       "2016-10-17 07:00:00       300\n",
       "2016-10-17 08:00:00       900"
      ]
     },
     "execution_count": 130,
     "metadata": {},
     "output_type": "execute_result"
    }
   ],
   "source": [
    "spiderman_meals.resample('1H').ffill()"
   ]
  },
  {
   "cell_type": "code",
   "execution_count": 131,
   "metadata": {
    "collapsed": false
   },
   "outputs": [
    {
     "data": {
      "text/html": [
       "<div>\n",
       "<table border=\"1\" class=\"dataframe\">\n",
       "  <thead>\n",
       "    <tr style=\"text-align: right;\">\n",
       "      <th></th>\n",
       "      <th>calories</th>\n",
       "    </tr>\n",
       "    <tr>\n",
       "      <th>time</th>\n",
       "      <th></th>\n",
       "    </tr>\n",
       "  </thead>\n",
       "  <tbody>\n",
       "    <tr>\n",
       "      <th>2016-10-15</th>\n",
       "      <td>300</td>\n",
       "    </tr>\n",
       "    <tr>\n",
       "      <th>2016-10-16</th>\n",
       "      <td>1600</td>\n",
       "    </tr>\n",
       "    <tr>\n",
       "      <th>2016-10-17</th>\n",
       "      <td>900</td>\n",
       "    </tr>\n",
       "  </tbody>\n",
       "</table>\n",
       "</div>"
      ],
      "text/plain": [
       "            calories\n",
       "time                \n",
       "2016-10-15       300\n",
       "2016-10-16      1600\n",
       "2016-10-17       900"
      ]
     },
     "execution_count": 131,
     "metadata": {},
     "output_type": "execute_result"
    }
   ],
   "source": [
    "spiderman_meals.resample('1D').first()"
   ]
  },
  {
   "cell_type": "code",
   "execution_count": 132,
   "metadata": {
    "collapsed": false
   },
   "outputs": [
    {
     "data": {
      "text/html": [
       "<div>\n",
       "<table border=\"1\" class=\"dataframe\">\n",
       "  <thead>\n",
       "    <tr style=\"text-align: right;\">\n",
       "      <th></th>\n",
       "      <th>hero</th>\n",
       "      <th>movie</th>\n",
       "      <th>speed</th>\n",
       "      <th>strength</th>\n",
       "      <th>is_hungry</th>\n",
       "    </tr>\n",
       "  </thead>\n",
       "  <tbody>\n",
       "    <tr>\n",
       "      <th>0</th>\n",
       "      <td>Batman</td>\n",
       "      <td>Batman</td>\n",
       "      <td>100</td>\n",
       "      <td>400</td>\n",
       "      <td>NaN</td>\n",
       "    </tr>\n",
       "    <tr>\n",
       "      <th>1</th>\n",
       "      <td>Robin</td>\n",
       "      <td>Batman</td>\n",
       "      <td>10</td>\n",
       "      <td>100</td>\n",
       "      <td>NaN</td>\n",
       "    </tr>\n",
       "    <tr>\n",
       "      <th>2</th>\n",
       "      <td>Spiderman</td>\n",
       "      <td>Spiderman</td>\n",
       "      <td>200</td>\n",
       "      <td>400</td>\n",
       "      <td>True</td>\n",
       "    </tr>\n",
       "    <tr>\n",
       "      <th>3</th>\n",
       "      <td>Robocop</td>\n",
       "      <td>Robocop</td>\n",
       "      <td>1</td>\n",
       "      <td>560</td>\n",
       "      <td>False</td>\n",
       "    </tr>\n",
       "    <tr>\n",
       "      <th>4</th>\n",
       "      <td>Lex Luthor</td>\n",
       "      <td>Spiderman</td>\n",
       "      <td>30</td>\n",
       "      <td>89</td>\n",
       "      <td>NaN</td>\n",
       "    </tr>\n",
       "  </tbody>\n",
       "</table>\n",
       "</div>"
      ],
      "text/plain": [
       "         hero      movie  speed  strength is_hungry\n",
       "0      Batman     Batman    100       400       NaN\n",
       "1       Robin     Batman     10       100       NaN\n",
       "2   Spiderman  Spiderman    200       400      True\n",
       "3     Robocop    Robocop      1       560     False\n",
       "4  Lex Luthor  Spiderman     30        89       NaN"
      ]
     },
     "execution_count": 132,
     "metadata": {},
     "output_type": "execute_result"
    }
   ],
   "source": [
    "movie_heroes"
   ]
  },
  {
   "cell_type": "code",
   "execution_count": 133,
   "metadata": {
    "collapsed": false
   },
   "outputs": [
    {
     "data": {
      "text/html": [
       "<div>\n",
       "<table border=\"1\" class=\"dataframe\">\n",
       "  <thead>\n",
       "    <tr style=\"text-align: right;\">\n",
       "      <th></th>\n",
       "      <th>hero</th>\n",
       "      <th>is_hungry</th>\n",
       "    </tr>\n",
       "  </thead>\n",
       "  <tbody>\n",
       "    <tr>\n",
       "      <th>2</th>\n",
       "      <td>Spiderman</td>\n",
       "      <td>True</td>\n",
       "    </tr>\n",
       "    <tr>\n",
       "      <th>3</th>\n",
       "      <td>Robocop</td>\n",
       "      <td>False</td>\n",
       "    </tr>\n",
       "  </tbody>\n",
       "</table>\n",
       "</div>"
      ],
      "text/plain": [
       "        hero is_hungry\n",
       "2  Spiderman      True\n",
       "3    Robocop     False"
      ]
     },
     "execution_count": 133,
     "metadata": {},
     "output_type": "execute_result"
    }
   ],
   "source": [
    "apetite"
   ]
  },
  {
   "cell_type": "code",
   "execution_count": 134,
   "metadata": {
    "collapsed": false
   },
   "outputs": [
    {
     "data": {
      "text/html": [
       "<div>\n",
       "<table border=\"1\" class=\"dataframe\">\n",
       "  <thead>\n",
       "    <tr style=\"text-align: right;\">\n",
       "      <th></th>\n",
       "      <th>hero</th>\n",
       "      <th>speed</th>\n",
       "      <th>is_hungry</th>\n",
       "    </tr>\n",
       "  </thead>\n",
       "  <tbody>\n",
       "    <tr>\n",
       "      <th>0</th>\n",
       "      <td>Batman</td>\n",
       "      <td>100</td>\n",
       "      <td>NaN</td>\n",
       "    </tr>\n",
       "    <tr>\n",
       "      <th>1</th>\n",
       "      <td>Robin</td>\n",
       "      <td>10</td>\n",
       "      <td>NaN</td>\n",
       "    </tr>\n",
       "    <tr>\n",
       "      <th>2</th>\n",
       "      <td>Spiderman</td>\n",
       "      <td>200</td>\n",
       "      <td>True</td>\n",
       "    </tr>\n",
       "    <tr>\n",
       "      <th>3</th>\n",
       "      <td>Robocop</td>\n",
       "      <td>1</td>\n",
       "      <td>False</td>\n",
       "    </tr>\n",
       "    <tr>\n",
       "      <th>4</th>\n",
       "      <td>Lex Luthor</td>\n",
       "      <td>30</td>\n",
       "      <td>NaN</td>\n",
       "    </tr>\n",
       "  </tbody>\n",
       "</table>\n",
       "</div>"
      ],
      "text/plain": [
       "         hero  speed is_hungry\n",
       "0      Batman    100       NaN\n",
       "1       Robin     10       NaN\n",
       "2   Spiderman    200      True\n",
       "3     Robocop      1     False\n",
       "4  Lex Luthor     30       NaN"
      ]
     },
     "execution_count": 134,
     "metadata": {},
     "output_type": "execute_result"
    }
   ],
   "source": [
    "# TODO shall we have it?\n",
    "\n",
    "pd.merge(\n",
    "    movie_heroes[['hero', 'speed']],\n",
    "    apetite,\n",
    "    on=['hero'],\n",
    "    how='outer'\n",
    ")"
   ]
  },
  {
   "cell_type": "markdown",
   "metadata": {},
   "source": [
    "#### EXERCISE\n",
    "\n",
    "# TODO find dataset and come up with 2 exercises"
   ]
  },
  {
   "cell_type": "markdown",
   "metadata": {},
   "source": [
    "## Advanced topics + Advanced exercises\n",
    "\n",
    "#### SHOW\n",
    "- fillna\n",
    "- basics of scikit-learn (nice example to copy from my presentation)\n",
    "\n",
    "#### EXERCISE\n",
    "\n",
    "1. Integration with scikit-learn: Create a model that tries to predict gross of movie. Use any features of the movies dataset.\n",
    "2. Integration with Flask\n",
    "3. Discovering similar movies based on plot, (genre, cast) (Poor man's recommendations engine)"
   ]
  },
  {
   "cell_type": "markdown",
   "metadata": {
    "collapsed": true
   },
   "source": [
    "## Advanced topics "
   ]
  },
  {
   "cell_type": "code",
   "execution_count": 153,
   "metadata": {
    "collapsed": false
   },
   "outputs": [
    {
     "data": {
      "text/plain": [
       "Index([u'color', u'director_name', u'num_critic_for_reviews', u'duration',\n",
       "       u'director_facebook_likes', u'actor_3_facebook_likes', u'actor_2_name',\n",
       "       u'actor_1_facebook_likes', u'gross', u'genres', u'actor_1_name',\n",
       "       u'movie_title', u'num_voted_users', u'cast_total_facebook_likes',\n",
       "       u'actor_3_name', u'facenumber_in_poster', u'plot_keywords',\n",
       "       u'movie_imdb_link', u'num_user_for_reviews', u'language', u'country',\n",
       "       u'content_rating', u'budget', u'title_year', u'actor_2_facebook_likes',\n",
       "       u'imdb_score', u'aspect_ratio', u'movie_facebook_likes',\n",
       "       u'profitability', u'first_genre', u'year_datetime'],\n",
       "      dtype='object')"
      ]
     },
     "execution_count": 153,
     "metadata": {},
     "output_type": "execute_result"
    }
   ],
   "source": [
    "movies.columns"
   ]
  },
  {
   "cell_type": "code",
   "execution_count": 154,
   "metadata": {
    "collapsed": false
   },
   "outputs": [
    {
     "data": {
      "text/html": [
       "<div>\n",
       "<table border=\"1\" class=\"dataframe\">\n",
       "  <thead>\n",
       "    <tr style=\"text-align: right;\">\n",
       "      <th></th>\n",
       "      <th>num_voted_users</th>\n",
       "      <th>imdb_score</th>\n",
       "      <th>gross</th>\n",
       "    </tr>\n",
       "  </thead>\n",
       "  <tbody>\n",
       "    <tr>\n",
       "      <th>0</th>\n",
       "      <td>886204</td>\n",
       "      <td>7.9</td>\n",
       "      <td>760505847.0</td>\n",
       "    </tr>\n",
       "    <tr>\n",
       "      <th>1</th>\n",
       "      <td>471220</td>\n",
       "      <td>7.1</td>\n",
       "      <td>309404152.0</td>\n",
       "    </tr>\n",
       "    <tr>\n",
       "      <th>2</th>\n",
       "      <td>275868</td>\n",
       "      <td>6.8</td>\n",
       "      <td>200074175.0</td>\n",
       "    </tr>\n",
       "    <tr>\n",
       "      <th>3</th>\n",
       "      <td>1144337</td>\n",
       "      <td>8.5</td>\n",
       "      <td>448130642.0</td>\n",
       "    </tr>\n",
       "    <tr>\n",
       "      <th>4</th>\n",
       "      <td>8</td>\n",
       "      <td>7.1</td>\n",
       "      <td>NaN</td>\n",
       "    </tr>\n",
       "  </tbody>\n",
       "</table>\n",
       "</div>"
      ],
      "text/plain": [
       "   num_voted_users  imdb_score        gross\n",
       "0           886204         7.9  760505847.0\n",
       "1           471220         7.1  309404152.0\n",
       "2           275868         6.8  200074175.0\n",
       "3          1144337         8.5  448130642.0\n",
       "4                8         7.1          NaN"
      ]
     },
     "execution_count": 154,
     "metadata": {},
     "output_type": "execute_result"
    }
   ],
   "source": [
    "movies[['num_voted_users', 'imdb_score', 'gross']].head()"
   ]
  },
  {
   "cell_type": "code",
   "execution_count": 155,
   "metadata": {
    "collapsed": false
   },
   "outputs": [
    {
     "data": {
      "text/plain": [
       "array([  2.62239503e+08,   1.33963329e+08,   1.64074385e+08,\n",
       "         1.85147715e+07])"
      ]
     },
     "execution_count": 155,
     "metadata": {},
     "output_type": "execute_result"
    }
   ],
   "source": [
    "# Solution 1\n",
    "\n",
    "from sklearn.linear_model import LinearRegression\n",
    "\n",
    "FEATURES = ['num_voted_users', 'imdb_score']\n",
    "TARGET = 'gross'\n",
    "\n",
    "movies_with_data = movies[FEATURES + [TARGET]].dropna()\n",
    "\n",
    "X = movies_with_data[FEATURES].values\n",
    "y = movies_with_data[TARGET].values\n",
    "\n",
    "clf = LinearRegression()\n",
    "clf.fit(X, y)\n",
    "\n",
    "clf.predict([\n",
    "    [800000, 8.0],\n",
    "    [400000, 8.0],\n",
    "    [400000, 4.0],\n",
    "    [ 40000, 8.0],\n",
    "])"
   ]
  },
  {
   "cell_type": "code",
   "execution_count": 138,
   "metadata": {
    "collapsed": true
   },
   "outputs": [],
   "source": [
    "# Solution 2\n",
    "\n",
    "# TODO write\n",
    "\n",
    "# In flask_exercise.py"
   ]
  },
  {
   "cell_type": "code",
   "execution_count": 189,
   "metadata": {
    "collapsed": false
   },
   "outputs": [
    {
     "data": {
      "text/plain": [
       "44                     Terminator Salvation\n",
       "76                               Waterworld\n",
       "94       Terminator 3: Rise of the Machines\n",
       "109                      Terminator Genisys\n",
       "124                  The Matrix Revolutions\n",
       "140                      The Last Airbender\n",
       "160                               Star Trek\n",
       "268                            Ender's Game\n",
       "284                         Minority Report\n",
       "288              Terminator 2: Judgment Day\n",
       "310                       Starship Troopers\n",
       "311                             Cloud Atlas\n",
       "321            The Adventures of Pluto Nash\n",
       "373            A.I. Artificial Intelligence\n",
       "435                             The 6th Day\n",
       "491                              Surrogates\n",
       "601                      Battle Los Angeles\n",
       "760               Jack Ryan: Shadow Recruit\n",
       "882                                Æon Flux\n",
       "1041                                Chappie\n",
       "1162                            High Crimes\n",
       "1310                               Pandorum\n",
       "1311                               Impostor\n",
       "1314                               Sunshine\n",
       "1334                               Serenity\n",
       "1393                                Gattaca\n",
       "1441                                In Time\n",
       "1563                               Repo Men\n",
       "1615                                 Looper\n",
       "1767                                Timecop\n",
       "2058                                    Her\n",
       "2363                     Back to the Future\n",
       "2471                            Renaissance\n",
       "2673                             The Marine\n",
       "2750                               Automata\n",
       "2979                               Fortress\n",
       "3277                                  Alien\n",
       "3335                             Barbarella\n",
       "3353                Repo! The Genetic Opera\n",
       "3509                 Dark Angel            \n",
       "4021                            Dawn Patrol\n",
       "4185     Escape from the Planet of the Apes\n",
       "4207                           Sleep Dealer\n",
       "4214                              Idiocracy\n",
       "4250                                Sleeper\n",
       "4380     Conquest of the Planet of the Apes\n",
       "4467    Space: Above and Beyond            \n",
       "4873             The Sticky Fingers of Time\n",
       "5020                             The Ridges\n",
       "Name: movie_title, dtype: object"
      ]
     },
     "execution_count": 189,
     "metadata": {},
     "output_type": "execute_result"
    }
   ],
   "source": [
    "# Solution 3\n",
    "\n",
    "# TODO write comments? is this algo good?\n",
    "\n",
    "def discover_similar_plot(title, threshold=0.75):\n",
    "    movies_with_plot = movies.dropna(\n",
    "        subset=['plot_keywords']\n",
    "    ).copy()\n",
    "    \n",
    "    movies_with_plot['plot_keywords_set'] = movies_with_plot[\n",
    "        'plot_keywords'\n",
    "    ].str.split('|').map(set)\n",
    "    \n",
    "    target_keywords = movies_with_plot[\n",
    "        movies_with_plot['movie_title'] == title\n",
    "    ].squeeze()['plot_keywords_set']\n",
    "    \n",
    "    movies_with_plot['match_count'] = movies_with_plot[\n",
    "        'plot_keywords_set'\n",
    "    ].map(\n",
    "        lambda keywords: len(keywords.intersection(target_keywords))\n",
    "    )\n",
    "    \n",
    "    return movies_with_plot[\n",
    "        (movies_with_plot['movie_title'] != title) &\n",
    "        (movies_with_plot['match_count'] >= threshold*len(target_keywords))\n",
    "    ]\n",
    "\n",
    "discover_similar_plot('Avatar', 0.2)['movie_title']"
   ]
  },
  {
   "cell_type": "code",
   "execution_count": 177,
   "metadata": {
    "collapsed": true
   },
   "outputs": [],
   "source": [
    "# Other TODO\n",
    "\n",
    "# - Is DataStructure chapter missing shape and columns?\n",
    "# - shall we add more #### headers above operations?"
   ]
  }
 ],
 "metadata": {
  "kernelspec": {
   "display_name": "Python 2",
   "language": "python",
   "name": "python2"
  },
  "language_info": {
   "codemirror_mode": {
    "name": "ipython",
    "version": 2
   },
   "file_extension": ".py",
   "mimetype": "text/x-python",
   "name": "python",
   "nbconvert_exporter": "python",
   "pygments_lexer": "ipython2",
   "version": "2.7.10"
  }
 },
 "nbformat": 4,
 "nbformat_minor": 1
}
