{
 "cells": [
  {
   "cell_type": "markdown",
   "metadata": {},
   "source": [
    "# Welcome to the 'First steps with pandas'!\n",
    "\n",
    "After this workshop you can (hopefully) call yourselves Data Scientists!"
   ]
  },
  {
   "cell_type": "markdown",
   "metadata": {},
   "source": [
    "### Before coding, let's check whether we have proper versions of libraries\n",
    "\n",
    "You should have:\n",
    "- Python: 2.7.10\n",
    "- numpy: 1.11.1\n",
    "- pandas: 0.18.1\n",
    "- matplotlib: 1.5.2"
   ]
  },
  {
   "cell_type": "code",
   "execution_count": 16,
   "metadata": {
    "collapsed": false
   },
   "outputs": [
    {
     "name": "stdout",
     "output_type": "stream",
     "text": [
      "Python: 2.7.10\n",
      "numpy: 1.11.1\n",
      "pandas: 0.18.1\n",
      "matplotlib: 1.5.2\n"
     ]
    }
   ],
   "source": [
    "# TODO how strict are we imposing certain versions of libraries? If very strict, we can add assert here.\n",
    "\n",
    "import platform\n",
    "print \"Python:\", platform.python_version()\n",
    "\n",
    "import numpy as np\n",
    "print 'numpy:', np.__version__\n",
    "\n",
    "import pandas as pd\n",
    "print 'pandas:', pd.__version__\n",
    " \n",
    "import matplotlib as plt\n",
    "print 'matplotlib:', plt.__version__"
   ]
  },
  {
   "cell_type": "markdown",
   "metadata": {},
   "source": [
    "## What is pandas?\n",
    "\n",
    "> pandas is an open source, BSD-licensed library providing high-performance, easy-to-use data structures and data analysis tools for the Python programming language."
   ]
  },
  {
   "cell_type": "markdown",
   "metadata": {},
   "source": [
    "## Why to use it?"
   ]
  },
  {
   "cell_type": "markdown",
   "metadata": {},
   "source": [
    "### We need to be able to develop code quickly and cheaply... and it should be readable"
   ]
  },
  {
   "cell_type": "code",
   "execution_count": 10,
   "metadata": {
    "collapsed": false
   },
   "outputs": [
    {
     "data": {
      "text/html": [
       "<div>\n",
       "<table border=\"1\" class=\"dataframe\">\n",
       "  <thead>\n",
       "    <tr style=\"text-align: right;\">\n",
       "      <th></th>\n",
       "      <th>daily_views</th>\n",
       "      <th>month</th>\n",
       "      <th>rank</th>\n",
       "    </tr>\n",
       "  </thead>\n",
       "  <tbody>\n",
       "    <tr>\n",
       "      <th>2015-01-04</th>\n",
       "      <td>6.500000</td>\n",
       "      <td>201501.0</td>\n",
       "      <td>-1.0</td>\n",
       "    </tr>\n",
       "    <tr>\n",
       "      <th>2015-01-11</th>\n",
       "      <td>5.428571</td>\n",
       "      <td>201501.0</td>\n",
       "      <td>-1.0</td>\n",
       "    </tr>\n",
       "    <tr>\n",
       "      <th>2015-01-18</th>\n",
       "      <td>6.714286</td>\n",
       "      <td>201501.0</td>\n",
       "      <td>-1.0</td>\n",
       "    </tr>\n",
       "    <tr>\n",
       "      <th>2015-01-25</th>\n",
       "      <td>5.857143</td>\n",
       "      <td>201501.0</td>\n",
       "      <td>-1.0</td>\n",
       "    </tr>\n",
       "    <tr>\n",
       "      <th>2015-02-01</th>\n",
       "      <td>5.833333</td>\n",
       "      <td>201501.0</td>\n",
       "      <td>-1.0</td>\n",
       "    </tr>\n",
       "  </tbody>\n",
       "</table>\n",
       "</div>"
      ],
      "text/plain": [
       "            daily_views     month  rank\n",
       "2015-01-04     6.500000  201501.0  -1.0\n",
       "2015-01-11     5.428571  201501.0  -1.0\n",
       "2015-01-18     6.714286  201501.0  -1.0\n",
       "2015-01-25     5.857143  201501.0  -1.0\n",
       "2015-02-01     5.833333  201501.0  -1.0"
      ]
     },
     "execution_count": 10,
     "metadata": {},
     "output_type": "execute_result"
    }
   ],
   "source": [
    "# TODO Make even more impressive example\n",
    "\n",
    "# Weekly mean views of Michal Pazdan on Wikipedia in Jan '15\n",
    "\n",
    "# pd.read_json('http://stats.grok.se/json/en/201501/Micha%C5%82_Pazdan') \\\n",
    "pd.read_json('data/cached_wiki_Pazdan.json') \\\n",
    "    .resample('1W') \\\n",
    "    .mean()"
   ]
  },
  {
   "cell_type": "markdown",
   "metadata": {},
   "source": [
    "### We need to develop fast code"
   ]
  },
  {
   "cell_type": "code",
   "execution_count": 14,
   "metadata": {
    "collapsed": true
   },
   "outputs": [],
   "source": [
    "# TODO maybe even better example\n",
    "\n",
    "some_data = list(range(1, 1000000))\n",
    "some_series = pd.Series(some_data)\n",
    "\n",
    "def standard_way(data):\n",
    "    data = [x for x in data if x % 3 == 0]\n",
    "    return sum(data)\n",
    "\n",
    "\n",
    "def pandas_way(series):\n",
    "    return series[(series % 3) == 0].sum()"
   ]
  },
  {
   "cell_type": "code",
   "execution_count": 13,
   "metadata": {
    "collapsed": false
   },
   "outputs": [
    {
     "name": "stdout",
     "output_type": "stream",
     "text": [
      "10 loops, best of 3: 142 ms per loop\n"
     ]
    }
   ],
   "source": [
    "%timeit standard_way(some_data)"
   ]
  },
  {
   "cell_type": "code",
   "execution_count": 12,
   "metadata": {
    "collapsed": false
   },
   "outputs": [
    {
     "name": "stdout",
     "output_type": "stream",
     "text": [
      "10 loops, best of 3: 131 ms per loop\n"
     ]
    }
   ],
   "source": [
    "%timeit pandas_way(some_series)"
   ]
  },
  {
   "cell_type": "markdown",
   "metadata": {},
   "source": [
    "### It is hard write everything from scratch.. and it's easy to make mistakes.\n",
    "\n",
    "http://pandas.pydata.org/pandas-docs/stable/api.html"
   ]
  },
  {
   "cell_type": "markdown",
   "metadata": {},
   "source": [
    "### It has a very cool name.\n",
    "\n",
    "![caption](files/pandas.jpg)"
   ]
  },
  {
   "cell_type": "markdown",
   "metadata": {},
   "source": [
    "## So let's start by learning data structures"
   ]
  },
  {
   "cell_type": "markdown",
   "metadata": {},
   "source": [
    "### Series\n",
    "\n",
    "> Series is a one-dimensional labeled array capable of holding any data type (integers, strings, floating point numbers, Python objects, etc.)."
   ]
  },
  {
   "cell_type": "code",
   "execution_count": 20,
   "metadata": {
    "collapsed": false
   },
   "outputs": [
    {
     "data": {
      "text/plain": [
       "0    400\n",
       "1    200\n",
       "2    300\n",
       "3    400\n",
       "4    500\n",
       "dtype: int64"
      ]
     },
     "execution_count": 20,
     "metadata": {},
     "output_type": "execute_result"
    }
   ],
   "source": [
    "strengths = pd.Series([400, 200, 300, 400, 500])\n",
    "strengths"
   ]
  },
  {
   "cell_type": "code",
   "execution_count": 21,
   "metadata": {
    "collapsed": false
   },
   "outputs": [
    {
     "data": {
      "text/plain": [
       "0        Batman\n",
       "1         Robin\n",
       "2     Spiderman\n",
       "3       Robocop\n",
       "4    Terminator\n",
       "dtype: object"
      ]
     },
     "execution_count": 21,
     "metadata": {},
     "output_type": "execute_result"
    }
   ],
   "source": [
    "names = pd.Series([\"Batman\", \"Robin\", \"Spiderman\", \"Robocop\", \"Terminator\"])\n",
    "names"
   ]
  },
  {
   "cell_type": "markdown",
   "metadata": {},
   "source": [
    "### DataFrame\n",
    "\n",
    "> DataFrame is a 2-dimensional labeled data structure with columns of potentially different types. You can think of it like a spreadsheet or SQL table, or a dict of Series objects."
   ]
  },
  {
   "cell_type": "code",
   "execution_count": 24,
   "metadata": {
    "collapsed": false
   },
   "outputs": [
    {
     "data": {
      "text/html": [
       "<div>\n",
       "<table border=\"1\" class=\"dataframe\">\n",
       "  <thead>\n",
       "    <tr style=\"text-align: right;\">\n",
       "      <th></th>\n",
       "      <th>hero</th>\n",
       "      <th>strength</th>\n",
       "    </tr>\n",
       "  </thead>\n",
       "  <tbody>\n",
       "    <tr>\n",
       "      <th>0</th>\n",
       "      <td>Batman</td>\n",
       "      <td>400</td>\n",
       "    </tr>\n",
       "    <tr>\n",
       "      <th>1</th>\n",
       "      <td>Robin</td>\n",
       "      <td>200</td>\n",
       "    </tr>\n",
       "    <tr>\n",
       "      <th>2</th>\n",
       "      <td>Spiderman</td>\n",
       "      <td>300</td>\n",
       "    </tr>\n",
       "    <tr>\n",
       "      <th>3</th>\n",
       "      <td>Robocop</td>\n",
       "      <td>400</td>\n",
       "    </tr>\n",
       "    <tr>\n",
       "      <th>4</th>\n",
       "      <td>Terminator</td>\n",
       "      <td>500</td>\n",
       "    </tr>\n",
       "  </tbody>\n",
       "</table>\n",
       "</div>"
      ],
      "text/plain": [
       "         hero  strength\n",
       "0      Batman       400\n",
       "1       Robin       200\n",
       "2   Spiderman       300\n",
       "3     Robocop       400\n",
       "4  Terminator       500"
      ]
     },
     "execution_count": 24,
     "metadata": {},
     "output_type": "execute_result"
    }
   ],
   "source": [
    "heroes = pd.DataFrame({\n",
    "        'hero': names,\n",
    "        'strength': strengths\n",
    "})\n",
    "heroes"
   ]
  },
  {
   "cell_type": "code",
   "execution_count": 25,
   "metadata": {
    "collapsed": false
   },
   "outputs": [
    {
     "data": {
      "text/html": [
       "<div>\n",
       "<table border=\"1\" class=\"dataframe\">\n",
       "  <thead>\n",
       "    <tr style=\"text-align: right;\">\n",
       "      <th></th>\n",
       "      <th>hero</th>\n",
       "      <th>strength</th>\n",
       "    </tr>\n",
       "  </thead>\n",
       "  <tbody>\n",
       "    <tr>\n",
       "      <th>0</th>\n",
       "      <td>Hercules</td>\n",
       "      <td>800.0</td>\n",
       "    </tr>\n",
       "    <tr>\n",
       "      <th>1</th>\n",
       "      <td>Konan</td>\n",
       "      <td>NaN</td>\n",
       "    </tr>\n",
       "  </tbody>\n",
       "</table>\n",
       "</div>"
      ],
      "text/plain": [
       "       hero  strength\n",
       "0  Hercules     800.0\n",
       "1     Konan       NaN"
      ]
     },
     "execution_count": 25,
     "metadata": {},
     "output_type": "execute_result"
    }
   ],
   "source": [
    "other_heroes = pd.DataFrame([\n",
    "    dict(hero=\"Hercules\", strength=800),\n",
    "    dict(hero=\"Konan\")\n",
    "])\n",
    "other_heroes"
   ]
  },
  {
   "cell_type": "markdown",
   "metadata": {},
   "source": [
    "## EXERCISE\n",
    "\n",
    "Create a DataFrame with names and heights of your 10 best friends. Calculate median height of your friendship group"
   ]
  },
  {
   "cell_type": "code",
   "execution_count": null,
   "metadata": {
    "collapsed": true
   },
   "outputs": [],
   "source": [
    "# TODO here solution"
   ]
  },
  {
   "cell_type": "code",
   "execution_count": 26,
   "metadata": {
    "collapsed": true
   },
   "outputs": [],
   "source": [
    "# TODO Choose dataset(s) for the exercise"
   ]
  },
  {
   "cell_type": "markdown",
   "metadata": {},
   "source": [
    "### TODO Skills to include\n",
    "\n",
    "- [X] know Series - create Series with ... (maybe something related to the workshop audience)\n",
    "- [X] know DataFrame - create DataFrame in 2 different ways ...\n",
    "- [ ] read files - read file X (maybe json)\n",
    "- [ ] filtering of data\tfilter file in memory with 3 conditions\n",
    "- [ ] saving data - convert data to list of dicts\n",
    "- [ ] save data as csv\n",
    "- [ ] maybe save with to_sql with sqllite\"\n",
    "- [ ] calculating new columns, transforming data using map/apply/applymap\tcreate new columns X, Y, Z\n",
    "- [ ] groupby, aggregation functions, pipeline API\tgroup by X,Y and aggregate by median/last\n",
    "- [ ] understanding indexes\t\n",
    "- [ ] datetime operations\tstock market / euro state / beer consumption data ?\n",
    "- [ ] creating simple algorithms using pandas\talerts ? hypes ? stock market KPIs ?\n",
    "- [ ] delivering working product - wrapping up pandas inside Flask\n",
    "- [ ] data visulatisation - ploting stuff"
   ]
  },
  {
   "cell_type": "code",
   "execution_count": null,
   "metadata": {
    "collapsed": true
   },
   "outputs": [],
   "source": []
  }
 ],
 "metadata": {
  "kernelspec": {
   "display_name": "Python 2",
   "language": "python",
   "name": "python2"
  },
  "language_info": {
   "codemirror_mode": {
    "name": "ipython",
    "version": 2
   },
   "file_extension": ".py",
   "mimetype": "text/x-python",
   "name": "python",
   "nbconvert_exporter": "python",
   "pygments_lexer": "ipython2",
   "version": "2.7.10"
  }
 },
 "nbformat": 4,
 "nbformat_minor": 1
}
