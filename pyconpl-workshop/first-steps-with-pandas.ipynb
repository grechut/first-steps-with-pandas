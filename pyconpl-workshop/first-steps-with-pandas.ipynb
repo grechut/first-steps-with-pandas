{
 "cells": [
  {
   "cell_type": "markdown",
   "metadata": {},
   "source": [
    "# Welcome to the 'First steps with pandas'!\n",
    "\n",
    "After this workshop you can (hopefully) call yourselves Data Scientists!"
   ]
  },
  {
   "cell_type": "markdown",
   "metadata": {},
   "source": [
    "### Before coding, let's check whether we have proper versions of libraries\n",
    "\n",
    "You should have:\n",
    "- Python: 2.7.10\n",
    "- numpy: 1.11.1\n",
    "- pandas: 0.18.1\n",
    "- matplotlib: 1.5.2"
   ]
  },
  {
   "cell_type": "code",
   "execution_count": 1,
   "metadata": {
    "collapsed": false
   },
   "outputs": [
    {
     "name": "stdout",
     "output_type": "stream",
     "text": [
      "Python: 2.7.10\n",
      "numpy: 1.11.1\n",
      "pandas: 0.18.1\n",
      "matplotlib: 1.5.2\n"
     ]
    }
   ],
   "source": [
    "# TODO how strict are we imposing certain versions of libraries? If very strict, we can add assert here.\n",
    "\n",
    "import platform\n",
    "print \"Python:\", platform.python_version()\n",
    "\n",
    "import numpy as np\n",
    "print 'numpy:', np.__version__\n",
    "\n",
    "import pandas as pd\n",
    "print 'pandas:', pd.__version__\n",
    " \n",
    "import matplotlib as plt\n",
    "print 'matplotlib:', plt.__version__"
   ]
  },
  {
   "cell_type": "markdown",
   "metadata": {},
   "source": [
    "## What is pandas?\n",
    "\n",
    "> pandas is an open source, BSD-licensed library providing high-performance, easy-to-use data structures and data analysis tools for the Python programming language."
   ]
  },
  {
   "cell_type": "markdown",
   "metadata": {},
   "source": [
    "## Why to use it?"
   ]
  },
  {
   "cell_type": "markdown",
   "metadata": {},
   "source": [
    "### We need to be able to develop code quickly and cheaply... and it should be readable"
   ]
  },
  {
   "cell_type": "code",
   "execution_count": 2,
   "metadata": {
    "collapsed": false
   },
   "outputs": [
    {
     "data": {
      "text/html": [
       "<div>\n",
       "<table border=\"1\" class=\"dataframe\">\n",
       "  <thead>\n",
       "    <tr style=\"text-align: right;\">\n",
       "      <th></th>\n",
       "      <th>daily_views</th>\n",
       "      <th>month</th>\n",
       "      <th>rank</th>\n",
       "    </tr>\n",
       "  </thead>\n",
       "  <tbody>\n",
       "    <tr>\n",
       "      <th>2015-01-04</th>\n",
       "      <td>6.500000</td>\n",
       "      <td>201501.0</td>\n",
       "      <td>-1.0</td>\n",
       "    </tr>\n",
       "    <tr>\n",
       "      <th>2015-01-11</th>\n",
       "      <td>5.428571</td>\n",
       "      <td>201501.0</td>\n",
       "      <td>-1.0</td>\n",
       "    </tr>\n",
       "    <tr>\n",
       "      <th>2015-01-18</th>\n",
       "      <td>6.714286</td>\n",
       "      <td>201501.0</td>\n",
       "      <td>-1.0</td>\n",
       "    </tr>\n",
       "    <tr>\n",
       "      <th>2015-01-25</th>\n",
       "      <td>5.857143</td>\n",
       "      <td>201501.0</td>\n",
       "      <td>-1.0</td>\n",
       "    </tr>\n",
       "    <tr>\n",
       "      <th>2015-02-01</th>\n",
       "      <td>5.833333</td>\n",
       "      <td>201501.0</td>\n",
       "      <td>-1.0</td>\n",
       "    </tr>\n",
       "  </tbody>\n",
       "</table>\n",
       "</div>"
      ],
      "text/plain": [
       "            daily_views     month  rank\n",
       "2015-01-04     6.500000  201501.0  -1.0\n",
       "2015-01-11     5.428571  201501.0  -1.0\n",
       "2015-01-18     6.714286  201501.0  -1.0\n",
       "2015-01-25     5.857143  201501.0  -1.0\n",
       "2015-02-01     5.833333  201501.0  -1.0"
      ]
     },
     "execution_count": 2,
     "metadata": {},
     "output_type": "execute_result"
    }
   ],
   "source": [
    "# TODO Make even more impressive example\n",
    "\n",
    "# Weekly mean views of Michal Pazdan on Wikipedia in Jan '15\n",
    "\n",
    "# pd.read_json('http://stats.grok.se/json/en/201501/Micha%C5%82_Pazdan') \\\n",
    "pd.read_json('data/cached_wiki_Pazdan.json') \\\n",
    "    .resample('1W') \\\n",
    "    .mean()"
   ]
  },
  {
   "cell_type": "markdown",
   "metadata": {},
   "source": [
    "### We need to develop fast code"
   ]
  },
  {
   "cell_type": "code",
   "execution_count": 3,
   "metadata": {
    "collapsed": true
   },
   "outputs": [],
   "source": [
    "# TODO maybe even better example\n",
    "\n",
    "some_data = list(range(1, 1000000))\n",
    "some_series = pd.Series(some_data)\n",
    "\n",
    "def standard_way(data):\n",
    "    data = [x for x in data if x % 3 == 0]\n",
    "    return sum(data)\n",
    "\n",
    "\n",
    "def pandas_way(series):\n",
    "    return series[(series % 3) == 0].sum()"
   ]
  },
  {
   "cell_type": "code",
   "execution_count": 4,
   "metadata": {
    "collapsed": false
   },
   "outputs": [
    {
     "name": "stdout",
     "output_type": "stream",
     "text": [
      "1 loop, best of 3: 174 ms per loop\n"
     ]
    }
   ],
   "source": [
    "%timeit standard_way(some_data)"
   ]
  },
  {
   "cell_type": "code",
   "execution_count": 5,
   "metadata": {
    "collapsed": false
   },
   "outputs": [
    {
     "name": "stdout",
     "output_type": "stream",
     "text": [
      "10 loops, best of 3: 51.3 ms per loop\n"
     ]
    }
   ],
   "source": [
    "%timeit pandas_way(some_series)"
   ]
  },
  {
   "cell_type": "markdown",
   "metadata": {},
   "source": [
    "### It is hard write everything from scratch.. and it's easy to make mistakes.\n",
    "\n",
    "http://pandas.pydata.org/pandas-docs/stable/api.html"
   ]
  },
  {
   "cell_type": "markdown",
   "metadata": {},
   "source": [
    "### It can handle nicely missing data (and that's a common case).."
   ]
  },
  {
   "cell_type": "code",
   "execution_count": 56,
   "metadata": {
    "collapsed": false
   },
   "outputs": [
    {
     "data": {
      "text/html": [
       "<div>\n",
       "<table border=\"1\" class=\"dataframe\">\n",
       "  <thead>\n",
       "    <tr style=\"text-align: right;\">\n",
       "      <th></th>\n",
       "      <th>height</th>\n",
       "      <th>name</th>\n",
       "      <th>weight</th>\n",
       "    </tr>\n",
       "  </thead>\n",
       "  <tbody>\n",
       "    <tr>\n",
       "      <th>0</th>\n",
       "      <td>174.0</td>\n",
       "      <td>Jacek</td>\n",
       "      <td>NaN</td>\n",
       "    </tr>\n",
       "    <tr>\n",
       "      <th>1</th>\n",
       "      <td>NaN</td>\n",
       "      <td>Mateusz</td>\n",
       "      <td>81.0</td>\n",
       "    </tr>\n",
       "    <tr>\n",
       "      <th>2</th>\n",
       "      <td>169.0</td>\n",
       "      <td>Lionel Messi</td>\n",
       "      <td>67.0</td>\n",
       "    </tr>\n",
       "  </tbody>\n",
       "</table>\n",
       "</div>"
      ],
      "text/plain": [
       "   height          name  weight\n",
       "0   174.0         Jacek     NaN\n",
       "1     NaN       Mateusz    81.0\n",
       "2   169.0  Lionel Messi    67.0"
      ]
     },
     "execution_count": 56,
     "metadata": {},
     "output_type": "execute_result"
    }
   ],
   "source": [
    "missing_data = pd.DataFrame([\n",
    "    dict(name=\"Jacek\", height=174),\n",
    "    dict(name=\"Mateusz\", weight=81),\n",
    "    dict(name=\"Lionel Messi\", height=169, weight=67)\n",
    "])\n",
    "missing_data"
   ]
  },
  {
   "cell_type": "code",
   "execution_count": 58,
   "metadata": {
    "collapsed": false
   },
   "outputs": [
    {
     "data": {
      "text/html": [
       "<div>\n",
       "<table border=\"1\" class=\"dataframe\">\n",
       "  <thead>\n",
       "    <tr style=\"text-align: right;\">\n",
       "      <th></th>\n",
       "      <th>height</th>\n",
       "      <th>name</th>\n",
       "      <th>weight</th>\n",
       "    </tr>\n",
       "  </thead>\n",
       "  <tbody>\n",
       "    <tr>\n",
       "      <th>0</th>\n",
       "      <td>174.0</td>\n",
       "      <td>Jacek</td>\n",
       "      <td>74.0</td>\n",
       "    </tr>\n",
       "    <tr>\n",
       "      <th>1</th>\n",
       "      <td>171.5</td>\n",
       "      <td>Mateusz</td>\n",
       "      <td>81.0</td>\n",
       "    </tr>\n",
       "    <tr>\n",
       "      <th>2</th>\n",
       "      <td>169.0</td>\n",
       "      <td>Lionel Messi</td>\n",
       "      <td>67.0</td>\n",
       "    </tr>\n",
       "  </tbody>\n",
       "</table>\n",
       "</div>"
      ],
      "text/plain": [
       "   height          name  weight\n",
       "0   174.0         Jacek    74.0\n",
       "1   171.5       Mateusz    81.0\n",
       "2   169.0  Lionel Messi    67.0"
      ]
     },
     "execution_count": 58,
     "metadata": {},
     "output_type": "execute_result"
    }
   ],
   "source": [
    "missing_data.fillna(missing_data.mean())"
   ]
  },
  {
   "cell_type": "markdown",
   "metadata": {},
   "source": [
    "### It has a very cool name.\n",
    "\n",
    "![caption](files/pandas.jpg)"
   ]
  },
  {
   "cell_type": "markdown",
   "metadata": {},
   "source": [
    "###  Library highlights\n",
    "\n",
    "http://pandas.pydata.org/#library-highlights"
   ]
  },
  {
   "cell_type": "markdown",
   "metadata": {},
   "source": [
    "## So let's start by learning data structures"
   ]
  },
  {
   "cell_type": "markdown",
   "metadata": {},
   "source": [
    "### Series\n",
    "\n",
    "> Series is a one-dimensional labeled array capable of holding any data type (integers, strings, floating point numbers, Python objects, etc.)."
   ]
  },
  {
   "cell_type": "code",
   "execution_count": 6,
   "metadata": {
    "collapsed": false
   },
   "outputs": [
    {
     "data": {
      "text/plain": [
       "0    400\n",
       "1    200\n",
       "2    300\n",
       "3    400\n",
       "4    500\n",
       "dtype: int64"
      ]
     },
     "execution_count": 6,
     "metadata": {},
     "output_type": "execute_result"
    }
   ],
   "source": [
    "strengths = pd.Series([400, 200, 300, 400, 500])\n",
    "strengths"
   ]
  },
  {
   "cell_type": "code",
   "execution_count": 7,
   "metadata": {
    "collapsed": false
   },
   "outputs": [
    {
     "data": {
      "text/plain": [
       "0        Batman\n",
       "1         Robin\n",
       "2     Spiderman\n",
       "3       Robocop\n",
       "4    Terminator\n",
       "dtype: object"
      ]
     },
     "execution_count": 7,
     "metadata": {},
     "output_type": "execute_result"
    }
   ],
   "source": [
    "names = pd.Series([\"Batman\", \"Robin\", \"Spiderman\", \"Robocop\", \"Terminator\"])\n",
    "names"
   ]
  },
  {
   "cell_type": "markdown",
   "metadata": {},
   "source": [
    "### DataFrame\n",
    "\n",
    "> DataFrame is a 2-dimensional labeled data structure with columns of potentially different types. You can think of it like a spreadsheet or SQL table, or a dict of Series objects."
   ]
  },
  {
   "cell_type": "code",
   "execution_count": 8,
   "metadata": {
    "collapsed": false
   },
   "outputs": [
    {
     "data": {
      "text/html": [
       "<div>\n",
       "<table border=\"1\" class=\"dataframe\">\n",
       "  <thead>\n",
       "    <tr style=\"text-align: right;\">\n",
       "      <th></th>\n",
       "      <th>hero</th>\n",
       "      <th>strength</th>\n",
       "    </tr>\n",
       "  </thead>\n",
       "  <tbody>\n",
       "    <tr>\n",
       "      <th>0</th>\n",
       "      <td>Batman</td>\n",
       "      <td>400</td>\n",
       "    </tr>\n",
       "    <tr>\n",
       "      <th>1</th>\n",
       "      <td>Robin</td>\n",
       "      <td>200</td>\n",
       "    </tr>\n",
       "    <tr>\n",
       "      <th>2</th>\n",
       "      <td>Spiderman</td>\n",
       "      <td>300</td>\n",
       "    </tr>\n",
       "    <tr>\n",
       "      <th>3</th>\n",
       "      <td>Robocop</td>\n",
       "      <td>400</td>\n",
       "    </tr>\n",
       "    <tr>\n",
       "      <th>4</th>\n",
       "      <td>Terminator</td>\n",
       "      <td>500</td>\n",
       "    </tr>\n",
       "  </tbody>\n",
       "</table>\n",
       "</div>"
      ],
      "text/plain": [
       "         hero  strength\n",
       "0      Batman       400\n",
       "1       Robin       200\n",
       "2   Spiderman       300\n",
       "3     Robocop       400\n",
       "4  Terminator       500"
      ]
     },
     "execution_count": 8,
     "metadata": {},
     "output_type": "execute_result"
    }
   ],
   "source": [
    "heroes = pd.DataFrame({\n",
    "    'hero': names,\n",
    "    'strength': strengths\n",
    "})\n",
    "heroes"
   ]
  },
  {
   "cell_type": "code",
   "execution_count": 9,
   "metadata": {
    "collapsed": false
   },
   "outputs": [
    {
     "data": {
      "text/html": [
       "<div>\n",
       "<table border=\"1\" class=\"dataframe\">\n",
       "  <thead>\n",
       "    <tr style=\"text-align: right;\">\n",
       "      <th></th>\n",
       "      <th>hero</th>\n",
       "      <th>strength</th>\n",
       "    </tr>\n",
       "  </thead>\n",
       "  <tbody>\n",
       "    <tr>\n",
       "      <th>0</th>\n",
       "      <td>Hercules</td>\n",
       "      <td>800.0</td>\n",
       "    </tr>\n",
       "    <tr>\n",
       "      <th>1</th>\n",
       "      <td>Konan</td>\n",
       "      <td>NaN</td>\n",
       "    </tr>\n",
       "  </tbody>\n",
       "</table>\n",
       "</div>"
      ],
      "text/plain": [
       "       hero  strength\n",
       "0  Hercules     800.0\n",
       "1     Konan       NaN"
      ]
     },
     "execution_count": 9,
     "metadata": {},
     "output_type": "execute_result"
    }
   ],
   "source": [
    "other_heroes = pd.DataFrame([\n",
    "    dict(hero=\"Hercules\", strength=800),\n",
    "    dict(hero=\"Konan\")\n",
    "])\n",
    "other_heroes"
   ]
  },
  {
   "cell_type": "code",
   "execution_count": 30,
   "metadata": {
    "collapsed": false
   },
   "outputs": [
    {
     "data": {
      "text/html": [
       "<div>\n",
       "<table border=\"1\" class=\"dataframe\">\n",
       "  <thead>\n",
       "    <tr style=\"text-align: right;\">\n",
       "      <th></th>\n",
       "      <th>hero</th>\n",
       "      <th>strength</th>\n",
       "    </tr>\n",
       "  </thead>\n",
       "  <tbody>\n",
       "    <tr>\n",
       "      <th>0</th>\n",
       "      <td>Bolek</td>\n",
       "      <td>10</td>\n",
       "    </tr>\n",
       "    <tr>\n",
       "      <th>1</th>\n",
       "      <td>Lolek</td>\n",
       "      <td>20</td>\n",
       "    </tr>\n",
       "  </tbody>\n",
       "</table>\n",
       "</div>"
      ],
      "text/plain": [
       "    hero  strength\n",
       "0  Bolek        10\n",
       "1  Lolek        20"
      ]
     },
     "execution_count": 30,
     "metadata": {},
     "output_type": "execute_result"
    }
   ],
   "source": [
    "another_heroes = pd.DataFrame([\n",
    "    pd.Series([\"Bolek\", 10], index=[\"hero\", \"strength\"]),\n",
    "    pd.Series([\"Lolek\", 20], index=[\"hero\", \"strength\"])\n",
    "])\n",
    "another_heroes"
   ]
  },
  {
   "cell_type": "markdown",
   "metadata": {},
   "source": [
    "### EXERCISE\n",
    "\n",
    "Create such DataFrame in 3 different ways\n",
    "\n",
    "```\n",
    "                                         movie_title  imdb_score\n",
    "0                                            Avatar          7.9\n",
    "1          Pirates of the Caribbean: At World's End          7.1\n",
    "2                                           Spectre          6.8\n",
    "```\n",
    "\n",
    "Help: http://pandas.pydata.org/pandas-docs/stable/dsintro.html#from-dict-of-series-or-dicts\n",
    "\n",
    "TODO: Download all external files and zip them"
   ]
  },
  {
   "cell_type": "code",
   "execution_count": null,
   "metadata": {
    "collapsed": true
   },
   "outputs": [],
   "source": [
    "# TODO solution with dict of series"
   ]
  },
  {
   "cell_type": "code",
   "execution_count": null,
   "metadata": {
    "collapsed": true
   },
   "outputs": [],
   "source": [
    "# TODO solution with list of series"
   ]
  },
  {
   "cell_type": "code",
   "execution_count": 10,
   "metadata": {
    "collapsed": true
   },
   "outputs": [],
   "source": [
    "# TODO solution with dict"
   ]
  },
  {
   "cell_type": "markdown",
   "metadata": {},
   "source": [
    "## Reading files"
   ]
  },
  {
   "cell_type": "code",
   "execution_count": 32,
   "metadata": {
    "collapsed": false
   },
   "outputs": [],
   "source": [
    "# Uncomment and press tab..\n",
    "# pd.read_\n",
    "# SQL, csv, hdfs"
   ]
  },
  {
   "cell_type": "code",
   "execution_count": 33,
   "metadata": {
    "collapsed": true
   },
   "outputs": [],
   "source": [
    "pd.read_csv?"
   ]
  },
  {
   "cell_type": "code",
   "execution_count": 43,
   "metadata": {
    "collapsed": false
   },
   "outputs": [
    {
     "name": "stdout",
     "output_type": "stream",
     "text": [
      "{\r\n",
      "    \"daily_views\": {\r\n",
      "        \"1420070400000\": 2,\r\n",
      "        \"1420156800000\": 10,\r\n",
      "        \"1420243200000\": 4,\r\n",
      "        \"1420329600000\": 10,\r\n",
      "        \"1420416000000\": 3,\r\n",
      "        \"1420502400000\": 10,\r\n",
      "        \"1420588800000\": 5,\r\n",
      "        \"1420675200000\": 11,\r\n",
      "        \"1420761600000\": 3,\r\n",
      "        \"1420848000000\": 5,\r\n",
      "        \"1420934400000\": 1,\r\n",
      "        \"1421020800000\": 4,\r\n",
      "        \"1421107200000\": 20,\r\n",
      "        \"1421193600000\": 3,\r\n",
      "        \"1421280000000\": 7,\r\n",
      "        \"1421366400000\": 4,\r\n",
      "        \"1421452800000\": 5,\r\n",
      "        \"1421539200000\": 4,\r\n",
      "        \"1421625600000\": 6,\r\n",
      "        \"1421712000000\": 1,\r\n",
      "        \"1421798400000\": 5,\r\n",
      "        \"1421884800000\": 3,\r\n",
      "        \"1421971200000\": 9,\r\n",
      "        \"1422057600000\": 11,\r\n",
      "        \"1422144000000\": 6,\r\n",
      "        \"1422230400000\": 8,\r\n",
      "        \"1422316800000\": 5,\r\n",
      "        \"1422403200000\": 6,\r\n",
      "        \"1422489600000\": 8,\r\n",
      "        \"1422576000000\": 2,\r\n",
      "        \"1422662400000\": 6\r\n",
      "    },\r\n",
      "    \"month\": {\r\n",
      "        \"1420070400000\": 201501,\r\n",
      "        \"1420156800000\": 201501,\r\n",
      "        \"1420243200000\": 201501,\r\n",
      "        \"1420329600000\": 201501,\r\n",
      "        \"1420416000000\": 201501,\r\n",
      "        \"1420502400000\": 201501,\r\n",
      "        \"1420588800000\": 201501,\r\n",
      "        \"1420675200000\": 201501,\r\n",
      "        \"1420761600000\": 201501,\r\n",
      "        \"1420848000000\": 201501,\r\n",
      "        \"1420934400000\": 201501,\r\n",
      "        \"1421020800000\": 201501,\r\n",
      "        \"1421107200000\": 201501,\r\n",
      "        \"1421193600000\": 201501,\r\n",
      "        \"1421280000000\": 201501,\r\n"
     ]
    }
   ],
   "source": [
    "# TODO change this dataset..\n",
    "!head -n 50 data/cached_wiki_Pazdan.json"
   ]
  },
  {
   "cell_type": "code",
   "execution_count": 45,
   "metadata": {
    "collapsed": false
   },
   "outputs": [
    {
     "data": {
      "text/html": [
       "<div>\n",
       "<table border=\"1\" class=\"dataframe\">\n",
       "  <thead>\n",
       "    <tr style=\"text-align: right;\">\n",
       "      <th></th>\n",
       "      <th>daily_views</th>\n",
       "      <th>month</th>\n",
       "      <th>project</th>\n",
       "      <th>rank</th>\n",
       "      <th>title</th>\n",
       "    </tr>\n",
       "  </thead>\n",
       "  <tbody>\n",
       "    <tr>\n",
       "      <th>2015-01-01</th>\n",
       "      <td>2</td>\n",
       "      <td>201501</td>\n",
       "      <td>en</td>\n",
       "      <td>-1</td>\n",
       "      <td>Michał_Pazdan</td>\n",
       "    </tr>\n",
       "    <tr>\n",
       "      <th>2015-01-02</th>\n",
       "      <td>10</td>\n",
       "      <td>201501</td>\n",
       "      <td>en</td>\n",
       "      <td>-1</td>\n",
       "      <td>Michał_Pazdan</td>\n",
       "    </tr>\n",
       "    <tr>\n",
       "      <th>2015-01-03</th>\n",
       "      <td>4</td>\n",
       "      <td>201501</td>\n",
       "      <td>en</td>\n",
       "      <td>-1</td>\n",
       "      <td>Michał_Pazdan</td>\n",
       "    </tr>\n",
       "    <tr>\n",
       "      <th>2015-01-04</th>\n",
       "      <td>10</td>\n",
       "      <td>201501</td>\n",
       "      <td>en</td>\n",
       "      <td>-1</td>\n",
       "      <td>Michał_Pazdan</td>\n",
       "    </tr>\n",
       "    <tr>\n",
       "      <th>2015-01-05</th>\n",
       "      <td>3</td>\n",
       "      <td>201501</td>\n",
       "      <td>en</td>\n",
       "      <td>-1</td>\n",
       "      <td>Michał_Pazdan</td>\n",
       "    </tr>\n",
       "  </tbody>\n",
       "</table>\n",
       "</div>"
      ],
      "text/plain": [
       "            daily_views   month project  rank          title\n",
       "2015-01-01            2  201501      en    -1  Michał_Pazdan\n",
       "2015-01-02           10  201501      en    -1  Michał_Pazdan\n",
       "2015-01-03            4  201501      en    -1  Michał_Pazdan\n",
       "2015-01-04           10  201501      en    -1  Michał_Pazdan\n",
       "2015-01-05            3  201501      en    -1  Michał_Pazdan"
      ]
     },
     "execution_count": 45,
     "metadata": {},
     "output_type": "execute_result"
    }
   ],
   "source": [
    "pd.read_json('data/cached_wiki_Pazdan.json').head()"
   ]
  },
  {
   "cell_type": "markdown",
   "metadata": {},
   "source": [
    "### EXERCISE\n",
    "\n",
    "Load movies from data/movie_metadata.csv and\n",
    "analyze what dimensions and columns it has.."
   ]
  },
  {
   "cell_type": "code",
   "execution_count": 50,
   "metadata": {
    "collapsed": false
   },
   "outputs": [
    {
     "data": {
      "text/html": [
       "<div>\n",
       "<table border=\"1\" class=\"dataframe\">\n",
       "  <thead>\n",
       "    <tr style=\"text-align: right;\">\n",
       "      <th></th>\n",
       "      <th>color</th>\n",
       "      <th>director_name</th>\n",
       "      <th>num_critic_for_reviews</th>\n",
       "      <th>duration</th>\n",
       "      <th>director_facebook_likes</th>\n",
       "      <th>actor_3_facebook_likes</th>\n",
       "      <th>actor_2_name</th>\n",
       "      <th>actor_1_facebook_likes</th>\n",
       "      <th>gross</th>\n",
       "      <th>genres</th>\n",
       "      <th>...</th>\n",
       "      <th>num_user_for_reviews</th>\n",
       "      <th>language</th>\n",
       "      <th>country</th>\n",
       "      <th>content_rating</th>\n",
       "      <th>budget</th>\n",
       "      <th>title_year</th>\n",
       "      <th>actor_2_facebook_likes</th>\n",
       "      <th>imdb_score</th>\n",
       "      <th>aspect_ratio</th>\n",
       "      <th>movie_facebook_likes</th>\n",
       "    </tr>\n",
       "  </thead>\n",
       "  <tbody>\n",
       "    <tr>\n",
       "      <th>0</th>\n",
       "      <td>Color</td>\n",
       "      <td>James Cameron</td>\n",
       "      <td>723.0</td>\n",
       "      <td>178.0</td>\n",
       "      <td>0.0</td>\n",
       "      <td>855.0</td>\n",
       "      <td>Joel David Moore</td>\n",
       "      <td>1000.0</td>\n",
       "      <td>760505847.0</td>\n",
       "      <td>Action|Adventure|Fantasy|Sci-Fi</td>\n",
       "      <td>...</td>\n",
       "      <td>3054.0</td>\n",
       "      <td>English</td>\n",
       "      <td>USA</td>\n",
       "      <td>PG-13</td>\n",
       "      <td>237000000.0</td>\n",
       "      <td>2009.0</td>\n",
       "      <td>936.0</td>\n",
       "      <td>7.9</td>\n",
       "      <td>1.78</td>\n",
       "      <td>33000</td>\n",
       "    </tr>\n",
       "    <tr>\n",
       "      <th>1</th>\n",
       "      <td>Color</td>\n",
       "      <td>Gore Verbinski</td>\n",
       "      <td>302.0</td>\n",
       "      <td>169.0</td>\n",
       "      <td>563.0</td>\n",
       "      <td>1000.0</td>\n",
       "      <td>Orlando Bloom</td>\n",
       "      <td>40000.0</td>\n",
       "      <td>309404152.0</td>\n",
       "      <td>Action|Adventure|Fantasy</td>\n",
       "      <td>...</td>\n",
       "      <td>1238.0</td>\n",
       "      <td>English</td>\n",
       "      <td>USA</td>\n",
       "      <td>PG-13</td>\n",
       "      <td>300000000.0</td>\n",
       "      <td>2007.0</td>\n",
       "      <td>5000.0</td>\n",
       "      <td>7.1</td>\n",
       "      <td>2.35</td>\n",
       "      <td>0</td>\n",
       "    </tr>\n",
       "    <tr>\n",
       "      <th>2</th>\n",
       "      <td>Color</td>\n",
       "      <td>Sam Mendes</td>\n",
       "      <td>602.0</td>\n",
       "      <td>148.0</td>\n",
       "      <td>0.0</td>\n",
       "      <td>161.0</td>\n",
       "      <td>Rory Kinnear</td>\n",
       "      <td>11000.0</td>\n",
       "      <td>200074175.0</td>\n",
       "      <td>Action|Adventure|Thriller</td>\n",
       "      <td>...</td>\n",
       "      <td>994.0</td>\n",
       "      <td>English</td>\n",
       "      <td>UK</td>\n",
       "      <td>PG-13</td>\n",
       "      <td>245000000.0</td>\n",
       "      <td>2015.0</td>\n",
       "      <td>393.0</td>\n",
       "      <td>6.8</td>\n",
       "      <td>2.35</td>\n",
       "      <td>85000</td>\n",
       "    </tr>\n",
       "    <tr>\n",
       "      <th>3</th>\n",
       "      <td>Color</td>\n",
       "      <td>Christopher Nolan</td>\n",
       "      <td>813.0</td>\n",
       "      <td>164.0</td>\n",
       "      <td>22000.0</td>\n",
       "      <td>23000.0</td>\n",
       "      <td>Christian Bale</td>\n",
       "      <td>27000.0</td>\n",
       "      <td>448130642.0</td>\n",
       "      <td>Action|Thriller</td>\n",
       "      <td>...</td>\n",
       "      <td>2701.0</td>\n",
       "      <td>English</td>\n",
       "      <td>USA</td>\n",
       "      <td>PG-13</td>\n",
       "      <td>250000000.0</td>\n",
       "      <td>2012.0</td>\n",
       "      <td>23000.0</td>\n",
       "      <td>8.5</td>\n",
       "      <td>2.35</td>\n",
       "      <td>164000</td>\n",
       "    </tr>\n",
       "    <tr>\n",
       "      <th>4</th>\n",
       "      <td>NaN</td>\n",
       "      <td>Doug Walker</td>\n",
       "      <td>NaN</td>\n",
       "      <td>NaN</td>\n",
       "      <td>131.0</td>\n",
       "      <td>NaN</td>\n",
       "      <td>Rob Walker</td>\n",
       "      <td>131.0</td>\n",
       "      <td>NaN</td>\n",
       "      <td>Documentary</td>\n",
       "      <td>...</td>\n",
       "      <td>NaN</td>\n",
       "      <td>NaN</td>\n",
       "      <td>NaN</td>\n",
       "      <td>NaN</td>\n",
       "      <td>NaN</td>\n",
       "      <td>NaN</td>\n",
       "      <td>12.0</td>\n",
       "      <td>7.1</td>\n",
       "      <td>NaN</td>\n",
       "      <td>0</td>\n",
       "    </tr>\n",
       "  </tbody>\n",
       "</table>\n",
       "<p>5 rows × 28 columns</p>\n",
       "</div>"
      ],
      "text/plain": [
       "   color      director_name  num_critic_for_reviews  duration  \\\n",
       "0  Color      James Cameron                   723.0     178.0   \n",
       "1  Color     Gore Verbinski                   302.0     169.0   \n",
       "2  Color         Sam Mendes                   602.0     148.0   \n",
       "3  Color  Christopher Nolan                   813.0     164.0   \n",
       "4    NaN        Doug Walker                     NaN       NaN   \n",
       "\n",
       "   director_facebook_likes  actor_3_facebook_likes      actor_2_name  \\\n",
       "0                      0.0                   855.0  Joel David Moore   \n",
       "1                    563.0                  1000.0     Orlando Bloom   \n",
       "2                      0.0                   161.0      Rory Kinnear   \n",
       "3                  22000.0                 23000.0    Christian Bale   \n",
       "4                    131.0                     NaN        Rob Walker   \n",
       "\n",
       "   actor_1_facebook_likes        gross                           genres  \\\n",
       "0                  1000.0  760505847.0  Action|Adventure|Fantasy|Sci-Fi   \n",
       "1                 40000.0  309404152.0         Action|Adventure|Fantasy   \n",
       "2                 11000.0  200074175.0        Action|Adventure|Thriller   \n",
       "3                 27000.0  448130642.0                  Action|Thriller   \n",
       "4                   131.0          NaN                      Documentary   \n",
       "\n",
       "          ...          num_user_for_reviews language  country  content_rating  \\\n",
       "0         ...                        3054.0  English      USA           PG-13   \n",
       "1         ...                        1238.0  English      USA           PG-13   \n",
       "2         ...                         994.0  English       UK           PG-13   \n",
       "3         ...                        2701.0  English      USA           PG-13   \n",
       "4         ...                           NaN      NaN      NaN             NaN   \n",
       "\n",
       "        budget  title_year actor_2_facebook_likes imdb_score  aspect_ratio  \\\n",
       "0  237000000.0      2009.0                  936.0        7.9          1.78   \n",
       "1  300000000.0      2007.0                 5000.0        7.1          2.35   \n",
       "2  245000000.0      2015.0                  393.0        6.8          2.35   \n",
       "3  250000000.0      2012.0                23000.0        8.5          2.35   \n",
       "4          NaN         NaN                   12.0        7.1           NaN   \n",
       "\n",
       "  movie_facebook_likes  \n",
       "0                33000  \n",
       "1                    0  \n",
       "2                85000  \n",
       "3               164000  \n",
       "4                    0  \n",
       "\n",
       "[5 rows x 28 columns]"
      ]
     },
     "execution_count": 50,
     "metadata": {},
     "output_type": "execute_result"
    }
   ],
   "source": [
    "#E: movies = \n",
    "\n",
    "movies = pd.read_csv('data/movie_metadata.csv')\n",
    "movies.head()"
   ]
  },
  {
   "cell_type": "code",
   "execution_count": 51,
   "metadata": {
    "collapsed": true
   },
   "outputs": [],
   "source": [
    "assert movies.shape == (5043, 28)"
   ]
  },
  {
   "cell_type": "code",
   "execution_count": 52,
   "metadata": {
    "collapsed": false
   },
   "outputs": [
    {
     "data": {
      "text/plain": [
       "Index([u'color', u'director_name', u'num_critic_for_reviews', u'duration',\n",
       "       u'director_facebook_likes', u'actor_3_facebook_likes', u'actor_2_name',\n",
       "       u'actor_1_facebook_likes', u'gross', u'genres', u'actor_1_name',\n",
       "       u'movie_title', u'num_voted_users', u'cast_total_facebook_likes',\n",
       "       u'actor_3_name', u'facenumber_in_poster', u'plot_keywords',\n",
       "       u'movie_imdb_link', u'num_user_for_reviews', u'language', u'country',\n",
       "       u'content_rating', u'budget', u'title_year', u'actor_2_facebook_likes',\n",
       "       u'imdb_score', u'aspect_ratio', u'movie_facebook_likes'],\n",
       "      dtype='object')"
      ]
     },
     "execution_count": 52,
     "metadata": {},
     "output_type": "execute_result"
    }
   ],
   "source": [
    "movies.columns"
   ]
  },
  {
   "cell_type": "markdown",
   "metadata": {},
   "source": [
    "## Filtering"
   ]
  },
  {
   "cell_type": "markdown",
   "metadata": {},
   "source": [
    "### TODO Skills to include\n",
    "\n",
    "- [X] know Series - create Series with ... (maybe something related to the workshop audience)\n",
    "- [X] know DataFrame - create DataFrame in 2 different ways ...\n",
    "- [X] read files - read file X (maybe csv)\n",
    "- [ ] filtering of data\tfilter file in memory with 3 conditions\n",
    "- [ ] saving data - convert data to list of dicts\n",
    "- [ ] save data as csv\n",
    "- [ ] maybe save with to_sql with sqllite\"\n",
    "- [ ] calculating new columns, transforming data using map/apply/applymap\tcreate new columns X, Y, Z\n",
    "- [ ] groupby, aggregation functions, pipeline API\tgroup by X,Y and aggregate by median/last\n",
    "- [ ] understanding indexes\t\n",
    "- [ ] datetime operations\tstock market / euro state / beer consumption data ?\n",
    "- [ ] creating simple algorithms using pandas\talerts ? hypes ? stock market KPIs ?\n",
    "- [ ] delivering working product - wrapping up pandas inside Flask\n",
    "- [ ] data visulatisation - ploting stuff"
   ]
  },
  {
   "cell_type": "code",
   "execution_count": null,
   "metadata": {
    "collapsed": true
   },
   "outputs": [],
   "source": []
  }
 ],
 "metadata": {
  "kernelspec": {
   "display_name": "Python 2",
   "language": "python",
   "name": "python2"
  },
  "language_info": {
   "codemirror_mode": {
    "name": "ipython",
    "version": 2
   },
   "file_extension": ".py",
   "mimetype": "text/x-python",
   "name": "python",
   "nbconvert_exporter": "python",
   "pygments_lexer": "ipython2",
   "version": "2.7.10"
  }
 },
 "nbformat": 4,
 "nbformat_minor": 1
}
