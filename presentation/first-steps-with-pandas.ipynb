{
 "cells": [
  {
   "cell_type": "code",
   "execution_count": 1,
   "metadata": {
    "collapsed": false,
    "slideshow": {
     "slide_type": "-"
    }
   },
   "outputs": [
    {
     "data": {
      "text/plain": [
       "(sys.version_info(major=2, minor=7, micro=10, releaselevel='final', serial=0),\n",
       " u'0.18.1')"
      ]
     },
     "execution_count": 1,
     "metadata": {},
     "output_type": "execute_result"
    }
   ],
   "source": [
    "## Prepared by: Jacek Rzeszutek (rzeszutekjacek at gmail.com)\n",
    "\n",
    "# Feel free to ask any questions during the presentation :)\n",
    "\n",
    "import pandas as pd\n",
    "import sys\n",
    "\n",
    "sys.version_info, pd.__version__"
   ]
  },
  {
   "cell_type": "markdown",
   "metadata": {},
   "source": [
    "## What is pandas?\n",
    "\n",
    "> pandas is an open source, BSD-licensed library providing high-performance, easy-to-use data structures and data analysis tools for the Python programming language."
   ]
  },
  {
   "cell_type": "markdown",
   "metadata": {
    "collapsed": true
   },
   "source": [
    "## Why to use it?"
   ]
  },
  {
   "cell_type": "markdown",
   "metadata": {},
   "source": [
    "### Data science is becoming more and more popular.\n",
    "\n",
    "![caption](files/data_science_jobs.png)"
   ]
  },
  {
   "cell_type": "markdown",
   "metadata": {},
   "source": [
    "### We need to be able to develop quickly and cheaply."
   ]
  },
  {
   "cell_type": "code",
   "execution_count": 2,
   "metadata": {
    "collapsed": false
   },
   "outputs": [
    {
     "data": {
      "text/html": [
       "<div>\n",
       "<table border=\"1\" class=\"dataframe\">\n",
       "  <thead>\n",
       "    <tr style=\"text-align: right;\">\n",
       "      <th></th>\n",
       "      <th>daily_views</th>\n",
       "      <th>month</th>\n",
       "      <th>rank</th>\n",
       "    </tr>\n",
       "  </thead>\n",
       "  <tbody>\n",
       "    <tr>\n",
       "      <th>2015-01-04</th>\n",
       "      <td>6.500000</td>\n",
       "      <td>201501.0</td>\n",
       "      <td>-1.0</td>\n",
       "    </tr>\n",
       "    <tr>\n",
       "      <th>2015-01-11</th>\n",
       "      <td>5.428571</td>\n",
       "      <td>201501.0</td>\n",
       "      <td>-1.0</td>\n",
       "    </tr>\n",
       "    <tr>\n",
       "      <th>2015-01-18</th>\n",
       "      <td>6.714286</td>\n",
       "      <td>201501.0</td>\n",
       "      <td>-1.0</td>\n",
       "    </tr>\n",
       "    <tr>\n",
       "      <th>2015-01-25</th>\n",
       "      <td>5.857143</td>\n",
       "      <td>201501.0</td>\n",
       "      <td>-1.0</td>\n",
       "    </tr>\n",
       "    <tr>\n",
       "      <th>2015-02-01</th>\n",
       "      <td>5.833333</td>\n",
       "      <td>201501.0</td>\n",
       "      <td>-1.0</td>\n",
       "    </tr>\n",
       "  </tbody>\n",
       "</table>\n",
       "</div>"
      ],
      "text/plain": [
       "            daily_views     month  rank\n",
       "2015-01-04     6.500000  201501.0  -1.0\n",
       "2015-01-11     5.428571  201501.0  -1.0\n",
       "2015-01-18     6.714286  201501.0  -1.0\n",
       "2015-01-25     5.857143  201501.0  -1.0\n",
       "2015-02-01     5.833333  201501.0  -1.0"
      ]
     },
     "execution_count": 2,
     "metadata": {},
     "output_type": "execute_result"
    }
   ],
   "source": [
    "# Weekly mean views of Michal Pazdan on Wikipedia in Jan '15\n",
    "\n",
    "# .. if no network\n",
    "# \n",
    "\n",
    "# pd.read_json('http://stats.grok.se/json/en/201501/Micha%C5%82_Pazdan') \\\n",
    "pd.read_json('data/cached_wiki_Pazdan.json') \\\n",
    "    .resample('1W') \\\n",
    "    .mean()"
   ]
  },
  {
   "cell_type": "markdown",
   "metadata": {},
   "source": [
    "### We need to write fast code."
   ]
  },
  {
   "cell_type": "code",
   "execution_count": 3,
   "metadata": {
    "collapsed": true
   },
   "outputs": [],
   "source": [
    "some_data = list(range(1, 1000000))\n",
    "some_series = pd.Series(some_data)\n",
    "\n",
    "def standard_way(data):\n",
    "    data = [x for x in data if x % 3 == 0]\n",
    "    return sum(data)\n",
    "\n",
    "\n",
    "def pandas_way(series):\n",
    "    return series[(series % 3) == 0].sum()"
   ]
  },
  {
   "cell_type": "code",
   "execution_count": 4,
   "metadata": {
    "collapsed": false
   },
   "outputs": [
    {
     "name": "stdout",
     "output_type": "stream",
     "text": [
      "10 loops, best of 3: 143 ms per loop\n"
     ]
    }
   ],
   "source": [
    "%timeit standard_way(some_data)"
   ]
  },
  {
   "cell_type": "code",
   "execution_count": 5,
   "metadata": {
    "collapsed": false
   },
   "outputs": [
    {
     "name": "stdout",
     "output_type": "stream",
     "text": [
      "10 loops, best of 3: 42 ms per loop\n"
     ]
    }
   ],
   "source": [
    "%timeit pandas_way(some_series)"
   ]
  },
  {
   "cell_type": "markdown",
   "metadata": {},
   "source": [
    "### We need to write readable code.\n",
    "\n",
    "...see the example for mean weekly Wikipedia data"
   ]
  },
  {
   "cell_type": "markdown",
   "metadata": {},
   "source": [
    "### It is hard write everything from scratch.. and it's easy to make mistakes.\n",
    "\n",
    "http://pandas.pydata.org/pandas-docs/stable/api.html"
   ]
  },
  {
   "cell_type": "markdown",
   "metadata": {},
   "source": [
    "### It has a very cool name.\n",
    "\n",
    "![caption](files/pandas.jpg)"
   ]
  },
  {
   "cell_type": "markdown",
   "metadata": {},
   "source": [
    "# Data structures\n",
    "\n",
    "http://pandas.pydata.org/pandas-docs/stable/dsintro.html"
   ]
  },
  {
   "cell_type": "markdown",
   "metadata": {},
   "source": [
    "### Series\n",
    "\n",
    "> Series is a one-dimensional labeled array capable of holding any data type (integers, strings, floating point numbers, Python objects, etc.)."
   ]
  },
  {
   "cell_type": "code",
   "execution_count": 115,
   "metadata": {
    "collapsed": false
   },
   "outputs": [
    {
     "data": {
      "text/plain": [
       "0    400\n",
       "1    200\n",
       "2    300\n",
       "3    400\n",
       "4    500\n",
       "dtype: int64"
      ]
     },
     "execution_count": 115,
     "metadata": {},
     "output_type": "execute_result"
    }
   ],
   "source": [
    "strengths = pd.Series([400, 200, 300, 400, 500])\n",
    "strengths"
   ]
  },
  {
   "cell_type": "code",
   "execution_count": 7,
   "metadata": {
    "collapsed": false
   },
   "outputs": [
    {
     "data": {
      "text/plain": [
       "0        Batman\n",
       "1         Robin\n",
       "2     Spiderman\n",
       "3       Robocop\n",
       "4    Terminator\n",
       "dtype: object"
      ]
     },
     "execution_count": 7,
     "metadata": {},
     "output_type": "execute_result"
    }
   ],
   "source": [
    "names = pd.Series([\"Batman\", \"Robin\", \"Spiderman\", \"Robocop\", \"Terminator\"])\n",
    "names"
   ]
  },
  {
   "cell_type": "markdown",
   "metadata": {},
   "source": [
    "### DataFrame\n",
    "\n",
    "> DataFrame is a 2-dimensional labeled data structure with columns of potentially different types. You can think of it like a spreadsheet or SQL table, or a dict of Series objects."
   ]
  },
  {
   "cell_type": "code",
   "execution_count": 8,
   "metadata": {
    "collapsed": false
   },
   "outputs": [
    {
     "data": {
      "text/html": [
       "<div>\n",
       "<table border=\"1\" class=\"dataframe\">\n",
       "  <thead>\n",
       "    <tr style=\"text-align: right;\">\n",
       "      <th></th>\n",
       "      <th>hero</th>\n",
       "      <th>strength</th>\n",
       "    </tr>\n",
       "  </thead>\n",
       "  <tbody>\n",
       "    <tr>\n",
       "      <th>0</th>\n",
       "      <td>Batman</td>\n",
       "      <td>400</td>\n",
       "    </tr>\n",
       "    <tr>\n",
       "      <th>1</th>\n",
       "      <td>Robin</td>\n",
       "      <td>200</td>\n",
       "    </tr>\n",
       "    <tr>\n",
       "      <th>2</th>\n",
       "      <td>Spiderman</td>\n",
       "      <td>300</td>\n",
       "    </tr>\n",
       "    <tr>\n",
       "      <th>3</th>\n",
       "      <td>Robocop</td>\n",
       "      <td>400</td>\n",
       "    </tr>\n",
       "    <tr>\n",
       "      <th>4</th>\n",
       "      <td>Terminator</td>\n",
       "      <td>500</td>\n",
       "    </tr>\n",
       "  </tbody>\n",
       "</table>\n",
       "</div>"
      ],
      "text/plain": [
       "         hero  strength\n",
       "0      Batman       400\n",
       "1       Robin       200\n",
       "2   Spiderman       300\n",
       "3     Robocop       400\n",
       "4  Terminator       500"
      ]
     },
     "execution_count": 8,
     "metadata": {},
     "output_type": "execute_result"
    }
   ],
   "source": [
    "heroes = pd.DataFrame({\n",
    "        'hero': names,\n",
    "        'strength': strengths\n",
    "})\n",
    "heroes"
   ]
  },
  {
   "cell_type": "code",
   "execution_count": 9,
   "metadata": {
    "collapsed": false
   },
   "outputs": [
    {
     "data": {
      "text/plain": [
       "(5, 2)"
      ]
     },
     "execution_count": 9,
     "metadata": {},
     "output_type": "execute_result"
    }
   ],
   "source": [
    "heroes.shape"
   ]
  },
  {
   "cell_type": "code",
   "execution_count": 10,
   "metadata": {
    "collapsed": false
   },
   "outputs": [
    {
     "data": {
      "text/html": [
       "<div>\n",
       "<table border=\"1\" class=\"dataframe\">\n",
       "  <thead>\n",
       "    <tr style=\"text-align: right;\">\n",
       "      <th></th>\n",
       "      <th>hero</th>\n",
       "      <th>strength</th>\n",
       "    </tr>\n",
       "  </thead>\n",
       "  <tbody>\n",
       "    <tr>\n",
       "      <th>0</th>\n",
       "      <td>Hercules</td>\n",
       "      <td>800.0</td>\n",
       "    </tr>\n",
       "    <tr>\n",
       "      <th>1</th>\n",
       "      <td>Konan</td>\n",
       "      <td>NaN</td>\n",
       "    </tr>\n",
       "  </tbody>\n",
       "</table>\n",
       "</div>"
      ],
      "text/plain": [
       "       hero  strength\n",
       "0  Hercules     800.0\n",
       "1     Konan       NaN"
      ]
     },
     "execution_count": 10,
     "metadata": {},
     "output_type": "execute_result"
    }
   ],
   "source": [
    "other_heroes = pd.DataFrame([\n",
    "    dict(hero=\"Hercules\", strength=800),\n",
    "    dict(hero=\"Konan\")\n",
    "])\n",
    "other_heroes"
   ]
  },
  {
   "cell_type": "markdown",
   "metadata": {
    "collapsed": true
   },
   "source": [
    "### Index\n",
    "\n",
    "> The axis labels are collectively referred to as the index.\n",
    "\n",
    "There are various types of indexes.. range, datetime, categorical and more..\n",
    "\n",
    "http://pandas.pydata.org/pandas-docs/stable/advanced.html#index-types"
   ]
  },
  {
   "cell_type": "code",
   "execution_count": 11,
   "metadata": {
    "collapsed": false
   },
   "outputs": [
    {
     "data": {
      "text/plain": [
       "RangeIndex(start=0, stop=5, step=1)"
      ]
     },
     "execution_count": 11,
     "metadata": {},
     "output_type": "execute_result"
    }
   ],
   "source": [
    "heroes.index"
   ]
  },
  {
   "cell_type": "markdown",
   "metadata": {},
   "source": [
    "# I/O"
   ]
  },
  {
   "cell_type": "markdown",
   "metadata": {},
   "source": [
    "### read_*"
   ]
  },
  {
   "cell_type": "code",
   "execution_count": 14,
   "metadata": {
    "collapsed": true
   },
   "outputs": [],
   "source": [
    "# What types are supported\n",
    "pd.read_json??"
   ]
  },
  {
   "cell_type": "code",
   "execution_count": 15,
   "metadata": {
    "collapsed": false
   },
   "outputs": [
    {
     "data": {
      "text/plain": [
       "210"
      ]
     },
     "execution_count": 15,
     "metadata": {},
     "output_type": "execute_result"
    }
   ],
   "source": [
    "pd.read_json('data/tiny.json')['height'].max()"
   ]
  },
  {
   "cell_type": "code",
   "execution_count": 16,
   "metadata": {
    "collapsed": false
   },
   "outputs": [
    {
     "data": {
      "text/html": [
       "<div>\n",
       "<table border=\"1\" class=\"dataframe\">\n",
       "  <thead>\n",
       "    <tr style=\"text-align: right;\">\n",
       "      <th></th>\n",
       "      <th>height</th>\n",
       "      <th>name</th>\n",
       "    </tr>\n",
       "  </thead>\n",
       "  <tbody>\n",
       "    <tr>\n",
       "      <th>0</th>\n",
       "      <td>174</td>\n",
       "      <td>Jacek</td>\n",
       "    </tr>\n",
       "    <tr>\n",
       "      <th>1</th>\n",
       "      <td>181</td>\n",
       "      <td>Tomek</td>\n",
       "    </tr>\n",
       "    <tr>\n",
       "      <th>2</th>\n",
       "      <td>210</td>\n",
       "      <td>Romek</td>\n",
       "    </tr>\n",
       "  </tbody>\n",
       "</table>\n",
       "</div>"
      ],
      "text/plain": [
       "   height   name\n",
       "0     174  Jacek\n",
       "1     181  Tomek\n",
       "2     210  Romek"
      ]
     },
     "execution_count": 16,
     "metadata": {},
     "output_type": "execute_result"
    }
   ],
   "source": [
    "pd.read_csv('data/tiny.csv')"
   ]
  },
  {
   "cell_type": "code",
   "execution_count": 17,
   "metadata": {
    "collapsed": false
   },
   "outputs": [
    {
     "data": {
      "text/html": [
       "<div>\n",
       "<table border=\"1\" class=\"dataframe\">\n",
       "  <thead>\n",
       "    <tr style=\"text-align: right;\">\n",
       "      <th></th>\n",
       "      <th>No</th>\n",
       "      <th>Pos</th>\n",
       "      <th>Name</th>\n",
       "      <th>Date of birth (age)</th>\n",
       "      <th>Height</th>\n",
       "      <th>App</th>\n",
       "      <th>Goals</th>\n",
       "      <th>Club</th>\n",
       "    </tr>\n",
       "  </thead>\n",
       "  <tbody>\n",
       "    <tr>\n",
       "      <th>0</th>\n",
       "      <td>1</td>\n",
       "      <td>GK</td>\n",
       "      <td>Sławomir Szmal</td>\n",
       "      <td>2 October 1978 (aged 37)</td>\n",
       "      <td>1.90 m</td>\n",
       "      <td>279</td>\n",
       "      <td>2</td>\n",
       "      <td>Poland Vive Targi Kielce</td>\n",
       "    </tr>\n",
       "    <tr>\n",
       "      <th>1</th>\n",
       "      <td>3</td>\n",
       "      <td>RB</td>\n",
       "      <td>Krzysztof Lijewski</td>\n",
       "      <td>7 July 1983 (aged 33)</td>\n",
       "      <td>1.98 m</td>\n",
       "      <td>173</td>\n",
       "      <td>409</td>\n",
       "      <td>Poland Vive Targi Kielce</td>\n",
       "    </tr>\n",
       "    <tr>\n",
       "      <th>2</th>\n",
       "      <td>5</td>\n",
       "      <td>RW</td>\n",
       "      <td>Mateusz Jachlewski</td>\n",
       "      <td>27 December 1984 (aged 31)</td>\n",
       "      <td>1.84 m</td>\n",
       "      <td>108</td>\n",
       "      <td>236</td>\n",
       "      <td>Poland Vive Targi Kielce</td>\n",
       "    </tr>\n",
       "    <tr>\n",
       "      <th>3</th>\n",
       "      <td>6</td>\n",
       "      <td>LW</td>\n",
       "      <td>Przemysław Krajewski</td>\n",
       "      <td>20 January 1987 (aged 29)</td>\n",
       "      <td>1.84 m</td>\n",
       "      <td>69</td>\n",
       "      <td>132</td>\n",
       "      <td>Poland Azoty-Puławy</td>\n",
       "    </tr>\n",
       "    <tr>\n",
       "      <th>4</th>\n",
       "      <td>8</td>\n",
       "      <td>LB</td>\n",
       "      <td>Karol Bielecki</td>\n",
       "      <td>23 January 1982 (aged 34)</td>\n",
       "      <td>2.02 m</td>\n",
       "      <td>244</td>\n",
       "      <td>891</td>\n",
       "      <td>Poland Vive Targi Kielce</td>\n",
       "    </tr>\n",
       "    <tr>\n",
       "      <th>5</th>\n",
       "      <td>11</td>\n",
       "      <td>LW</td>\n",
       "      <td>Adam Wiśniewski</td>\n",
       "      <td>24 October 1980 (aged 35)</td>\n",
       "      <td>1.92 m</td>\n",
       "      <td>146</td>\n",
       "      <td>189</td>\n",
       "      <td>Poland Wisła Płock</td>\n",
       "    </tr>\n",
       "    <tr>\n",
       "      <th>6</th>\n",
       "      <td>13</td>\n",
       "      <td>P</td>\n",
       "      <td>Bartosz Jurecki</td>\n",
       "      <td>31 January 1979 (aged 37)</td>\n",
       "      <td>1.93 m</td>\n",
       "      <td>227</td>\n",
       "      <td>723</td>\n",
       "      <td>Poland Chrobry Głogów</td>\n",
       "    </tr>\n",
       "    <tr>\n",
       "      <th>7</th>\n",
       "      <td>15</td>\n",
       "      <td>LB</td>\n",
       "      <td>Michał Jurecki</td>\n",
       "      <td>27 October 1984 (aged 31)</td>\n",
       "      <td>2.02 m</td>\n",
       "      <td>189</td>\n",
       "      <td>528</td>\n",
       "      <td>Poland Vive Targi Kielce</td>\n",
       "    </tr>\n",
       "    <tr>\n",
       "      <th>8</th>\n",
       "      <td>16</td>\n",
       "      <td>GK</td>\n",
       "      <td>Piotr Wyszomirski</td>\n",
       "      <td>6 January 1988 (aged 28)</td>\n",
       "      <td>1.93 m</td>\n",
       "      <td>104</td>\n",
       "      <td>0</td>\n",
       "      <td>Germany TBV Lemgo</td>\n",
       "    </tr>\n",
       "    <tr>\n",
       "      <th>9</th>\n",
       "      <td>23</td>\n",
       "      <td>P</td>\n",
       "      <td>Kamil Syprzak</td>\n",
       "      <td>23 July 1991 (aged 25)</td>\n",
       "      <td>2.08 m</td>\n",
       "      <td>87</td>\n",
       "      <td>164</td>\n",
       "      <td>Spain Barcelona</td>\n",
       "    </tr>\n",
       "    <tr>\n",
       "      <th>10</th>\n",
       "      <td>26</td>\n",
       "      <td>RW</td>\n",
       "      <td>Michał Daszek</td>\n",
       "      <td>27 June 1992 (aged 24)</td>\n",
       "      <td>1.80 m</td>\n",
       "      <td>56</td>\n",
       "      <td>110</td>\n",
       "      <td>Poland Wisła Płock</td>\n",
       "    </tr>\n",
       "    <tr>\n",
       "      <th>11</th>\n",
       "      <td>28</td>\n",
       "      <td>CB</td>\n",
       "      <td>Łukasz Gierak</td>\n",
       "      <td>22 June 1988 (aged 28)</td>\n",
       "      <td>1.92 m</td>\n",
       "      <td>6</td>\n",
       "      <td>6</td>\n",
       "      <td>Poland Pogoń Szczecin</td>\n",
       "    </tr>\n",
       "    <tr>\n",
       "      <th>12</th>\n",
       "      <td>35</td>\n",
       "      <td>P</td>\n",
       "      <td>Mateusz Kus</td>\n",
       "      <td>14 July 1987 (aged 29)</td>\n",
       "      <td>2.00 m</td>\n",
       "      <td>5</td>\n",
       "      <td>4</td>\n",
       "      <td>Poland Vive Targi Kielce</td>\n",
       "    </tr>\n",
       "    <tr>\n",
       "      <th>13</th>\n",
       "      <td>45</td>\n",
       "      <td>RB</td>\n",
       "      <td>Michał Szyba</td>\n",
       "      <td>18 March 1988 (aged 28)</td>\n",
       "      <td>1.96 m</td>\n",
       "      <td>57</td>\n",
       "      <td>82</td>\n",
       "      <td>Slovenia Gorenje Velenje</td>\n",
       "    </tr>\n",
       "  </tbody>\n",
       "</table>\n",
       "</div>"
      ],
      "text/plain": [
       "    No Pos                  Name         Date of birth (age)  Height  App  \\\n",
       "0    1  GK        Sławomir Szmal    2 October 1978 (aged 37)  1.90 m  279   \n",
       "1    3  RB    Krzysztof Lijewski       7 July 1983 (aged 33)  1.98 m  173   \n",
       "2    5  RW    Mateusz Jachlewski  27 December 1984 (aged 31)  1.84 m  108   \n",
       "3    6  LW  Przemysław Krajewski   20 January 1987 (aged 29)  1.84 m   69   \n",
       "4    8  LB        Karol Bielecki   23 January 1982 (aged 34)  2.02 m  244   \n",
       "5   11  LW       Adam Wiśniewski   24 October 1980 (aged 35)  1.92 m  146   \n",
       "6   13   P       Bartosz Jurecki   31 January 1979 (aged 37)  1.93 m  227   \n",
       "7   15  LB        Michał Jurecki   27 October 1984 (aged 31)  2.02 m  189   \n",
       "8   16  GK     Piotr Wyszomirski    6 January 1988 (aged 28)  1.93 m  104   \n",
       "9   23   P         Kamil Syprzak      23 July 1991 (aged 25)  2.08 m   87   \n",
       "10  26  RW         Michał Daszek      27 June 1992 (aged 24)  1.80 m   56   \n",
       "11  28  CB         Łukasz Gierak      22 June 1988 (aged 28)  1.92 m    6   \n",
       "12  35   P           Mateusz Kus      14 July 1987 (aged 29)  2.00 m    5   \n",
       "13  45  RB          Michał Szyba     18 March 1988 (aged 28)  1.96 m   57   \n",
       "\n",
       "    Goals                      Club  \n",
       "0       2  Poland Vive Targi Kielce  \n",
       "1     409  Poland Vive Targi Kielce  \n",
       "2     236  Poland Vive Targi Kielce  \n",
       "3     132       Poland Azoty-Puławy  \n",
       "4     891  Poland Vive Targi Kielce  \n",
       "5     189        Poland Wisła Płock  \n",
       "6     723     Poland Chrobry Głogów  \n",
       "7     528  Poland Vive Targi Kielce  \n",
       "8       0         Germany TBV Lemgo  \n",
       "9     164           Spain Barcelona  \n",
       "10    110        Poland Wisła Płock  \n",
       "11      6     Poland Pogoń Szczecin  \n",
       "12      4  Poland Vive Targi Kielce  \n",
       "13     82  Slovenia Gorenje Velenje  "
      ]
     },
     "execution_count": 17,
     "metadata": {},
     "output_type": "execute_result"
    }
   ],
   "source": [
    "# need to have Polish Handball team from files/wiki-page... copied to clipboard (without table headers)\n",
    "\n",
    "handball_team = pd.read_clipboard(names=[\n",
    "        \"No\", \"Pos\", \"Name\", \"Date of birth (age)\", \n",
    "        \"Height\", \"App\", \"Goals\", \"Club\"\n",
    "])\n",
    "handball_team"
   ]
  },
  {
   "cell_type": "markdown",
   "metadata": {},
   "source": [
    "### values (numpy underhood)"
   ]
  },
  {
   "cell_type": "code",
   "execution_count": 19,
   "metadata": {
    "collapsed": false
   },
   "outputs": [
    {
     "data": {
      "text/plain": [
       "array([[1, 'GK', 'S\\xc5\\x82awomir Szmal', '2 October 1978 (aged 37)',\n",
       "        '1.90 m', 279, 2, 'Poland Vive Targi Kielce'],\n",
       "       [3, 'RB', 'Krzysztof Lijewski', '7 July 1983 (aged 33)', '1.98 m',\n",
       "        173, 409, 'Poland Vive Targi Kielce'],\n",
       "       [5, 'RW', 'Mateusz Jachlewski', '27 December 1984 (aged 31)',\n",
       "        '1.84 m', 108, 236, 'Poland Vive Targi Kielce'],\n",
       "       [6, 'LW', 'Przemys\\xc5\\x82aw Krajewski',\n",
       "        '20 January 1987 (aged 29)', '1.84 m', 69, 132,\n",
       "        'Poland Azoty-Pu\\xc5\\x82awy'],\n",
       "       [8, 'LB', 'Karol Bielecki', '23 January 1982 (aged 34)', '2.02 m',\n",
       "        244, 891, 'Poland Vive Targi Kielce'],\n",
       "       [11, 'LW', 'Adam Wi\\xc5\\x9bniewski', '24 October 1980 (aged 35)',\n",
       "        '1.92 m', 146, 189, 'Poland Wis\\xc5\\x82a P\\xc5\\x82ock'],\n",
       "       [13, 'P', 'Bartosz Jurecki', '31 January 1979 (aged 37)', '1.93 m',\n",
       "        227, 723, 'Poland Chrobry G\\xc5\\x82og\\xc3\\xb3w'],\n",
       "       [15, 'LB', 'Micha\\xc5\\x82 Jurecki', '27 October 1984 (aged 31)',\n",
       "        '2.02 m', 189, 528, 'Poland Vive Targi Kielce'],\n",
       "       [16, 'GK', 'Piotr Wyszomirski', '6 January 1988 (aged 28)',\n",
       "        '1.93 m', 104, 0, 'Germany TBV Lemgo'],\n",
       "       [23, 'P', 'Kamil Syprzak', '23 July 1991 (aged 25)', '2.08 m', 87,\n",
       "        164, 'Spain Barcelona'],\n",
       "       [26, 'RW', 'Micha\\xc5\\x82 Daszek', '27 June 1992 (aged 24)',\n",
       "        '1.80 m', 56, 110, 'Poland Wis\\xc5\\x82a P\\xc5\\x82ock'],\n",
       "       [28, 'CB', '\\xc5\\x81ukasz Gierak', '22 June 1988 (aged 28)',\n",
       "        '1.92 m', 6, 6, 'Poland Pogo\\xc5\\x84 Szczecin'],\n",
       "       [35, 'P', 'Mateusz Kus', '14 July 1987 (aged 29)', '2.00 m', 5, 4,\n",
       "        'Poland Vive Targi Kielce'],\n",
       "       [45, 'RB', 'Micha\\xc5\\x82 Szyba', '18 March 1988 (aged 28)',\n",
       "        '1.96 m', 57, 82, 'Slovenia Gorenje Velenje']], dtype=object)"
      ]
     },
     "execution_count": 19,
     "metadata": {},
     "output_type": "execute_result"
    }
   ],
   "source": [
    "handball_team.values"
   ]
  },
  {
   "cell_type": "markdown",
   "metadata": {},
   "source": [
    "### to_*"
   ]
  },
  {
   "cell_type": "code",
   "execution_count": 21,
   "metadata": {
    "collapsed": false
   },
   "outputs": [
    {
     "data": {
      "text/plain": [
       "[{'App': 279,\n",
       "  'Club': 'Poland Vive Targi Kielce',\n",
       "  'Date of birth (age)': '2 October 1978 (aged 37)',\n",
       "  'Goals': 2,\n",
       "  'Height': '1.90 m',\n",
       "  'Name': 'S\\xc5\\x82awomir Szmal',\n",
       "  'No': 1,\n",
       "  'Pos': 'GK'},\n",
       " {'App': 173,\n",
       "  'Club': 'Poland Vive Targi Kielce',\n",
       "  'Date of birth (age)': '7 July 1983 (aged 33)',\n",
       "  'Goals': 409,\n",
       "  'Height': '1.98 m',\n",
       "  'Name': 'Krzysztof Lijewski',\n",
       "  'No': 3,\n",
       "  'Pos': 'RB'},\n",
       " {'App': 108,\n",
       "  'Club': 'Poland Vive Targi Kielce',\n",
       "  'Date of birth (age)': '27 December 1984 (aged 31)',\n",
       "  'Goals': 236,\n",
       "  'Height': '1.84 m',\n",
       "  'Name': 'Mateusz Jachlewski',\n",
       "  'No': 5,\n",
       "  'Pos': 'RW'},\n",
       " {'App': 69,\n",
       "  'Club': 'Poland Azoty-Pu\\xc5\\x82awy',\n",
       "  'Date of birth (age)': '20 January 1987 (aged 29)',\n",
       "  'Goals': 132,\n",
       "  'Height': '1.84 m',\n",
       "  'Name': 'Przemys\\xc5\\x82aw Krajewski',\n",
       "  'No': 6,\n",
       "  'Pos': 'LW'},\n",
       " {'App': 244,\n",
       "  'Club': 'Poland Vive Targi Kielce',\n",
       "  'Date of birth (age)': '23 January 1982 (aged 34)',\n",
       "  'Goals': 891,\n",
       "  'Height': '2.02 m',\n",
       "  'Name': 'Karol Bielecki',\n",
       "  'No': 8,\n",
       "  'Pos': 'LB'},\n",
       " {'App': 146,\n",
       "  'Club': 'Poland Wis\\xc5\\x82a P\\xc5\\x82ock',\n",
       "  'Date of birth (age)': '24 October 1980 (aged 35)',\n",
       "  'Goals': 189,\n",
       "  'Height': '1.92 m',\n",
       "  'Name': 'Adam Wi\\xc5\\x9bniewski',\n",
       "  'No': 11,\n",
       "  'Pos': 'LW'},\n",
       " {'App': 227,\n",
       "  'Club': 'Poland Chrobry G\\xc5\\x82og\\xc3\\xb3w',\n",
       "  'Date of birth (age)': '31 January 1979 (aged 37)',\n",
       "  'Goals': 723,\n",
       "  'Height': '1.93 m',\n",
       "  'Name': 'Bartosz Jurecki',\n",
       "  'No': 13,\n",
       "  'Pos': 'P'},\n",
       " {'App': 189,\n",
       "  'Club': 'Poland Vive Targi Kielce',\n",
       "  'Date of birth (age)': '27 October 1984 (aged 31)',\n",
       "  'Goals': 528,\n",
       "  'Height': '2.02 m',\n",
       "  'Name': 'Micha\\xc5\\x82 Jurecki',\n",
       "  'No': 15,\n",
       "  'Pos': 'LB'},\n",
       " {'App': 104,\n",
       "  'Club': 'Germany TBV Lemgo',\n",
       "  'Date of birth (age)': '6 January 1988 (aged 28)',\n",
       "  'Goals': 0,\n",
       "  'Height': '1.93 m',\n",
       "  'Name': 'Piotr Wyszomirski',\n",
       "  'No': 16,\n",
       "  'Pos': 'GK'},\n",
       " {'App': 87,\n",
       "  'Club': 'Spain Barcelona',\n",
       "  'Date of birth (age)': '23 July 1991 (aged 25)',\n",
       "  'Goals': 164,\n",
       "  'Height': '2.08 m',\n",
       "  'Name': 'Kamil Syprzak',\n",
       "  'No': 23,\n",
       "  'Pos': 'P'},\n",
       " {'App': 56,\n",
       "  'Club': 'Poland Wis\\xc5\\x82a P\\xc5\\x82ock',\n",
       "  'Date of birth (age)': '27 June 1992 (aged 24)',\n",
       "  'Goals': 110,\n",
       "  'Height': '1.80 m',\n",
       "  'Name': 'Micha\\xc5\\x82 Daszek',\n",
       "  'No': 26,\n",
       "  'Pos': 'RW'},\n",
       " {'App': 6,\n",
       "  'Club': 'Poland Pogo\\xc5\\x84 Szczecin',\n",
       "  'Date of birth (age)': '22 June 1988 (aged 28)',\n",
       "  'Goals': 6,\n",
       "  'Height': '1.92 m',\n",
       "  'Name': '\\xc5\\x81ukasz Gierak',\n",
       "  'No': 28,\n",
       "  'Pos': 'CB'},\n",
       " {'App': 5,\n",
       "  'Club': 'Poland Vive Targi Kielce',\n",
       "  'Date of birth (age)': '14 July 1987 (aged 29)',\n",
       "  'Goals': 4,\n",
       "  'Height': '2.00 m',\n",
       "  'Name': 'Mateusz Kus',\n",
       "  'No': 35,\n",
       "  'Pos': 'P'},\n",
       " {'App': 57,\n",
       "  'Club': 'Slovenia Gorenje Velenje',\n",
       "  'Date of birth (age)': '18 March 1988 (aged 28)',\n",
       "  'Goals': 82,\n",
       "  'Height': '1.96 m',\n",
       "  'Name': 'Micha\\xc5\\x82 Szyba',\n",
       "  'No': 45,\n",
       "  'Pos': 'RB'}]"
      ]
     },
     "execution_count": 21,
     "metadata": {},
     "output_type": "execute_result"
    }
   ],
   "source": [
    "handball_team.to_dict('records')"
   ]
  },
  {
   "cell_type": "code",
   "execution_count": 22,
   "metadata": {
    "collapsed": false
   },
   "outputs": [
    {
     "data": {
      "text/plain": [
       "'{\"No\":{\"0\":1,\"1\":3,\"2\":5,\"3\":6,\"4\":8,\"5\":11,\"6\":13,\"7\":15,\"8\":16,\"9\":23,\"10\":26,\"11\":28,\"12\":35,\"13\":45},\"Pos\":{\"0\":\"GK\",\"1\":\"RB\",\"2\":\"RW\",\"3\":\"LW\",\"4\":\"LB\",\"5\":\"LW\",\"6\":\"P\",\"7\":\"LB\",\"8\":\"GK\",\"9\":\"P\",\"10\":\"RW\",\"11\":\"CB\",\"12\":\"P\",\"13\":\"RB\"},\"Name\":{\"0\":\"S\\\\u0142awomir Szmal\",\"1\":\"Krzysztof Lijewski\",\"2\":\"Mateusz Jachlewski\",\"3\":\"Przemys\\\\u0142aw Krajewski\",\"4\":\"Karol Bielecki\",\"5\":\"Adam Wi\\\\u015bniewski\",\"6\":\"Bartosz Jurecki\",\"7\":\"Micha\\\\u0142 Jurecki\",\"8\":\"Piotr Wyszomirski\",\"9\":\"Kamil Syprzak\",\"10\":\"Micha\\\\u0142 Daszek\",\"11\":\"\\\\u0141ukasz Gierak\",\"12\":\"Mateusz Kus\",\"13\":\"Micha\\\\u0142 Szyba\"},\"Date of birth (age)\":{\"0\":\"2 October 1978 (aged 37)\",\"1\":\"7 July 1983 (aged 33)\",\"2\":\"27 December 1984 (aged 31)\",\"3\":\"20 January 1987 (aged 29)\",\"4\":\"23 January 1982 (aged 34)\",\"5\":\"24 October 1980 (aged 35)\",\"6\":\"31 January 1979 (aged 37)\",\"7\":\"27 October 1984 (aged 31)\",\"8\":\"6 January 1988 (aged 28)\",\"9\":\"23 July 1991 (aged 25)\",\"10\":\"27 June 1992 (aged 24)\",\"11\":\"22 June 1988 (aged 28)\",\"12\":\"14 July 1987 (aged 29)\",\"13\":\"18 March 1988 (aged 28)\"},\"Height\":{\"0\":\"1.90 m\",\"1\":\"1.98 m\",\"2\":\"1.84 m\",\"3\":\"1.84 m\",\"4\":\"2.02 m\",\"5\":\"1.92 m\",\"6\":\"1.93 m\",\"7\":\"2.02 m\",\"8\":\"1.93 m\",\"9\":\"2.08 m\",\"10\":\"1.80 m\",\"11\":\"1.92 m\",\"12\":\"2.00 m\",\"13\":\"1.96 m\"},\"App\":{\"0\":279,\"1\":173,\"2\":108,\"3\":69,\"4\":244,\"5\":146,\"6\":227,\"7\":189,\"8\":104,\"9\":87,\"10\":56,\"11\":6,\"12\":5,\"13\":57},\"Goals\":{\"0\":2,\"1\":409,\"2\":236,\"3\":132,\"4\":891,\"5\":189,\"6\":723,\"7\":528,\"8\":0,\"9\":164,\"10\":110,\"11\":6,\"12\":4,\"13\":82},\"Club\":{\"0\":\"Poland Vive Targi Kielce\",\"1\":\"Poland Vive Targi Kielce\",\"2\":\"Poland Vive Targi Kielce\",\"3\":\"Poland Azoty-Pu\\\\u0142awy\",\"4\":\"Poland Vive Targi Kielce\",\"5\":\"Poland Wis\\\\u0142a P\\\\u0142ock\",\"6\":\"Poland Chrobry G\\\\u0142og\\\\u00f3w\",\"7\":\"Poland Vive Targi Kielce\",\"8\":\"Germany TBV Lemgo\",\"9\":\"Spain Barcelona\",\"10\":\"Poland Wis\\\\u0142a P\\\\u0142ock\",\"11\":\"Poland Pogo\\\\u0144 Szczecin\",\"12\":\"Poland Vive Targi Kielce\",\"13\":\"Slovenia Gorenje Velenje\"}}'"
      ]
     },
     "execution_count": 22,
     "metadata": {},
     "output_type": "execute_result"
    }
   ],
   "source": [
    "handball_team.to_json()"
   ]
  },
  {
   "cell_type": "code",
   "execution_count": 23,
   "metadata": {
    "collapsed": false
   },
   "outputs": [],
   "source": [
    "handball_team.to_csv('data/polish_handball.csv')"
   ]
  },
  {
   "cell_type": "code",
   "execution_count": 24,
   "metadata": {
    "collapsed": true
   },
   "outputs": [],
   "source": [
    "handball_team.to_sql?"
   ]
  },
  {
   "cell_type": "markdown",
   "metadata": {},
   "source": [
    "## Series / DataFrame viewing and operations"
   ]
  },
  {
   "cell_type": "markdown",
   "metadata": {},
   "source": [
    "### Overview"
   ]
  },
  {
   "cell_type": "code",
   "execution_count": 25,
   "metadata": {
    "collapsed": false
   },
   "outputs": [
    {
     "name": "stdout",
     "output_type": "stream",
     "text": [
      "<class 'pandas.core.frame.DataFrame'>\n",
      "RangeIndex: 14 entries, 0 to 13\n",
      "Data columns (total 8 columns):\n",
      "No                     14 non-null int64\n",
      "Pos                    14 non-null object\n",
      "Name                   14 non-null object\n",
      "Date of birth (age)    14 non-null object\n",
      "Height                 14 non-null object\n",
      "App                    14 non-null int64\n",
      "Goals                  14 non-null int64\n",
      "Club                   14 non-null object\n",
      "dtypes: int64(3), object(5)\n",
      "memory usage: 968.0+ bytes\n"
     ]
    }
   ],
   "source": [
    "handball_team.info()"
   ]
  },
  {
   "cell_type": "code",
   "execution_count": 26,
   "metadata": {
    "collapsed": false
   },
   "outputs": [
    {
     "data": {
      "text/plain": [
       "No                      int64\n",
       "Pos                    object\n",
       "Name                   object\n",
       "Date of birth (age)    object\n",
       "Height                 object\n",
       "App                     int64\n",
       "Goals                   int64\n",
       "Club                   object\n",
       "dtype: object"
      ]
     },
     "execution_count": 26,
     "metadata": {},
     "output_type": "execute_result"
    }
   ],
   "source": [
    "handball_team.dtypes"
   ]
  },
  {
   "cell_type": "code",
   "execution_count": 27,
   "metadata": {
    "collapsed": false
   },
   "outputs": [
    {
     "data": {
      "text/html": [
       "<div>\n",
       "<table border=\"1\" class=\"dataframe\">\n",
       "  <thead>\n",
       "    <tr style=\"text-align: right;\">\n",
       "      <th></th>\n",
       "      <th>No</th>\n",
       "      <th>App</th>\n",
       "      <th>Goals</th>\n",
       "    </tr>\n",
       "  </thead>\n",
       "  <tbody>\n",
       "    <tr>\n",
       "      <th>count</th>\n",
       "      <td>14.000000</td>\n",
       "      <td>14.0000</td>\n",
       "      <td>14.000000</td>\n",
       "    </tr>\n",
       "    <tr>\n",
       "      <th>mean</th>\n",
       "      <td>16.785714</td>\n",
       "      <td>125.0000</td>\n",
       "      <td>248.285714</td>\n",
       "    </tr>\n",
       "    <tr>\n",
       "      <th>std</th>\n",
       "      <td>13.009929</td>\n",
       "      <td>86.9916</td>\n",
       "      <td>284.773980</td>\n",
       "    </tr>\n",
       "    <tr>\n",
       "      <th>min</th>\n",
       "      <td>1.000000</td>\n",
       "      <td>5.0000</td>\n",
       "      <td>0.000000</td>\n",
       "    </tr>\n",
       "    <tr>\n",
       "      <th>25%</th>\n",
       "      <td>6.500000</td>\n",
       "      <td>60.0000</td>\n",
       "      <td>25.000000</td>\n",
       "    </tr>\n",
       "    <tr>\n",
       "      <th>50%</th>\n",
       "      <td>14.000000</td>\n",
       "      <td>106.0000</td>\n",
       "      <td>148.000000</td>\n",
       "    </tr>\n",
       "    <tr>\n",
       "      <th>75%</th>\n",
       "      <td>25.250000</td>\n",
       "      <td>185.0000</td>\n",
       "      <td>365.750000</td>\n",
       "    </tr>\n",
       "    <tr>\n",
       "      <th>max</th>\n",
       "      <td>45.000000</td>\n",
       "      <td>279.0000</td>\n",
       "      <td>891.000000</td>\n",
       "    </tr>\n",
       "  </tbody>\n",
       "</table>\n",
       "</div>"
      ],
      "text/plain": [
       "              No       App       Goals\n",
       "count  14.000000   14.0000   14.000000\n",
       "mean   16.785714  125.0000  248.285714\n",
       "std    13.009929   86.9916  284.773980\n",
       "min     1.000000    5.0000    0.000000\n",
       "25%     6.500000   60.0000   25.000000\n",
       "50%    14.000000  106.0000  148.000000\n",
       "75%    25.250000  185.0000  365.750000\n",
       "max    45.000000  279.0000  891.000000"
      ]
     },
     "execution_count": 27,
     "metadata": {},
     "output_type": "execute_result"
    }
   ],
   "source": [
    "handball_team.describe()"
   ]
  },
  {
   "cell_type": "code",
   "execution_count": 28,
   "metadata": {
    "collapsed": false
   },
   "outputs": [
    {
     "data": {
      "text/html": [
       "<div>\n",
       "<table border=\"1\" class=\"dataframe\">\n",
       "  <thead>\n",
       "    <tr style=\"text-align: right;\">\n",
       "      <th></th>\n",
       "      <th>No</th>\n",
       "      <th>Pos</th>\n",
       "      <th>Name</th>\n",
       "      <th>Date of birth (age)</th>\n",
       "      <th>Height</th>\n",
       "      <th>App</th>\n",
       "      <th>Goals</th>\n",
       "      <th>Club</th>\n",
       "    </tr>\n",
       "  </thead>\n",
       "  <tbody>\n",
       "    <tr>\n",
       "      <th>0</th>\n",
       "      <td>1</td>\n",
       "      <td>GK</td>\n",
       "      <td>Sławomir Szmal</td>\n",
       "      <td>2 October 1978 (aged 37)</td>\n",
       "      <td>1.90 m</td>\n",
       "      <td>279</td>\n",
       "      <td>2</td>\n",
       "      <td>Poland Vive Targi Kielce</td>\n",
       "    </tr>\n",
       "    <tr>\n",
       "      <th>1</th>\n",
       "      <td>3</td>\n",
       "      <td>RB</td>\n",
       "      <td>Krzysztof Lijewski</td>\n",
       "      <td>7 July 1983 (aged 33)</td>\n",
       "      <td>1.98 m</td>\n",
       "      <td>173</td>\n",
       "      <td>409</td>\n",
       "      <td>Poland Vive Targi Kielce</td>\n",
       "    </tr>\n",
       "    <tr>\n",
       "      <th>2</th>\n",
       "      <td>5</td>\n",
       "      <td>RW</td>\n",
       "      <td>Mateusz Jachlewski</td>\n",
       "      <td>27 December 1984 (aged 31)</td>\n",
       "      <td>1.84 m</td>\n",
       "      <td>108</td>\n",
       "      <td>236</td>\n",
       "      <td>Poland Vive Targi Kielce</td>\n",
       "    </tr>\n",
       "    <tr>\n",
       "      <th>3</th>\n",
       "      <td>6</td>\n",
       "      <td>LW</td>\n",
       "      <td>Przemysław Krajewski</td>\n",
       "      <td>20 January 1987 (aged 29)</td>\n",
       "      <td>1.84 m</td>\n",
       "      <td>69</td>\n",
       "      <td>132</td>\n",
       "      <td>Poland Azoty-Puławy</td>\n",
       "    </tr>\n",
       "    <tr>\n",
       "      <th>4</th>\n",
       "      <td>8</td>\n",
       "      <td>LB</td>\n",
       "      <td>Karol Bielecki</td>\n",
       "      <td>23 January 1982 (aged 34)</td>\n",
       "      <td>2.02 m</td>\n",
       "      <td>244</td>\n",
       "      <td>891</td>\n",
       "      <td>Poland Vive Targi Kielce</td>\n",
       "    </tr>\n",
       "  </tbody>\n",
       "</table>\n",
       "</div>"
      ],
      "text/plain": [
       "   No Pos                  Name         Date of birth (age)  Height  App  \\\n",
       "0   1  GK        Sławomir Szmal    2 October 1978 (aged 37)  1.90 m  279   \n",
       "1   3  RB    Krzysztof Lijewski       7 July 1983 (aged 33)  1.98 m  173   \n",
       "2   5  RW    Mateusz Jachlewski  27 December 1984 (aged 31)  1.84 m  108   \n",
       "3   6  LW  Przemysław Krajewski   20 January 1987 (aged 29)  1.84 m   69   \n",
       "4   8  LB        Karol Bielecki   23 January 1982 (aged 34)  2.02 m  244   \n",
       "\n",
       "   Goals                      Club  \n",
       "0      2  Poland Vive Targi Kielce  \n",
       "1    409  Poland Vive Targi Kielce  \n",
       "2    236  Poland Vive Targi Kielce  \n",
       "3    132       Poland Azoty-Puławy  \n",
       "4    891  Poland Vive Targi Kielce  "
      ]
     },
     "execution_count": 28,
     "metadata": {},
     "output_type": "execute_result"
    }
   ],
   "source": [
    "handball_team.head()"
   ]
  },
  {
   "cell_type": "code",
   "execution_count": 29,
   "metadata": {
    "collapsed": false
   },
   "outputs": [
    {
     "data": {
      "text/plain": [
       "0     279\n",
       "1     173\n",
       "2     108\n",
       "3      69\n",
       "4     244\n",
       "5     146\n",
       "6     227\n",
       "7     189\n",
       "8     104\n",
       "9      87\n",
       "10     56\n",
       "11      6\n",
       "12      5\n",
       "13     57\n",
       "Name: App, dtype: int64"
      ]
     },
     "execution_count": 29,
     "metadata": {},
     "output_type": "execute_result"
    }
   ],
   "source": [
    "# selecting Series\n",
    "handball_team['App']"
   ]
  },
  {
   "cell_type": "code",
   "execution_count": 30,
   "metadata": {
    "collapsed": false
   },
   "outputs": [
    {
     "data": {
      "text/html": [
       "<div>\n",
       "<table border=\"1\" class=\"dataframe\">\n",
       "  <thead>\n",
       "    <tr style=\"text-align: right;\">\n",
       "      <th></th>\n",
       "      <th>Name</th>\n",
       "      <th>App</th>\n",
       "    </tr>\n",
       "  </thead>\n",
       "  <tbody>\n",
       "    <tr>\n",
       "      <th>0</th>\n",
       "      <td>Sławomir Szmal</td>\n",
       "      <td>279</td>\n",
       "    </tr>\n",
       "    <tr>\n",
       "      <th>1</th>\n",
       "      <td>Krzysztof Lijewski</td>\n",
       "      <td>173</td>\n",
       "    </tr>\n",
       "    <tr>\n",
       "      <th>2</th>\n",
       "      <td>Mateusz Jachlewski</td>\n",
       "      <td>108</td>\n",
       "    </tr>\n",
       "    <tr>\n",
       "      <th>3</th>\n",
       "      <td>Przemysław Krajewski</td>\n",
       "      <td>69</td>\n",
       "    </tr>\n",
       "    <tr>\n",
       "      <th>4</th>\n",
       "      <td>Karol Bielecki</td>\n",
       "      <td>244</td>\n",
       "    </tr>\n",
       "    <tr>\n",
       "      <th>5</th>\n",
       "      <td>Adam Wiśniewski</td>\n",
       "      <td>146</td>\n",
       "    </tr>\n",
       "    <tr>\n",
       "      <th>6</th>\n",
       "      <td>Bartosz Jurecki</td>\n",
       "      <td>227</td>\n",
       "    </tr>\n",
       "    <tr>\n",
       "      <th>7</th>\n",
       "      <td>Michał Jurecki</td>\n",
       "      <td>189</td>\n",
       "    </tr>\n",
       "    <tr>\n",
       "      <th>8</th>\n",
       "      <td>Piotr Wyszomirski</td>\n",
       "      <td>104</td>\n",
       "    </tr>\n",
       "    <tr>\n",
       "      <th>9</th>\n",
       "      <td>Kamil Syprzak</td>\n",
       "      <td>87</td>\n",
       "    </tr>\n",
       "    <tr>\n",
       "      <th>10</th>\n",
       "      <td>Michał Daszek</td>\n",
       "      <td>56</td>\n",
       "    </tr>\n",
       "    <tr>\n",
       "      <th>11</th>\n",
       "      <td>Łukasz Gierak</td>\n",
       "      <td>6</td>\n",
       "    </tr>\n",
       "    <tr>\n",
       "      <th>12</th>\n",
       "      <td>Mateusz Kus</td>\n",
       "      <td>5</td>\n",
       "    </tr>\n",
       "    <tr>\n",
       "      <th>13</th>\n",
       "      <td>Michał Szyba</td>\n",
       "      <td>57</td>\n",
       "    </tr>\n",
       "  </tbody>\n",
       "</table>\n",
       "</div>"
      ],
      "text/plain": [
       "                    Name  App\n",
       "0         Sławomir Szmal  279\n",
       "1     Krzysztof Lijewski  173\n",
       "2     Mateusz Jachlewski  108\n",
       "3   Przemysław Krajewski   69\n",
       "4         Karol Bielecki  244\n",
       "5        Adam Wiśniewski  146\n",
       "6        Bartosz Jurecki  227\n",
       "7         Michał Jurecki  189\n",
       "8      Piotr Wyszomirski  104\n",
       "9          Kamil Syprzak   87\n",
       "10         Michał Daszek   56\n",
       "11         Łukasz Gierak    6\n",
       "12           Mateusz Kus    5\n",
       "13          Michał Szyba   57"
      ]
     },
     "execution_count": 30,
     "metadata": {},
     "output_type": "execute_result"
    }
   ],
   "source": [
    "# selecting DataFrame\n",
    "handball_team[ ['Name', 'App'] ]"
   ]
  },
  {
   "cell_type": "code",
   "execution_count": 31,
   "metadata": {
    "collapsed": false
   },
   "outputs": [
    {
     "data": {
      "text/html": [
       "<div>\n",
       "<table border=\"1\" class=\"dataframe\">\n",
       "  <thead>\n",
       "    <tr style=\"text-align: right;\">\n",
       "      <th></th>\n",
       "      <th>Name</th>\n",
       "      <th>Goals</th>\n",
       "    </tr>\n",
       "  </thead>\n",
       "  <tbody>\n",
       "    <tr>\n",
       "      <th>6</th>\n",
       "      <td>Bartosz Jurecki</td>\n",
       "      <td>723</td>\n",
       "    </tr>\n",
       "    <tr>\n",
       "      <th>7</th>\n",
       "      <td>Michał Jurecki</td>\n",
       "      <td>528</td>\n",
       "    </tr>\n",
       "    <tr>\n",
       "      <th>8</th>\n",
       "      <td>Piotr Wyszomirski</td>\n",
       "      <td>0</td>\n",
       "    </tr>\n",
       "  </tbody>\n",
       "</table>\n",
       "</div>"
      ],
      "text/plain": [
       "                Name  Goals\n",
       "6    Bartosz Jurecki    723\n",
       "7     Michał Jurecki    528\n",
       "8  Piotr Wyszomirski      0"
      ]
     },
     "execution_count": 31,
     "metadata": {},
     "output_type": "execute_result"
    }
   ],
   "source": [
    "# selecting rows\n",
    "handball_team.loc[6:8, ['Name', 'Goals']]"
   ]
  },
  {
   "cell_type": "markdown",
   "metadata": {},
   "source": [
    "### Filtering\n",
    "\n",
    "Boolean indexing"
   ]
  },
  {
   "cell_type": "code",
   "execution_count": 32,
   "metadata": {
    "collapsed": false
   },
   "outputs": [
    {
     "data": {
      "text/plain": [
       "0      True\n",
       "1     False\n",
       "2     False\n",
       "3     False\n",
       "4      True\n",
       "5     False\n",
       "6      True\n",
       "7     False\n",
       "8     False\n",
       "9     False\n",
       "10    False\n",
       "11    False\n",
       "12    False\n",
       "13    False\n",
       "Name: App, dtype: bool"
      ]
     },
     "execution_count": 32,
     "metadata": {},
     "output_type": "execute_result"
    }
   ],
   "source": [
    "handball_team['App'] > 200"
   ]
  },
  {
   "cell_type": "code",
   "execution_count": 33,
   "metadata": {
    "collapsed": false
   },
   "outputs": [
    {
     "data": {
      "text/html": [
       "<div>\n",
       "<table border=\"1\" class=\"dataframe\">\n",
       "  <thead>\n",
       "    <tr style=\"text-align: right;\">\n",
       "      <th></th>\n",
       "      <th>No</th>\n",
       "      <th>Pos</th>\n",
       "      <th>Name</th>\n",
       "      <th>Date of birth (age)</th>\n",
       "      <th>Height</th>\n",
       "      <th>App</th>\n",
       "      <th>Goals</th>\n",
       "      <th>Club</th>\n",
       "    </tr>\n",
       "  </thead>\n",
       "  <tbody>\n",
       "    <tr>\n",
       "      <th>0</th>\n",
       "      <td>1</td>\n",
       "      <td>GK</td>\n",
       "      <td>Sławomir Szmal</td>\n",
       "      <td>2 October 1978 (aged 37)</td>\n",
       "      <td>1.90 m</td>\n",
       "      <td>279</td>\n",
       "      <td>2</td>\n",
       "      <td>Poland Vive Targi Kielce</td>\n",
       "    </tr>\n",
       "    <tr>\n",
       "      <th>1</th>\n",
       "      <td>3</td>\n",
       "      <td>RB</td>\n",
       "      <td>Krzysztof Lijewski</td>\n",
       "      <td>7 July 1983 (aged 33)</td>\n",
       "      <td>1.98 m</td>\n",
       "      <td>173</td>\n",
       "      <td>409</td>\n",
       "      <td>Poland Vive Targi Kielce</td>\n",
       "    </tr>\n",
       "    <tr>\n",
       "      <th>2</th>\n",
       "      <td>5</td>\n",
       "      <td>RW</td>\n",
       "      <td>Mateusz Jachlewski</td>\n",
       "      <td>27 December 1984 (aged 31)</td>\n",
       "      <td>1.84 m</td>\n",
       "      <td>108</td>\n",
       "      <td>236</td>\n",
       "      <td>Poland Vive Targi Kielce</td>\n",
       "    </tr>\n",
       "    <tr>\n",
       "      <th>4</th>\n",
       "      <td>8</td>\n",
       "      <td>LB</td>\n",
       "      <td>Karol Bielecki</td>\n",
       "      <td>23 January 1982 (aged 34)</td>\n",
       "      <td>2.02 m</td>\n",
       "      <td>244</td>\n",
       "      <td>891</td>\n",
       "      <td>Poland Vive Targi Kielce</td>\n",
       "    </tr>\n",
       "    <tr>\n",
       "      <th>5</th>\n",
       "      <td>11</td>\n",
       "      <td>LW</td>\n",
       "      <td>Adam Wiśniewski</td>\n",
       "      <td>24 October 1980 (aged 35)</td>\n",
       "      <td>1.92 m</td>\n",
       "      <td>146</td>\n",
       "      <td>189</td>\n",
       "      <td>Poland Wisła Płock</td>\n",
       "    </tr>\n",
       "    <tr>\n",
       "      <th>6</th>\n",
       "      <td>13</td>\n",
       "      <td>P</td>\n",
       "      <td>Bartosz Jurecki</td>\n",
       "      <td>31 January 1979 (aged 37)</td>\n",
       "      <td>1.93 m</td>\n",
       "      <td>227</td>\n",
       "      <td>723</td>\n",
       "      <td>Poland Chrobry Głogów</td>\n",
       "    </tr>\n",
       "    <tr>\n",
       "      <th>7</th>\n",
       "      <td>15</td>\n",
       "      <td>LB</td>\n",
       "      <td>Michał Jurecki</td>\n",
       "      <td>27 October 1984 (aged 31)</td>\n",
       "      <td>2.02 m</td>\n",
       "      <td>189</td>\n",
       "      <td>528</td>\n",
       "      <td>Poland Vive Targi Kielce</td>\n",
       "    </tr>\n",
       "    <tr>\n",
       "      <th>8</th>\n",
       "      <td>16</td>\n",
       "      <td>GK</td>\n",
       "      <td>Piotr Wyszomirski</td>\n",
       "      <td>6 January 1988 (aged 28)</td>\n",
       "      <td>1.93 m</td>\n",
       "      <td>104</td>\n",
       "      <td>0</td>\n",
       "      <td>Germany TBV Lemgo</td>\n",
       "    </tr>\n",
       "  </tbody>\n",
       "</table>\n",
       "</div>"
      ],
      "text/plain": [
       "   No Pos                Name         Date of birth (age)  Height  App  Goals  \\\n",
       "0   1  GK      Sławomir Szmal    2 October 1978 (aged 37)  1.90 m  279      2   \n",
       "1   3  RB  Krzysztof Lijewski       7 July 1983 (aged 33)  1.98 m  173    409   \n",
       "2   5  RW  Mateusz Jachlewski  27 December 1984 (aged 31)  1.84 m  108    236   \n",
       "4   8  LB      Karol Bielecki   23 January 1982 (aged 34)  2.02 m  244    891   \n",
       "5  11  LW     Adam Wiśniewski   24 October 1980 (aged 35)  1.92 m  146    189   \n",
       "6  13   P     Bartosz Jurecki   31 January 1979 (aged 37)  1.93 m  227    723   \n",
       "7  15  LB      Michał Jurecki   27 October 1984 (aged 31)  2.02 m  189    528   \n",
       "8  16  GK   Piotr Wyszomirski    6 January 1988 (aged 28)  1.93 m  104      0   \n",
       "\n",
       "                       Club  \n",
       "0  Poland Vive Targi Kielce  \n",
       "1  Poland Vive Targi Kielce  \n",
       "2  Poland Vive Targi Kielce  \n",
       "4  Poland Vive Targi Kielce  \n",
       "5        Poland Wisła Płock  \n",
       "6     Poland Chrobry Głogów  \n",
       "7  Poland Vive Targi Kielce  \n",
       "8         Germany TBV Lemgo  "
      ]
     },
     "execution_count": 33,
     "metadata": {},
     "output_type": "execute_result"
    }
   ],
   "source": [
    "handball_team[ handball_team['App'] > 100 ]"
   ]
  },
  {
   "cell_type": "code",
   "execution_count": 34,
   "metadata": {
    "collapsed": false
   },
   "outputs": [
    {
     "data": {
      "text/html": [
       "<div>\n",
       "<table border=\"1\" class=\"dataframe\">\n",
       "  <thead>\n",
       "    <tr style=\"text-align: right;\">\n",
       "      <th></th>\n",
       "      <th>No</th>\n",
       "      <th>Pos</th>\n",
       "      <th>Name</th>\n",
       "      <th>Date of birth (age)</th>\n",
       "      <th>Height</th>\n",
       "      <th>App</th>\n",
       "      <th>Goals</th>\n",
       "      <th>Club</th>\n",
       "    </tr>\n",
       "  </thead>\n",
       "  <tbody>\n",
       "    <tr>\n",
       "      <th>4</th>\n",
       "      <td>8</td>\n",
       "      <td>LB</td>\n",
       "      <td>Karol Bielecki</td>\n",
       "      <td>23 January 1982 (aged 34)</td>\n",
       "      <td>2.02 m</td>\n",
       "      <td>244</td>\n",
       "      <td>891</td>\n",
       "      <td>Poland Vive Targi Kielce</td>\n",
       "    </tr>\n",
       "    <tr>\n",
       "      <th>6</th>\n",
       "      <td>13</td>\n",
       "      <td>P</td>\n",
       "      <td>Bartosz Jurecki</td>\n",
       "      <td>31 January 1979 (aged 37)</td>\n",
       "      <td>1.93 m</td>\n",
       "      <td>227</td>\n",
       "      <td>723</td>\n",
       "      <td>Poland Chrobry Głogów</td>\n",
       "    </tr>\n",
       "  </tbody>\n",
       "</table>\n",
       "</div>"
      ],
      "text/plain": [
       "   No Pos             Name        Date of birth (age)  Height  App  Goals  \\\n",
       "4   8  LB   Karol Bielecki  23 January 1982 (aged 34)  2.02 m  244    891   \n",
       "6  13   P  Bartosz Jurecki  31 January 1979 (aged 37)  1.93 m  227    723   \n",
       "\n",
       "                       Club  \n",
       "4  Poland Vive Targi Kielce  \n",
       "6     Poland Chrobry Głogów  "
      ]
     },
     "execution_count": 34,
     "metadata": {},
     "output_type": "execute_result"
    }
   ],
   "source": [
    "handball_team[\n",
    "    (handball_team['App'] > 200) & \n",
    "    (handball_team['Goals'] > 250)\n",
    "]"
   ]
  },
  {
   "cell_type": "markdown",
   "metadata": {},
   "source": [
    "### Vectorized operations"
   ]
  },
  {
   "cell_type": "code",
   "execution_count": 35,
   "metadata": {
    "collapsed": false
   },
   "outputs": [
    {
     "data": {
      "text/html": [
       "<div>\n",
       "<table border=\"1\" class=\"dataframe\">\n",
       "  <thead>\n",
       "    <tr style=\"text-align: right;\">\n",
       "      <th></th>\n",
       "      <th>No</th>\n",
       "      <th>Pos</th>\n",
       "      <th>Name</th>\n",
       "      <th>Date of birth (age)</th>\n",
       "      <th>Height</th>\n",
       "      <th>App</th>\n",
       "      <th>Goals</th>\n",
       "      <th>Club</th>\n",
       "      <th>Goals per app</th>\n",
       "    </tr>\n",
       "  </thead>\n",
       "  <tbody>\n",
       "    <tr>\n",
       "      <th>0</th>\n",
       "      <td>1</td>\n",
       "      <td>GK</td>\n",
       "      <td>Sławomir Szmal</td>\n",
       "      <td>2 October 1978 (aged 37)</td>\n",
       "      <td>1.90 m</td>\n",
       "      <td>279</td>\n",
       "      <td>2</td>\n",
       "      <td>Poland Vive Targi Kielce</td>\n",
       "      <td>1.0</td>\n",
       "    </tr>\n",
       "    <tr>\n",
       "      <th>1</th>\n",
       "      <td>3</td>\n",
       "      <td>RB</td>\n",
       "      <td>Krzysztof Lijewski</td>\n",
       "      <td>7 July 1983 (aged 33)</td>\n",
       "      <td>1.98 m</td>\n",
       "      <td>173</td>\n",
       "      <td>409</td>\n",
       "      <td>Poland Vive Targi Kielce</td>\n",
       "      <td>1.0</td>\n",
       "    </tr>\n",
       "    <tr>\n",
       "      <th>2</th>\n",
       "      <td>5</td>\n",
       "      <td>RW</td>\n",
       "      <td>Mateusz Jachlewski</td>\n",
       "      <td>27 December 1984 (aged 31)</td>\n",
       "      <td>1.84 m</td>\n",
       "      <td>108</td>\n",
       "      <td>236</td>\n",
       "      <td>Poland Vive Targi Kielce</td>\n",
       "      <td>1.0</td>\n",
       "    </tr>\n",
       "    <tr>\n",
       "      <th>3</th>\n",
       "      <td>6</td>\n",
       "      <td>LW</td>\n",
       "      <td>Przemysław Krajewski</td>\n",
       "      <td>20 January 1987 (aged 29)</td>\n",
       "      <td>1.84 m</td>\n",
       "      <td>69</td>\n",
       "      <td>132</td>\n",
       "      <td>Poland Azoty-Puławy</td>\n",
       "      <td>1.0</td>\n",
       "    </tr>\n",
       "    <tr>\n",
       "      <th>4</th>\n",
       "      <td>8</td>\n",
       "      <td>LB</td>\n",
       "      <td>Karol Bielecki</td>\n",
       "      <td>23 January 1982 (aged 34)</td>\n",
       "      <td>2.02 m</td>\n",
       "      <td>244</td>\n",
       "      <td>891</td>\n",
       "      <td>Poland Vive Targi Kielce</td>\n",
       "      <td>1.0</td>\n",
       "    </tr>\n",
       "  </tbody>\n",
       "</table>\n",
       "</div>"
      ],
      "text/plain": [
       "   No Pos                  Name         Date of birth (age)  Height  App  \\\n",
       "0   1  GK        Sławomir Szmal    2 October 1978 (aged 37)  1.90 m  279   \n",
       "1   3  RB    Krzysztof Lijewski       7 July 1983 (aged 33)  1.98 m  173   \n",
       "2   5  RW    Mateusz Jachlewski  27 December 1984 (aged 31)  1.84 m  108   \n",
       "3   6  LW  Przemysław Krajewski   20 January 1987 (aged 29)  1.84 m   69   \n",
       "4   8  LB        Karol Bielecki   23 January 1982 (aged 34)  2.02 m  244   \n",
       "\n",
       "   Goals                      Club  Goals per app  \n",
       "0      2  Poland Vive Targi Kielce            1.0  \n",
       "1    409  Poland Vive Targi Kielce            1.0  \n",
       "2    236  Poland Vive Targi Kielce            1.0  \n",
       "3    132       Poland Azoty-Puławy            1.0  \n",
       "4    891  Poland Vive Targi Kielce            1.0  "
      ]
     },
     "execution_count": 35,
     "metadata": {},
     "output_type": "execute_result"
    }
   ],
   "source": [
    "handball_team['Goals per app'] = 1.0\n",
    "handball_team.head()"
   ]
  },
  {
   "cell_type": "code",
   "execution_count": 36,
   "metadata": {
    "collapsed": false
   },
   "outputs": [
    {
     "data": {
      "text/plain": [
       "0     0.007168\n",
       "1     2.364162\n",
       "2     2.185185\n",
       "3     1.913043\n",
       "4     3.651639\n",
       "5     1.294521\n",
       "6     3.185022\n",
       "7     2.793651\n",
       "8     0.000000\n",
       "9     1.885057\n",
       "10    1.964286\n",
       "11    1.000000\n",
       "12    0.800000\n",
       "13    1.438596\n",
       "dtype: float64"
      ]
     },
     "execution_count": 36,
     "metadata": {},
     "output_type": "execute_result"
    }
   ],
   "source": [
    "handball_team['Goals'] / handball_team['App']"
   ]
  },
  {
   "cell_type": "code",
   "execution_count": 37,
   "metadata": {
    "collapsed": false
   },
   "outputs": [
    {
     "data": {
      "text/html": [
       "<div>\n",
       "<table border=\"1\" class=\"dataframe\">\n",
       "  <thead>\n",
       "    <tr style=\"text-align: right;\">\n",
       "      <th></th>\n",
       "      <th>No</th>\n",
       "      <th>Pos</th>\n",
       "      <th>Name</th>\n",
       "      <th>Date of birth (age)</th>\n",
       "      <th>Height</th>\n",
       "      <th>App</th>\n",
       "      <th>Goals</th>\n",
       "      <th>Club</th>\n",
       "      <th>Goals per app</th>\n",
       "    </tr>\n",
       "  </thead>\n",
       "  <tbody>\n",
       "    <tr>\n",
       "      <th>0</th>\n",
       "      <td>1</td>\n",
       "      <td>GK</td>\n",
       "      <td>Sławomir Szmal</td>\n",
       "      <td>2 October 1978 (aged 37)</td>\n",
       "      <td>1.90 m</td>\n",
       "      <td>279</td>\n",
       "      <td>2</td>\n",
       "      <td>Poland Vive Targi Kielce</td>\n",
       "      <td>0.007168</td>\n",
       "    </tr>\n",
       "    <tr>\n",
       "      <th>1</th>\n",
       "      <td>3</td>\n",
       "      <td>RB</td>\n",
       "      <td>Krzysztof Lijewski</td>\n",
       "      <td>7 July 1983 (aged 33)</td>\n",
       "      <td>1.98 m</td>\n",
       "      <td>173</td>\n",
       "      <td>409</td>\n",
       "      <td>Poland Vive Targi Kielce</td>\n",
       "      <td>2.364162</td>\n",
       "    </tr>\n",
       "    <tr>\n",
       "      <th>2</th>\n",
       "      <td>5</td>\n",
       "      <td>RW</td>\n",
       "      <td>Mateusz Jachlewski</td>\n",
       "      <td>27 December 1984 (aged 31)</td>\n",
       "      <td>1.84 m</td>\n",
       "      <td>108</td>\n",
       "      <td>236</td>\n",
       "      <td>Poland Vive Targi Kielce</td>\n",
       "      <td>2.185185</td>\n",
       "    </tr>\n",
       "    <tr>\n",
       "      <th>3</th>\n",
       "      <td>6</td>\n",
       "      <td>LW</td>\n",
       "      <td>Przemysław Krajewski</td>\n",
       "      <td>20 January 1987 (aged 29)</td>\n",
       "      <td>1.84 m</td>\n",
       "      <td>69</td>\n",
       "      <td>132</td>\n",
       "      <td>Poland Azoty-Puławy</td>\n",
       "      <td>1.913043</td>\n",
       "    </tr>\n",
       "    <tr>\n",
       "      <th>4</th>\n",
       "      <td>8</td>\n",
       "      <td>LB</td>\n",
       "      <td>Karol Bielecki</td>\n",
       "      <td>23 January 1982 (aged 34)</td>\n",
       "      <td>2.02 m</td>\n",
       "      <td>244</td>\n",
       "      <td>891</td>\n",
       "      <td>Poland Vive Targi Kielce</td>\n",
       "      <td>3.651639</td>\n",
       "    </tr>\n",
       "  </tbody>\n",
       "</table>\n",
       "</div>"
      ],
      "text/plain": [
       "   No Pos                  Name         Date of birth (age)  Height  App  \\\n",
       "0   1  GK        Sławomir Szmal    2 October 1978 (aged 37)  1.90 m  279   \n",
       "1   3  RB    Krzysztof Lijewski       7 July 1983 (aged 33)  1.98 m  173   \n",
       "2   5  RW    Mateusz Jachlewski  27 December 1984 (aged 31)  1.84 m  108   \n",
       "3   6  LW  Przemysław Krajewski   20 January 1987 (aged 29)  1.84 m   69   \n",
       "4   8  LB        Karol Bielecki   23 January 1982 (aged 34)  2.02 m  244   \n",
       "\n",
       "   Goals                      Club  Goals per app  \n",
       "0      2  Poland Vive Targi Kielce       0.007168  \n",
       "1    409  Poland Vive Targi Kielce       2.364162  \n",
       "2    236  Poland Vive Targi Kielce       2.185185  \n",
       "3    132       Poland Azoty-Puławy       1.913043  \n",
       "4    891  Poland Vive Targi Kielce       3.651639  "
      ]
     },
     "execution_count": 37,
     "metadata": {},
     "output_type": "execute_result"
    }
   ],
   "source": [
    "handball_team['Goals per app'] = handball_team['Goals'] / handball_team['App']\n",
    "handball_team.head()"
   ]
  },
  {
   "cell_type": "markdown",
   "metadata": {},
   "source": [
    "### Sorting"
   ]
  },
  {
   "cell_type": "code",
   "execution_count": 38,
   "metadata": {
    "collapsed": false
   },
   "outputs": [
    {
     "data": {
      "text/html": [
       "<div>\n",
       "<table border=\"1\" class=\"dataframe\">\n",
       "  <thead>\n",
       "    <tr style=\"text-align: right;\">\n",
       "      <th></th>\n",
       "      <th>No</th>\n",
       "      <th>Pos</th>\n",
       "      <th>Name</th>\n",
       "      <th>Date of birth (age)</th>\n",
       "      <th>Height</th>\n",
       "      <th>App</th>\n",
       "      <th>Goals</th>\n",
       "      <th>Club</th>\n",
       "      <th>Goals per app</th>\n",
       "    </tr>\n",
       "  </thead>\n",
       "  <tbody>\n",
       "    <tr>\n",
       "      <th>11</th>\n",
       "      <td>28</td>\n",
       "      <td>CB</td>\n",
       "      <td>Łukasz Gierak</td>\n",
       "      <td>22 June 1988 (aged 28)</td>\n",
       "      <td>1.92 m</td>\n",
       "      <td>6</td>\n",
       "      <td>6</td>\n",
       "      <td>Poland Pogoń Szczecin</td>\n",
       "      <td>1.000000</td>\n",
       "    </tr>\n",
       "    <tr>\n",
       "      <th>0</th>\n",
       "      <td>1</td>\n",
       "      <td>GK</td>\n",
       "      <td>Sławomir Szmal</td>\n",
       "      <td>2 October 1978 (aged 37)</td>\n",
       "      <td>1.90 m</td>\n",
       "      <td>279</td>\n",
       "      <td>2</td>\n",
       "      <td>Poland Vive Targi Kielce</td>\n",
       "      <td>0.007168</td>\n",
       "    </tr>\n",
       "    <tr>\n",
       "      <th>8</th>\n",
       "      <td>16</td>\n",
       "      <td>GK</td>\n",
       "      <td>Piotr Wyszomirski</td>\n",
       "      <td>6 January 1988 (aged 28)</td>\n",
       "      <td>1.93 m</td>\n",
       "      <td>104</td>\n",
       "      <td>0</td>\n",
       "      <td>Germany TBV Lemgo</td>\n",
       "      <td>0.000000</td>\n",
       "    </tr>\n",
       "    <tr>\n",
       "      <th>4</th>\n",
       "      <td>8</td>\n",
       "      <td>LB</td>\n",
       "      <td>Karol Bielecki</td>\n",
       "      <td>23 January 1982 (aged 34)</td>\n",
       "      <td>2.02 m</td>\n",
       "      <td>244</td>\n",
       "      <td>891</td>\n",
       "      <td>Poland Vive Targi Kielce</td>\n",
       "      <td>3.651639</td>\n",
       "    </tr>\n",
       "    <tr>\n",
       "      <th>7</th>\n",
       "      <td>15</td>\n",
       "      <td>LB</td>\n",
       "      <td>Michał Jurecki</td>\n",
       "      <td>27 October 1984 (aged 31)</td>\n",
       "      <td>2.02 m</td>\n",
       "      <td>189</td>\n",
       "      <td>528</td>\n",
       "      <td>Poland Vive Targi Kielce</td>\n",
       "      <td>2.793651</td>\n",
       "    </tr>\n",
       "    <tr>\n",
       "      <th>5</th>\n",
       "      <td>11</td>\n",
       "      <td>LW</td>\n",
       "      <td>Adam Wiśniewski</td>\n",
       "      <td>24 October 1980 (aged 35)</td>\n",
       "      <td>1.92 m</td>\n",
       "      <td>146</td>\n",
       "      <td>189</td>\n",
       "      <td>Poland Wisła Płock</td>\n",
       "      <td>1.294521</td>\n",
       "    </tr>\n",
       "    <tr>\n",
       "      <th>3</th>\n",
       "      <td>6</td>\n",
       "      <td>LW</td>\n",
       "      <td>Przemysław Krajewski</td>\n",
       "      <td>20 January 1987 (aged 29)</td>\n",
       "      <td>1.84 m</td>\n",
       "      <td>69</td>\n",
       "      <td>132</td>\n",
       "      <td>Poland Azoty-Puławy</td>\n",
       "      <td>1.913043</td>\n",
       "    </tr>\n",
       "    <tr>\n",
       "      <th>6</th>\n",
       "      <td>13</td>\n",
       "      <td>P</td>\n",
       "      <td>Bartosz Jurecki</td>\n",
       "      <td>31 January 1979 (aged 37)</td>\n",
       "      <td>1.93 m</td>\n",
       "      <td>227</td>\n",
       "      <td>723</td>\n",
       "      <td>Poland Chrobry Głogów</td>\n",
       "      <td>3.185022</td>\n",
       "    </tr>\n",
       "    <tr>\n",
       "      <th>9</th>\n",
       "      <td>23</td>\n",
       "      <td>P</td>\n",
       "      <td>Kamil Syprzak</td>\n",
       "      <td>23 July 1991 (aged 25)</td>\n",
       "      <td>2.08 m</td>\n",
       "      <td>87</td>\n",
       "      <td>164</td>\n",
       "      <td>Spain Barcelona</td>\n",
       "      <td>1.885057</td>\n",
       "    </tr>\n",
       "    <tr>\n",
       "      <th>12</th>\n",
       "      <td>35</td>\n",
       "      <td>P</td>\n",
       "      <td>Mateusz Kus</td>\n",
       "      <td>14 July 1987 (aged 29)</td>\n",
       "      <td>2.00 m</td>\n",
       "      <td>5</td>\n",
       "      <td>4</td>\n",
       "      <td>Poland Vive Targi Kielce</td>\n",
       "      <td>0.800000</td>\n",
       "    </tr>\n",
       "  </tbody>\n",
       "</table>\n",
       "</div>"
      ],
      "text/plain": [
       "    No Pos                  Name        Date of birth (age)  Height  App  \\\n",
       "11  28  CB         Łukasz Gierak     22 June 1988 (aged 28)  1.92 m    6   \n",
       "0    1  GK        Sławomir Szmal   2 October 1978 (aged 37)  1.90 m  279   \n",
       "8   16  GK     Piotr Wyszomirski   6 January 1988 (aged 28)  1.93 m  104   \n",
       "4    8  LB        Karol Bielecki  23 January 1982 (aged 34)  2.02 m  244   \n",
       "7   15  LB        Michał Jurecki  27 October 1984 (aged 31)  2.02 m  189   \n",
       "5   11  LW       Adam Wiśniewski  24 October 1980 (aged 35)  1.92 m  146   \n",
       "3    6  LW  Przemysław Krajewski  20 January 1987 (aged 29)  1.84 m   69   \n",
       "6   13   P       Bartosz Jurecki  31 January 1979 (aged 37)  1.93 m  227   \n",
       "9   23   P         Kamil Syprzak     23 July 1991 (aged 25)  2.08 m   87   \n",
       "12  35   P           Mateusz Kus     14 July 1987 (aged 29)  2.00 m    5   \n",
       "\n",
       "    Goals                      Club  Goals per app  \n",
       "11      6     Poland Pogoń Szczecin       1.000000  \n",
       "0       2  Poland Vive Targi Kielce       0.007168  \n",
       "8       0         Germany TBV Lemgo       0.000000  \n",
       "4     891  Poland Vive Targi Kielce       3.651639  \n",
       "7     528  Poland Vive Targi Kielce       2.793651  \n",
       "5     189        Poland Wisła Płock       1.294521  \n",
       "3     132       Poland Azoty-Puławy       1.913043  \n",
       "6     723     Poland Chrobry Głogów       3.185022  \n",
       "9     164           Spain Barcelona       1.885057  \n",
       "12      4  Poland Vive Targi Kielce       0.800000  "
      ]
     },
     "execution_count": 38,
     "metadata": {},
     "output_type": "execute_result"
    }
   ],
   "source": [
    "handball_team.sort_values(['Pos','App'], ascending=[True, False]).head(10)"
   ]
  },
  {
   "cell_type": "markdown",
   "metadata": {},
   "source": [
    "### Aggregation methods"
   ]
  },
  {
   "cell_type": "code",
   "execution_count": 39,
   "metadata": {
    "collapsed": false
   },
   "outputs": [
    {
     "data": {
      "text/plain": [
       "No                                                                   235\n",
       "Pos                                            GKRBRWLWLBLWPLBGKPRWCBPRB\n",
       "Name                   Sławomir SzmalKrzysztof LijewskiMateusz Jachle...\n",
       "Date of birth (age)    2 October 1978 (aged 37)7 July 1983 (aged 33)2...\n",
       "Height                 1.90 m1.98 m1.84 m1.84 m2.02 m1.92 m1.93 m2.02...\n",
       "App                                                                 1750\n",
       "Goals                                                               3476\n",
       "Club                   Poland Vive Targi KielcePoland Vive Targi Kiel...\n",
       "Goals per app                                                    24.4823\n",
       "dtype: object"
      ]
     },
     "execution_count": 39,
     "metadata": {},
     "output_type": "execute_result"
    }
   ],
   "source": [
    "handball_team.sum()"
   ]
  },
  {
   "cell_type": "code",
   "execution_count": 40,
   "metadata": {
    "collapsed": false
   },
   "outputs": [
    {
     "data": {
      "text/plain": [
       "No                16.785714\n",
       "App              125.000000\n",
       "Goals            248.285714\n",
       "Goals per app      1.748738\n",
       "dtype: float64"
      ]
     },
     "execution_count": 40,
     "metadata": {},
     "output_type": "execute_result"
    }
   ],
   "source": [
    "handball_team.mean()"
   ]
  },
  {
   "cell_type": "markdown",
   "metadata": {},
   "source": [
    "### Groupby"
   ]
  },
  {
   "cell_type": "code",
   "execution_count": 41,
   "metadata": {
    "collapsed": false
   },
   "outputs": [
    {
     "data": {
      "text/plain": [
       "Club\n",
       "Germany TBV Lemgo           1\n",
       "Poland Azoty-Puławy         1\n",
       "Poland Chrobry Głogów       1\n",
       "Poland Pogoń Szczecin       1\n",
       "Poland Vive Targi Kielce    6\n",
       "Poland Wisła Płock          2\n",
       "Slovenia Gorenje Velenje    1\n",
       "Spain Barcelona             1\n",
       "dtype: int64"
      ]
     },
     "execution_count": 41,
     "metadata": {},
     "output_type": "execute_result"
    }
   ],
   "source": [
    "handball_team.groupby('Club').size()"
   ]
  },
  {
   "cell_type": "code",
   "execution_count": 42,
   "metadata": {
    "collapsed": false
   },
   "outputs": [
    {
     "data": {
      "text/html": [
       "<div>\n",
       "<table border=\"1\" class=\"dataframe\">\n",
       "  <thead>\n",
       "    <tr style=\"text-align: right;\">\n",
       "      <th></th>\n",
       "      <th>No</th>\n",
       "      <th>App</th>\n",
       "      <th>Goals</th>\n",
       "      <th>Goals per app</th>\n",
       "    </tr>\n",
       "    <tr>\n",
       "      <th>Pos</th>\n",
       "      <th></th>\n",
       "      <th></th>\n",
       "      <th></th>\n",
       "      <th></th>\n",
       "    </tr>\n",
       "  </thead>\n",
       "  <tbody>\n",
       "    <tr>\n",
       "      <th>CB</th>\n",
       "      <td>28.000000</td>\n",
       "      <td>6.000000</td>\n",
       "      <td>6.0</td>\n",
       "      <td>1.000000</td>\n",
       "    </tr>\n",
       "    <tr>\n",
       "      <th>GK</th>\n",
       "      <td>8.500000</td>\n",
       "      <td>191.500000</td>\n",
       "      <td>1.0</td>\n",
       "      <td>0.003584</td>\n",
       "    </tr>\n",
       "    <tr>\n",
       "      <th>LB</th>\n",
       "      <td>11.500000</td>\n",
       "      <td>216.500000</td>\n",
       "      <td>709.5</td>\n",
       "      <td>3.222645</td>\n",
       "    </tr>\n",
       "    <tr>\n",
       "      <th>LW</th>\n",
       "      <td>8.500000</td>\n",
       "      <td>107.500000</td>\n",
       "      <td>160.5</td>\n",
       "      <td>1.603782</td>\n",
       "    </tr>\n",
       "    <tr>\n",
       "      <th>P</th>\n",
       "      <td>23.666667</td>\n",
       "      <td>106.333333</td>\n",
       "      <td>297.0</td>\n",
       "      <td>1.956693</td>\n",
       "    </tr>\n",
       "    <tr>\n",
       "      <th>RB</th>\n",
       "      <td>24.000000</td>\n",
       "      <td>115.000000</td>\n",
       "      <td>245.5</td>\n",
       "      <td>1.901379</td>\n",
       "    </tr>\n",
       "    <tr>\n",
       "      <th>RW</th>\n",
       "      <td>15.500000</td>\n",
       "      <td>82.000000</td>\n",
       "      <td>173.0</td>\n",
       "      <td>2.074735</td>\n",
       "    </tr>\n",
       "  </tbody>\n",
       "</table>\n",
       "</div>"
      ],
      "text/plain": [
       "            No         App  Goals  Goals per app\n",
       "Pos                                             \n",
       "CB   28.000000    6.000000    6.0       1.000000\n",
       "GK    8.500000  191.500000    1.0       0.003584\n",
       "LB   11.500000  216.500000  709.5       3.222645\n",
       "LW    8.500000  107.500000  160.5       1.603782\n",
       "P    23.666667  106.333333  297.0       1.956693\n",
       "RB   24.000000  115.000000  245.5       1.901379\n",
       "RW   15.500000   82.000000  173.0       2.074735"
      ]
     },
     "execution_count": 42,
     "metadata": {},
     "output_type": "execute_result"
    }
   ],
   "source": [
    "handball_team.groupby('Pos').mean()"
   ]
  },
  {
   "cell_type": "code",
   "execution_count": 43,
   "metadata": {
    "collapsed": false
   },
   "outputs": [
    {
     "data": {
      "text/plain": [
       "Pos  Club                    \n",
       "CB   Poland Pogoń Szczecin       1\n",
       "GK   Germany TBV Lemgo           1\n",
       "     Poland Vive Targi Kielce    1\n",
       "LB   Poland Vive Targi Kielce    2\n",
       "LW   Poland Azoty-Puławy         1\n",
       "     Poland Wisła Płock          1\n",
       "P    Poland Chrobry Głogów       1\n",
       "     Poland Vive Targi Kielce    1\n",
       "     Spain Barcelona             1\n",
       "RB   Poland Vive Targi Kielce    1\n",
       "     Slovenia Gorenje Velenje    1\n",
       "RW   Poland Vive Targi Kielce    1\n",
       "     Poland Wisła Płock          1\n",
       "dtype: int64"
      ]
     },
     "execution_count": 43,
     "metadata": {},
     "output_type": "execute_result"
    }
   ],
   "source": [
    "handball_team.groupby(['Pos', 'Club']).size()"
   ]
  },
  {
   "cell_type": "markdown",
   "metadata": {},
   "source": [
    "### Duplicates"
   ]
  },
  {
   "cell_type": "code",
   "execution_count": 44,
   "metadata": {
    "collapsed": false
   },
   "outputs": [
    {
     "data": {
      "text/plain": [
       "array(['GK', 'RB', 'RW', 'LW', 'LB', 'P', 'CB'], dtype=object)"
      ]
     },
     "execution_count": 44,
     "metadata": {},
     "output_type": "execute_result"
    }
   ],
   "source": [
    "handball_team['Pos'].unique()"
   ]
  },
  {
   "cell_type": "code",
   "execution_count": 45,
   "metadata": {
    "collapsed": false
   },
   "outputs": [
    {
     "data": {
      "text/plain": [
       "0     False\n",
       "1     False\n",
       "2     False\n",
       "3     False\n",
       "4     False\n",
       "5      True\n",
       "6     False\n",
       "7      True\n",
       "8      True\n",
       "9      True\n",
       "10     True\n",
       "11    False\n",
       "12     True\n",
       "13     True\n",
       "Name: Pos, dtype: bool"
      ]
     },
     "execution_count": 45,
     "metadata": {},
     "output_type": "execute_result"
    }
   ],
   "source": [
    "handball_team['Pos'].duplicated()"
   ]
  },
  {
   "cell_type": "code",
   "execution_count": 46,
   "metadata": {
    "collapsed": false
   },
   "outputs": [
    {
     "data": {
      "text/html": [
       "<div>\n",
       "<table border=\"1\" class=\"dataframe\">\n",
       "  <thead>\n",
       "    <tr style=\"text-align: right;\">\n",
       "      <th></th>\n",
       "      <th>No</th>\n",
       "      <th>Pos</th>\n",
       "      <th>Name</th>\n",
       "      <th>Date of birth (age)</th>\n",
       "      <th>Height</th>\n",
       "      <th>App</th>\n",
       "      <th>Goals</th>\n",
       "      <th>Club</th>\n",
       "      <th>Goals per app</th>\n",
       "    </tr>\n",
       "  </thead>\n",
       "  <tbody>\n",
       "    <tr>\n",
       "      <th>0</th>\n",
       "      <td>1</td>\n",
       "      <td>GK</td>\n",
       "      <td>Sławomir Szmal</td>\n",
       "      <td>2 October 1978 (aged 37)</td>\n",
       "      <td>1.90 m</td>\n",
       "      <td>279</td>\n",
       "      <td>2</td>\n",
       "      <td>Poland Vive Targi Kielce</td>\n",
       "      <td>0.007168</td>\n",
       "    </tr>\n",
       "    <tr>\n",
       "      <th>1</th>\n",
       "      <td>3</td>\n",
       "      <td>RB</td>\n",
       "      <td>Krzysztof Lijewski</td>\n",
       "      <td>7 July 1983 (aged 33)</td>\n",
       "      <td>1.98 m</td>\n",
       "      <td>173</td>\n",
       "      <td>409</td>\n",
       "      <td>Poland Vive Targi Kielce</td>\n",
       "      <td>2.364162</td>\n",
       "    </tr>\n",
       "    <tr>\n",
       "      <th>2</th>\n",
       "      <td>5</td>\n",
       "      <td>RW</td>\n",
       "      <td>Mateusz Jachlewski</td>\n",
       "      <td>27 December 1984 (aged 31)</td>\n",
       "      <td>1.84 m</td>\n",
       "      <td>108</td>\n",
       "      <td>236</td>\n",
       "      <td>Poland Vive Targi Kielce</td>\n",
       "      <td>2.185185</td>\n",
       "    </tr>\n",
       "    <tr>\n",
       "      <th>3</th>\n",
       "      <td>6</td>\n",
       "      <td>LW</td>\n",
       "      <td>Przemysław Krajewski</td>\n",
       "      <td>20 January 1987 (aged 29)</td>\n",
       "      <td>1.84 m</td>\n",
       "      <td>69</td>\n",
       "      <td>132</td>\n",
       "      <td>Poland Azoty-Puławy</td>\n",
       "      <td>1.913043</td>\n",
       "    </tr>\n",
       "    <tr>\n",
       "      <th>4</th>\n",
       "      <td>8</td>\n",
       "      <td>LB</td>\n",
       "      <td>Karol Bielecki</td>\n",
       "      <td>23 January 1982 (aged 34)</td>\n",
       "      <td>2.02 m</td>\n",
       "      <td>244</td>\n",
       "      <td>891</td>\n",
       "      <td>Poland Vive Targi Kielce</td>\n",
       "      <td>3.651639</td>\n",
       "    </tr>\n",
       "    <tr>\n",
       "      <th>5</th>\n",
       "      <td>11</td>\n",
       "      <td>LW</td>\n",
       "      <td>Adam Wiśniewski</td>\n",
       "      <td>24 October 1980 (aged 35)</td>\n",
       "      <td>1.92 m</td>\n",
       "      <td>146</td>\n",
       "      <td>189</td>\n",
       "      <td>Poland Wisła Płock</td>\n",
       "      <td>1.294521</td>\n",
       "    </tr>\n",
       "  </tbody>\n",
       "</table>\n",
       "</div>"
      ],
      "text/plain": [
       "   No Pos                  Name         Date of birth (age)  Height  App  \\\n",
       "0   1  GK        Sławomir Szmal    2 October 1978 (aged 37)  1.90 m  279   \n",
       "1   3  RB    Krzysztof Lijewski       7 July 1983 (aged 33)  1.98 m  173   \n",
       "2   5  RW    Mateusz Jachlewski  27 December 1984 (aged 31)  1.84 m  108   \n",
       "3   6  LW  Przemysław Krajewski   20 January 1987 (aged 29)  1.84 m   69   \n",
       "4   8  LB        Karol Bielecki   23 January 1982 (aged 34)  2.02 m  244   \n",
       "5  11  LW       Adam Wiśniewski   24 October 1980 (aged 35)  1.92 m  146   \n",
       "\n",
       "   Goals                      Club  Goals per app  \n",
       "0      2  Poland Vive Targi Kielce       0.007168  \n",
       "1    409  Poland Vive Targi Kielce       2.364162  \n",
       "2    236  Poland Vive Targi Kielce       2.185185  \n",
       "3    132       Poland Azoty-Puławy       1.913043  \n",
       "4    891  Poland Vive Targi Kielce       3.651639  \n",
       "5    189        Poland Wisła Płock       1.294521  "
      ]
     },
     "execution_count": 46,
     "metadata": {},
     "output_type": "execute_result"
    }
   ],
   "source": [
    "handball_team.head(6)"
   ]
  },
  {
   "cell_type": "code",
   "execution_count": 47,
   "metadata": {
    "collapsed": false
   },
   "outputs": [
    {
     "data": {
      "text/html": [
       "<div>\n",
       "<table border=\"1\" class=\"dataframe\">\n",
       "  <thead>\n",
       "    <tr style=\"text-align: right;\">\n",
       "      <th></th>\n",
       "      <th>No</th>\n",
       "      <th>Pos</th>\n",
       "      <th>Name</th>\n",
       "      <th>Date of birth (age)</th>\n",
       "      <th>Height</th>\n",
       "      <th>App</th>\n",
       "      <th>Goals</th>\n",
       "      <th>Club</th>\n",
       "      <th>Goals per app</th>\n",
       "    </tr>\n",
       "  </thead>\n",
       "  <tbody>\n",
       "    <tr>\n",
       "      <th>0</th>\n",
       "      <td>1</td>\n",
       "      <td>GK</td>\n",
       "      <td>Sławomir Szmal</td>\n",
       "      <td>2 October 1978 (aged 37)</td>\n",
       "      <td>1.90 m</td>\n",
       "      <td>279</td>\n",
       "      <td>2</td>\n",
       "      <td>Poland Vive Targi Kielce</td>\n",
       "      <td>0.007168</td>\n",
       "    </tr>\n",
       "    <tr>\n",
       "      <th>1</th>\n",
       "      <td>3</td>\n",
       "      <td>RB</td>\n",
       "      <td>Krzysztof Lijewski</td>\n",
       "      <td>7 July 1983 (aged 33)</td>\n",
       "      <td>1.98 m</td>\n",
       "      <td>173</td>\n",
       "      <td>409</td>\n",
       "      <td>Poland Vive Targi Kielce</td>\n",
       "      <td>2.364162</td>\n",
       "    </tr>\n",
       "    <tr>\n",
       "      <th>2</th>\n",
       "      <td>5</td>\n",
       "      <td>RW</td>\n",
       "      <td>Mateusz Jachlewski</td>\n",
       "      <td>27 December 1984 (aged 31)</td>\n",
       "      <td>1.84 m</td>\n",
       "      <td>108</td>\n",
       "      <td>236</td>\n",
       "      <td>Poland Vive Targi Kielce</td>\n",
       "      <td>2.185185</td>\n",
       "    </tr>\n",
       "    <tr>\n",
       "      <th>3</th>\n",
       "      <td>6</td>\n",
       "      <td>LW</td>\n",
       "      <td>Przemysław Krajewski</td>\n",
       "      <td>20 January 1987 (aged 29)</td>\n",
       "      <td>1.84 m</td>\n",
       "      <td>69</td>\n",
       "      <td>132</td>\n",
       "      <td>Poland Azoty-Puławy</td>\n",
       "      <td>1.913043</td>\n",
       "    </tr>\n",
       "    <tr>\n",
       "      <th>4</th>\n",
       "      <td>8</td>\n",
       "      <td>LB</td>\n",
       "      <td>Karol Bielecki</td>\n",
       "      <td>23 January 1982 (aged 34)</td>\n",
       "      <td>2.02 m</td>\n",
       "      <td>244</td>\n",
       "      <td>891</td>\n",
       "      <td>Poland Vive Targi Kielce</td>\n",
       "      <td>3.651639</td>\n",
       "    </tr>\n",
       "    <tr>\n",
       "      <th>6</th>\n",
       "      <td>13</td>\n",
       "      <td>P</td>\n",
       "      <td>Bartosz Jurecki</td>\n",
       "      <td>31 January 1979 (aged 37)</td>\n",
       "      <td>1.93 m</td>\n",
       "      <td>227</td>\n",
       "      <td>723</td>\n",
       "      <td>Poland Chrobry Głogów</td>\n",
       "      <td>3.185022</td>\n",
       "    </tr>\n",
       "    <tr>\n",
       "      <th>11</th>\n",
       "      <td>28</td>\n",
       "      <td>CB</td>\n",
       "      <td>Łukasz Gierak</td>\n",
       "      <td>22 June 1988 (aged 28)</td>\n",
       "      <td>1.92 m</td>\n",
       "      <td>6</td>\n",
       "      <td>6</td>\n",
       "      <td>Poland Pogoń Szczecin</td>\n",
       "      <td>1.000000</td>\n",
       "    </tr>\n",
       "  </tbody>\n",
       "</table>\n",
       "</div>"
      ],
      "text/plain": [
       "    No Pos                  Name         Date of birth (age)  Height  App  \\\n",
       "0    1  GK        Sławomir Szmal    2 October 1978 (aged 37)  1.90 m  279   \n",
       "1    3  RB    Krzysztof Lijewski       7 July 1983 (aged 33)  1.98 m  173   \n",
       "2    5  RW    Mateusz Jachlewski  27 December 1984 (aged 31)  1.84 m  108   \n",
       "3    6  LW  Przemysław Krajewski   20 January 1987 (aged 29)  1.84 m   69   \n",
       "4    8  LB        Karol Bielecki   23 January 1982 (aged 34)  2.02 m  244   \n",
       "6   13   P       Bartosz Jurecki   31 January 1979 (aged 37)  1.93 m  227   \n",
       "11  28  CB         Łukasz Gierak      22 June 1988 (aged 28)  1.92 m    6   \n",
       "\n",
       "    Goals                      Club  Goals per app  \n",
       "0       2  Poland Vive Targi Kielce       0.007168  \n",
       "1     409  Poland Vive Targi Kielce       2.364162  \n",
       "2     236  Poland Vive Targi Kielce       2.185185  \n",
       "3     132       Poland Azoty-Puławy       1.913043  \n",
       "4     891  Poland Vive Targi Kielce       3.651639  \n",
       "6     723     Poland Chrobry Głogów       3.185022  \n",
       "11      6     Poland Pogoń Szczecin       1.000000  "
      ]
     },
     "execution_count": 47,
     "metadata": {},
     "output_type": "execute_result"
    }
   ],
   "source": [
    "# It's not inplace, functional approach\n",
    "handball_team.drop_duplicates(['Pos'])"
   ]
  },
  {
   "cell_type": "code",
   "execution_count": 48,
   "metadata": {
    "collapsed": false
   },
   "outputs": [],
   "source": [
    "handball_team.shape\n",
    "handball_team.drop_duplicates('Pos', inplace=True)"
   ]
  },
  {
   "cell_type": "markdown",
   "metadata": {},
   "source": [
    "### Map (and apply)\n",
    "\n",
    "http://stackoverflow.com/questions/19798153/difference-between-map-applymap-and-apply-methods-in-pandas"
   ]
  },
  {
   "cell_type": "code",
   "execution_count": 49,
   "metadata": {
    "collapsed": false
   },
   "outputs": [
    {
     "data": {
      "text/plain": [
       "0    1.90 m\n",
       "1    1.98 m\n",
       "Name: Height, dtype: object"
      ]
     },
     "execution_count": 49,
     "metadata": {},
     "output_type": "execute_result"
    }
   ],
   "source": [
    "handball_team['Height'].head(2)"
   ]
  },
  {
   "cell_type": "code",
   "execution_count": 50,
   "metadata": {
    "collapsed": false
   },
   "outputs": [
    {
     "data": {
      "text/plain": [
       "0     1.90\n",
       "1     1.98\n",
       "2     1.84\n",
       "3     1.84\n",
       "4     2.02\n",
       "6     1.93\n",
       "11    1.92\n",
       "Name: Height, dtype: float64"
      ]
     },
     "execution_count": 50,
     "metadata": {},
     "output_type": "execute_result"
    }
   ],
   "source": [
    "handball_team['Height'].map(\n",
    "    lambda height: float(height.split(' ')[0])\n",
    ")"
   ]
  },
  {
   "cell_type": "code",
   "execution_count": 51,
   "metadata": {
    "collapsed": false
   },
   "outputs": [
    {
     "data": {
      "text/html": [
       "<div>\n",
       "<table border=\"1\" class=\"dataframe\">\n",
       "  <thead>\n",
       "    <tr style=\"text-align: right;\">\n",
       "      <th></th>\n",
       "      <th>No</th>\n",
       "      <th>Pos</th>\n",
       "      <th>Name</th>\n",
       "      <th>Date of birth (age)</th>\n",
       "      <th>Raw Height</th>\n",
       "      <th>App</th>\n",
       "      <th>Goals</th>\n",
       "      <th>Club</th>\n",
       "      <th>Goals per app</th>\n",
       "    </tr>\n",
       "  </thead>\n",
       "  <tbody>\n",
       "    <tr>\n",
       "      <th>0</th>\n",
       "      <td>1</td>\n",
       "      <td>GK</td>\n",
       "      <td>Sławomir Szmal</td>\n",
       "      <td>2 October 1978 (aged 37)</td>\n",
       "      <td>1.90 m</td>\n",
       "      <td>279</td>\n",
       "      <td>2</td>\n",
       "      <td>Poland Vive Targi Kielce</td>\n",
       "      <td>0.007168</td>\n",
       "    </tr>\n",
       "    <tr>\n",
       "      <th>1</th>\n",
       "      <td>3</td>\n",
       "      <td>RB</td>\n",
       "      <td>Krzysztof Lijewski</td>\n",
       "      <td>7 July 1983 (aged 33)</td>\n",
       "      <td>1.98 m</td>\n",
       "      <td>173</td>\n",
       "      <td>409</td>\n",
       "      <td>Poland Vive Targi Kielce</td>\n",
       "      <td>2.364162</td>\n",
       "    </tr>\n",
       "    <tr>\n",
       "      <th>2</th>\n",
       "      <td>5</td>\n",
       "      <td>RW</td>\n",
       "      <td>Mateusz Jachlewski</td>\n",
       "      <td>27 December 1984 (aged 31)</td>\n",
       "      <td>1.84 m</td>\n",
       "      <td>108</td>\n",
       "      <td>236</td>\n",
       "      <td>Poland Vive Targi Kielce</td>\n",
       "      <td>2.185185</td>\n",
       "    </tr>\n",
       "    <tr>\n",
       "      <th>3</th>\n",
       "      <td>6</td>\n",
       "      <td>LW</td>\n",
       "      <td>Przemysław Krajewski</td>\n",
       "      <td>20 January 1987 (aged 29)</td>\n",
       "      <td>1.84 m</td>\n",
       "      <td>69</td>\n",
       "      <td>132</td>\n",
       "      <td>Poland Azoty-Puławy</td>\n",
       "      <td>1.913043</td>\n",
       "    </tr>\n",
       "    <tr>\n",
       "      <th>4</th>\n",
       "      <td>8</td>\n",
       "      <td>LB</td>\n",
       "      <td>Karol Bielecki</td>\n",
       "      <td>23 January 1982 (aged 34)</td>\n",
       "      <td>2.02 m</td>\n",
       "      <td>244</td>\n",
       "      <td>891</td>\n",
       "      <td>Poland Vive Targi Kielce</td>\n",
       "      <td>3.651639</td>\n",
       "    </tr>\n",
       "  </tbody>\n",
       "</table>\n",
       "</div>"
      ],
      "text/plain": [
       "   No Pos                  Name         Date of birth (age) Raw Height  App  \\\n",
       "0   1  GK        Sławomir Szmal    2 October 1978 (aged 37)     1.90 m  279   \n",
       "1   3  RB    Krzysztof Lijewski       7 July 1983 (aged 33)     1.98 m  173   \n",
       "2   5  RW    Mateusz Jachlewski  27 December 1984 (aged 31)     1.84 m  108   \n",
       "3   6  LW  Przemysław Krajewski   20 January 1987 (aged 29)     1.84 m   69   \n",
       "4   8  LB        Karol Bielecki   23 January 1982 (aged 34)     2.02 m  244   \n",
       "\n",
       "   Goals                      Club  Goals per app  \n",
       "0      2  Poland Vive Targi Kielce       0.007168  \n",
       "1    409  Poland Vive Targi Kielce       2.364162  \n",
       "2    236  Poland Vive Targi Kielce       2.185185  \n",
       "3    132       Poland Azoty-Puławy       1.913043  \n",
       "4    891  Poland Vive Targi Kielce       3.651639  "
      ]
     },
     "execution_count": 51,
     "metadata": {},
     "output_type": "execute_result"
    }
   ],
   "source": [
    "handball_team.rename(\n",
    "    columns={ \"Height\": \"Raw Height\" },\n",
    "    inplace=True\n",
    ")\n",
    "handball_team.head()"
   ]
  },
  {
   "cell_type": "code",
   "execution_count": 52,
   "metadata": {
    "collapsed": false
   },
   "outputs": [
    {
     "data": {
      "text/html": [
       "<div>\n",
       "<table border=\"1\" class=\"dataframe\">\n",
       "  <thead>\n",
       "    <tr style=\"text-align: right;\">\n",
       "      <th></th>\n",
       "      <th>No</th>\n",
       "      <th>Pos</th>\n",
       "      <th>Name</th>\n",
       "      <th>Date of birth (age)</th>\n",
       "      <th>Raw Height</th>\n",
       "      <th>App</th>\n",
       "      <th>Goals</th>\n",
       "      <th>Club</th>\n",
       "      <th>Goals per app</th>\n",
       "      <th>Height</th>\n",
       "    </tr>\n",
       "  </thead>\n",
       "  <tbody>\n",
       "    <tr>\n",
       "      <th>0</th>\n",
       "      <td>1</td>\n",
       "      <td>GK</td>\n",
       "      <td>Sławomir Szmal</td>\n",
       "      <td>2 October 1978 (aged 37)</td>\n",
       "      <td>1.90 m</td>\n",
       "      <td>279</td>\n",
       "      <td>2</td>\n",
       "      <td>Poland Vive Targi Kielce</td>\n",
       "      <td>0.007168</td>\n",
       "      <td>1.90</td>\n",
       "    </tr>\n",
       "    <tr>\n",
       "      <th>1</th>\n",
       "      <td>3</td>\n",
       "      <td>RB</td>\n",
       "      <td>Krzysztof Lijewski</td>\n",
       "      <td>7 July 1983 (aged 33)</td>\n",
       "      <td>1.98 m</td>\n",
       "      <td>173</td>\n",
       "      <td>409</td>\n",
       "      <td>Poland Vive Targi Kielce</td>\n",
       "      <td>2.364162</td>\n",
       "      <td>1.98</td>\n",
       "    </tr>\n",
       "    <tr>\n",
       "      <th>2</th>\n",
       "      <td>5</td>\n",
       "      <td>RW</td>\n",
       "      <td>Mateusz Jachlewski</td>\n",
       "      <td>27 December 1984 (aged 31)</td>\n",
       "      <td>1.84 m</td>\n",
       "      <td>108</td>\n",
       "      <td>236</td>\n",
       "      <td>Poland Vive Targi Kielce</td>\n",
       "      <td>2.185185</td>\n",
       "      <td>1.84</td>\n",
       "    </tr>\n",
       "    <tr>\n",
       "      <th>3</th>\n",
       "      <td>6</td>\n",
       "      <td>LW</td>\n",
       "      <td>Przemysław Krajewski</td>\n",
       "      <td>20 January 1987 (aged 29)</td>\n",
       "      <td>1.84 m</td>\n",
       "      <td>69</td>\n",
       "      <td>132</td>\n",
       "      <td>Poland Azoty-Puławy</td>\n",
       "      <td>1.913043</td>\n",
       "      <td>1.84</td>\n",
       "    </tr>\n",
       "    <tr>\n",
       "      <th>4</th>\n",
       "      <td>8</td>\n",
       "      <td>LB</td>\n",
       "      <td>Karol Bielecki</td>\n",
       "      <td>23 January 1982 (aged 34)</td>\n",
       "      <td>2.02 m</td>\n",
       "      <td>244</td>\n",
       "      <td>891</td>\n",
       "      <td>Poland Vive Targi Kielce</td>\n",
       "      <td>3.651639</td>\n",
       "      <td>2.02</td>\n",
       "    </tr>\n",
       "  </tbody>\n",
       "</table>\n",
       "</div>"
      ],
      "text/plain": [
       "   No Pos                  Name         Date of birth (age) Raw Height  App  \\\n",
       "0   1  GK        Sławomir Szmal    2 October 1978 (aged 37)     1.90 m  279   \n",
       "1   3  RB    Krzysztof Lijewski       7 July 1983 (aged 33)     1.98 m  173   \n",
       "2   5  RW    Mateusz Jachlewski  27 December 1984 (aged 31)     1.84 m  108   \n",
       "3   6  LW  Przemysław Krajewski   20 January 1987 (aged 29)     1.84 m   69   \n",
       "4   8  LB        Karol Bielecki   23 January 1982 (aged 34)     2.02 m  244   \n",
       "\n",
       "   Goals                      Club  Goals per app  Height  \n",
       "0      2  Poland Vive Targi Kielce       0.007168    1.90  \n",
       "1    409  Poland Vive Targi Kielce       2.364162    1.98  \n",
       "2    236  Poland Vive Targi Kielce       2.185185    1.84  \n",
       "3    132       Poland Azoty-Puławy       1.913043    1.84  \n",
       "4    891  Poland Vive Targi Kielce       3.651639    2.02  "
      ]
     },
     "execution_count": 52,
     "metadata": {},
     "output_type": "execute_result"
    }
   ],
   "source": [
    "def parse_height(height):\n",
    "    return float(height.split(' ')[0])\n",
    "\n",
    "assert parse_height(\"1.90 m\") == 1.9\n",
    "\n",
    "handball_team['Height'] = handball_team['Raw Height'].map(parse_height)\n",
    "handball_team.head()"
   ]
  },
  {
   "cell_type": "code",
   "execution_count": 53,
   "metadata": {
    "collapsed": false
   },
   "outputs": [
    {
     "data": {
      "text/html": [
       "<div>\n",
       "<table border=\"1\" class=\"dataframe\">\n",
       "  <thead>\n",
       "    <tr style=\"text-align: right;\">\n",
       "      <th></th>\n",
       "      <th>No</th>\n",
       "      <th>Pos</th>\n",
       "      <th>Name</th>\n",
       "      <th>Date of birth (age)</th>\n",
       "      <th>Raw Height</th>\n",
       "      <th>App</th>\n",
       "      <th>Goals</th>\n",
       "      <th>Club</th>\n",
       "      <th>Goals per app</th>\n",
       "      <th>Height</th>\n",
       "    </tr>\n",
       "  </thead>\n",
       "  <tbody>\n",
       "    <tr>\n",
       "      <th>0</th>\n",
       "      <td>1</td>\n",
       "      <td>GK</td>\n",
       "      <td>Sławomir Szmal</td>\n",
       "      <td>2 October 1978 (aged 37)</td>\n",
       "      <td>1.90 m</td>\n",
       "      <td>279</td>\n",
       "      <td>2</td>\n",
       "      <td>Poland Vive Targi Kielce</td>\n",
       "      <td>0.007168</td>\n",
       "      <td>1.90</td>\n",
       "    </tr>\n",
       "    <tr>\n",
       "      <th>1</th>\n",
       "      <td>3</td>\n",
       "      <td>RB</td>\n",
       "      <td>Krzysztof Lijewski</td>\n",
       "      <td>7 July 1983 (aged 33)</td>\n",
       "      <td>1.98 m</td>\n",
       "      <td>173</td>\n",
       "      <td>409</td>\n",
       "      <td>Poland Vive Targi Kielce</td>\n",
       "      <td>2.364162</td>\n",
       "      <td>1.98</td>\n",
       "    </tr>\n",
       "    <tr>\n",
       "      <th>2</th>\n",
       "      <td>5</td>\n",
       "      <td>RW</td>\n",
       "      <td>Mateusz Jachlewski</td>\n",
       "      <td>27 December 1984 (aged 31)</td>\n",
       "      <td>1.84 m</td>\n",
       "      <td>108</td>\n",
       "      <td>236</td>\n",
       "      <td>Poland Vive Targi Kielce</td>\n",
       "      <td>2.185185</td>\n",
       "      <td>1.84</td>\n",
       "    </tr>\n",
       "    <tr>\n",
       "      <th>3</th>\n",
       "      <td>6</td>\n",
       "      <td>LW</td>\n",
       "      <td>Przemysław Krajewski</td>\n",
       "      <td>20 January 1987 (aged 29)</td>\n",
       "      <td>1.84 m</td>\n",
       "      <td>69</td>\n",
       "      <td>132</td>\n",
       "      <td>Poland Azoty-Puławy</td>\n",
       "      <td>1.913043</td>\n",
       "      <td>1.84</td>\n",
       "    </tr>\n",
       "    <tr>\n",
       "      <th>4</th>\n",
       "      <td>8</td>\n",
       "      <td>LB</td>\n",
       "      <td>Karol Bielecki</td>\n",
       "      <td>23 January 1982 (aged 34)</td>\n",
       "      <td>2.02 m</td>\n",
       "      <td>244</td>\n",
       "      <td>891</td>\n",
       "      <td>Poland Vive Targi Kielce</td>\n",
       "      <td>3.651639</td>\n",
       "      <td>2.02</td>\n",
       "    </tr>\n",
       "    <tr>\n",
       "      <th>6</th>\n",
       "      <td>13</td>\n",
       "      <td>P</td>\n",
       "      <td>Bartosz Jurecki</td>\n",
       "      <td>31 January 1979 (aged 37)</td>\n",
       "      <td>1.93 m</td>\n",
       "      <td>227</td>\n",
       "      <td>723</td>\n",
       "      <td>Poland Chrobry Głogów</td>\n",
       "      <td>3.185022</td>\n",
       "      <td>1.93</td>\n",
       "    </tr>\n",
       "    <tr>\n",
       "      <th>11</th>\n",
       "      <td>28</td>\n",
       "      <td>CB</td>\n",
       "      <td>Łukasz Gierak</td>\n",
       "      <td>22 June 1988 (aged 28)</td>\n",
       "      <td>1.92 m</td>\n",
       "      <td>6</td>\n",
       "      <td>6</td>\n",
       "      <td>Poland Pogoń Szczecin</td>\n",
       "      <td>1.000000</td>\n",
       "      <td>1.92</td>\n",
       "    </tr>\n",
       "  </tbody>\n",
       "</table>\n",
       "</div>"
      ],
      "text/plain": [
       "    No Pos                  Name         Date of birth (age) Raw Height  App  \\\n",
       "0    1  GK        Sławomir Szmal    2 October 1978 (aged 37)     1.90 m  279   \n",
       "1    3  RB    Krzysztof Lijewski       7 July 1983 (aged 33)     1.98 m  173   \n",
       "2    5  RW    Mateusz Jachlewski  27 December 1984 (aged 31)     1.84 m  108   \n",
       "3    6  LW  Przemysław Krajewski   20 January 1987 (aged 29)     1.84 m   69   \n",
       "4    8  LB        Karol Bielecki   23 January 1982 (aged 34)     2.02 m  244   \n",
       "6   13   P       Bartosz Jurecki   31 January 1979 (aged 37)     1.93 m  227   \n",
       "11  28  CB         Łukasz Gierak      22 June 1988 (aged 28)     1.92 m    6   \n",
       "\n",
       "    Goals                      Club  Goals per app  Height  \n",
       "0       2  Poland Vive Targi Kielce       0.007168    1.90  \n",
       "1     409  Poland Vive Targi Kielce       2.364162    1.98  \n",
       "2     236  Poland Vive Targi Kielce       2.185185    1.84  \n",
       "3     132       Poland Azoty-Puławy       1.913043    1.84  \n",
       "4     891  Poland Vive Targi Kielce       3.651639    2.02  \n",
       "6     723     Poland Chrobry Głogów       3.185022    1.93  \n",
       "11      6     Poland Pogoń Szczecin       1.000000    1.92  "
      ]
     },
     "execution_count": 53,
     "metadata": {},
     "output_type": "execute_result"
    }
   ],
   "source": [
    "dawid_df = handball_team[handball_team.columns]\n",
    "dawid_df"
   ]
  },
  {
   "cell_type": "code",
   "execution_count": 54,
   "metadata": {
    "collapsed": false
   },
   "outputs": [
    {
     "data": {
      "text/plain": [
       "1.8400000000000001"
      ]
     },
     "execution_count": 54,
     "metadata": {},
     "output_type": "execute_result"
    }
   ],
   "source": [
    "# Are you taller than the shortest among the team?\n",
    "handball_team['Height'].min()"
   ]
  },
  {
   "cell_type": "code",
   "execution_count": 55,
   "metadata": {
    "collapsed": false
   },
   "outputs": [
    {
     "data": {
      "text/html": [
       "<div>\n",
       "<table border=\"1\" class=\"dataframe\">\n",
       "  <thead>\n",
       "    <tr style=\"text-align: right;\">\n",
       "      <th></th>\n",
       "      <th>No</th>\n",
       "      <th>App</th>\n",
       "      <th>Goals</th>\n",
       "      <th>Goals per app</th>\n",
       "      <th>Height</th>\n",
       "    </tr>\n",
       "  </thead>\n",
       "  <tbody>\n",
       "    <tr>\n",
       "      <th>No</th>\n",
       "      <td>1.000000</td>\n",
       "      <td>-0.596062</td>\n",
       "      <td>-0.106002</td>\n",
       "      <td>-0.039228</td>\n",
       "      <td>0.081979</td>\n",
       "    </tr>\n",
       "    <tr>\n",
       "      <th>App</th>\n",
       "      <td>-0.596062</td>\n",
       "      <td>1.000000</td>\n",
       "      <td>0.514034</td>\n",
       "      <td>0.185077</td>\n",
       "      <td>0.468189</td>\n",
       "    </tr>\n",
       "    <tr>\n",
       "      <th>Goals</th>\n",
       "      <td>-0.106002</td>\n",
       "      <td>0.514034</td>\n",
       "      <td>1.000000</td>\n",
       "      <td>0.917728</td>\n",
       "      <td>0.674556</td>\n",
       "    </tr>\n",
       "    <tr>\n",
       "      <th>Goals per app</th>\n",
       "      <td>-0.039228</td>\n",
       "      <td>0.185077</td>\n",
       "      <td>0.917728</td>\n",
       "      <td>1.000000</td>\n",
       "      <td>0.463447</td>\n",
       "    </tr>\n",
       "    <tr>\n",
       "      <th>Height</th>\n",
       "      <td>0.081979</td>\n",
       "      <td>0.468189</td>\n",
       "      <td>0.674556</td>\n",
       "      <td>0.463447</td>\n",
       "      <td>1.000000</td>\n",
       "    </tr>\n",
       "  </tbody>\n",
       "</table>\n",
       "</div>"
      ],
      "text/plain": [
       "                     No       App     Goals  Goals per app    Height\n",
       "No             1.000000 -0.596062 -0.106002      -0.039228  0.081979\n",
       "App           -0.596062  1.000000  0.514034       0.185077  0.468189\n",
       "Goals         -0.106002  0.514034  1.000000       0.917728  0.674556\n",
       "Goals per app -0.039228  0.185077  0.917728       1.000000  0.463447\n",
       "Height         0.081979  0.468189  0.674556       0.463447  1.000000"
      ]
     },
     "execution_count": 55,
     "metadata": {},
     "output_type": "execute_result"
    }
   ],
   "source": [
    "# Is height correlated with scoring goals?\n",
    "handball_team.corr()"
   ]
  },
  {
   "cell_type": "code",
   "execution_count": 56,
   "metadata": {
    "collapsed": false
   },
   "outputs": [
    {
     "data": {
      "text/plain": [
       "No                       int64\n",
       "Pos                     object\n",
       "Name                    object\n",
       "Date of birth (age)     object\n",
       "Raw Height              object\n",
       "App                      int64\n",
       "Goals                    int64\n",
       "Club                    object\n",
       "Goals per app          float64\n",
       "Height                 float64\n",
       "dtype: object"
      ]
     },
     "execution_count": 56,
     "metadata": {},
     "output_type": "execute_result"
    }
   ],
   "source": [
    "handball_team.dtypes"
   ]
  },
  {
   "cell_type": "code",
   "execution_count": 57,
   "metadata": {
    "collapsed": false
   },
   "outputs": [
    {
     "data": {
      "text/html": [
       "<div>\n",
       "<table border=\"1\" class=\"dataframe\">\n",
       "  <thead>\n",
       "    <tr style=\"text-align: right;\">\n",
       "      <th></th>\n",
       "      <th>No</th>\n",
       "      <th>Pos</th>\n",
       "      <th>Name</th>\n",
       "      <th>Date of birth (age)</th>\n",
       "      <th>App</th>\n",
       "      <th>Goals</th>\n",
       "      <th>Club</th>\n",
       "      <th>Goals per app</th>\n",
       "      <th>Height</th>\n",
       "    </tr>\n",
       "  </thead>\n",
       "  <tbody>\n",
       "    <tr>\n",
       "      <th>0</th>\n",
       "      <td>1</td>\n",
       "      <td>GK</td>\n",
       "      <td>Sławomir Szmal</td>\n",
       "      <td>2 October 1978 (aged 37)</td>\n",
       "      <td>279</td>\n",
       "      <td>2</td>\n",
       "      <td>Poland Vive Targi Kielce</td>\n",
       "      <td>0.007168</td>\n",
       "      <td>1.90</td>\n",
       "    </tr>\n",
       "    <tr>\n",
       "      <th>1</th>\n",
       "      <td>3</td>\n",
       "      <td>RB</td>\n",
       "      <td>Krzysztof Lijewski</td>\n",
       "      <td>7 July 1983 (aged 33)</td>\n",
       "      <td>173</td>\n",
       "      <td>409</td>\n",
       "      <td>Poland Vive Targi Kielce</td>\n",
       "      <td>2.364162</td>\n",
       "      <td>1.98</td>\n",
       "    </tr>\n",
       "    <tr>\n",
       "      <th>2</th>\n",
       "      <td>5</td>\n",
       "      <td>RW</td>\n",
       "      <td>Mateusz Jachlewski</td>\n",
       "      <td>27 December 1984 (aged 31)</td>\n",
       "      <td>108</td>\n",
       "      <td>236</td>\n",
       "      <td>Poland Vive Targi Kielce</td>\n",
       "      <td>2.185185</td>\n",
       "      <td>1.84</td>\n",
       "    </tr>\n",
       "    <tr>\n",
       "      <th>3</th>\n",
       "      <td>6</td>\n",
       "      <td>LW</td>\n",
       "      <td>Przemysław Krajewski</td>\n",
       "      <td>20 January 1987 (aged 29)</td>\n",
       "      <td>69</td>\n",
       "      <td>132</td>\n",
       "      <td>Poland Azoty-Puławy</td>\n",
       "      <td>1.913043</td>\n",
       "      <td>1.84</td>\n",
       "    </tr>\n",
       "    <tr>\n",
       "      <th>4</th>\n",
       "      <td>8</td>\n",
       "      <td>LB</td>\n",
       "      <td>Karol Bielecki</td>\n",
       "      <td>23 January 1982 (aged 34)</td>\n",
       "      <td>244</td>\n",
       "      <td>891</td>\n",
       "      <td>Poland Vive Targi Kielce</td>\n",
       "      <td>3.651639</td>\n",
       "      <td>2.02</td>\n",
       "    </tr>\n",
       "  </tbody>\n",
       "</table>\n",
       "</div>"
      ],
      "text/plain": [
       "   No Pos                  Name         Date of birth (age)  App  Goals  \\\n",
       "0   1  GK        Sławomir Szmal    2 October 1978 (aged 37)  279      2   \n",
       "1   3  RB    Krzysztof Lijewski       7 July 1983 (aged 33)  173    409   \n",
       "2   5  RW    Mateusz Jachlewski  27 December 1984 (aged 31)  108    236   \n",
       "3   6  LW  Przemysław Krajewski   20 January 1987 (aged 29)   69    132   \n",
       "4   8  LB        Karol Bielecki   23 January 1982 (aged 34)  244    891   \n",
       "\n",
       "                       Club  Goals per app  Height  \n",
       "0  Poland Vive Targi Kielce       0.007168    1.90  \n",
       "1  Poland Vive Targi Kielce       2.364162    1.98  \n",
       "2  Poland Vive Targi Kielce       2.185185    1.84  \n",
       "3       Poland Azoty-Puławy       1.913043    1.84  \n",
       "4  Poland Vive Targi Kielce       3.651639    2.02  "
      ]
     },
     "execution_count": 57,
     "metadata": {},
     "output_type": "execute_result"
    }
   ],
   "source": [
    "del handball_team['Raw Height']\n",
    "# ..or\n",
    "# handball_team[[x for x in handball_team.columns if x not in ['Raw Height']]]\n",
    "handball_team.head()"
   ]
  },
  {
   "cell_type": "markdown",
   "metadata": {},
   "source": [
    "### Data visualization"
   ]
  },
  {
   "cell_type": "code",
   "execution_count": 58,
   "metadata": {
    "collapsed": false
   },
   "outputs": [],
   "source": [
    "%matplotlib inline"
   ]
  },
  {
   "cell_type": "code",
   "execution_count": 59,
   "metadata": {
    "collapsed": false
   },
   "outputs": [
    {
     "data": {
      "text/plain": [
       "<matplotlib.axes._subplots.AxesSubplot at 0x112a95510>"
      ]
     },
     "execution_count": 59,
     "metadata": {},
     "output_type": "execute_result"
    },
    {
     "data": {
      "image/png": "[encoded data removed]",
      "text/plain": [
       "<matplotlib.figure.Figure at 0x112a83e50>"
      ]
     },
     "metadata": {},
     "output_type": "display_data"
    }
   ],
   "source": [
    "handball_team.plot(title='Some crappy plot')"
   ]
  },
  {
   "cell_type": "code",
   "execution_count": 60,
   "metadata": {
    "collapsed": false
   },
   "outputs": [
    {
     "data": {
      "text/html": [
       "<div>\n",
       "<table border=\"1\" class=\"dataframe\">\n",
       "  <thead>\n",
       "    <tr style=\"text-align: right;\">\n",
       "      <th></th>\n",
       "      <th>Pos</th>\n",
       "      <th>Date of birth (age)</th>\n",
       "      <th>App</th>\n",
       "      <th>Goals</th>\n",
       "      <th>Club</th>\n",
       "      <th>Goals per app</th>\n",
       "      <th>Height</th>\n",
       "    </tr>\n",
       "    <tr>\n",
       "      <th>Name</th>\n",
       "      <th></th>\n",
       "      <th></th>\n",
       "      <th></th>\n",
       "      <th></th>\n",
       "      <th></th>\n",
       "      <th></th>\n",
       "      <th></th>\n",
       "    </tr>\n",
       "  </thead>\n",
       "  <tbody>\n",
       "    <tr>\n",
       "      <th>Sławomir Szmal</th>\n",
       "      <td>GK</td>\n",
       "      <td>2 October 1978 (aged 37)</td>\n",
       "      <td>279</td>\n",
       "      <td>2</td>\n",
       "      <td>Poland Vive Targi Kielce</td>\n",
       "      <td>0.007168</td>\n",
       "      <td>1.90</td>\n",
       "    </tr>\n",
       "    <tr>\n",
       "      <th>Krzysztof Lijewski</th>\n",
       "      <td>RB</td>\n",
       "      <td>7 July 1983 (aged 33)</td>\n",
       "      <td>173</td>\n",
       "      <td>409</td>\n",
       "      <td>Poland Vive Targi Kielce</td>\n",
       "      <td>2.364162</td>\n",
       "      <td>1.98</td>\n",
       "    </tr>\n",
       "    <tr>\n",
       "      <th>Mateusz Jachlewski</th>\n",
       "      <td>RW</td>\n",
       "      <td>27 December 1984 (aged 31)</td>\n",
       "      <td>108</td>\n",
       "      <td>236</td>\n",
       "      <td>Poland Vive Targi Kielce</td>\n",
       "      <td>2.185185</td>\n",
       "      <td>1.84</td>\n",
       "    </tr>\n",
       "    <tr>\n",
       "      <th>Przemysław Krajewski</th>\n",
       "      <td>LW</td>\n",
       "      <td>20 January 1987 (aged 29)</td>\n",
       "      <td>69</td>\n",
       "      <td>132</td>\n",
       "      <td>Poland Azoty-Puławy</td>\n",
       "      <td>1.913043</td>\n",
       "      <td>1.84</td>\n",
       "    </tr>\n",
       "    <tr>\n",
       "      <th>Karol Bielecki</th>\n",
       "      <td>LB</td>\n",
       "      <td>23 January 1982 (aged 34)</td>\n",
       "      <td>244</td>\n",
       "      <td>891</td>\n",
       "      <td>Poland Vive Targi Kielce</td>\n",
       "      <td>3.651639</td>\n",
       "      <td>2.02</td>\n",
       "    </tr>\n",
       "  </tbody>\n",
       "</table>\n",
       "</div>"
      ],
      "text/plain": [
       "                     Pos         Date of birth (age)  App  Goals  \\\n",
       "Name                                                               \n",
       "Sławomir Szmal        GK    2 October 1978 (aged 37)  279      2   \n",
       "Krzysztof Lijewski    RB       7 July 1983 (aged 33)  173    409   \n",
       "Mateusz Jachlewski    RW  27 December 1984 (aged 31)  108    236   \n",
       "Przemysław Krajewski  LW   20 January 1987 (aged 29)   69    132   \n",
       "Karol Bielecki        LB   23 January 1982 (aged 34)  244    891   \n",
       "\n",
       "                                          Club  Goals per app  Height  \n",
       "Name                                                                   \n",
       "Sławomir Szmal        Poland Vive Targi Kielce       0.007168    1.90  \n",
       "Krzysztof Lijewski    Poland Vive Targi Kielce       2.364162    1.98  \n",
       "Mateusz Jachlewski    Poland Vive Targi Kielce       2.185185    1.84  \n",
       "Przemysław Krajewski       Poland Azoty-Puławy       1.913043    1.84  \n",
       "Karol Bielecki        Poland Vive Targi Kielce       3.651639    2.02  "
      ]
     },
     "execution_count": 60,
     "metadata": {},
     "output_type": "execute_result"
    }
   ],
   "source": [
    "plot_friendly_team = handball_team.set_index('Name')\n",
    "del plot_friendly_team['No']\n",
    "plot_friendly_team.head()"
   ]
  },
  {
   "cell_type": "code",
   "execution_count": 61,
   "metadata": {
    "collapsed": false
   },
   "outputs": [
    {
     "data": {
      "text/plain": [
       "<matplotlib.axes._subplots.AxesSubplot at 0x112a0cf50>"
      ]
     },
     "execution_count": 61,
     "metadata": {},
     "output_type": "execute_result"
    },
    {
     "data": {
      "image/png": "[encoded data removed]",
      "text/plain": [
       "<matplotlib.figure.Figure at 0x108e38810>"
      ]
     },
     "metadata": {},
     "output_type": "display_data"
    }
   ],
   "source": [
    "plot_friendly_team.plot(kind='bar', figsize=(16, 5))"
   ]
  },
  {
   "cell_type": "code",
   "execution_count": 62,
   "metadata": {
    "collapsed": false
   },
   "outputs": [
    {
     "data": {
      "text/plain": [
       "array([<matplotlib.axes._subplots.AxesSubplot object at 0x112da4a50>,\n",
       "       <matplotlib.axes._subplots.AxesSubplot object at 0x112e5cd10>,\n",
       "       <matplotlib.axes._subplots.AxesSubplot object at 0x112ee1a50>,\n",
       "       <matplotlib.axes._subplots.AxesSubplot object at 0x112f44ed0>], dtype=object)"
      ]
     },
     "execution_count": 62,
     "metadata": {},
     "output_type": "execute_result"
    },
    {
     "data": {
      "image/png": "[encoded data removed]",
      "text/plain": [
       "<matplotlib.figure.Figure at 0x112dbed10>"
      ]
     },
     "metadata": {},
     "output_type": "display_data"
    }
   ],
   "source": [
    "plot_friendly_team.plot(kind='bar', subplots=True, figsize=(10, 10))"
   ]
  },
  {
   "cell_type": "code",
   "execution_count": 63,
   "metadata": {
    "collapsed": false
   },
   "outputs": [
    {
     "data": {
      "text/plain": [
       "<matplotlib.axes._subplots.AxesSubplot at 0x112bbe590>"
      ]
     },
     "execution_count": 63,
     "metadata": {},
     "output_type": "execute_result"
    },
    {
     "data": {
      "image/png": "[encoded data removed]",
      "text/plain": [
       "<matplotlib.figure.Figure at 0x112ff0290>"
      ]
     },
     "metadata": {},
     "output_type": "display_data"
    }
   ],
   "source": [
    "# goals of first 5 players \n",
    "plot_friendly_team.head()['Goals'].plot(kind='bar')"
   ]
  },
  {
   "cell_type": "code",
   "execution_count": 64,
   "metadata": {
    "collapsed": false
   },
   "outputs": [
    {
     "data": {
      "text/plain": [
       "array([[<matplotlib.axes._subplots.AxesSubplot object at 0x11329df90>,\n",
       "        <matplotlib.axes._subplots.AxesSubplot object at 0x1133c8f90>],\n",
       "       [<matplotlib.axes._subplots.AxesSubplot object at 0x11344be10>,\n",
       "        <matplotlib.axes._subplots.AxesSubplot object at 0x1134bc410>]], dtype=object)"
      ]
     },
     "execution_count": 64,
     "metadata": {},
     "output_type": "execute_result"
    },
    {
     "data": {
      "image/png": "[encoded data removed]",
      "text/plain": [
       "<matplotlib.figure.Figure at 0x112dbe450>"
      ]
     },
     "metadata": {},
     "output_type": "display_data"
    }
   ],
   "source": [
    "plot_friendly_team.hist(figsize=(10, 10))"
   ]
  },
  {
   "cell_type": "markdown",
   "metadata": {},
   "source": [
    "###  Mutating row(s)"
   ]
  },
  {
   "cell_type": "code",
   "execution_count": 65,
   "metadata": {
    "collapsed": false
   },
   "outputs": [
    {
     "data": {
      "text/html": [
       "<div>\n",
       "<table border=\"1\" class=\"dataframe\">\n",
       "  <thead>\n",
       "    <tr style=\"text-align: right;\">\n",
       "      <th></th>\n",
       "      <th>hero</th>\n",
       "      <th>strength</th>\n",
       "    </tr>\n",
       "  </thead>\n",
       "  <tbody>\n",
       "    <tr>\n",
       "      <th>0</th>\n",
       "      <td>Batman</td>\n",
       "      <td>400</td>\n",
       "    </tr>\n",
       "    <tr>\n",
       "      <th>1</th>\n",
       "      <td>Robin</td>\n",
       "      <td>200</td>\n",
       "    </tr>\n",
       "    <tr>\n",
       "      <th>2</th>\n",
       "      <td>Spiderman</td>\n",
       "      <td>3000</td>\n",
       "    </tr>\n",
       "    <tr>\n",
       "      <th>3</th>\n",
       "      <td>Robocop</td>\n",
       "      <td>400</td>\n",
       "    </tr>\n",
       "    <tr>\n",
       "      <th>4</th>\n",
       "      <td>Terminator</td>\n",
       "      <td>500</td>\n",
       "    </tr>\n",
       "  </tbody>\n",
       "</table>\n",
       "</div>"
      ],
      "text/plain": [
       "         hero  strength\n",
       "0      Batman       400\n",
       "1       Robin       200\n",
       "2   Spiderman      3000\n",
       "3     Robocop       400\n",
       "4  Terminator       500"
      ]
     },
     "execution_count": 65,
     "metadata": {},
     "output_type": "execute_result"
    }
   ],
   "source": [
    "heroes.loc[2, 'strength'] = 3000\n",
    "heroes"
   ]
  },
  {
   "cell_type": "code",
   "execution_count": 66,
   "metadata": {
    "collapsed": false
   },
   "outputs": [
    {
     "data": {
      "text/html": [
       "<div>\n",
       "<table border=\"1\" class=\"dataframe\">\n",
       "  <thead>\n",
       "    <tr style=\"text-align: right;\">\n",
       "      <th></th>\n",
       "      <th>strength</th>\n",
       "    </tr>\n",
       "    <tr>\n",
       "      <th>hero</th>\n",
       "      <th></th>\n",
       "    </tr>\n",
       "  </thead>\n",
       "  <tbody>\n",
       "    <tr>\n",
       "      <th>Batman</th>\n",
       "      <td>400</td>\n",
       "    </tr>\n",
       "    <tr>\n",
       "      <th>Robin</th>\n",
       "      <td>4000</td>\n",
       "    </tr>\n",
       "    <tr>\n",
       "      <th>Spiderman</th>\n",
       "      <td>3000</td>\n",
       "    </tr>\n",
       "    <tr>\n",
       "      <th>Robocop</th>\n",
       "      <td>400</td>\n",
       "    </tr>\n",
       "    <tr>\n",
       "      <th>Terminator</th>\n",
       "      <td>500</td>\n",
       "    </tr>\n",
       "  </tbody>\n",
       "</table>\n",
       "</div>"
      ],
      "text/plain": [
       "            strength\n",
       "hero                \n",
       "Batman           400\n",
       "Robin           4000\n",
       "Spiderman       3000\n",
       "Robocop          400\n",
       "Terminator       500"
      ]
     },
     "execution_count": 66,
     "metadata": {},
     "output_type": "execute_result"
    }
   ],
   "source": [
    "indexed_heroes = heroes.set_index('hero')\n",
    "\n",
    "indexed_heroes.loc[\"Robin\", \"strength\"] = 4000\n",
    "indexed_heroes"
   ]
  },
  {
   "cell_type": "code",
   "execution_count": 67,
   "metadata": {
    "collapsed": false
   },
   "outputs": [
    {
     "data": {
      "text/html": [
       "<div>\n",
       "<table border=\"1\" class=\"dataframe\">\n",
       "  <thead>\n",
       "    <tr style=\"text-align: right;\">\n",
       "      <th></th>\n",
       "      <th>hero</th>\n",
       "      <th>strength</th>\n",
       "    </tr>\n",
       "  </thead>\n",
       "  <tbody>\n",
       "    <tr>\n",
       "      <th>0</th>\n",
       "      <td>Batman</td>\n",
       "      <td>30</td>\n",
       "    </tr>\n",
       "    <tr>\n",
       "      <th>1</th>\n",
       "      <td>Robin</td>\n",
       "      <td>30</td>\n",
       "    </tr>\n",
       "    <tr>\n",
       "      <th>2</th>\n",
       "      <td>Spiderman</td>\n",
       "      <td>30</td>\n",
       "    </tr>\n",
       "    <tr>\n",
       "      <th>3</th>\n",
       "      <td>Robocop</td>\n",
       "      <td>30</td>\n",
       "    </tr>\n",
       "    <tr>\n",
       "      <th>4</th>\n",
       "      <td>Terminator</td>\n",
       "      <td>500</td>\n",
       "    </tr>\n",
       "  </tbody>\n",
       "</table>\n",
       "</div>"
      ],
      "text/plain": [
       "         hero  strength\n",
       "0      Batman        30\n",
       "1       Robin        30\n",
       "2   Spiderman        30\n",
       "3     Robocop        30\n",
       "4  Terminator       500"
      ]
     },
     "execution_count": 67,
     "metadata": {},
     "output_type": "execute_result"
    }
   ],
   "source": [
    "heroes.loc[0:3, \"strength\"] = 30\n",
    "heroes"
   ]
  },
  {
   "cell_type": "markdown",
   "metadata": {},
   "source": [
    "### Looping"
   ]
  },
  {
   "cell_type": "code",
   "execution_count": 68,
   "metadata": {
    "collapsed": false
   },
   "outputs": [
    {
     "name": "stdout",
     "output_type": "stream",
     "text": [
      "Row:\n",
      "hero        Batman\n",
      "strength        30\n",
      "Name: 0, dtype: object \n",
      "\n",
      "Row:\n",
      "hero        Robin\n",
      "strength       30\n",
      "Name: 1, dtype: object \n",
      "\n",
      "Row:\n",
      "hero        Spiderman\n",
      "strength           30\n",
      "Name: 2, dtype: object \n",
      "\n",
      "Row:\n",
      "hero        Robocop\n",
      "strength         30\n",
      "Name: 3, dtype: object \n",
      "\n",
      "Row:\n",
      "hero        Terminator\n",
      "strength           500\n",
      "Name: 4, dtype: object \n",
      "\n"
     ]
    }
   ],
   "source": [
    "for idx, row in heroes.iterrows():\n",
    "    print 'Row:\\n', row, '\\n'"
   ]
  },
  {
   "cell_type": "code",
   "execution_count": 69,
   "metadata": {
    "collapsed": false
   },
   "outputs": [
    {
     "data": {
      "text/html": [
       "<div>\n",
       "<table border=\"1\" class=\"dataframe\">\n",
       "  <thead>\n",
       "    <tr style=\"text-align: right;\">\n",
       "      <th></th>\n",
       "      <th>hero</th>\n",
       "      <th>strength</th>\n",
       "    </tr>\n",
       "  </thead>\n",
       "  <tbody>\n",
       "    <tr>\n",
       "      <th>0</th>\n",
       "      <td>Batman</td>\n",
       "      <td>30</td>\n",
       "    </tr>\n",
       "    <tr>\n",
       "      <th>1</th>\n",
       "      <td>Robin</td>\n",
       "      <td>5000</td>\n",
       "    </tr>\n",
       "    <tr>\n",
       "      <th>2</th>\n",
       "      <td>Spiderman</td>\n",
       "      <td>30</td>\n",
       "    </tr>\n",
       "    <tr>\n",
       "      <th>3</th>\n",
       "      <td>Robocop</td>\n",
       "      <td>5000</td>\n",
       "    </tr>\n",
       "    <tr>\n",
       "      <th>4</th>\n",
       "      <td>Terminator</td>\n",
       "      <td>5000</td>\n",
       "    </tr>\n",
       "  </tbody>\n",
       "</table>\n",
       "</div>"
      ],
      "text/plain": [
       "         hero  strength\n",
       "0      Batman        30\n",
       "1       Robin      5000\n",
       "2   Spiderman        30\n",
       "3     Robocop      5000\n",
       "4  Terminator      5000"
      ]
     },
     "execution_count": 69,
     "metadata": {},
     "output_type": "execute_result"
    }
   ],
   "source": [
    "for idx, row in heroes.iterrows():\n",
    "    if 'o' in row['hero']:\n",
    "        heroes.loc[idx, 'strength'] = 5000\n",
    "\n",
    "heroes"
   ]
  },
  {
   "cell_type": "markdown",
   "metadata": {},
   "source": [
    "# Wildlife"
   ]
  },
  {
   "cell_type": "markdown",
   "metadata": {
    "collapsed": true
   },
   "source": [
    "### json-csv converter"
   ]
  },
  {
   "cell_type": "code",
   "execution_count": 70,
   "metadata": {
    "collapsed": true
   },
   "outputs": [],
   "source": [
    "def convert(input_path, output_path):\n",
    "    pd.read_json(input_path) \\\n",
    "        .to_csv(\n",
    "            output_path,\n",
    "            index=False\n",
    "        )\n",
    "    return True"
   ]
  },
  {
   "cell_type": "code",
   "execution_count": 71,
   "metadata": {
    "collapsed": false
   },
   "outputs": [
    {
     "data": {
      "text/plain": [
       "True"
      ]
     },
     "execution_count": 71,
     "metadata": {},
     "output_type": "execute_result"
    }
   ],
   "source": [
    "convert('data/tiny.json', 'data/converted-tiny.csv')"
   ]
  },
  {
   "cell_type": "markdown",
   "metadata": {},
   "source": [
    "### missing values"
   ]
  },
  {
   "cell_type": "code",
   "execution_count": 72,
   "metadata": {
    "collapsed": false
   },
   "outputs": [
    {
     "name": "stdout",
     "output_type": "stream",
     "text": [
      "height,name,weight\r\n",
      "174,Jacek,75\r\n",
      "181,Tomek,\r\n",
      "210,Romek,91\r\n",
      ",Janek,92\r\n",
      "176,Darek,73\r\n",
      ",Czarek,\r\n"
     ]
    }
   ],
   "source": [
    "!cat data/tiny_with_missing.csv"
   ]
  },
  {
   "cell_type": "code",
   "execution_count": 73,
   "metadata": {
    "collapsed": false
   },
   "outputs": [
    {
     "data": {
      "text/html": [
       "<div>\n",
       "<table border=\"1\" class=\"dataframe\">\n",
       "  <thead>\n",
       "    <tr style=\"text-align: right;\">\n",
       "      <th></th>\n",
       "      <th>height</th>\n",
       "      <th>name</th>\n",
       "      <th>weight</th>\n",
       "    </tr>\n",
       "  </thead>\n",
       "  <tbody>\n",
       "    <tr>\n",
       "      <th>0</th>\n",
       "      <td>174.0</td>\n",
       "      <td>Jacek</td>\n",
       "      <td>75.0</td>\n",
       "    </tr>\n",
       "    <tr>\n",
       "      <th>1</th>\n",
       "      <td>181.0</td>\n",
       "      <td>Tomek</td>\n",
       "      <td>NaN</td>\n",
       "    </tr>\n",
       "    <tr>\n",
       "      <th>2</th>\n",
       "      <td>210.0</td>\n",
       "      <td>Romek</td>\n",
       "      <td>91.0</td>\n",
       "    </tr>\n",
       "    <tr>\n",
       "      <th>3</th>\n",
       "      <td>NaN</td>\n",
       "      <td>Janek</td>\n",
       "      <td>92.0</td>\n",
       "    </tr>\n",
       "    <tr>\n",
       "      <th>4</th>\n",
       "      <td>176.0</td>\n",
       "      <td>Darek</td>\n",
       "      <td>73.0</td>\n",
       "    </tr>\n",
       "    <tr>\n",
       "      <th>5</th>\n",
       "      <td>NaN</td>\n",
       "      <td>Czarek</td>\n",
       "      <td>NaN</td>\n",
       "    </tr>\n",
       "  </tbody>\n",
       "</table>\n",
       "</div>"
      ],
      "text/plain": [
       "   height    name  weight\n",
       "0   174.0   Jacek    75.0\n",
       "1   181.0   Tomek     NaN\n",
       "2   210.0   Romek    91.0\n",
       "3     NaN   Janek    92.0\n",
       "4   176.0   Darek    73.0\n",
       "5     NaN  Czarek     NaN"
      ]
     },
     "execution_count": 73,
     "metadata": {},
     "output_type": "execute_result"
    }
   ],
   "source": [
    "with_missing = pd.read_csv('data/tiny_with_missing.csv')\n",
    "with_missing"
   ]
  },
  {
   "cell_type": "code",
   "execution_count": 74,
   "metadata": {
    "collapsed": false
   },
   "outputs": [
    {
     "data": {
      "text/html": [
       "<div>\n",
       "<table border=\"1\" class=\"dataframe\">\n",
       "  <thead>\n",
       "    <tr style=\"text-align: right;\">\n",
       "      <th></th>\n",
       "      <th>height</th>\n",
       "      <th>name</th>\n",
       "      <th>weight</th>\n",
       "    </tr>\n",
       "  </thead>\n",
       "  <tbody>\n",
       "    <tr>\n",
       "      <th>0</th>\n",
       "      <td>174.0</td>\n",
       "      <td>Jacek</td>\n",
       "      <td>75.0</td>\n",
       "    </tr>\n",
       "    <tr>\n",
       "      <th>2</th>\n",
       "      <td>210.0</td>\n",
       "      <td>Romek</td>\n",
       "      <td>91.0</td>\n",
       "    </tr>\n",
       "    <tr>\n",
       "      <th>4</th>\n",
       "      <td>176.0</td>\n",
       "      <td>Darek</td>\n",
       "      <td>73.0</td>\n",
       "    </tr>\n",
       "  </tbody>\n",
       "</table>\n",
       "</div>"
      ],
      "text/plain": [
       "   height   name  weight\n",
       "0   174.0  Jacek    75.0\n",
       "2   210.0  Romek    91.0\n",
       "4   176.0  Darek    73.0"
      ]
     },
     "execution_count": 74,
     "metadata": {},
     "output_type": "execute_result"
    }
   ],
   "source": [
    "with_missing.dropna()"
   ]
  },
  {
   "cell_type": "code",
   "execution_count": 75,
   "metadata": {
    "collapsed": false
   },
   "outputs": [
    {
     "data": {
      "text/html": [
       "<div>\n",
       "<table border=\"1\" class=\"dataframe\">\n",
       "  <thead>\n",
       "    <tr style=\"text-align: right;\">\n",
       "      <th></th>\n",
       "      <th>height</th>\n",
       "      <th>name</th>\n",
       "      <th>weight</th>\n",
       "    </tr>\n",
       "  </thead>\n",
       "  <tbody>\n",
       "    <tr>\n",
       "      <th>0</th>\n",
       "      <td>174.0</td>\n",
       "      <td>Jacek</td>\n",
       "      <td>75.0</td>\n",
       "    </tr>\n",
       "    <tr>\n",
       "      <th>1</th>\n",
       "      <td>181.0</td>\n",
       "      <td>Tomek</td>\n",
       "      <td>0.0</td>\n",
       "    </tr>\n",
       "    <tr>\n",
       "      <th>2</th>\n",
       "      <td>210.0</td>\n",
       "      <td>Romek</td>\n",
       "      <td>91.0</td>\n",
       "    </tr>\n",
       "    <tr>\n",
       "      <th>3</th>\n",
       "      <td>0.0</td>\n",
       "      <td>Janek</td>\n",
       "      <td>92.0</td>\n",
       "    </tr>\n",
       "    <tr>\n",
       "      <th>4</th>\n",
       "      <td>176.0</td>\n",
       "      <td>Darek</td>\n",
       "      <td>73.0</td>\n",
       "    </tr>\n",
       "    <tr>\n",
       "      <th>5</th>\n",
       "      <td>0.0</td>\n",
       "      <td>Czarek</td>\n",
       "      <td>0.0</td>\n",
       "    </tr>\n",
       "  </tbody>\n",
       "</table>\n",
       "</div>"
      ],
      "text/plain": [
       "   height    name  weight\n",
       "0   174.0   Jacek    75.0\n",
       "1   181.0   Tomek     0.0\n",
       "2   210.0   Romek    91.0\n",
       "3     0.0   Janek    92.0\n",
       "4   176.0   Darek    73.0\n",
       "5     0.0  Czarek     0.0"
      ]
     },
     "execution_count": 75,
     "metadata": {},
     "output_type": "execute_result"
    }
   ],
   "source": [
    "with_missing.fillna(0)"
   ]
  },
  {
   "cell_type": "code",
   "execution_count": 76,
   "metadata": {
    "collapsed": false
   },
   "outputs": [
    {
     "data": {
      "text/html": [
       "<div>\n",
       "<table border=\"1\" class=\"dataframe\">\n",
       "  <thead>\n",
       "    <tr style=\"text-align: right;\">\n",
       "      <th></th>\n",
       "      <th>height</th>\n",
       "      <th>name</th>\n",
       "      <th>weight</th>\n",
       "    </tr>\n",
       "  </thead>\n",
       "  <tbody>\n",
       "    <tr>\n",
       "      <th>0</th>\n",
       "      <td>174.0</td>\n",
       "      <td>Jacek</td>\n",
       "      <td>75.0</td>\n",
       "    </tr>\n",
       "    <tr>\n",
       "      <th>1</th>\n",
       "      <td>181.0</td>\n",
       "      <td>Tomek</td>\n",
       "      <td>20.0</td>\n",
       "    </tr>\n",
       "    <tr>\n",
       "      <th>2</th>\n",
       "      <td>210.0</td>\n",
       "      <td>Romek</td>\n",
       "      <td>91.0</td>\n",
       "    </tr>\n",
       "    <tr>\n",
       "      <th>3</th>\n",
       "      <td>10.0</td>\n",
       "      <td>Janek</td>\n",
       "      <td>92.0</td>\n",
       "    </tr>\n",
       "    <tr>\n",
       "      <th>4</th>\n",
       "      <td>176.0</td>\n",
       "      <td>Darek</td>\n",
       "      <td>73.0</td>\n",
       "    </tr>\n",
       "    <tr>\n",
       "      <th>5</th>\n",
       "      <td>10.0</td>\n",
       "      <td>Czarek</td>\n",
       "      <td>20.0</td>\n",
       "    </tr>\n",
       "  </tbody>\n",
       "</table>\n",
       "</div>"
      ],
      "text/plain": [
       "   height    name  weight\n",
       "0   174.0   Jacek    75.0\n",
       "1   181.0   Tomek    20.0\n",
       "2   210.0   Romek    91.0\n",
       "3    10.0   Janek    92.0\n",
       "4   176.0   Darek    73.0\n",
       "5    10.0  Czarek    20.0"
      ]
     },
     "execution_count": 76,
     "metadata": {},
     "output_type": "execute_result"
    }
   ],
   "source": [
    "with_missing.fillna({\n",
    "    'height': 10,\n",
    "    'weight': 20\n",
    "})"
   ]
  },
  {
   "cell_type": "code",
   "execution_count": 77,
   "metadata": {
    "collapsed": false
   },
   "outputs": [
    {
     "data": {
      "text/plain": [
       "height    185.25\n",
       "weight     82.75\n",
       "dtype: float64"
      ]
     },
     "execution_count": 77,
     "metadata": {},
     "output_type": "execute_result"
    }
   ],
   "source": [
    "with_missing.mean()"
   ]
  },
  {
   "cell_type": "code",
   "execution_count": 78,
   "metadata": {
    "collapsed": false
   },
   "outputs": [
    {
     "data": {
      "text/html": [
       "<div>\n",
       "<table border=\"1\" class=\"dataframe\">\n",
       "  <thead>\n",
       "    <tr style=\"text-align: right;\">\n",
       "      <th></th>\n",
       "      <th>height</th>\n",
       "      <th>name</th>\n",
       "      <th>weight</th>\n",
       "    </tr>\n",
       "  </thead>\n",
       "  <tbody>\n",
       "    <tr>\n",
       "      <th>0</th>\n",
       "      <td>174.00</td>\n",
       "      <td>Jacek</td>\n",
       "      <td>75.00</td>\n",
       "    </tr>\n",
       "    <tr>\n",
       "      <th>1</th>\n",
       "      <td>181.00</td>\n",
       "      <td>Tomek</td>\n",
       "      <td>82.75</td>\n",
       "    </tr>\n",
       "    <tr>\n",
       "      <th>2</th>\n",
       "      <td>210.00</td>\n",
       "      <td>Romek</td>\n",
       "      <td>91.00</td>\n",
       "    </tr>\n",
       "    <tr>\n",
       "      <th>3</th>\n",
       "      <td>185.25</td>\n",
       "      <td>Janek</td>\n",
       "      <td>92.00</td>\n",
       "    </tr>\n",
       "    <tr>\n",
       "      <th>4</th>\n",
       "      <td>176.00</td>\n",
       "      <td>Darek</td>\n",
       "      <td>73.00</td>\n",
       "    </tr>\n",
       "    <tr>\n",
       "      <th>5</th>\n",
       "      <td>185.25</td>\n",
       "      <td>Czarek</td>\n",
       "      <td>82.75</td>\n",
       "    </tr>\n",
       "  </tbody>\n",
       "</table>\n",
       "</div>"
      ],
      "text/plain": [
       "   height    name  weight\n",
       "0  174.00   Jacek   75.00\n",
       "1  181.00   Tomek   82.75\n",
       "2  210.00   Romek   91.00\n",
       "3  185.25   Janek   92.00\n",
       "4  176.00   Darek   73.00\n",
       "5  185.25  Czarek   82.75"
      ]
     },
     "execution_count": 78,
     "metadata": {},
     "output_type": "execute_result"
    }
   ],
   "source": [
    "with_missing.fillna(\n",
    "    with_missing.mean()\n",
    ")"
   ]
  },
  {
   "cell_type": "markdown",
   "metadata": {
    "collapsed": true
   },
   "source": [
    "### Machine Learning integration"
   ]
  },
  {
   "cell_type": "code",
   "execution_count": 79,
   "metadata": {
    "collapsed": false
   },
   "outputs": [
    {
     "name": "stderr",
     "output_type": "stream",
     "text": [
      "/Users/jacekrzeszutek/.virtualenvs/first-steps-with-pandas-2/lib/python2.7/site-packages/scipy/linalg/basic.py:884: RuntimeWarning: internal gelsd driver lwork query error, required iwork dimension not returned. This is likely the result of LAPACK bug 0038, fixed in LAPACK 3.2.2 (released July 21, 2010). Falling back to 'gelss' driver.\n",
      "  warnings.warn(mesg, RuntimeWarning)\n"
     ]
    },
    {
     "data": {
      "text/plain": [
       "LinearRegression(copy_X=True, fit_intercept=True, n_jobs=1, normalize=False)"
      ]
     },
     "execution_count": 79,
     "metadata": {},
     "output_type": "execute_result"
    }
   ],
   "source": [
    "from sklearn.linear_model import LinearRegression\n",
    "\n",
    "clf = LinearRegression()\n",
    "clf.fit(X=[\n",
    "        [1],\n",
    "        [2]\n",
    "    ],\n",
    "    y=[\n",
    "        10,\n",
    "        20\n",
    "    ])"
   ]
  },
  {
   "cell_type": "code",
   "execution_count": 80,
   "metadata": {
    "collapsed": false
   },
   "outputs": [
    {
     "data": {
      "text/plain": [
       "array([   30.,  1000., 10000.])"
      ]
     },
     "execution_count": 80,
     "metadata": {},
     "output_type": "execute_result"
    }
   ],
   "source": [
    "clf.predict([[3], [100], [1000]])"
   ]
  },
  {
   "cell_type": "code",
   "execution_count": 81,
   "metadata": {
    "collapsed": false
   },
   "outputs": [
    {
     "data": {
      "text/html": [
       "<div>\n",
       "<table border=\"1\" class=\"dataframe\">\n",
       "  <thead>\n",
       "    <tr style=\"text-align: right;\">\n",
       "      <th></th>\n",
       "      <th>diameter</th>\n",
       "      <th>pepperoni_slices</th>\n",
       "      <th>price</th>\n",
       "    </tr>\n",
       "  </thead>\n",
       "  <tbody>\n",
       "    <tr>\n",
       "      <th>0</th>\n",
       "      <td>20</td>\n",
       "      <td>0</td>\n",
       "      <td>15</td>\n",
       "    </tr>\n",
       "    <tr>\n",
       "      <th>1</th>\n",
       "      <td>30</td>\n",
       "      <td>0</td>\n",
       "      <td>20</td>\n",
       "    </tr>\n",
       "    <tr>\n",
       "      <th>2</th>\n",
       "      <td>20</td>\n",
       "      <td>5</td>\n",
       "      <td>18</td>\n",
       "    </tr>\n",
       "    <tr>\n",
       "      <th>3</th>\n",
       "      <td>20</td>\n",
       "      <td>10</td>\n",
       "      <td>20</td>\n",
       "    </tr>\n",
       "  </tbody>\n",
       "</table>\n",
       "</div>"
      ],
      "text/plain": [
       "   diameter  pepperoni_slices  price\n",
       "0        20                 0     15\n",
       "1        30                 0     20\n",
       "2        20                 5     18\n",
       "3        20                10     20"
      ]
     },
     "execution_count": 81,
     "metadata": {},
     "output_type": "execute_result"
    }
   ],
   "source": [
    "# Let's say we want to run pizzeria..\n",
    "# (example inspired by https://www.amazon.com/Mastering-Machine-Learning-scikit-learn-Hackeling/dp/1783988363)\n",
    "\n",
    "training_dataset = pd.read_csv('data/pizzeria_prices.csv')\n",
    "training_dataset"
   ]
  },
  {
   "cell_type": "code",
   "execution_count": 82,
   "metadata": {
    "collapsed": false
   },
   "outputs": [
    {
     "data": {
      "text/plain": [
       "array([[20,  0],\n",
       "       [30,  0],\n",
       "       [20,  5],\n",
       "       [20, 10]])"
      ]
     },
     "execution_count": 82,
     "metadata": {},
     "output_type": "execute_result"
    }
   ],
   "source": [
    "FEATURES = ['diameter', 'pepperoni_slices']\n",
    "TARGET = 'price'\n",
    "\n",
    "training_dataset[FEATURES].values"
   ]
  },
  {
   "cell_type": "code",
   "execution_count": 83,
   "metadata": {
    "collapsed": false
   },
   "outputs": [
    {
     "data": {
      "text/plain": [
       "LinearRegression(copy_X=True, fit_intercept=True, n_jobs=1, normalize=False)"
      ]
     },
     "execution_count": 83,
     "metadata": {},
     "output_type": "execute_result"
    }
   ],
   "source": [
    "clf = LinearRegression()\n",
    "clf.fit(\n",
    "    training_dataset[FEATURES],\n",
    "    training_dataset[TARGET]\n",
    ")"
   ]
  },
  {
   "cell_type": "code",
   "execution_count": 84,
   "metadata": {
    "collapsed": false
   },
   "outputs": [
    {
     "data": {
      "text/plain": [
       "array([ 27.41666667])"
      ]
     },
     "execution_count": 84,
     "metadata": {},
     "output_type": "execute_result"
    }
   ],
   "source": [
    "# make a quiz!\n",
    "clf.predict([[35, 10]])"
   ]
  },
  {
   "cell_type": "code",
   "execution_count": 85,
   "metadata": {
    "collapsed": false
   },
   "outputs": [
    {
     "data": {
      "text/html": [
       "<div>\n",
       "<table border=\"1\" class=\"dataframe\">\n",
       "  <thead>\n",
       "    <tr style=\"text-align: right;\">\n",
       "      <th></th>\n",
       "      <th>diameter</th>\n",
       "      <th>pepperoni_slices</th>\n",
       "    </tr>\n",
       "  </thead>\n",
       "  <tbody>\n",
       "    <tr>\n",
       "      <th>0</th>\n",
       "      <td>40</td>\n",
       "      <td>30</td>\n",
       "    </tr>\n",
       "    <tr>\n",
       "      <th>1</th>\n",
       "      <td>100</td>\n",
       "      <td>100</td>\n",
       "    </tr>\n",
       "    <tr>\n",
       "      <th>2</th>\n",
       "      <td>1000</td>\n",
       "      <td>3000</td>\n",
       "    </tr>\n",
       "  </tbody>\n",
       "</table>\n",
       "</div>"
      ],
      "text/plain": [
       "   diameter  pepperoni_slices\n",
       "0        40                30\n",
       "1       100               100\n",
       "2      1000              3000"
      ]
     },
     "execution_count": 85,
     "metadata": {},
     "output_type": "execute_result"
    }
   ],
   "source": [
    "hardcore_pizzas = pd.read_csv('data/hardcore_pizzas.csv')\n",
    "hardcore_pizzas"
   ]
  },
  {
   "cell_type": "code",
   "execution_count": 86,
   "metadata": {
    "collapsed": false
   },
   "outputs": [
    {
     "data": {
      "text/html": [
       "<div>\n",
       "<table border=\"1\" class=\"dataframe\">\n",
       "  <thead>\n",
       "    <tr style=\"text-align: right;\">\n",
       "      <th></th>\n",
       "      <th>diameter</th>\n",
       "      <th>pepperoni_slices</th>\n",
       "      <th>price</th>\n",
       "    </tr>\n",
       "  </thead>\n",
       "  <tbody>\n",
       "    <tr>\n",
       "      <th>0</th>\n",
       "      <td>40</td>\n",
       "      <td>30</td>\n",
       "      <td>39.833333</td>\n",
       "    </tr>\n",
       "    <tr>\n",
       "      <th>1</th>\n",
       "      <td>100</td>\n",
       "      <td>100</td>\n",
       "      <td>103.833333</td>\n",
       "    </tr>\n",
       "    <tr>\n",
       "      <th>2</th>\n",
       "      <td>1000</td>\n",
       "      <td>3000</td>\n",
       "      <td>1988.833333</td>\n",
       "    </tr>\n",
       "  </tbody>\n",
       "</table>\n",
       "</div>"
      ],
      "text/plain": [
       "   diameter  pepperoni_slices        price\n",
       "0        40                30    39.833333\n",
       "1       100               100   103.833333\n",
       "2      1000              3000  1988.833333"
      ]
     },
     "execution_count": 86,
     "metadata": {},
     "output_type": "execute_result"
    }
   ],
   "source": [
    "hardcore_pizzas['price'] = clf.predict(hardcore_pizzas[FEATURES].values)\n",
    "hardcore_pizzas"
   ]
  },
  {
   "cell_type": "code",
   "execution_count": 87,
   "metadata": {
    "collapsed": false
   },
   "outputs": [
    {
     "data": {
      "text/html": [
       "<div>\n",
       "<table border=\"1\" class=\"dataframe\">\n",
       "  <thead>\n",
       "    <tr style=\"text-align: right;\">\n",
       "      <th></th>\n",
       "      <th>No</th>\n",
       "      <th>Pos</th>\n",
       "      <th>Name</th>\n",
       "      <th>Date of birth (age)</th>\n",
       "      <th>App</th>\n",
       "      <th>Goals</th>\n",
       "      <th>Club</th>\n",
       "      <th>Goals per app</th>\n",
       "      <th>Height</th>\n",
       "    </tr>\n",
       "  </thead>\n",
       "  <tbody>\n",
       "    <tr>\n",
       "      <th>0</th>\n",
       "      <td>1</td>\n",
       "      <td>GK</td>\n",
       "      <td>Sławomir Szmal</td>\n",
       "      <td>2 October 1978 (aged 37)</td>\n",
       "      <td>279</td>\n",
       "      <td>2</td>\n",
       "      <td>Poland Vive Targi Kielce</td>\n",
       "      <td>0.007168</td>\n",
       "      <td>1.90</td>\n",
       "    </tr>\n",
       "    <tr>\n",
       "      <th>1</th>\n",
       "      <td>3</td>\n",
       "      <td>RB</td>\n",
       "      <td>Krzysztof Lijewski</td>\n",
       "      <td>7 July 1983 (aged 33)</td>\n",
       "      <td>173</td>\n",
       "      <td>409</td>\n",
       "      <td>Poland Vive Targi Kielce</td>\n",
       "      <td>2.364162</td>\n",
       "      <td>1.98</td>\n",
       "    </tr>\n",
       "    <tr>\n",
       "      <th>2</th>\n",
       "      <td>5</td>\n",
       "      <td>RW</td>\n",
       "      <td>Mateusz Jachlewski</td>\n",
       "      <td>27 December 1984 (aged 31)</td>\n",
       "      <td>108</td>\n",
       "      <td>236</td>\n",
       "      <td>Poland Vive Targi Kielce</td>\n",
       "      <td>2.185185</td>\n",
       "      <td>1.84</td>\n",
       "    </tr>\n",
       "  </tbody>\n",
       "</table>\n",
       "</div>"
      ],
      "text/plain": [
       "   No Pos                Name         Date of birth (age)  App  Goals  \\\n",
       "0   1  GK      Sławomir Szmal    2 October 1978 (aged 37)  279      2   \n",
       "1   3  RB  Krzysztof Lijewski       7 July 1983 (aged 33)  173    409   \n",
       "2   5  RW  Mateusz Jachlewski  27 December 1984 (aged 31)  108    236   \n",
       "\n",
       "                       Club  Goals per app  Height  \n",
       "0  Poland Vive Targi Kielce       0.007168    1.90  \n",
       "1  Poland Vive Targi Kielce       2.364162    1.98  \n",
       "2  Poland Vive Targi Kielce       2.185185    1.84  "
      ]
     },
     "execution_count": 87,
     "metadata": {},
     "output_type": "execute_result"
    }
   ],
   "source": [
    "handball_team.head(3)"
   ]
  },
  {
   "cell_type": "code",
   "execution_count": 88,
   "metadata": {
    "collapsed": false
   },
   "outputs": [
    {
     "data": {
      "text/html": [
       "<div>\n",
       "<table border=\"1\" class=\"dataframe\">\n",
       "  <thead>\n",
       "    <tr style=\"text-align: right;\">\n",
       "      <th></th>\n",
       "      <th>CB</th>\n",
       "      <th>GK</th>\n",
       "      <th>LB</th>\n",
       "      <th>LW</th>\n",
       "      <th>P</th>\n",
       "      <th>RB</th>\n",
       "      <th>RW</th>\n",
       "    </tr>\n",
       "  </thead>\n",
       "  <tbody>\n",
       "    <tr>\n",
       "      <th>0</th>\n",
       "      <td>0.0</td>\n",
       "      <td>1.0</td>\n",
       "      <td>0.0</td>\n",
       "      <td>0.0</td>\n",
       "      <td>0.0</td>\n",
       "      <td>0.0</td>\n",
       "      <td>0.0</td>\n",
       "    </tr>\n",
       "    <tr>\n",
       "      <th>1</th>\n",
       "      <td>0.0</td>\n",
       "      <td>0.0</td>\n",
       "      <td>0.0</td>\n",
       "      <td>0.0</td>\n",
       "      <td>0.0</td>\n",
       "      <td>1.0</td>\n",
       "      <td>0.0</td>\n",
       "    </tr>\n",
       "    <tr>\n",
       "      <th>2</th>\n",
       "      <td>0.0</td>\n",
       "      <td>0.0</td>\n",
       "      <td>0.0</td>\n",
       "      <td>0.0</td>\n",
       "      <td>0.0</td>\n",
       "      <td>0.0</td>\n",
       "      <td>1.0</td>\n",
       "    </tr>\n",
       "    <tr>\n",
       "      <th>3</th>\n",
       "      <td>0.0</td>\n",
       "      <td>0.0</td>\n",
       "      <td>0.0</td>\n",
       "      <td>1.0</td>\n",
       "      <td>0.0</td>\n",
       "      <td>0.0</td>\n",
       "      <td>0.0</td>\n",
       "    </tr>\n",
       "    <tr>\n",
       "      <th>4</th>\n",
       "      <td>0.0</td>\n",
       "      <td>0.0</td>\n",
       "      <td>1.0</td>\n",
       "      <td>0.0</td>\n",
       "      <td>0.0</td>\n",
       "      <td>0.0</td>\n",
       "      <td>0.0</td>\n",
       "    </tr>\n",
       "    <tr>\n",
       "      <th>6</th>\n",
       "      <td>0.0</td>\n",
       "      <td>0.0</td>\n",
       "      <td>0.0</td>\n",
       "      <td>0.0</td>\n",
       "      <td>1.0</td>\n",
       "      <td>0.0</td>\n",
       "      <td>0.0</td>\n",
       "    </tr>\n",
       "    <tr>\n",
       "      <th>11</th>\n",
       "      <td>1.0</td>\n",
       "      <td>0.0</td>\n",
       "      <td>0.0</td>\n",
       "      <td>0.0</td>\n",
       "      <td>0.0</td>\n",
       "      <td>0.0</td>\n",
       "      <td>0.0</td>\n",
       "    </tr>\n",
       "  </tbody>\n",
       "</table>\n",
       "</div>"
      ],
      "text/plain": [
       "     CB   GK   LB   LW    P   RB   RW\n",
       "0   0.0  1.0  0.0  0.0  0.0  0.0  0.0\n",
       "1   0.0  0.0  0.0  0.0  0.0  1.0  0.0\n",
       "2   0.0  0.0  0.0  0.0  0.0  0.0  1.0\n",
       "3   0.0  0.0  0.0  1.0  0.0  0.0  0.0\n",
       "4   0.0  0.0  1.0  0.0  0.0  0.0  0.0\n",
       "6   0.0  0.0  0.0  0.0  1.0  0.0  0.0\n",
       "11  1.0  0.0  0.0  0.0  0.0  0.0  0.0"
      ]
     },
     "execution_count": 88,
     "metadata": {},
     "output_type": "execute_result"
    }
   ],
   "source": [
    "pd.get_dummies(handball_team['Pos'])"
   ]
  },
  {
   "cell_type": "markdown",
   "metadata": {
    "collapsed": true
   },
   "source": [
    "### Merge, append - combining DataFrames"
   ]
  },
  {
   "cell_type": "code",
   "execution_count": 89,
   "metadata": {
    "collapsed": false
   },
   "outputs": [
    {
     "data": {
      "text/html": [
       "<div>\n",
       "<table border=\"1\" class=\"dataframe\">\n",
       "  <thead>\n",
       "    <tr style=\"text-align: right;\">\n",
       "      <th></th>\n",
       "      <th>name</th>\n",
       "      <th>height</th>\n",
       "    </tr>\n",
       "  </thead>\n",
       "  <tbody>\n",
       "    <tr>\n",
       "      <th>0</th>\n",
       "      <td>Jacek</td>\n",
       "      <td>174</td>\n",
       "    </tr>\n",
       "    <tr>\n",
       "      <th>1</th>\n",
       "      <td>Tomek</td>\n",
       "      <td>181</td>\n",
       "    </tr>\n",
       "    <tr>\n",
       "      <th>2</th>\n",
       "      <td>Romek</td>\n",
       "      <td>210</td>\n",
       "    </tr>\n",
       "  </tbody>\n",
       "</table>\n",
       "</div>"
      ],
      "text/plain": [
       "    name  height\n",
       "0  Jacek     174\n",
       "1  Tomek     181\n",
       "2  Romek     210"
      ]
     },
     "execution_count": 89,
     "metadata": {},
     "output_type": "execute_result"
    }
   ],
   "source": [
    "# merge\n",
    "\n",
    "users = pd.DataFrame([\n",
    "    ('Jacek', 174),\n",
    "    ('Tomek', 181),\n",
    "    ('Romek', 210)\n",
    "], columns=['name', 'height'])\n",
    "\n",
    "users"
   ]
  },
  {
   "cell_type": "code",
   "execution_count": 90,
   "metadata": {
    "collapsed": false
   },
   "outputs": [
    {
     "data": {
      "text/html": [
       "<div>\n",
       "<table border=\"1\" class=\"dataframe\">\n",
       "  <thead>\n",
       "    <tr style=\"text-align: right;\">\n",
       "      <th></th>\n",
       "      <th>name</th>\n",
       "      <th>num_posts</th>\n",
       "    </tr>\n",
       "  </thead>\n",
       "  <tbody>\n",
       "    <tr>\n",
       "      <th>0</th>\n",
       "      <td>Jacek</td>\n",
       "      <td>31</td>\n",
       "    </tr>\n",
       "    <tr>\n",
       "      <th>1</th>\n",
       "      <td>Tomek</td>\n",
       "      <td>7</td>\n",
       "    </tr>\n",
       "  </tbody>\n",
       "</table>\n",
       "</div>"
      ],
      "text/plain": [
       "    name  num_posts\n",
       "0  Jacek         31\n",
       "1  Tomek          7"
      ]
     },
     "execution_count": 90,
     "metadata": {},
     "output_type": "execute_result"
    }
   ],
   "source": [
    "posts = pd.DataFrame([\n",
    "    ('Jacek', 31),\n",
    "    ('Tomek', 7),\n",
    "], columns=['name', 'num_posts'])\n",
    "\n",
    "posts"
   ]
  },
  {
   "cell_type": "code",
   "execution_count": 91,
   "metadata": {
    "collapsed": false
   },
   "outputs": [
    {
     "data": {
      "text/html": [
       "<div>\n",
       "<table border=\"1\" class=\"dataframe\">\n",
       "  <thead>\n",
       "    <tr style=\"text-align: right;\">\n",
       "      <th></th>\n",
       "      <th>name</th>\n",
       "      <th>height</th>\n",
       "      <th>num_posts</th>\n",
       "    </tr>\n",
       "  </thead>\n",
       "  <tbody>\n",
       "    <tr>\n",
       "      <th>0</th>\n",
       "      <td>Jacek</td>\n",
       "      <td>174</td>\n",
       "      <td>31</td>\n",
       "    </tr>\n",
       "    <tr>\n",
       "      <th>1</th>\n",
       "      <td>Tomek</td>\n",
       "      <td>181</td>\n",
       "      <td>7</td>\n",
       "    </tr>\n",
       "  </tbody>\n",
       "</table>\n",
       "</div>"
      ],
      "text/plain": [
       "    name  height  num_posts\n",
       "0  Jacek     174         31\n",
       "1  Tomek     181          7"
      ]
     },
     "execution_count": 91,
     "metadata": {},
     "output_type": "execute_result"
    }
   ],
   "source": [
    "pd.merge(\n",
    "    users,\n",
    "    posts,\n",
    "    # how='outer',\n",
    "    on=['name'],\n",
    ")"
   ]
  },
  {
   "cell_type": "code",
   "execution_count": 92,
   "metadata": {
    "collapsed": false
   },
   "outputs": [
    {
     "data": {
      "text/html": [
       "<div>\n",
       "<table border=\"1\" class=\"dataframe\">\n",
       "  <thead>\n",
       "    <tr style=\"text-align: right;\">\n",
       "      <th></th>\n",
       "      <th>hero</th>\n",
       "      <th>strength</th>\n",
       "    </tr>\n",
       "  </thead>\n",
       "  <tbody>\n",
       "    <tr>\n",
       "      <th>0</th>\n",
       "      <td>Batman</td>\n",
       "      <td>100</td>\n",
       "    </tr>\n",
       "    <tr>\n",
       "      <th>1</th>\n",
       "      <td>Robin</td>\n",
       "      <td>100</td>\n",
       "    </tr>\n",
       "  </tbody>\n",
       "</table>\n",
       "</div>"
      ],
      "text/plain": [
       "     hero  strength\n",
       "0  Batman       100\n",
       "1   Robin       100"
      ]
     },
     "execution_count": 92,
     "metadata": {},
     "output_type": "execute_result"
    }
   ],
   "source": [
    "# append\n",
    "\n",
    "heroes = pd.DataFrame()\n",
    "\n",
    "new_heroes = [dict(hero=h, strength=100) for h in ['Batman', 'Robin']]\n",
    "\n",
    "# DataFrame or Series/dict-like object, or list of these\n",
    "heroes = heroes.append(new_heroes)\n",
    "\n",
    "heroes"
   ]
  },
  {
   "cell_type": "code",
   "execution_count": 93,
   "metadata": {
    "collapsed": false
   },
   "outputs": [
    {
     "data": {
      "text/html": [
       "<div>\n",
       "<table border=\"1\" class=\"dataframe\">\n",
       "  <thead>\n",
       "    <tr style=\"text-align: right;\">\n",
       "      <th></th>\n",
       "      <th>hero</th>\n",
       "      <th>strength</th>\n",
       "    </tr>\n",
       "  </thead>\n",
       "  <tbody>\n",
       "    <tr>\n",
       "      <th>0</th>\n",
       "      <td>Batman</td>\n",
       "      <td>100</td>\n",
       "    </tr>\n",
       "    <tr>\n",
       "      <th>1</th>\n",
       "      <td>Robin</td>\n",
       "      <td>100</td>\n",
       "    </tr>\n",
       "    <tr>\n",
       "      <th>0</th>\n",
       "      <td>Spiderman</td>\n",
       "      <td>200</td>\n",
       "    </tr>\n",
       "  </tbody>\n",
       "</table>\n",
       "</div>"
      ],
      "text/plain": [
       "        hero  strength\n",
       "0     Batman       100\n",
       "1      Robin       100\n",
       "0  Spiderman       200"
      ]
     },
     "execution_count": 93,
     "metadata": {},
     "output_type": "execute_result"
    }
   ],
   "source": [
    "even_more_heroes = [dict(hero='Spiderman', strength=200)]\n",
    "heroes = heroes.append(even_more_heroes)\n",
    "heroes"
   ]
  },
  {
   "cell_type": "code",
   "execution_count": 94,
   "metadata": {
    "collapsed": false
   },
   "outputs": [
    {
     "data": {
      "text/html": [
       "<div>\n",
       "<table border=\"1\" class=\"dataframe\">\n",
       "  <thead>\n",
       "    <tr style=\"text-align: right;\">\n",
       "      <th></th>\n",
       "      <th>index</th>\n",
       "      <th>hero</th>\n",
       "      <th>strength</th>\n",
       "    </tr>\n",
       "  </thead>\n",
       "  <tbody>\n",
       "    <tr>\n",
       "      <th>0</th>\n",
       "      <td>0</td>\n",
       "      <td>Batman</td>\n",
       "      <td>100</td>\n",
       "    </tr>\n",
       "    <tr>\n",
       "      <th>1</th>\n",
       "      <td>1</td>\n",
       "      <td>Robin</td>\n",
       "      <td>100</td>\n",
       "    </tr>\n",
       "    <tr>\n",
       "      <th>2</th>\n",
       "      <td>0</td>\n",
       "      <td>Spiderman</td>\n",
       "      <td>200</td>\n",
       "    </tr>\n",
       "  </tbody>\n",
       "</table>\n",
       "</div>"
      ],
      "text/plain": [
       "   index       hero  strength\n",
       "0      0     Batman       100\n",
       "1      1      Robin       100\n",
       "2      0  Spiderman       200"
      ]
     },
     "execution_count": 94,
     "metadata": {},
     "output_type": "execute_result"
    }
   ],
   "source": [
    "heroes = heroes.reset_index()\n",
    "heroes"
   ]
  },
  {
   "cell_type": "markdown",
   "metadata": {
    "collapsed": true
   },
   "source": [
    "### Datetime operations"
   ]
  },
  {
   "cell_type": "code",
   "execution_count": 95,
   "metadata": {
    "collapsed": false
   },
   "outputs": [
    {
     "data": {
      "text/html": [
       "<div>\n",
       "<table border=\"1\" class=\"dataframe\">\n",
       "  <thead>\n",
       "    <tr style=\"text-align: right;\">\n",
       "      <th></th>\n",
       "      <th>wig20</th>\n",
       "    </tr>\n",
       "    <tr>\n",
       "      <th>Data</th>\n",
       "      <th></th>\n",
       "    </tr>\n",
       "  </thead>\n",
       "  <tbody>\n",
       "    <tr>\n",
       "      <th>2015-01-02</th>\n",
       "      <td>2309.39</td>\n",
       "    </tr>\n",
       "    <tr>\n",
       "      <th>2015-01-05</th>\n",
       "      <td>2264.75</td>\n",
       "    </tr>\n",
       "    <tr>\n",
       "      <th>2015-01-07</th>\n",
       "      <td>2307.46</td>\n",
       "    </tr>\n",
       "    <tr>\n",
       "      <th>2015-01-08</th>\n",
       "      <td>2361.48</td>\n",
       "    </tr>\n",
       "    <tr>\n",
       "      <th>2015-01-09</th>\n",
       "      <td>2337.21</td>\n",
       "    </tr>\n",
       "  </tbody>\n",
       "</table>\n",
       "</div>"
      ],
      "text/plain": [
       "              wig20\n",
       "Data               \n",
       "2015-01-02  2309.39\n",
       "2015-01-05  2264.75\n",
       "2015-01-07  2307.46\n",
       "2015-01-08  2361.48\n",
       "2015-01-09  2337.21"
      ]
     },
     "execution_count": 95,
     "metadata": {},
     "output_type": "execute_result"
    }
   ],
   "source": [
    "wig20 = pd.read_csv('data/wig20.csv', parse_dates=['Data'], index_col='Data')\n",
    "wig20.head()"
   ]
  },
  {
   "cell_type": "code",
   "execution_count": 96,
   "metadata": {
    "collapsed": false
   },
   "outputs": [
    {
     "data": {
      "text/html": [
       "<div>\n",
       "<table border=\"1\" class=\"dataframe\">\n",
       "  <thead>\n",
       "    <tr style=\"text-align: right;\">\n",
       "      <th></th>\n",
       "      <th>pmi</th>\n",
       "    </tr>\n",
       "    <tr>\n",
       "      <th>Data</th>\n",
       "      <th></th>\n",
       "    </tr>\n",
       "  </thead>\n",
       "  <tbody>\n",
       "    <tr>\n",
       "      <th>2015-01-30</th>\n",
       "      <td>55.2</td>\n",
       "    </tr>\n",
       "    <tr>\n",
       "      <th>2015-02-27</th>\n",
       "      <td>55.1</td>\n",
       "    </tr>\n",
       "    <tr>\n",
       "      <th>2015-03-31</th>\n",
       "      <td>54.8</td>\n",
       "    </tr>\n",
       "    <tr>\n",
       "      <th>2015-04-30</th>\n",
       "      <td>54.0</td>\n",
       "    </tr>\n",
       "    <tr>\n",
       "      <th>2015-05-29</th>\n",
       "      <td>52.4</td>\n",
       "    </tr>\n",
       "  </tbody>\n",
       "</table>\n",
       "</div>"
      ],
      "text/plain": [
       "             pmi\n",
       "Data            \n",
       "2015-01-30  55.2\n",
       "2015-02-27  55.1\n",
       "2015-03-31  54.8\n",
       "2015-04-30  54.0\n",
       "2015-05-29  52.4"
      ]
     },
     "execution_count": 96,
     "metadata": {},
     "output_type": "execute_result"
    }
   ],
   "source": [
    "pmi = pd.read_csv('data/pmi.csv', parse_dates=['Data'], index_col='Data')\n",
    "pmi.head()"
   ]
  },
  {
   "cell_type": "code",
   "execution_count": 97,
   "metadata": {
    "collapsed": false
   },
   "outputs": [
    {
     "data": {
      "text/plain": [
       "DatetimeIndex(['2015-01-02', '2015-01-05', '2015-01-07', '2015-01-08',\n",
       "               '2015-01-09', '2015-01-12', '2015-01-13', '2015-01-14',\n",
       "               '2015-01-15', '2015-01-16',\n",
       "               ...\n",
       "               '2016-08-12', '2016-08-16', '2016-08-17', '2016-08-18',\n",
       "               '2016-08-19', '2016-08-22', '2016-08-23', '2016-08-24',\n",
       "               '2016-08-25', '2016-08-26'],\n",
       "              dtype='datetime64[ns]', name=u'Data', length=415, freq=None)"
      ]
     },
     "execution_count": 97,
     "metadata": {},
     "output_type": "execute_result"
    }
   ],
   "source": [
    "wig20.index"
   ]
  },
  {
   "cell_type": "code",
   "execution_count": 98,
   "metadata": {
    "collapsed": false
   },
   "outputs": [
    {
     "data": {
      "text/html": [
       "<div>\n",
       "<table border=\"1\" class=\"dataframe\">\n",
       "  <thead>\n",
       "    <tr style=\"text-align: right;\">\n",
       "      <th></th>\n",
       "      <th>wig20</th>\n",
       "    </tr>\n",
       "    <tr>\n",
       "      <th>Data</th>\n",
       "      <th></th>\n",
       "    </tr>\n",
       "  </thead>\n",
       "  <tbody>\n",
       "    <tr>\n",
       "      <th>2015-10-01</th>\n",
       "      <td>2049.93</td>\n",
       "    </tr>\n",
       "    <tr>\n",
       "      <th>2015-10-02</th>\n",
       "      <td>2036.32</td>\n",
       "    </tr>\n",
       "    <tr>\n",
       "      <th>2015-10-05</th>\n",
       "      <td>2088.27</td>\n",
       "    </tr>\n",
       "    <tr>\n",
       "      <th>2015-10-06</th>\n",
       "      <td>2102.87</td>\n",
       "    </tr>\n",
       "    <tr>\n",
       "      <th>2015-10-07</th>\n",
       "      <td>2110.39</td>\n",
       "    </tr>\n",
       "    <tr>\n",
       "      <th>2015-10-08</th>\n",
       "      <td>2126.48</td>\n",
       "    </tr>\n",
       "    <tr>\n",
       "      <th>2015-10-09</th>\n",
       "      <td>2143.28</td>\n",
       "    </tr>\n",
       "  </tbody>\n",
       "</table>\n",
       "</div>"
      ],
      "text/plain": [
       "              wig20\n",
       "Data               \n",
       "2015-10-01  2049.93\n",
       "2015-10-02  2036.32\n",
       "2015-10-05  2088.27\n",
       "2015-10-06  2102.87\n",
       "2015-10-07  2110.39\n",
       "2015-10-08  2126.48\n",
       "2015-10-09  2143.28"
      ]
     },
     "execution_count": 98,
     "metadata": {},
     "output_type": "execute_result"
    }
   ],
   "source": [
    "wig20[\"2015-10-01\":\"2015-10-10\"]"
   ]
  },
  {
   "cell_type": "code",
   "execution_count": 99,
   "metadata": {
    "collapsed": false
   },
   "outputs": [
    {
     "data": {
      "text/html": [
       "<div>\n",
       "<table border=\"1\" class=\"dataframe\">\n",
       "  <thead>\n",
       "    <tr style=\"text-align: right;\">\n",
       "      <th></th>\n",
       "      <th>wig20</th>\n",
       "    </tr>\n",
       "    <tr>\n",
       "      <th>Data</th>\n",
       "      <th></th>\n",
       "    </tr>\n",
       "  </thead>\n",
       "  <tbody>\n",
       "    <tr>\n",
       "      <th>2016-08-01</th>\n",
       "      <td>1762.12</td>\n",
       "    </tr>\n",
       "    <tr>\n",
       "      <th>2016-08-02</th>\n",
       "      <td>1803.63</td>\n",
       "    </tr>\n",
       "    <tr>\n",
       "      <th>2016-08-03</th>\n",
       "      <td>1790.09</td>\n",
       "    </tr>\n",
       "    <tr>\n",
       "      <th>2016-08-04</th>\n",
       "      <td>1820.24</td>\n",
       "    </tr>\n",
       "    <tr>\n",
       "      <th>2016-08-05</th>\n",
       "      <td>1825.45</td>\n",
       "    </tr>\n",
       "    <tr>\n",
       "      <th>2016-08-08</th>\n",
       "      <td>1837.05</td>\n",
       "    </tr>\n",
       "    <tr>\n",
       "      <th>2016-08-09</th>\n",
       "      <td>1847.15</td>\n",
       "    </tr>\n",
       "    <tr>\n",
       "      <th>2016-08-10</th>\n",
       "      <td>1852.54</td>\n",
       "    </tr>\n",
       "    <tr>\n",
       "      <th>2016-08-11</th>\n",
       "      <td>1864.70</td>\n",
       "    </tr>\n",
       "    <tr>\n",
       "      <th>2016-08-12</th>\n",
       "      <td>1857.70</td>\n",
       "    </tr>\n",
       "    <tr>\n",
       "      <th>2016-08-16</th>\n",
       "      <td>1846.86</td>\n",
       "    </tr>\n",
       "    <tr>\n",
       "      <th>2016-08-17</th>\n",
       "      <td>1824.40</td>\n",
       "    </tr>\n",
       "    <tr>\n",
       "      <th>2016-08-18</th>\n",
       "      <td>1821.01</td>\n",
       "    </tr>\n",
       "    <tr>\n",
       "      <th>2016-08-19</th>\n",
       "      <td>1800.17</td>\n",
       "    </tr>\n",
       "    <tr>\n",
       "      <th>2016-08-22</th>\n",
       "      <td>1800.34</td>\n",
       "    </tr>\n",
       "    <tr>\n",
       "      <th>2016-08-23</th>\n",
       "      <td>1790.60</td>\n",
       "    </tr>\n",
       "    <tr>\n",
       "      <th>2016-08-24</th>\n",
       "      <td>1786.32</td>\n",
       "    </tr>\n",
       "    <tr>\n",
       "      <th>2016-08-25</th>\n",
       "      <td>1781.68</td>\n",
       "    </tr>\n",
       "    <tr>\n",
       "      <th>2016-08-26</th>\n",
       "      <td>1775.90</td>\n",
       "    </tr>\n",
       "  </tbody>\n",
       "</table>\n",
       "</div>"
      ],
      "text/plain": [
       "              wig20\n",
       "Data               \n",
       "2016-08-01  1762.12\n",
       "2016-08-02  1803.63\n",
       "2016-08-03  1790.09\n",
       "2016-08-04  1820.24\n",
       "2016-08-05  1825.45\n",
       "2016-08-08  1837.05\n",
       "2016-08-09  1847.15\n",
       "2016-08-10  1852.54\n",
       "2016-08-11  1864.70\n",
       "2016-08-12  1857.70\n",
       "2016-08-16  1846.86\n",
       "2016-08-17  1824.40\n",
       "2016-08-18  1821.01\n",
       "2016-08-19  1800.17\n",
       "2016-08-22  1800.34\n",
       "2016-08-23  1790.60\n",
       "2016-08-24  1786.32\n",
       "2016-08-25  1781.68\n",
       "2016-08-26  1775.90"
      ]
     },
     "execution_count": 99,
     "metadata": {},
     "output_type": "execute_result"
    }
   ],
   "source": [
    "wig20[\"2016-08\":]"
   ]
  },
  {
   "cell_type": "code",
   "execution_count": 100,
   "metadata": {
    "collapsed": false
   },
   "outputs": [
    {
     "data": {
      "text/html": [
       "<div>\n",
       "<table border=\"1\" class=\"dataframe\">\n",
       "  <thead>\n",
       "    <tr style=\"text-align: right;\">\n",
       "      <th></th>\n",
       "      <th>pmi</th>\n",
       "    </tr>\n",
       "    <tr>\n",
       "      <th>Data</th>\n",
       "      <th></th>\n",
       "    </tr>\n",
       "  </thead>\n",
       "  <tbody>\n",
       "    <tr>\n",
       "      <th>2015-01-30</th>\n",
       "      <td>55.2</td>\n",
       "    </tr>\n",
       "    <tr>\n",
       "      <th>2015-02-27</th>\n",
       "      <td>55.1</td>\n",
       "    </tr>\n",
       "    <tr>\n",
       "      <th>2015-03-31</th>\n",
       "      <td>54.8</td>\n",
       "    </tr>\n",
       "  </tbody>\n",
       "</table>\n",
       "</div>"
      ],
      "text/plain": [
       "             pmi\n",
       "Data            \n",
       "2015-01-30  55.2\n",
       "2015-02-27  55.1\n",
       "2015-03-31  54.8"
      ]
     },
     "execution_count": 100,
     "metadata": {},
     "output_type": "execute_result"
    }
   ],
   "source": [
    "pmi[:\"2015-03\"]"
   ]
  },
  {
   "cell_type": "code",
   "execution_count": 101,
   "metadata": {
    "collapsed": false
   },
   "outputs": [
    {
     "data": {
      "text/html": [
       "<div>\n",
       "<table border=\"1\" class=\"dataframe\">\n",
       "  <thead>\n",
       "    <tr style=\"text-align: right;\">\n",
       "      <th></th>\n",
       "      <th>pmi</th>\n",
       "    </tr>\n",
       "    <tr>\n",
       "      <th>Data</th>\n",
       "      <th></th>\n",
       "    </tr>\n",
       "  </thead>\n",
       "  <tbody>\n",
       "    <tr>\n",
       "      <th>2015-03-31</th>\n",
       "      <td>54.8</td>\n",
       "    </tr>\n",
       "  </tbody>\n",
       "</table>\n",
       "</div>"
      ],
      "text/plain": [
       "             pmi\n",
       "Data            \n",
       "2015-03-31  54.8"
      ]
     },
     "execution_count": 101,
     "metadata": {},
     "output_type": "execute_result"
    }
   ],
   "source": [
    "pmi[\"2015-03\"]"
   ]
  },
  {
   "cell_type": "code",
   "execution_count": 102,
   "metadata": {
    "collapsed": false
   },
   "outputs": [
    {
     "data": {
      "text/html": [
       "<div>\n",
       "<table border=\"1\" class=\"dataframe\">\n",
       "  <thead>\n",
       "    <tr style=\"text-align: right;\">\n",
       "      <th></th>\n",
       "      <th>pmi</th>\n",
       "    </tr>\n",
       "    <tr>\n",
       "      <th>Data</th>\n",
       "      <th></th>\n",
       "    </tr>\n",
       "  </thead>\n",
       "  <tbody>\n",
       "    <tr>\n",
       "      <th>2015-02-01</th>\n",
       "      <td>55.2</td>\n",
       "    </tr>\n",
       "    <tr>\n",
       "      <th>2015-02-08</th>\n",
       "      <td>55.2</td>\n",
       "    </tr>\n",
       "    <tr>\n",
       "      <th>2015-02-15</th>\n",
       "      <td>55.2</td>\n",
       "    </tr>\n",
       "    <tr>\n",
       "      <th>2015-02-22</th>\n",
       "      <td>55.2</td>\n",
       "    </tr>\n",
       "    <tr>\n",
       "      <th>2015-03-01</th>\n",
       "      <td>55.1</td>\n",
       "    </tr>\n",
       "    <tr>\n",
       "      <th>2015-03-08</th>\n",
       "      <td>55.1</td>\n",
       "    </tr>\n",
       "    <tr>\n",
       "      <th>2015-03-15</th>\n",
       "      <td>55.1</td>\n",
       "    </tr>\n",
       "    <tr>\n",
       "      <th>2015-03-22</th>\n",
       "      <td>55.1</td>\n",
       "    </tr>\n",
       "    <tr>\n",
       "      <th>2015-03-29</th>\n",
       "      <td>55.1</td>\n",
       "    </tr>\n",
       "    <tr>\n",
       "      <th>2015-04-05</th>\n",
       "      <td>54.8</td>\n",
       "    </tr>\n",
       "  </tbody>\n",
       "</table>\n",
       "</div>"
      ],
      "text/plain": [
       "             pmi\n",
       "Data            \n",
       "2015-02-01  55.2\n",
       "2015-02-08  55.2\n",
       "2015-02-15  55.2\n",
       "2015-02-22  55.2\n",
       "2015-03-01  55.1\n",
       "2015-03-08  55.1\n",
       "2015-03-15  55.1\n",
       "2015-03-22  55.1\n",
       "2015-03-29  55.1\n",
       "2015-04-05  54.8"
      ]
     },
     "execution_count": 102,
     "metadata": {},
     "output_type": "execute_result"
    }
   ],
   "source": [
    "pmi.resample('1W').ffill().head(10)"
   ]
  },
  {
   "cell_type": "code",
   "execution_count": 103,
   "metadata": {
    "collapsed": false
   },
   "outputs": [
    {
     "data": {
      "text/html": [
       "<div>\n",
       "<table border=\"1\" class=\"dataframe\">\n",
       "  <thead>\n",
       "    <tr style=\"text-align: right;\">\n",
       "      <th></th>\n",
       "      <th>wig20</th>\n",
       "      <th>pmi</th>\n",
       "    </tr>\n",
       "    <tr>\n",
       "      <th>Data</th>\n",
       "      <th></th>\n",
       "      <th></th>\n",
       "    </tr>\n",
       "  </thead>\n",
       "  <tbody>\n",
       "    <tr>\n",
       "      <th>2016-07-25</th>\n",
       "      <td>1814.75</td>\n",
       "      <td>51.8</td>\n",
       "    </tr>\n",
       "    <tr>\n",
       "      <th>2016-07-26</th>\n",
       "      <td>1803.96</td>\n",
       "      <td>51.8</td>\n",
       "    </tr>\n",
       "    <tr>\n",
       "      <th>2016-07-27</th>\n",
       "      <td>1797.63</td>\n",
       "      <td>51.8</td>\n",
       "    </tr>\n",
       "    <tr>\n",
       "      <th>2016-07-28</th>\n",
       "      <td>1788.51</td>\n",
       "      <td>51.8</td>\n",
       "    </tr>\n",
       "    <tr>\n",
       "      <th>2016-07-29</th>\n",
       "      <td>1759.74</td>\n",
       "      <td>50.3</td>\n",
       "    </tr>\n",
       "  </tbody>\n",
       "</table>\n",
       "</div>"
      ],
      "text/plain": [
       "              wig20   pmi\n",
       "Data                     \n",
       "2016-07-25  1814.75  51.8\n",
       "2016-07-26  1803.96  51.8\n",
       "2016-07-27  1797.63  51.8\n",
       "2016-07-28  1788.51  51.8\n",
       "2016-07-29  1759.74  50.3"
      ]
     },
     "execution_count": 103,
     "metadata": {},
     "output_type": "execute_result"
    }
   ],
   "source": [
    "daily = pd.merge(\n",
    "    wig20.resample('1D').ffill(),\n",
    "    pmi.resample('1D').ffill(),\n",
    "    left_index=True,\n",
    "    right_index=True\n",
    ")\n",
    "\n",
    "daily.tail()"
   ]
  },
  {
   "cell_type": "code",
   "execution_count": 104,
   "metadata": {
    "collapsed": false
   },
   "outputs": [
    {
     "data": {
      "text/plain": [
       "array([<matplotlib.axes._subplots.AxesSubplot object at 0x1135eb810>,\n",
       "       <matplotlib.axes._subplots.AxesSubplot object at 0x1157222d0>], dtype=object)"
      ]
     },
     "execution_count": 104,
     "metadata": {},
     "output_type": "execute_result"
    },
    {
     "data": {
      "image/png": "[encoded data removed]",
      "text/plain": [
       "<matplotlib.figure.Figure at 0x115678350>"
      ]
     },
     "metadata": {},
     "output_type": "display_data"
    }
   ],
   "source": [
    "daily.plot(subplots=True)"
   ]
  },
  {
   "cell_type": "code",
   "execution_count": 105,
   "metadata": {
    "collapsed": false
   },
   "outputs": [
    {
     "data": {
      "text/html": [
       "<div>\n",
       "<table border=\"1\" class=\"dataframe\">\n",
       "  <thead>\n",
       "    <tr style=\"text-align: right;\">\n",
       "      <th></th>\n",
       "      <th>wig20</th>\n",
       "      <th>diff</th>\n",
       "    </tr>\n",
       "    <tr>\n",
       "      <th>Data</th>\n",
       "      <th></th>\n",
       "      <th></th>\n",
       "    </tr>\n",
       "  </thead>\n",
       "  <tbody>\n",
       "    <tr>\n",
       "      <th>2016-08-22</th>\n",
       "      <td>1800.34</td>\n",
       "      <td>0.17</td>\n",
       "    </tr>\n",
       "    <tr>\n",
       "      <th>2016-08-23</th>\n",
       "      <td>1790.60</td>\n",
       "      <td>-9.74</td>\n",
       "    </tr>\n",
       "    <tr>\n",
       "      <th>2016-08-24</th>\n",
       "      <td>1786.32</td>\n",
       "      <td>-4.28</td>\n",
       "    </tr>\n",
       "    <tr>\n",
       "      <th>2016-08-25</th>\n",
       "      <td>1781.68</td>\n",
       "      <td>-4.64</td>\n",
       "    </tr>\n",
       "    <tr>\n",
       "      <th>2016-08-26</th>\n",
       "      <td>1775.90</td>\n",
       "      <td>-5.78</td>\n",
       "    </tr>\n",
       "  </tbody>\n",
       "</table>\n",
       "</div>"
      ],
      "text/plain": [
       "              wig20  diff\n",
       "Data                     \n",
       "2016-08-22  1800.34  0.17\n",
       "2016-08-23  1790.60 -9.74\n",
       "2016-08-24  1786.32 -4.28\n",
       "2016-08-25  1781.68 -4.64\n",
       "2016-08-26  1775.90 -5.78"
      ]
     },
     "execution_count": 105,
     "metadata": {},
     "output_type": "execute_result"
    }
   ],
   "source": [
    "wig20['diff'] = wig20.diff()\n",
    "wig20.tail()"
   ]
  },
  {
   "cell_type": "code",
   "execution_count": 106,
   "metadata": {
    "collapsed": false
   },
   "outputs": [
    {
     "data": {
      "text/html": [
       "<div>\n",
       "<table border=\"1\" class=\"dataframe\">\n",
       "  <thead>\n",
       "    <tr style=\"text-align: right;\">\n",
       "      <th></th>\n",
       "      <th>wig20</th>\n",
       "      <th>diff</th>\n",
       "      <th>daily_change</th>\n",
       "    </tr>\n",
       "    <tr>\n",
       "      <th>Data</th>\n",
       "      <th></th>\n",
       "      <th></th>\n",
       "      <th></th>\n",
       "    </tr>\n",
       "  </thead>\n",
       "  <tbody>\n",
       "    <tr>\n",
       "      <th>2016-08-22</th>\n",
       "      <td>1800.34</td>\n",
       "      <td>0.17</td>\n",
       "      <td>0.000094</td>\n",
       "    </tr>\n",
       "    <tr>\n",
       "      <th>2016-08-23</th>\n",
       "      <td>1790.60</td>\n",
       "      <td>-9.74</td>\n",
       "      <td>-0.005410</td>\n",
       "    </tr>\n",
       "    <tr>\n",
       "      <th>2016-08-24</th>\n",
       "      <td>1786.32</td>\n",
       "      <td>-4.28</td>\n",
       "      <td>-0.002390</td>\n",
       "    </tr>\n",
       "    <tr>\n",
       "      <th>2016-08-25</th>\n",
       "      <td>1781.68</td>\n",
       "      <td>-4.64</td>\n",
       "      <td>-0.002598</td>\n",
       "    </tr>\n",
       "    <tr>\n",
       "      <th>2016-08-26</th>\n",
       "      <td>1775.90</td>\n",
       "      <td>-5.78</td>\n",
       "      <td>-0.003244</td>\n",
       "    </tr>\n",
       "  </tbody>\n",
       "</table>\n",
       "</div>"
      ],
      "text/plain": [
       "              wig20  diff  daily_change\n",
       "Data                                   \n",
       "2016-08-22  1800.34  0.17      0.000094\n",
       "2016-08-23  1790.60 -9.74     -0.005410\n",
       "2016-08-24  1786.32 -4.28     -0.002390\n",
       "2016-08-25  1781.68 -4.64     -0.002598\n",
       "2016-08-26  1775.90 -5.78     -0.003244"
      ]
     },
     "execution_count": 106,
     "metadata": {},
     "output_type": "execute_result"
    }
   ],
   "source": [
    "wig20['daily_change'] = wig20['wig20'].pct_change()\n",
    "wig20.tail()"
   ]
  },
  {
   "cell_type": "code",
   "execution_count": 107,
   "metadata": {
    "collapsed": false
   },
   "outputs": [
    {
     "data": {
      "text/plain": [
       "<matplotlib.axes._subplots.AxesSubplot at 0x115800350>"
      ]
     },
     "execution_count": 107,
     "metadata": {},
     "output_type": "execute_result"
    },
    {
     "data": {
      "image/png": "[encoded data removed]",
      "text/plain": [
       "<matplotlib.figure.Figure at 0x1158822d0>"
      ]
     },
     "metadata": {},
     "output_type": "display_data"
    }
   ],
   "source": [
    "wig20['monthly_change'] = wig20['wig20'].pct_change(periods=22)\n",
    "wig20['monthly_change'].plot()"
   ]
  },
  {
   "cell_type": "code",
   "execution_count": 108,
   "metadata": {
    "collapsed": false
   },
   "outputs": [
    {
     "data": {
      "text/plain": [
       "<matplotlib.axes._subplots.AxesSubplot at 0x1159e8910>"
      ]
     },
     "execution_count": 108,
     "metadata": {},
     "output_type": "execute_result"
    },
    {
     "data": {
      "image/png": "[encoded data removed]",
      "text/plain": [
       "<matplotlib.figure.Figure at 0x1159fde90>"
      ]
     },
     "metadata": {},
     "output_type": "display_data"
    }
   ],
   "source": [
    "wig20['SMA25'] = wig20['wig20'].rolling(window=25).mean()\n",
    "wig20[['wig20', 'SMA25']].plot(figsize=(10,10))"
   ]
  },
  {
   "cell_type": "code",
   "execution_count": 109,
   "metadata": {
    "collapsed": false
   },
   "outputs": [
    {
     "data": {
      "text/plain": [
       "0    NaN\n",
       "1    1.5\n",
       "2    2.5\n",
       "3    3.5\n",
       "4    4.5\n",
       "5    5.5\n",
       "6    6.5\n",
       "dtype: float64"
      ]
     },
     "execution_count": 109,
     "metadata": {},
     "output_type": "execute_result"
    }
   ],
   "source": [
    "pd.Series([1,2,3,4,5,6,7]) \\\n",
    "    .rolling(window=2) \\\n",
    "    .mean()"
   ]
  },
  {
   "cell_type": "code",
   "execution_count": 110,
   "metadata": {
    "collapsed": false
   },
   "outputs": [
    {
     "data": {
      "text/plain": [
       "0            NaN\n",
       "1            NaN\n",
       "2       0.000000\n",
       "3       0.577350\n",
       "4       0.577350\n",
       "5       0.577350\n",
       "6       0.577350\n",
       "7       0.577350\n",
       "8       0.577350\n",
       "9     576.484461\n",
       "10    763.217094\n",
       "11    450.924975\n",
       "12    732.006375\n",
       "13    332.591341\n",
       "14     28.290163\n",
       "15      0.577350\n",
       "16      0.577350\n",
       "dtype: float64"
      ]
     },
     "execution_count": 110,
     "metadata": {},
     "output_type": "execute_result"
    }
   ],
   "source": [
    "some_jumping_series = pd.Series([1, 1, 1, 2, 1, 2, 1, 2, 1, 1000, 1500, 600, 50, 1, 1, 2, 1])\n",
    "some_jumping_series.rolling(window=3).std()"
   ]
  },
  {
   "cell_type": "code",
   "execution_count": 111,
   "metadata": {
    "collapsed": false
   },
   "outputs": [
    {
     "data": {
      "text/plain": [
       "0     False\n",
       "1     False\n",
       "2     False\n",
       "3     False\n",
       "4     False\n",
       "5     False\n",
       "6     False\n",
       "7     False\n",
       "8     False\n",
       "9      True\n",
       "10    False\n",
       "11    False\n",
       "12    False\n",
       "13    False\n",
       "14    False\n",
       "15    False\n",
       "16    False\n",
       "dtype: bool"
      ]
     },
     "execution_count": 111,
     "metadata": {},
     "output_type": "execute_result"
    }
   ],
   "source": [
    "# So we can automatically detect peaks (Poor man's alert system)\n",
    "# normal distribution inspired\n",
    "\n",
    "last_3_days_std = some_jumping_series.rolling(window=3).std()\n",
    "\n",
    "last_3_days_std > (\n",
    "    2 * last_3_days_std.rolling(window=3).mean()\n",
    ")"
   ]
  },
  {
   "cell_type": "markdown",
   "metadata": {},
   "source": [
    "### Testing"
   ]
  },
  {
   "cell_type": "code",
   "execution_count": 112,
   "metadata": {
    "collapsed": false
   },
   "outputs": [],
   "source": [
    "def some_secret_algorithm(df, col):\n",
    "    df['{}_ratio_vs_median'.format(col)] = df[col] / df[col].median()\n",
    "    return df\n",
    "\n",
    "some_df = pd.DataFrame([\n",
    "    ('Slawomir Szmal', 200),\n",
    "    ('Bartek Jurecki', 300),\n",
    "    ('Karol Bielecki', 400),\n",
    "], columns=['name', 'apps'])\n",
    "\n",
    "expected_df = pd.DataFrame([\n",
    "    ('Slawomir Szmal', 200, 200.0/300),\n",
    "    ('Bartek Jurecki', 300, 1),\n",
    "    ('Karol Bielecki', 400, 400.0/300),\n",
    "], columns=['name', 'apps', 'apps_ratio_vs_median'])\n",
    "\n",
    "\n",
    "assert expected_df.equals( some_secret_algorithm(some_df, 'apps') )"
   ]
  },
  {
   "cell_type": "markdown",
   "metadata": {},
   "source": [
    "## \"BigData\"\n",
    "\n",
    "### reading data in chunks..."
   ]
  },
  {
   "cell_type": "code",
   "execution_count": 113,
   "metadata": {
    "collapsed": false
   },
   "outputs": [
    {
     "name": "stdout",
     "output_type": "stream",
     "text": [
      "=== Chunk of data ===\n",
      "0        Sławomir Szmal\n",
      "1    Krzysztof Lijewski\n",
      "2    Mateusz Jachlewski\n",
      "Name: Name, dtype: object \n",
      "\n",
      "=== Chunk of data ===\n",
      "0    Przemysław Krajewski\n",
      "1          Karol Bielecki\n",
      "2         Adam Wiśniewski\n",
      "Name: Name, dtype: object \n",
      "\n",
      "=== Chunk of data ===\n",
      "0      Bartosz Jurecki\n",
      "1       Michał Jurecki\n",
      "2    Piotr Wyszomirski\n",
      "Name: Name, dtype: object \n",
      "\n",
      "=== Chunk of data ===\n",
      "0    Kamil Syprzak\n",
      "1    Michał Daszek\n",
      "2    Łukasz Gierak\n",
      "Name: Name, dtype: object \n",
      "\n",
      "=== Chunk of data ===\n",
      "0     Mateusz Kus\n",
      "1    Michał Szyba\n",
      "Name: Name, dtype: object \n",
      "\n"
     ]
    }
   ],
   "source": [
    "chunks_reader = pd.read_csv('data/polish_handball.csv', iterator=True, chunksize=3)\n",
    "\n",
    "for data in chunks_reader:\n",
    "    print '=== Chunk of data ===\\n', data['Name'], '\\n'"
   ]
  },
  {
   "cell_type": "markdown",
   "metadata": {
    "collapsed": true
   },
   "source": [
    "### Dask - Paralellized pandas\n",
    "http://dask.pydata.org/en/latest/\n",
    "\n",
    "### ApacheSpark\n",
    "Very similar API\n",
    "http://spark.apache.org/docs/latest/sql-programming-guide.html"
   ]
  },
  {
   "cell_type": "markdown",
   "metadata": {
    "collapsed": true
   },
   "source": [
    "## More stuff...\n",
    "\n",
    "- pivot\n",
    "- MultiIndex\n",
    "- categorical data\n",
    "- API reference"
   ]
  },
  {
   "cell_type": "markdown",
   "metadata": {},
   "source": [
    "# Questions?\n",
    "\n",
    "# Feedback?\n",
    "\n",
    "Please send emails or contact me in any other way :)\n",
    "\n",
    "Notebook is available on github: https://github.com/grechut/first-steps-with-pandas"
   ]
  },
  {
   "cell_type": "markdown",
   "metadata": {},
   "source": [
    "# Muchas gracias por su atencion !"
   ]
  },
  {
   "cell_type": "code",
   "execution_count": null,
   "metadata": {
    "collapsed": true
   },
   "outputs": [],
   "source": []
  }
 ],
 "metadata": {
  "kernelspec": {
   "display_name": "Python 2",
   "language": "python",
   "name": "python2"
  },
  "language_info": {
   "codemirror_mode": {
    "name": "ipython",
    "version": 2
   },
   "file_extension": ".py",
   "mimetype": "text/x-python",
   "name": "python",
   "nbconvert_exporter": "python",
   "pygments_lexer": "ipython2",
   "version": "2.7.10"
  }
 },
 "nbformat": 4,
 "nbformat_minor": 0
}
